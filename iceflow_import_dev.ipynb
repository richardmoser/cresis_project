{
 "cells": [
  {
   "metadata": {
    "ExecuteTime": {
     "end_time": "2024-06-24T22:04:13.880795Z",
     "start_time": "2024-06-24T22:04:13.860146Z"
    }
   },
   "cell_type": "code",
   "source": "from netCDF4 import Dataset",
   "id": "b8585358892cc985",
   "outputs": [],
   "execution_count": 2
  },
  {
   "metadata": {
    "ExecuteTime": {
     "end_time": "2024-06-24T22:04:14.349209Z",
     "start_time": "2024-06-24T22:04:14.333409Z"
    }
   },
   "cell_type": "code",
   "source": "",
   "id": "6a4731f64d9a9b05",
   "outputs": [],
   "execution_count": 2
  },
  {
   "metadata": {
    "ExecuteTime": {
     "end_time": "2024-06-24T22:04:14.773478Z",
     "start_time": "2024-06-24T22:04:14.750040Z"
    }
   },
   "cell_type": "code",
   "source": "iceflow_file = Dataset(\"C:\\\\Users\\\\rj\\\\Documents\\\\cresis\\\\iceflow\\\\antarctic_ice_vel_phase_map_v01.nc\", \"r\")",
   "id": "57476f796f79418e",
   "outputs": [],
   "execution_count": 3
  },
  {
   "metadata": {
    "ExecuteTime": {
     "end_time": "2024-06-24T22:04:15.182533Z",
     "start_time": "2024-06-24T22:04:15.172374Z"
    }
   },
   "cell_type": "code",
   "source": "# print the data headers\n",
   "id": "3bd5f987aa7b9cb",
   "outputs": [],
   "execution_count": 4
  },
  {
   "metadata": {
    "ExecuteTime": {
     "end_time": "2024-06-24T22:07:51.436985Z",
     "start_time": "2024-06-24T22:07:51.421821Z"
    }
   },
   "cell_type": "code",
   "source": "?",
   "id": "18b404970b4a2afe",
   "outputs": [],
   "execution_count": 5
  },
  {
   "metadata": {
    "ExecuteTime": {
     "end_time": "2024-06-24T22:07:51.608551Z",
     "start_time": "2024-06-24T22:07:51.605652Z"
    }
   },
   "cell_type": "code",
   "source": "",
   "id": "da274f4dbe46cf94",
   "outputs": [],
   "execution_count": 5
  },
  {
   "metadata": {
    "ExecuteTime": {
     "end_time": "2024-06-24T22:08:20.211187Z",
     "start_time": "2024-06-24T22:08:20.201165Z"
    }
   },
   "cell_type": "code",
   "source": [
    "from IPython.display import IFrame\n",
    "%matplotlib inline\n",
    "import matplotlib.pyplot as plt\n",
    "import getpass\n",
    "import xarray as xr\n",
    "import cartopy.crs as ccrs\n",
    "import cartopy.feature as cfeature\n",
    "# import copernicusmarine\n",
    "\n",
    "# To avoid warning messages\n",
    "import warnings\n",
    "warnings.filterwarnings('ignore')"
   ],
   "id": "423d0ca1c44244d3",
   "outputs": [],
   "execution_count": 9
  },
  {
   "metadata": {
    "ExecuteTime": {
     "end_time": "2024-06-24T22:08:32.576043Z",
     "start_time": "2024-06-24T22:08:32.564777Z"
    }
   },
   "cell_type": "code",
   "source": "iceflow_file",
   "id": "e0caaf2aa9de738",
   "outputs": [
    {
     "data": {
      "text/plain": [
       "<class 'netCDF4._netCDF4.Dataset'>\n",
       "root group (NETCDF4 data model, file format HDF5):\n",
       "    Conventions: CF-1.6\n",
       "    Metadata_Conventions: CF-1.6, Unidata Dataset Discovery v1.0, GDS v2.0\n",
       "    standard_name_vocabulary: CF Standard Name Table (v22, 12 February 2013)\n",
       "    id: v_mix.v8Jul2019.nc\n",
       "    title: MEaSURES Antarctica Ice Velocity Map 450m spacing\n",
       "    product_version:  \n",
       "    summary:  \n",
       "    keywords:  \n",
       "    keywords_vocabulary:  \n",
       "    platform:  \n",
       "    sensor:  \n",
       "    date_created: 2019-07-08T14:43:24.00005131959583Z\n",
       "    institution: Department of Earth System Science, University of California, Irvine, CA, USA; Univ. Grenoble Alpes, CNRS, IRD, Grenoble INP, IGE, 38000 Grenoble, France\n",
       "    cdm_data_type: Grid\n",
       "    geospatial_lat_units: degrees_north\n",
       "    geospatial_lon_units: degrees_east\n",
       "    geospatial_lat_min: -90\n",
       "    geospatial_lat_max: -60\n",
       "    geospatial_lon_min: -180\n",
       "    geospatial_lon_max: 180\n",
       "    spatial_resolution: 450 m\n",
       "    time_coverage_start: 1995-01-01\n",
       "    time_coverage_end: 2016-12-31\n",
       "    project: NASA/MEaSUREs\n",
       "    creator_name: J. Mouginot\n",
       "    comment:  \n",
       "    license: No restrictions on access or use.\n",
       "    dimensions(sizes): x(12445), y(12445)\n",
       "    variables(dimensions): |S1 coord_system(), float64 x(x), float64 y(y), float64 lat(y, x), float64 lon(y, x), float32 VX(y, x), float32 VY(y, x), float32 STDX(y, x), float32 STDY(y, x), float32 ERRX(y, x), float32 ERRY(y, x), int32 CNT(y, x), int8 SOURCE(y, x)\n",
       "    groups: "
      ]
     },
     "execution_count": 10,
     "metadata": {},
     "output_type": "execute_result"
    }
   ],
   "execution_count": 10
  },
  {
   "metadata": {},
   "cell_type": "code",
   "outputs": [],
   "execution_count": null,
   "source": "",
   "id": "eb27ee58330a8a6d"
  }
 ],
 "metadata": {
  "kernelspec": {
   "display_name": "Python 3",
   "language": "python",
   "name": "python3"
  },
  "language_info": {
   "codemirror_mode": {
    "name": "ipython",
    "version": 2
   },
   "file_extension": ".py",
   "mimetype": "text/x-python",
   "name": "python",
   "nbconvert_exporter": "python",
   "pygments_lexer": "ipython2",
   "version": "2.7.6"
  }
 },
 "nbformat": 4,
 "nbformat_minor": 5
}

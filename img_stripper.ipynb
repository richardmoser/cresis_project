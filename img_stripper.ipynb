{
 "cells": [
  {
   "cell_type": "code",
   "execution_count": 22,
   "id": "initial_id",
   "metadata": {
    "collapsed": true,
    "ExecuteTime": {
     "end_time": "2024-04-09T00:56:18.912227Z",
     "start_time": "2024-04-09T00:56:13.263893Z"
    }
   },
   "outputs": [
    {
     "name": "stdout",
     "output_type": "stream",
     "text": [
      "attempting to download 20161014_03\n",
      "attempting to download Data_20161014_03_001.mat\n",
      "attempting to download Data_img_01_20161014_03_001.mat\n",
      "skipping Data_img_01_20161014_03_001.mat, it has 'img' in its name\n",
      "attempting to download Data_img_02_20161014_03_001.mat\n",
      "skipping Data_img_02_20161014_03_001.mat, it has 'img' in its name\n",
      "attempting to download Data_img_03_20161014_03_001.mat\n",
      "skipping Data_img_03_20161014_03_001.mat, it has 'img' in its name\n",
      "attempting to download 20161014_04\n"
     ]
    },
    {
     "ename": "error_perm",
     "evalue": "550 Failed to change directory.",
     "output_type": "error",
     "traceback": [
      "\u001B[1;31m---------------------------------------------------------------------------\u001B[0m",
      "\u001B[1;31merror_perm\u001B[0m                                Traceback (most recent call last)",
      "Cell \u001B[1;32mIn[22], line 30\u001B[0m\n\u001B[0;32m     28\u001B[0m ftp \u001B[38;5;241m=\u001B[39m FTP(remote_site)\n\u001B[0;32m     29\u001B[0m ftp\u001B[38;5;241m.\u001B[39mlogin()\n\u001B[1;32m---> 30\u001B[0m \u001B[43mdownload_files\u001B[49m\u001B[43m(\u001B[49m\u001B[43mftp\u001B[49m\u001B[43m,\u001B[49m\u001B[43m \u001B[49m\u001B[43mremote_directory\u001B[49m\u001B[43m)\u001B[49m\n\u001B[0;32m     31\u001B[0m ftp\u001B[38;5;241m.\u001B[39mquit()\n",
      "Cell \u001B[1;32mIn[22], line 26\u001B[0m, in \u001B[0;36mdownload_files\u001B[1;34m(ftp, path)\u001B[0m\n\u001B[0;32m     24\u001B[0m         ftp\u001B[38;5;241m.\u001B[39mretrbinary(\u001B[38;5;124m'\u001B[39m\u001B[38;5;124mRETR \u001B[39m\u001B[38;5;124m'\u001B[39m \u001B[38;5;241m+\u001B[39m name, f\u001B[38;5;241m.\u001B[39mwrite)\n\u001B[0;32m     25\u001B[0m \u001B[38;5;28;01melse\u001B[39;00m:  \u001B[38;5;66;03m# recursively download directories\u001B[39;00m\n\u001B[1;32m---> 26\u001B[0m     \u001B[43mdownload_files\u001B[49m\u001B[43m(\u001B[49m\u001B[43mftp\u001B[49m\u001B[43m,\u001B[49m\u001B[43m \u001B[49m\u001B[43mname\u001B[49m\u001B[43m)\u001B[49m\n",
      "Cell \u001B[1;32mIn[22], line 11\u001B[0m, in \u001B[0;36mdownload_files\u001B[1;34m(ftp, path)\u001B[0m\n\u001B[0;32m     10\u001B[0m \u001B[38;5;28;01mdef\u001B[39;00m \u001B[38;5;21mdownload_files\u001B[39m(ftp, path):\n\u001B[1;32m---> 11\u001B[0m     \u001B[43mftp\u001B[49m\u001B[38;5;241;43m.\u001B[39;49m\u001B[43mcwd\u001B[49m\u001B[43m(\u001B[49m\u001B[43mpath\u001B[49m\u001B[43m)\u001B[49m\n\u001B[0;32m     13\u001B[0m     \u001B[38;5;28;01mif\u001B[39;00m \u001B[38;5;129;01mnot\u001B[39;00m os\u001B[38;5;241m.\u001B[39mpath\u001B[38;5;241m.\u001B[39mexists(local_path \u001B[38;5;241m+\u001B[39m path):\n\u001B[0;32m     14\u001B[0m         os\u001B[38;5;241m.\u001B[39mmakedirs(local_path \u001B[38;5;241m+\u001B[39m path)\n",
      "File \u001B[1;32m~\\AppData\\Local\\Programs\\Python\\Python310\\lib\\ftplib.py:625\u001B[0m, in \u001B[0;36mFTP.cwd\u001B[1;34m(self, dirname)\u001B[0m\n\u001B[0;32m    623\u001B[0m     dirname \u001B[38;5;241m=\u001B[39m \u001B[38;5;124m'\u001B[39m\u001B[38;5;124m.\u001B[39m\u001B[38;5;124m'\u001B[39m  \u001B[38;5;66;03m# does nothing, but could return error\u001B[39;00m\n\u001B[0;32m    624\u001B[0m cmd \u001B[38;5;241m=\u001B[39m \u001B[38;5;124m'\u001B[39m\u001B[38;5;124mCWD \u001B[39m\u001B[38;5;124m'\u001B[39m \u001B[38;5;241m+\u001B[39m dirname\n\u001B[1;32m--> 625\u001B[0m \u001B[38;5;28;01mreturn\u001B[39;00m \u001B[38;5;28;43mself\u001B[39;49m\u001B[38;5;241;43m.\u001B[39;49m\u001B[43mvoidcmd\u001B[49m\u001B[43m(\u001B[49m\u001B[43mcmd\u001B[49m\u001B[43m)\u001B[49m\n",
      "File \u001B[1;32m~\\AppData\\Local\\Programs\\Python\\Python310\\lib\\ftplib.py:286\u001B[0m, in \u001B[0;36mFTP.voidcmd\u001B[1;34m(self, cmd)\u001B[0m\n\u001B[0;32m    284\u001B[0m \u001B[38;5;250m\u001B[39m\u001B[38;5;124;03m\"\"\"Send a command and expect a response beginning with '2'.\"\"\"\u001B[39;00m\n\u001B[0;32m    285\u001B[0m \u001B[38;5;28mself\u001B[39m\u001B[38;5;241m.\u001B[39mputcmd(cmd)\n\u001B[1;32m--> 286\u001B[0m \u001B[38;5;28;01mreturn\u001B[39;00m \u001B[38;5;28;43mself\u001B[39;49m\u001B[38;5;241;43m.\u001B[39;49m\u001B[43mvoidresp\u001B[49m\u001B[43m(\u001B[49m\u001B[43m)\u001B[49m\n",
      "File \u001B[1;32m~\\AppData\\Local\\Programs\\Python\\Python310\\lib\\ftplib.py:259\u001B[0m, in \u001B[0;36mFTP.voidresp\u001B[1;34m(self)\u001B[0m\n\u001B[0;32m    257\u001B[0m \u001B[38;5;28;01mdef\u001B[39;00m \u001B[38;5;21mvoidresp\u001B[39m(\u001B[38;5;28mself\u001B[39m):\n\u001B[0;32m    258\u001B[0m \u001B[38;5;250m    \u001B[39m\u001B[38;5;124;03m\"\"\"Expect a response beginning with '2'.\"\"\"\u001B[39;00m\n\u001B[1;32m--> 259\u001B[0m     resp \u001B[38;5;241m=\u001B[39m \u001B[38;5;28;43mself\u001B[39;49m\u001B[38;5;241;43m.\u001B[39;49m\u001B[43mgetresp\u001B[49m\u001B[43m(\u001B[49m\u001B[43m)\u001B[49m\n\u001B[0;32m    260\u001B[0m     \u001B[38;5;28;01mif\u001B[39;00m resp[:\u001B[38;5;241m1\u001B[39m] \u001B[38;5;241m!=\u001B[39m \u001B[38;5;124m'\u001B[39m\u001B[38;5;124m2\u001B[39m\u001B[38;5;124m'\u001B[39m:\n\u001B[0;32m    261\u001B[0m         \u001B[38;5;28;01mraise\u001B[39;00m error_reply(resp)\n",
      "File \u001B[1;32m~\\AppData\\Local\\Programs\\Python\\Python310\\lib\\ftplib.py:254\u001B[0m, in \u001B[0;36mFTP.getresp\u001B[1;34m(self)\u001B[0m\n\u001B[0;32m    252\u001B[0m     \u001B[38;5;28;01mraise\u001B[39;00m error_temp(resp)\n\u001B[0;32m    253\u001B[0m \u001B[38;5;28;01mif\u001B[39;00m c \u001B[38;5;241m==\u001B[39m \u001B[38;5;124m'\u001B[39m\u001B[38;5;124m5\u001B[39m\u001B[38;5;124m'\u001B[39m:\n\u001B[1;32m--> 254\u001B[0m     \u001B[38;5;28;01mraise\u001B[39;00m error_perm(resp)\n\u001B[0;32m    255\u001B[0m \u001B[38;5;28;01mraise\u001B[39;00m error_proto(resp)\n",
      "\u001B[1;31merror_perm\u001B[0m: 550 Failed to change directory."
     ]
    }
   ],
   "source": [
    "# download files from an FTP server using Python. Recursively download all files from a given directory unless they have \"img\" in their name\n",
    "\n",
    "from ftplib import FTP\n",
    "import os\n",
    "\n",
    "local_path = 'C:\\\\Users\\\\rj\\\\Documents\\\\cresis\\\\rds\\\\2016_Antarctica_DC8\\\\'\n",
    "remote_site = 'data.cresis.ku.edu'\n",
    "remote_directory = '/data/rds/2016_Antarctica_DC8/CSARP_standard/'\n",
    "\n",
    "def download_files(ftp, path):\n",
    "    ftp.cwd(path)\n",
    "\n",
    "    if not os.path.exists(local_path + path):\n",
    "        os.makedirs(local_path + path)\n",
    "\n",
    "    for name in ftp.nlst():\n",
    "        print(f\"attempting to download {name}\")\n",
    "        if 'img' in name:  # skip files with \"img\" in their name\n",
    "            print(f\"skipping {name}, it has 'img' in its name\")\n",
    "            continue\n",
    "        # print(f\"downloading {name}\")\n",
    "        elif '.' in name:  # download files\n",
    "            with open(name, 'wb') as f:\n",
    "                ftp.retrbinary('RETR ' + name, f.write)\n",
    "        else:  # recursively download directories\n",
    "            download_files(ftp, name)\n",
    "            \n",
    "ftp = FTP(remote_site)\n",
    "ftp.login()\n",
    "download_files(ftp, remote_directory)\n",
    "ftp.quit()"
   ]
  },
  {
   "cell_type": "code",
   "outputs": [
    {
     "name": "stdout",
     "output_type": "stream",
     "text": [
      "Directories:\n",
      "dr-xr-sr-x   10 4329     14742        4096 Sep 29  2011 1993_Greenland_P3\n",
      "dr-xr-sr-x   10 4329     14742        4096 Sep 29  2011 1995_Greenland_P3\n",
      "dr-xr-sr-x   10 4329     14742        4096 Sep 29  2011 1996_Greenland_P3\n",
      "dr-xr-sr-x   10 4329     14742        4096 Sep 29  2011 1997_Greenland_P3\n",
      "dr-xr-sr-x   10 4329     14742        4096 Sep 29  2011 1998_Greenland_P3\n",
      "dr-xr-sr-x   10 4329     14742        4096 Sep 29  2011 1999_Greenland_P3\n",
      "dr-xr-sr-x   10 4329     14742        4096 Sep 29  2011 2001_Greenland_P3\n",
      "dr-xr-sr-x   10 4329     14742        4096 Sep 29  2011 2002_Antarctica_P3chile\n",
      "dr-xr-sr-x   11 4329     14742        4096 Jun 28  2016 2002_Greenland_P3\n",
      "dr-xr-sr-x   10 4329     14742        4096 Sep 29  2011 2003_Greenland_P3\n",
      "dr-xr-sr-x   10 4329     14742        4096 Sep 29  2011 2004_Antarctica_P3chile\n",
      "dr-xr-sr-x   10 4329     14742        4096 Dec 30  2011 2005_Antarctica_GPRWAIS\n",
      "dr-xr-sr-x   10 4329     14742        4096 Sep 29  2011 2005_Greenland_TO\n",
      "dr-xr-sr-x   13 4329     14742        4096 Feb 24  2015 2006_Greenland_TO\n",
      "dr-xr-sr-x   10 4329     14742        4096 Sep 29  2011 2007_Greenland_P3\n",
      "dr-xr-sr-x   13 4329     14742        4096 Aug 09  2018 2008_Greenland_Ground\n",
      "dr-xr-sr-x   13 4329     14742        4096 Feb 25  2015 2008_Greenland_TO\n",
      "dr-xr-sr-x   13 4329     14742        4096 Sep 29  2011 2009_Antarctica_DC8\n",
      "dr-xr-sr-x   11 4329     14742        4096 Sep 29  2011 2009_Antarctica_TO\n",
      "dr-xr-sr-x   11 4329     14742        4096 Nov 09  2013 2009_Antarctica_TO_Gambit\n",
      "dr-xr-sr-x   13 4329     14742        4096 Feb 25  2015 2009_Greenland_TO\n",
      "dr-xr-sr-x   12 4329     14742        4096 Sep 29  2011 2010_Antarctica_DC8\n",
      "dr-xr-sr-x   12 4329     14742        4096 Oct 31  2017 2010_Greenland_DC8\n",
      "dr-xr-sr-x   12 4329     14742        4096 Sep 27  2011 2010_Greenland_P3\n",
      "dr-xr-sr-x   12 4329     14742        4096 Jun 30  2012 2011_Antarctica_DC8\n",
      "dr-xr-sr-x   12 4329     14742        4096 Jan 23  2013 2011_Antarctica_TO\n",
      "dr-xr-sr-x   11 4329     14742        4096 Nov 22  2011 2011_Greenland_P3\n",
      "dr-xr-sr-x   11 4329     14742        4096 May 01  2012 2011_Greenland_TO\n",
      "dr-xr-sr-x   12 4329     14742        4096 Oct 22  2013 2012_Antarctica_DC8\n",
      "dr-xr-sr-x   13 4329     14742        4096 Apr 19  2013 2012_Greenland_P3\n",
      "dr-xr-sr-x   12 4329     14742        4096 Mar 08  2015 2013_Antarctica_Basler\n",
      "dr-xr-sr-x   12 4329     14742        4096 Oct 25  2014 2013_Antarctica_P3\n",
      "dr-xr-sr-x   12 4329     14742        4096 Aug 21  2014 2013_Greenland_P3\n",
      "dr-xr-sr-x   12 4329     14742        4096 Aug 03  2015 2014_Antarctica_DC8\n",
      "dr-xr-sr-x   17 4329     14742        4096 Oct 27  2021 2014_Greenland_P3\n",
      "dr-xr-sr-x   11 4329     14742        4096 Jul 18  2016 2015_Greenland_C130\n",
      "dr-xr-sr-x   13 4329     14742        4096 Oct 21  2020 2016_Antarctica_DC8\n",
      "dr-xr-sr-x   11 4329     14742        4096 Aug 28  2017 2016_Greenland_G1XB\n",
      "dr-xr-sr-x   11 4329     14742        4096 Apr 24  2017 2016_Greenland_P3\n",
      "dr-xr-sr-x   10 4329     14742        4096 Feb 04  2019 2016_Greenland_Polar6\n",
      "dr-xr-sr-x   11 4329     14742        4096 Apr 13  2018 2016_Greenland_TOdtu\n",
      "dr-xr-sr-x   10 4329     14742        4096 Nov 17  2018 2017_Antarctica_Basler\n",
      "dr-xr-sr-x   12 4329     14742        4096 Apr 02  2018 2017_Antarctica_P3\n",
      "dr-xr-sr-x   13 4329     14742        4096 Jan 22  2018 2017_Greenland_P3\n",
      "dr-xr-sr-x   12 4329     14742        4096 Dec 16  2019 2018_Antarctica_DC8\n",
      "dr-xr-sr-x   12 4329     14742        4096 Feb 15  2022 2018_Antarctica_Ground\n",
      "dr-xr-sr-x   12 4329     14742        4096 Mar 30  2021 2018_Greenland_P3\n",
      "dr-xr-sr-x   12 4329     14742        4096 Nov 10  2020 2019_Antarctica_GV\n",
      "dr-xr-sr-x   11 4329     14742        4096 Aug 28  2022 2019_Greenland_P3\n",
      "drwxrwsr-x   14 4329     14742        4096 Apr 08 17:02 2022_Antarctica_BaslerMKB\n",
      "drwxrwsr-x   11 4329     14742        4096 Oct 30 23:46 2022_Antarctica_GroundGHOST\n",
      "drwxrwsr-x   14 4329     14742        4096 Apr 08 16:01 2023_Antarctica_BaslerMKB\n",
      "dr-xr-sr-x    2 4329     14742        4096 Nov 22  2013 OIB_Raw_Data_Example_matlab\n",
      "dr-xr-sr-x    2 4329     14742        4096 Aug 11  2011 OIB_Raw_Data_Example_mcords\n",
      "dr-xr-sr-x    2 4329     14742        4096 Aug 11  2011 OIB_Raw_Data_Example_mcords2\n",
      "dr-xr-sr-x    3 4329     14742        4096 Sep 29  2011 OIB_internal_layer_example\n",
      "drwxr-s--x    3 0        14742        4096 Nov 07 21:27 admin\n",
      "dr-xr-s---    4 4329     14742        4096 Aug 16  2017 admin_new\n",
      "dr-xr-s---    9 4329     14742        4096 Apr 13  2018 admin_old\n",
      "dr-xr-sr-x    2 4329     14742       12288 Jan 02  2019 coverage_maps\n",
      "-r-xr-----    1 4329     14742        1378 Jan 27  2014 create_shortcut_dirs\n",
      "dr-xr-sr-x   30 4329     14742        8192 Jan 02  2019 crossovers\n",
      "dr-xr-sr-x    2 4329     14742        8192 Jan 22  2018 csv_good\n",
      "dr-xr-sr-x    2 4329     14742      114688 Jan 22  2018 kml\n",
      "dr-xr-sr-x    2 4329     14742        8192 Feb 05  2013 manifest\n",
      "dr-xr-sr-x    5 4329     14742        4096 Sep 03  2016 old_format\n",
      "dr-xr-sr-x    3 4329     14742        4096 Aug 28  2022 old_versions\n",
      "dr-xr-sr-x    3 4329     14742        4096 Mar 30  2021 older_versions\n",
      "-r--r--r--    1 4329     14742     2543996 Dec 22  2021 rds_readme.docx\n",
      "-r--r--r--    1 4329     14742      614145 Dec 22  2021 rds_readme.pdf\n"
     ]
    }
   ],
   "source": [
    "# list directories and files in a given directory on an FTP server using Python\n",
    "\n",
    "from ftplib import FTP\n",
    "\n",
    "remote_site = 'data.cresis.ku.edu'\n",
    "remote_directory = 'C:\\\\Users\\\\rj\\\\Documents\\\\cresis\\\\rds\\\\2016_Antarctica_DC8\\\\CSARP_standard\\\\'\n",
    "\n",
    "\n",
    "ftp = FTP(remote_site)\n",
    "ftp.login()\n",
    "# ftp.cwd(\"/Dir\")\n",
    "# list directories on the server\n",
    "# print(\"Directories:\")\n",
    "# ftp.dir()\n",
    "ftp.cwd(\"data/rds\")\n",
    "print(\"Directories:\")\n",
    "ftp.dir()"
   ],
   "metadata": {
    "collapsed": false,
    "ExecuteTime": {
     "end_time": "2024-04-09T00:49:05.341355Z",
     "start_time": "2024-04-09T00:49:03.817849Z"
    }
   },
   "id": "7fc4042e04c82f28",
   "execution_count": 17
  },
  {
   "cell_type": "code",
   "outputs": [],
   "source": [],
   "metadata": {
    "collapsed": false
   },
   "id": "864e1af9319f2853"
  }
 ],
 "metadata": {
  "kernelspec": {
   "display_name": "Python 3",
   "language": "python",
   "name": "python3"
  },
  "language_info": {
   "codemirror_mode": {
    "name": "ipython",
    "version": 2
   },
   "file_extension": ".py",
   "mimetype": "text/x-python",
   "name": "python",
   "nbconvert_exporter": "python",
   "pygments_lexer": "ipython2",
   "version": "2.7.6"
  }
 },
 "nbformat": 4,
 "nbformat_minor": 5
}

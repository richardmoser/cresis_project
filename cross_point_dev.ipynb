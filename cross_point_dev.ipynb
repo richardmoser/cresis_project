{
 "cells": [
  {
   "cell_type": "code",
   "id": "initial_id",
   "metadata": {
    "collapsed": true,
    "ExecuteTime": {
     "end_time": "2024-06-14T22:12:54.717855Z",
     "start_time": "2024-06-14T22:12:50.647023Z"
    }
   },
   "source": [
    "# import matplotlib.pyplot as plt\n",
    "import os\n",
    "from project_classes import *\n",
    "from functions import *\n",
    "# from iceflow_library import *\n",
    "# from scipy.optimize import curve_fit\n",
    "# import scipy.optimize as opt"
   ],
   "outputs": [],
   "execution_count": 1
  },
  {
   "metadata": {
    "ExecuteTime": {
     "end_time": "2024-06-14T22:12:54.733886Z",
     "start_time": "2024-06-14T22:12:54.719856Z"
    }
   },
   "cell_type": "code",
   "source": [
    "zoom = True\n",
    "seg_length = 100\n",
    "season = \"2022_Antarctica_BaslerMKB\"\n",
    "flight = \"20230127_01\"\n",
    "file_name = \"C:\\\\Users\\\\rj\\\\Documents\\\\cresis_project\\\\pickle_jar\\\\layer_export_\" + flight + \".pickle\"\n",
    "testing = False"
   ],
   "id": "b764adab1a2a49d6",
   "outputs": [],
   "execution_count": 2
  },
  {
   "metadata": {
    "ExecuteTime": {
     "end_time": "2024-06-14T22:12:54.891051Z",
     "start_time": "2024-06-14T22:12:54.734892Z"
    }
   },
   "cell_type": "code",
   "source": [
    "print(f\"Force remaking {file_name}...\")\n",
    "mat_pickler_h5py(season, flight, testing_mode=testing)  # make it\n",
    "layers = read_layers(file_name)  # read in the layers from the pickle file\n",
    "print(f\"File {file_name} created.\")"
   ],
   "id": "99407cdce5335003",
   "outputs": [
    {
     "name": "stdout",
     "output_type": "stream",
     "text": [
      "Force remaking C:\\Users\\rj\\Documents\\cresis_project\\pickle_jar\\layer_export_20230127_01.pickle...\n",
      "Reading data files...\n",
      "--------------------\n",
      "f['param']: <HDF5 group \"/param\" (6 members)>\n",
      "f['param'].keys(): ['day_seg', 'radar', 'radar_name', 'records', 'season_name', 'sw_version']\n",
      "\n",
      "\n",
      "layerize_h5py debug:\n",
      "f['lat'][:]: [[-88.89395645]\n",
      " [-88.89382215]\n",
      " [-88.89368786]\n",
      " ...\n",
      " [-88.44666919]\n",
      " [-88.44653489]\n",
      " [-88.4464006 ]]\n",
      "f['lat'][:]: -88.8939564477804\n",
      "\n",
      "\n",
      "\n",
      "layer1: Surface number of points: 96358\n",
      "layer2: Bottom number of points: 96358\n",
      "--------------------\n",
      "C:\\Users\\rj\\Documents\\cresis_project\\pickle_jar\\layer_export_20230127_01.pickle  saved in local directory of this python file.\n",
      "--------------------\n",
      "\n",
      "Reading pickle file...\n",
      "--------------------\n",
      "Surface\n",
      "Bottom\n",
      "--------------------\n",
      "\n",
      "File C:\\Users\\rj\\Documents\\cresis_project\\pickle_jar\\layer_export_20230127_01.pickle created.\n"
     ]
    }
   ],
   "execution_count": 3
  },
  {
   "metadata": {
    "ExecuteTime": {
     "end_time": "2024-06-14T22:12:54.906673Z",
     "start_time": "2024-06-14T22:12:54.892557Z"
    }
   },
   "cell_type": "code",
   "source": "filename = f\"C:\\\\Users\\\\rj\\\\Documents\\\\cresis_project\\\\pickle_jar\\\\{season}_{flight}_crossover_points.pickle\"",
   "id": "2d6e85c59275a856",
   "outputs": [],
   "execution_count": 4
  },
  {
   "metadata": {
    "ExecuteTime": {
     "end_time": "2024-06-14T22:13:05.943545Z",
     "start_time": "2024-06-14T22:12:54.908823Z"
    }
   },
   "cell_type": "code",
   "source": "intersection_points, intersection_indices, segment_ends = cross_point(layers[0], seg_length, quiet=True)",
   "id": "ea3c97881e060961",
   "outputs": [
    {
     "name": "stdout",
     "output_type": "stream",
     "text": [
      "Finding crossover point...\n",
      "--------------------\n",
      "Checking for intersections...\n",
      "\u001B[92m[====================] 100.0%\u001B[0m\n",
      "\u001B[92m[====================] 100.0%\u001B[0m\n",
      "Number of intersections: 6\n",
      "--------------------\n",
      "\n"
     ]
    }
   ],
   "execution_count": 5
  },
  {
   "metadata": {
    "ExecuteTime": {
     "end_time": "2024-06-14T22:13:05.959012Z",
     "start_time": "2024-06-14T22:13:05.945749Z"
    }
   },
   "cell_type": "code",
   "source": [
    "for layer in layers:\n",
    "    corrected_twtt = layer.twtt - layers[0].twtt  # normalize against the surface layer\n",
    "    # corrected_twtt = layer.twtt\n",
    "    layer.twtt_corrected = corrected_twtt"
   ],
   "id": "54ae67269022a9e3",
   "outputs": [],
   "execution_count": 6
  },
  {
   "metadata": {
    "ExecuteTime": {
     "end_time": "2024-06-14T22:13:05.974241Z",
     "start_time": "2024-06-14T22:13:05.960304Z"
    }
   },
   "cell_type": "code",
   "source": [
    "# print the delta_twtt for the points\n",
    "print(\"Delta TWTT:\")\n",
    "for i in range(len(intersection_points)):\n",
    "    d_twtt = layers[1].twtt_corrected[intersection_indices[i][0]] - layers[1].twtt_corrected[intersection_indices[i][1]]\n",
    "    print(f\"Point {i}: {d_twtt}\")\n"
   ],
   "id": "3860f80d215d8acf",
   "outputs": [
    {
     "name": "stdout",
     "output_type": "stream",
     "text": [
      "Delta TWTT:\n",
      "Point 0: -7.814168871351151e-09\n",
      "Point 1: 4.200527734058026e-09\n",
      "Point 2: 3.094486764604428e-07\n",
      "Point 3: -5.017053608486726e-07\n",
      "Point 4: -4.260924400373234e-07\n",
      "Point 5: nan\n"
     ]
    }
   ],
   "execution_count": 7
  },
  {
   "metadata": {},
   "cell_type": "code",
   "outputs": [],
   "execution_count": null,
   "source": "",
   "id": "e077bb985a20b096"
  }
 ],
 "metadata": {
  "kernelspec": {
   "display_name": "Python 3",
   "language": "python",
   "name": "python3"
  },
  "language_info": {
   "codemirror_mode": {
    "name": "ipython",
    "version": 2
   },
   "file_extension": ".py",
   "mimetype": "text/x-python",
   "name": "python",
   "nbconvert_exporter": "python",
   "pygments_lexer": "ipython2",
   "version": "2.7.6"
  }
 },
 "nbformat": 4,
 "nbformat_minor": 5
}

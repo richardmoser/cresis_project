{
 "cells": [
  {
   "cell_type": "code",
   "id": "initial_id",
   "metadata": {
    "collapsed": true,
    "ExecuteTime": {
     "end_time": "2024-06-11T23:40:54.723008Z",
     "start_time": "2024-06-11T23:40:48.988259Z"
    }
   },
   "source": [
    "import matplotlib.pyplot as plt\n",
    "import os\n",
    "from project_classes import *\n",
    "from functions import *\n",
    "from iceflow_library import *\n",
    "from scipy.optimize import curve_fit\n",
    "import scipy.optimize as opt"
   ],
   "outputs": [],
   "execution_count": 3
  },
  {
   "metadata": {
    "ExecuteTime": {
     "end_time": "2024-06-11T23:40:54.738626Z",
     "start_time": "2024-06-11T23:40:54.724995Z"
    }
   },
   "cell_type": "code",
   "source": [
    "zoom = True\n",
    "seg_length = 100\n",
    "season = \"2022_Antarctica_BaslerMKB\"\n",
    "flight = \"20230127_01\"\n",
    "file_name = \"C:\\\\Users\\\\rj\\\\Documents\\\\cresis_project\\\\pickle_jar\\\\layer_export_\" + flight + \".pickle\"\n",
    "testing = False"
   ],
   "id": "b764adab1a2a49d6",
   "outputs": [],
   "execution_count": 4
  },
  {
   "metadata": {
    "ExecuteTime": {
     "end_time": "2024-06-11T23:40:54.862600Z",
     "start_time": "2024-06-11T23:40:54.740795Z"
    }
   },
   "cell_type": "code",
   "source": [
    "print(f\"Force remaking {file_name}...\")\n",
    "mat_pickler_h5py(season, flight, testing_mode=testing)  # make it\n",
    "layers = read_layers(file_name)  # read in the layers from the pickle file\n",
    "print(f\"File {file_name} created.\")"
   ],
   "id": "99407cdce5335003",
   "outputs": [
    {
     "name": "stdout",
     "output_type": "stream",
     "text": [
      "Force remaking C:\\Users\\rj\\Documents\\cresis_project\\pickle_jar\\layer_export_20230127_01.pickle...\n",
      "Reading data files...\n",
      "--------------------\n",
      "f['param']: <HDF5 group \"/param\" (6 members)>\n",
      "f['param'].keys(): ['day_seg', 'radar', 'radar_name', 'records', 'season_name', 'sw_version']\n",
      "\n",
      "\n",
      "layerize_h5py debug:\n",
      "f['lat'][:]: [[-88.89395645]\n",
      " [-88.89382215]\n",
      " [-88.89368786]\n",
      " ...\n",
      " [-88.44666919]\n",
      " [-88.44653489]\n",
      " [-88.4464006 ]]\n",
      "f['lat'][:]: -88.8939564477804\n",
      "\n",
      "\n",
      "\n",
      "layer1: Surface number of points: 96358\n",
      "layer2: Bottom number of points: 96358\n",
      "--------------------\n",
      "C:\\Users\\rj\\Documents\\cresis_project\\pickle_jar\\layer_export_20230127_01.pickle  saved in local directory of this python file.\n",
      "--------------------\n",
      "\n",
      "Reading pickle file...\n",
      "--------------------\n",
      "Surface\n",
      "Bottom\n",
      "--------------------\n",
      "\n",
      "File C:\\Users\\rj\\Documents\\cresis_project\\pickle_jar\\layer_export_20230127_01.pickle created.\n"
     ]
    }
   ],
   "execution_count": 5
  },
  {
   "metadata": {
    "ExecuteTime": {
     "end_time": "2024-06-11T23:41:03.298471Z",
     "start_time": "2024-06-11T23:41:03.287750Z"
    }
   },
   "cell_type": "code",
   "source": "",
   "id": "c7fc2a9267e00fe5",
   "outputs": [],
   "execution_count": 5
  },
  {
   "metadata": {
    "ExecuteTime": {
     "end_time": "2024-06-11T23:42:12.149945Z",
     "start_time": "2024-06-11T23:42:12.131824Z"
    }
   },
   "cell_type": "code",
   "source": [
    "\"\"\"\n",
    "removing brackets from layerize_h5py() lat and lon arrays\n",
    "\"\"\"\n",
    "# path_segments.append([(layer.lat[i], layer.lon[i]), (layer.lat[i + 1], layer.lon[i + 1])])\n",
    "\"\"\"\n",
    "Path segment 29200: [(array([-85.95931277]), array([-104.36936099])), (array([-85.95920033]), array([-104.36831876]))]\n",
    "Layer lat-lon 29200: ([-85.95931277], [-104.36936099])\n",
    "\"\"\"\n",
    "\n",
    "print(f\"Layer lat[0]: {layers[0].lat[0]}\")\n",
    "print(f\"Layer lat[0][0]: {layers[0].lat}\")\n",
    "\n",
    "print(type(layers[0].lat[0]))"
   ],
   "id": "5c1541da5b8567ec",
   "outputs": [
    {
     "name": "stdout",
     "output_type": "stream",
     "text": [
      "Layer lat[0]: -89.78842907714407\n",
      "Layer lat[0][0]: [-89.78842908 -89.78829493 -89.78816077 ... -89.98572386 -89.98585636\n",
      " -89.98598917]\n",
      "<class 'numpy.float64'>\n"
     ]
    }
   ],
   "execution_count": 13
  },
  {
   "metadata": {
    "ExecuteTime": {
     "end_time": "2024-06-11T23:42:12.495299Z",
     "start_time": "2024-06-11T23:42:12.485740Z"
    }
   },
   "cell_type": "code",
   "source": "",
   "id": "f3a59891f923c91",
   "outputs": [],
   "execution_count": 13
  },
  {
   "metadata": {
    "ExecuteTime": {
     "end_time": "2024-06-11T23:42:12.823443Z",
     "start_time": "2024-06-11T23:42:12.802882Z"
    }
   },
   "cell_type": "code",
   "source": "filename = f\"C:\\\\Users\\\\rj\\\\Documents\\\\cresis_project\\\\pickle_jar\\\\{season}_{flight}_crossover_points.pickle\"",
   "id": "2d6e85c59275a856",
   "outputs": [],
   "execution_count": 14
  },
  {
   "metadata": {
    "ExecuteTime": {
     "end_time": "2024-06-12T00:30:46.020258Z",
     "start_time": "2024-06-12T00:30:33.435614Z"
    }
   },
   "cell_type": "code",
   "source": [
    "def cross_point(layer, seg_length, quiet=False):\n",
    "    \"\"\"\n",
    "    :param seg_length:\n",
    "    :param layer: a Layer object\n",
    "    :param quiet: a boolean to suppress print statements\n",
    "    :return: the point where the lat-lon crosses over its own path.\n",
    "    purpose: layers[0].lat and layers[0].lon are numpy arrays of the latitudes and\n",
    "    longitudes for a flight path. It does not connect back to the beginning.\n",
    "    This function finds the point where the path crosses over itself.\n",
    "    The lat-lon of the crossover point will not be exactly the same as the\n",
    "    lat-lons in the arrays, but it will be very close.\n",
    "    \"\"\"\n",
    "    verbose = not quiet\n",
    "    print(\"Finding crossover point...\")\n",
    "    print(\"--------------------\")\n",
    "    # create a list of line segments of length seg_length\n",
    "    path_segments = []\n",
    "    segment_ends = []\n",
    "    if verbose:\n",
    "        print(f\"Dividing the path into segments of length {seg_length}...\")\n",
    "    for i in range(0, len(layer.lat), seg_length):\n",
    "        if i + seg_length < len(layer.lat):\n",
    "            path_segments.append([(layer.lat[i], layer.lon[i]), (layer.lat[i + seg_length], layer.lon[i + seg_length])])\n",
    "        else:\n",
    "            path_segments.append([(layer.lat[i], layer.lon[i]), (layer.lat[-1], layer.lon[-1])])\n",
    "\n",
    "    if verbose:\n",
    "        print(f\"Number of segments: {len(path_segments)}\")\n",
    "    print(\"Checking for intersections...\")\n",
    "    # check for intersections between the line segments\n",
    "    # TODO: implement loading bar\n",
    "    rough_intersections = []\n",
    "    intersecting_segments = []\n",
    "    for i in range(len(path_segments)):\n",
    "        for j in range(i + 1, len(path_segments)):\n",
    "            if segments_intersect(path_segments[i], path_segments[j]):\n",
    "                intersection_points = find_segment_intersection(path_segments[i], path_segments[j])\n",
    "                if intersection_points:\n",
    "                    rough_intersections.append([intersection_points[0][0], intersection_points[1][0]])\n",
    "                    intersecting_segments.append([i, j])\n",
    "                    if verbose:\n",
    "                        print(f\"Segments {i} and {j} intersect near \"\n",
    "                              f\"({intersection_points[0][0]}, {intersection_points[1][0]})\")\n",
    "\n",
    "    if verbose:\n",
    "        print(\"\\nChecking for a more precise intersection...\")\n",
    "    fine_intersections = []\n",
    "    intersection_indices = []\n",
    "\n",
    "    printed = False\n",
    "\n",
    "    for seg_pair in range(len(intersecting_segments)):\n",
    "        seg1 = intersecting_segments[seg_pair][0]\n",
    "        seg2 = intersecting_segments[seg_pair][1]\n",
    "\n",
    "        # translate segment numbers to indices in the lat-lon arrays\n",
    "        if seg1 == 0:\n",
    "            seg1_start = 0\n",
    "            seg1_end = seg_length\n",
    "        else:\n",
    "            seg1_start = seg1 * seg_length\n",
    "            seg1_end = seg1_start + seg_length\n",
    "        if seg2 == 0:\n",
    "            seg2_start = 0\n",
    "            seg2_end = seg_length\n",
    "        else:\n",
    "            seg2_start = seg2 * seg_length\n",
    "            seg2_end = seg2_start + seg_length\n",
    "        if verbose:\n",
    "            print(f\"segment {seg1} start: {seg1_start}, segment 1 end: {seg1_end}\")\n",
    "        if verbose:\n",
    "            print(f\"segment {seg2} start: {seg2_start}, segment 2 end: {seg2_end}\")\n",
    "\n",
    "        # create a list of line segments of length 1\n",
    "        path_segments = []\n",
    "        for i in range(seg1_start, seg1_end):\n",
    "            path_segments.append([(layer.lat[i], layer.lon[i]), (layer.lat[i + 1], layer.lon[i + 1])])\n",
    "            # if not printed:\n",
    "                # print(f\"Path segment {i}: {path_segments[-1]}\")\n",
    "                # print(f\"Layer lat-lon {i}: ({layer.lat[i]}, {layer.lon[i]})\")\n",
    "                # printed = True\n",
    "        for i in range(seg2_start, seg2_end):\n",
    "            path_segments.append([(layer.lat[i], layer.lon[i]), (layer.lat[i + 1], layer.lon[i + 1])])\n",
    "\n",
    "        # check for intersections between the line segments\n",
    "        for first_seg in range(len(path_segments)):  # compare each segment\n",
    "            for sec_seg in range(first_seg + 1, len(path_segments)):  # to every other segment after it\n",
    "                if segments_intersect(path_segments[first_seg], path_segments[sec_seg]):  # if they intersect\n",
    "                    intersection_points = find_segment_intersection(path_segments[first_seg], path_segments[sec_seg])  # find the intersection\n",
    "                    if intersection_points:\n",
    "                        index1 = seg1_start + first_seg\n",
    "                        index2 = seg2_start + sec_seg\n",
    "                        # intersections.append([intersection_points])\n",
    "                        segment_ends.append([[path_segments[first_seg][0], path_segments[first_seg][1], index1],\n",
    "                                             [path_segments[sec_seg][0], path_segments[sec_seg][1], index2]])\n",
    "\n",
    "                        fine_intersections.append([intersection_points[0][0], intersection_points[1][0]])\n",
    "                        # fine_intersections are the first two points of the segment_ends list, i.e. two endpoints on\n",
    "                        # opposing legs of the X. segment_ends are all four points of the X.\n",
    "                        if verbose:\n",
    "                            print(f\"Segments {seg1} and {seg2} intersect near indices \"\n",
    "                                  f\"{index1} and {index2}\\nThis corresponds roughly to the \"\n",
    "                                  f\"lat-lon: ({fine_intersections[-1][0]}, {fine_intersections[-1][1]})\")\n",
    "                        intersection_indices.append([index1, index2])\n",
    "\n",
    "                        if not printed:\n",
    "                            print(\"--------------------\\n\\n\")\n",
    "                            print(f\"path_segments[first_seg]: {path_segments[first_seg]}\")\n",
    "                            print(f\"path_segments[sec_seg]: {path_segments[sec_seg]}\\n\")\n",
    "                            print(f\"segment_ends: {segment_ends}\\n\")\n",
    "\n",
    "                            print(\"--------------------\\n\\n\")\n",
    "                            printed = True\n",
    "\n",
    "    print(f\"Number of intersections: {len(fine_intersections)}\")\n",
    "    if verbose:\n",
    "        print(f\"Number of rough intersections: {len(rough_intersections)}\")\n",
    "        print(f\"Number of intersection indices: {len(intersection_indices)}\")\n",
    "        # print(f\"Indices: {intersect_indices}\")\n",
    "        # for index in intersect_indices:\n",
    "        #     print(f\"Index: {index}: \")\n",
    "    # for i in range(len(intersection_indices)):\n",
    "    #     print(f\"Index {i}: \\n\"\n",
    "    #           f\"indices: \\t{intersection_indices[i]}\\n\"\n",
    "    #           f\"lat-lon: \\t({fine_intersections[i][0]}, {fine_intersections[i][1]})\\n\"\n",
    "    #           f\"segment ends: \\t{segment_ends[i]}\\n\"\n",
    "    #           f\"lat-lon by layer: \\t({layer.lat[intersection_indices[i][0]]}, {layer.lon[intersection_indices[i][0]]})\")\n",
    "\n",
    "    print(f\"Intersection at index {intersection_indices[0][0]} and {intersection_indices[0][1]}\")\n",
    "    for i in range(len(intersection_indices)):\n",
    "        # TODO Error 1: correct for the fine intersection points being wrong for some reason\n",
    "            # (lat is close but lon is 6 degrees off in the 20181112_02 flight)\n",
    "        fine_intersections[i][0] = layer.lat[intersection_indices[i][0]]\n",
    "        fine_intersections[i][1] = layer.lon[intersection_indices[i][0]]\n",
    "    print(\"--------------------\\n\")\n",
    "\n",
    "    return fine_intersections, intersection_indices, segment_ends\n",
    "\n",
    "intersection_points, intersection_indices, segment_ends = cross_point(layers[0], seg_length, quiet=True)"
   ],
   "id": "ea3c97881e060961",
   "outputs": [
    {
     "name": "stdout",
     "output_type": "stream",
     "text": [
      "Finding crossover point...\n",
      "--------------------\n",
      "Checking for intersections...\n",
      "--------------------\n",
      "\n",
      "\n",
      "path_segments[first_seg]: [(-85.95336842784279, -104.31383823598436), (-85.95325594062754, -104.31279852896284)]\n",
      "path_segments[sec_seg]: [(-85.95332237124342, -104.31346984061088), (-85.95339582068333, -104.31187657863418)]\n",
      "\n",
      "segment_ends: [[[(-85.95336842784279, -104.31383823598436), (-85.95325594062754, -104.31279852896284), 29253], [(-85.95332237124342, -104.31346984061088), (-85.95339582068333, -104.31187657863418), 63621]]]\n",
      "\n",
      "--------------------\n",
      "\n",
      "\n",
      "Number of intersections: 6\n",
      "Intersection at index 29253 and 63621\n",
      "--------------------\n",
      "\n"
     ]
    }
   ],
   "execution_count": 18
  },
  {
   "metadata": {},
   "cell_type": "code",
   "outputs": [],
   "execution_count": null,
   "source": "",
   "id": "3860f80d215d8acf"
  }
 ],
 "metadata": {
  "kernelspec": {
   "display_name": "Python 3",
   "language": "python",
   "name": "python3"
  },
  "language_info": {
   "codemirror_mode": {
    "name": "ipython",
    "version": 2
   },
   "file_extension": ".py",
   "mimetype": "text/x-python",
   "name": "python",
   "nbconvert_exporter": "python",
   "pygments_lexer": "ipython2",
   "version": "2.7.6"
  }
 },
 "nbformat": 4,
 "nbformat_minor": 5
}

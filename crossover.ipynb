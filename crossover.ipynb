{
 "cells": [
  {
   "cell_type": "markdown",
   "id": "c2dfc15635b07850",
   "metadata": {
    "collapsed": false
   },
   "source": [
    "# TODO:\n",
    "### 24Oct23 - 31Oct23\n",
    "- use lat-lon for distance and make that the x axis of the layer\n",
    "    - distance from... what exactly?\n",
    "        - the exact placement of $d_0$ may not actually matter as long as it is noted on the plot that it is arbitrary (or however it is actually placed)\n",
    "            - i.e. it is only useful for showing scale\n",
    "    - this would put the plot in meters on both axes if reading the right side y axis scale\n",
    "- get the distance between crossover points\n",
    "    - *GPS time is not a useful measure of ~distance~ anything*\n",
    "    - use the lat-lon coordinates to get the distance between points\n",
    "        - i.e. get the 4 endpoints of the 2 segments and use the distance between them\n",
    "    - **distance between points in the 2018 Antarctica DC8 20181030_01 flight is about 14.9m**\n",
    "        - need to make distance step a variable that is read from this because it may change flight to flight\n",
    "- find the slope in both directions across the segments\n",
    "    - probably want to go out a bit from the crossover point to get a better slope\n",
    "        - e.g. 2 or 3x crossover point distance\n",
    "    - may have to normalize the slope if jagged\n",
    "- find the plane heading on each segment\n",
    "    - check for point to point consistency - wandering gps\n",
    "        - i.e. make sure that the points in the segment are actually in a straight line with the surrounding points\n",
    "        - can probably implement an if statement for this\n",
    "            - `if heading(segment) ~= heading(segment + a_few_points_either_end), then segment is straight`\n",
    "            - `else, use heading(segment + a_few_points_either_end)`\n"
   ]
  },
  {
   "cell_type": "code",
   "execution_count": 1,
   "id": "initial_id",
   "metadata": {
    "collapsed": true,
    "jupyter": {
     "outputs_hidden": true
    },
    "ExecuteTime": {
     "end_time": "2023-12-18T18:09:53.536119600Z",
     "start_time": "2023-12-18T18:09:52.887751200Z"
    }
   },
   "outputs": [],
   "source": [
    "import math\n",
    "from layer_class import *\n",
    "from functions import *\n",
    "from iceflow_library import *\n",
    "from crossover_class import *"
   ]
  },
  {
   "cell_type": "code",
   "execution_count": 2,
   "id": "8c194ffbeabd931b",
   "metadata": {
    "collapsed": false,
    "ExecuteTime": {
     "end_time": "2023-12-18T18:09:53.550657100Z",
     "start_time": "2023-12-18T18:09:53.537968500Z"
    }
   },
   "outputs": [],
   "source": [
    " # zoom = False \n",
    "zoom = True\n",
    "seg_length = 100\n",
    "season = \"2018_Antarctica_DC8\"\n",
    "# season = \"2016_Antarctica_DC8\"\n",
    "flight = \"20181030_01\"  # the flight date and frame number\n",
    "# flight = \"20181103_01\"\n",
    "# flight = \"20181112_02\"  # the problem flight\n",
    "# flight = \"20161024_05\"\n",
    "file_name = \"layer_export_\" + flight + \".pickle\"\n",
    "\n",
    "# TODO: make map plotter center on crossover point n. default to centering on the first crossover point if no n is given\n",
    "# TODO: choose a crossover point or save the data for them or something. Do we already do this? Probably. Very tired.\n",
    "    # Who is this we?"
   ]
  },
  {
   "cell_type": "code",
   "execution_count": 3,
   "id": "49548c348d597a15",
   "metadata": {
    "collapsed": false,
    "ExecuteTime": {
     "end_time": "2023-12-18T18:09:56.118760500Z",
     "start_time": "2023-12-18T18:09:53.541586300Z"
    }
   },
   "outputs": [
    {
     "name": "stdout",
     "output_type": "stream",
     "text": [
      "File layer_export_20181030_01.pickle does not exist. Making it...\n",
      "Reading data files...\n",
      "--------------------\n",
      "DATA MAT FILE KEYS:\n",
      "header, version, globals, elev, file_type, file_version, gps_time, id, lat, lon, param, quality, twtt, type\n",
      "LAYER ATTRIBUTES MAT FILE KEYS:\n",
      "header, version, globals, file_type, file_version, lyr_age, lyr_age_source, lyr_desc, lyr_group_name, lyr_id, lyr_name, lyr_order, param\n",
      "--------------------\n",
      "\n",
      "debug:\n",
      "data_mat type: <class 'dict'>\n",
      "data_mat[0] keys:\n",
      "header, version, globals, elev, file_type, file_version, gps_time, id, lat, lon, param, quality, twtt, typetwtt: [[4.08000000e-06 4.08000000e-06 4.08000000e-06 ... 2.74000000e-06\n",
      "  2.74000000e-06 2.74000000e-06]\n",
      " [           nan            nan 3.01688198e-05 ... 3.18162268e-05\n",
      "  3.18926571e-05 3.19058256e-05]\n",
      " [           nan            nan            nan ...            nan\n",
      "             nan            nan]\n",
      " [           nan            nan            nan ...            nan\n",
      "             nan            nan]]\n",
      "twtt[0]: [4.08e-06 4.08e-06 4.08e-06 ... 2.74e-06 2.74e-06 2.74e-06]\n",
      "twtt[0][0]: 4.08e-06\n",
      "twtt[0][1]: 4.08e-06\n",
      "Layerizing data files...\n",
      "--------------------\n",
      "number of data files: 16, number of layers: 3\n",
      "Surface Layer found and created\n",
      "Bottom Layer found and created\n",
      "Test Layer found and created\n",
      "--------------------\n",
      "\n",
      "--------------------\n",
      "layer_export_20181030_01.pickle  saved in local directory of this python file.\n",
      "--------------------\n",
      "\n",
      "Reading pickle file...\n",
      "--------------------\n",
      "Surface\n",
      "Bottom\n",
      "Test\n",
      "--------------------\n",
      "\n",
      "Finding crossover point...\n",
      "--------------------\n",
      "Dividing the path into segments of length 100...\n",
      "Number of segments: 547\n",
      "Checking for intersections...\n",
      "Segments 54 and 122 intersect near (-87.97980253666243, -130.00293379604554)\n",
      "\n",
      "Checking for a more precise intersection...\n",
      "segment 54 start: 5400, segment 1 end: 5500\n",
      "segment 122 start: 12200, segment 2 end: 12300\n",
      "Segments 54 and 122 intersect near indices 5481 and 12389\n",
      "This corresponds roughly to the lat-lon: (-87.97979626378307, -130.00290123313295)\n",
      "Number of intersections: 1\n",
      "Number of rough intersections: 1\n",
      "Number of intersection indices: 1\n",
      "Indices: [[5481, 12389]]\n",
      "Index: [5481, 12389]\n",
      "--------------------\n",
      "\n",
      "len(intersection_indices): 1\n",
      "len(intersection_points): 1\n"
     ]
    }
   ],
   "source": [
    "\n",
    "# if the file at filename exists, read in the layers from the pickle file\n",
    "# otherwise, read in the layers from the layer files and save them to a pickle file\n",
    "if not os.path.isfile(file_name):  # if the file does not exist\n",
    "    print(f\"File {file_name} does not exist. Making it...\")\n",
    "    mat_pickler(season, flight, testing_mode=True)  # make it\n",
    "    \n",
    "layers = read_layers(file_name)  # read in the layers from the pickle file\n",
    "\n",
    "intersection_points_base, intersection_indices_base, segment_ends = cross_point(layers[0], seg_length, quiet=False)\n",
    "# find the crossover points\n",
    "print(f\"len(intersection_indices): {len(intersection_indices_base)}\")\n",
    "print(f\"len(intersection_points): {len(intersection_points_base)}\")\n",
    "intersection_indices = intersection_indices_base\n",
    "intersection_points = intersection_points_base"
   ]
  },
  {
   "cell_type": "code",
   "execution_count": 4,
   "outputs": [
    {
     "name": "stdout",
     "output_type": "stream",
     "text": [
      "len(intersection_indices): 1\n",
      "len(intersection_points): 1\n",
      "iteration 0\n",
      "intersection 0 is valid\n",
      "heading on first segment: -179.99246690477952\n",
      "heading on second segment: 91.7828687328499\n",
      "--------------------\n"
     ]
    }
   ],
   "source": [
    "intersection_indices = intersection_indices_base\n",
    "intersection_points = intersection_points_base\n",
    "print(f\"len(intersection_indices): {len(intersection_indices)}\")\n",
    "print(f\"len(intersection_points): {len(intersection_points)}\")\n",
    "removed = 0\n",
    "i = 0\n",
    "# if the crosover point headings do not have a difference of at least 75 degrees, then the crossover point is not valid and should be removed\n",
    "while i < (len(intersection_indices)):\n",
    "    print(f\"iteration {i}\")\n",
    "    if abs(find_heading(layers[0], intersection_indices[i][0]) - find_heading(layers[0], intersection_indices[i][1])) < 75:\n",
    "        print(f\"heading on first segment: {find_heading(layers[0], intersection_indices[i][0])}\")\n",
    "        print(f\"heading on second segment: {find_heading(layers[0], intersection_indices[i][1])}\")\n",
    "        print(f\"intersection {i} is not valid\")\n",
    "        intersection_indices.pop(i)\n",
    "        intersection_points.pop(i)\n",
    "        segment_ends.pop(i)\n",
    "        print(f\"intersection {i} removed\")\n",
    "        # print(f\"intersection_indices: {intersection_indices}\")\n",
    "        # print(f\"intersection_points: {intersection_points}\")\n",
    "        # print(f\"segment_ends: {segment_ends}\")\n",
    "        # print(section_break)\n",
    "        # break   \n",
    "        continue\n",
    "    else:\n",
    "        print(f\"intersection {i} is valid\")\n",
    "        print(f\"heading on first segment: {find_heading(layers[0], intersection_indices[i][0])}\")\n",
    "        print(f\"heading on second segment: {find_heading(layers[0], intersection_indices[i][1])}\")\n",
    "        print(section_break)\n",
    "        i += 1\n"
   ],
   "metadata": {
    "collapsed": false,
    "ExecuteTime": {
     "end_time": "2023-12-18T18:12:47.575817400Z",
     "start_time": "2023-12-18T18:12:47.563307800Z"
    }
   },
   "id": "365fcca1696d28d5"
  },
  {
   "cell_type": "code",
   "execution_count": 6,
   "outputs": [
    {
     "name": "stdout",
     "output_type": "stream",
     "text": [
      "Saving posit...\n",
      "--------------------\n",
      "posit.pickle saved in local directory of this python file.\n",
      "--------------------\n"
     ]
    }
   ],
   "source": [
    "posit = Twtt_Posit(layers[1], season, flight, intersection_indices)\n",
    "# create a Twtt_Posit object to store the crossover point data\n",
    "# print(f\"posit.layer_name: {posit.layer_name}\")\n",
    "\n",
    "save_posit(posit)"
   ],
   "metadata": {
    "collapsed": false,
    "ExecuteTime": {
     "end_time": "2023-12-18T18:12:52.131610200Z",
     "start_time": "2023-12-18T18:12:52.114932200Z"
    }
   },
   "id": "b7f9e8cf051f4c41"
  },
  {
   "cell_type": "code",
   "execution_count": 7,
   "id": "5a5504f8442047f0",
   "metadata": {
    "collapsed": false,
    "ExecuteTime": {
     "end_time": "2023-12-18T18:12:52.616513300Z",
     "start_time": "2023-12-18T18:12:52.605508700Z"
    }
   },
   "outputs": [],
   "source": [
    "# def gps_time_to_seconds(gps_time):\n",
    "#     \"\"\"\n",
    "#     :param gps_time: the gps time in seconds\n",
    "#     :return: the gps time in seconds\n",
    "#     \"\"\"\n",
    "#     return gps_time * 10 ** -9"
   ]
  },
  {
   "cell_type": "code",
   "execution_count": 8,
   "id": "b8be6a337daee413",
   "metadata": {
    "collapsed": false,
    "ExecuteTime": {
     "end_time": "2023-12-18T18:12:53.267575800Z",
     "start_time": "2023-12-18T18:12:53.256065500Z"
    }
   },
   "outputs": [
    {
     "name": "stdout",
     "output_type": "stream",
     "text": [
      "1540923785.6594396\n",
      "2018-10-30 13:23:05.659440\n"
     ]
    }
   ],
   "source": [
    "print(layers[0].gps_time[0])\n",
    "# time is epoch seconds from 1970\n",
    "print(gps_time_to_date(layers[0].gps_time[0]))"
   ]
  },
  {
   "cell_type": "code",
   "execution_count": 8,
   "outputs": [],
   "source": [],
   "metadata": {
    "collapsed": false,
    "ExecuteTime": {
     "end_time": "2023-12-18T18:12:53.951106300Z",
     "start_time": "2023-12-18T18:12:53.940100900Z"
    }
   },
   "id": "34c724acf19e8215"
  },
  {
   "cell_type": "code",
   "execution_count": 9,
   "id": "63b34a3a1797a4dd",
   "metadata": {
    "collapsed": false,
    "ExecuteTime": {
     "end_time": "2023-12-18T18:12:54.304321300Z",
     "start_time": "2023-12-18T18:12:54.289741500Z"
    }
   },
   "outputs": [
    {
     "name": "stdout",
     "output_type": "stream",
     "text": [
      "(1, 2)\n",
      "time1: 1540925108.9837148, time2: 1540925109.089813\n",
      "Time between segment 1 endpoints: 0.10609817504882812 s\n",
      "Distance between segment 1 endpoints: 14.93 m\n",
      "Plane velocity: 140.75 m/s or 506.69 km/h\n",
      "rise: 6.53m, run: 59.73m\n",
      "slope at crossover 1: 0.11\n"
     ]
    }
   ],
   "source": [
    "# intersection indices are just the indices of the crossover point, not the indices of the endpoints of the segments\n",
    "index_to_check = 1\n",
    "print(np.shape(intersection_indices))\n",
    "time1 = layers[0].gps_time[intersection_indices[0][index_to_check]]\n",
    "time2 = layers[0].gps_time[intersection_indices[0][index_to_check]+1]\n",
    "print(f\"time1: {time1}, time2: {time2}\")\n",
    "d_time = time2 - time1\n",
    "\n",
    "print(f\"Time between segment 1 endpoints: {d_time} s\")\n",
    "dist = latlon_dist(segment_ends[0][0][0], segment_ends[0][0][1])\n",
    "print(f\"Distance between segment 1 endpoints: {round(dist,2)} m\")\n",
    "# print(f\"type of dist: {type(dist)}\")\n",
    "# print(f\"type of d_time: {type(d_time)}\")\n",
    "vel = dist / d_time\n",
    "print(f\"Plane velocity: {round(vel,2)} m/s or {round(vel * 3.6,2)} km/h\")\n",
    "\n",
    "# print(layers[1].layer_name)\n",
    "slope = slope_around_index(layers[1], intersection_indices[0][index_to_check], 2)\n",
    "print(f\"slope at crossover {index_to_check}: {round(slope,2)}\")"
   ]
  },
  {
   "cell_type": "code",
   "execution_count": 10,
   "id": "e67fdf447e0fad49",
   "metadata": {
    "collapsed": false,
    "ExecuteTime": {
     "end_time": "2023-12-18T18:12:55.009212200Z",
     "start_time": "2023-12-18T18:12:54.998208Z"
    }
   },
   "outputs": [
    {
     "name": "stdout",
     "output_type": "stream",
     "text": [
      "Comparing my depth to CReSIS depth...\n",
      "--------------------\n",
      "twtt difference at crossover point: -3.008232096785966e-07 ns\n",
      "depth at crossover point 0 on segment 1: 1790.344531079254 m\n",
      "depth at crossover point 0 on segment 2: 1815.8203868569365 m\n",
      "difference: -25.475855777682455 m\n",
      "crossover point lat-long: [-87.97979626378307, -130.00290123313295]\n"
     ]
    }
   ],
   "source": [
    "\"\"\"\n",
    "Clean this up and put it in a function in the library file (?)\n",
    "\"\"\"\n",
    "\n",
    "print(\"Comparing my depth to CReSIS depth...\")\n",
    "print(\"--------------------\")\n",
    "twtt_at_intersect = twtt_at_point(layers[1], layers[0], intersection_indices, quiet=True)\n",
    "# find the twtt at the crossover points\n",
    "twtt_difference_at_intersect = twtt_at_intersect[0][0] - twtt_at_intersect[0][1]\n",
    "# find the difference in twtt at the crossover points\n",
    "print(f\"twtt difference at crossover point: {twtt_difference_at_intersect} ns\")\n",
    "\n",
    "my_refractive_index = 1.77\n",
    "# my_depth_1 = twtt_to_depth(twtt_at_intersect[0][0], my_refractive_index)\n",
    "# my_depth_2 = twtt_to_depth(twtt_at_intersect[0][1], my_refractive_index)\n",
    "#\n",
    "# print(f\"By my refractive index: {my_refractive_index}\")\n",
    "# print(f\"depth at crossover point on segment 1: {my_depth_1} m\")\n",
    "# print(f\"depth at crossover point on segment 2: {my_depth_2} m\")\n",
    "# print(f\"difference: {my_depth_1 - my_depth_2} m\")\n",
    "\n",
    "# loop through all intersections and print the depth at each\n",
    "for i in range(len(intersection_indices)):\n",
    "    my_depth_1 = twtt_to_depth(twtt_at_intersect[i][0], my_refractive_index)\n",
    "    my_depth_2 = twtt_to_depth(twtt_at_intersect[i][1], my_refractive_index)\n",
    "    print(f\"depth at crossover point {i} on segment 1: {my_depth_1} m\")\n",
    "    print(f\"depth at crossover point {i} on segment 2: {my_depth_2} m\")\n",
    "    print(f\"difference: {my_depth_1 - my_depth_2} m\")\n",
    "\n",
    "print(f\"crossover point lat-long: {intersection_points[0]}\")"
   ]
  },
  {
   "cell_type": "code",
   "execution_count": 11,
   "id": "a5a5ef3488929da9",
   "metadata": {
    "collapsed": false,
    "ExecuteTime": {
     "end_time": "2023-12-18T18:12:55.597093300Z",
     "start_time": "2023-12-18T18:12:55.552682600Z"
    }
   },
   "outputs": [
    {
     "name": "stdout",
     "output_type": "stream",
     "text": [
      "By CReSIS refractive index: 1.7748239349298849\n",
      "depth at crossover point on segment 1: 1785.4784114884435 m\n",
      "depth at crossover point on segment 2: 1810.8850244144064 m\n",
      "--------------------\n"
     ]
    },
    {
     "data": {
      "text/plain": "'\\nEnd of the cleanup (for now)\\n'"
     },
     "execution_count": 11,
     "metadata": {},
     "output_type": "execute_result"
    }
   ],
   "source": [
    "cresis_refractive_index = math.sqrt(3.15)\n",
    "# cresis_refractive_index = 1.785\n",
    "cresis_depth_1 = twtt_to_depth(twtt_at_intersect[0][0], cresis_refractive_index)\n",
    "cresis_depth_2 = twtt_to_depth(twtt_at_intersect[0][1], cresis_refractive_index)\n",
    "\n",
    "print(f\"By CReSIS refractive index: {cresis_refractive_index}\")\n",
    "print(f\"depth at crossover point on segment 1: {cresis_depth_1} m\")\n",
    "print(f\"depth at crossover point on segment 2: {cresis_depth_2} m\")\n",
    "print(section_break)\n",
    "\"\"\"\n",
    "End of the cleanup (for now)\n",
    "\"\"\""
   ]
  },
  {
   "cell_type": "code",
   "execution_count": 12,
   "outputs": [],
   "source": [
    "# save the crossover point data to crossovers.json\n",
    "# save_crossover()"
   ],
   "metadata": {
    "collapsed": false,
    "ExecuteTime": {
     "end_time": "2023-12-18T18:12:56.307281400Z",
     "start_time": "2023-12-18T18:12:56.296276100Z"
    }
   },
   "id": "3b087e1419fd2dab"
  },
  {
   "cell_type": "code",
   "execution_count": 13,
   "id": "1b12cd14470c7932",
   "metadata": {
    "collapsed": false,
    "ExecuteTime": {
     "end_time": "2023-12-18T18:12:56.795930200Z",
     "start_time": "2023-12-18T18:12:56.791150400Z"
    }
   },
   "outputs": [],
   "source": [
    "def plot_layers_at_cross(layers, intersection_indices, intersection_points, zoom=False, refractive_index=1.77,\n",
    "                         cross_index=0):\n",
    "    \"\"\"\n",
    "    :param layers: a list of Layer objects\n",
    "    :param intersection_indices: a list of indices in the lat-lon arrays where the flight path\n",
    "    crosses over itself\n",
    "    :param intersection_points: a list of lat-lon points where the flight path crosses over itself\n",
    "    :return: nothing (plots the layers and the map)\n",
    "    \"\"\"\n",
    "    plt.figure(figsize=(24, 12), layout='constrained')\n",
    "    print(\"Plotting layers and map...\")\n",
    "    print(\"--------------------\")\n",
    "    print(\"Adjusting for surface twtt...\")\n",
    "    for layer in layers:\n",
    "        corrected_layer = layer.twtt - layers[0].twtt\n",
    "        layer.twtt_corrected = corrected_layer\n",
    "\n",
    "    # ax2 will be the layer plot\n",
    "    plt.subplot(1, 2, 1)\n",
    "\n",
    "    # plot the layer depths vs index for 500 points before and after the first\n",
    "    # crossover point for each layer.\n",
    "    # also plot the layer depths vs index for 500 points before and after the\n",
    "    # second crossover point for each layer.\n",
    "    offset = 500\n",
    "    # plot the corrected twtt for each layer\n",
    "    plt.plot(\n",
    "        layers[0].twtt_corrected[intersection_indices[0][0] - offset:intersection_indices[cross_index][0] + offset],\n",
    "        label=layers[0].layer_name)\n",
    "    plt.plot(\n",
    "        layers[1].twtt_corrected[intersection_indices[0][0] - offset:intersection_indices[cross_index][0] + offset],\n",
    "        label=layers[1].layer_name + ' segment 1')\n",
    "    plt.plot(\n",
    "        layers[1].twtt_corrected[intersection_indices[0][1] - offset:intersection_indices[cross_index][1] + offset],\n",
    "        label=layers[1].layer_name + ' segment 2')\n",
    "\n",
    "    # plot uncorrected twtt for each layer\n",
    "    # plt.plot(layers[0].twtt[intersection_indices[0][0] - offset:intersection_indices[0][0] + offset],\n",
    "    #             label=layers[0].layer_name)\n",
    "    # plt.plot(layers[1].twtt[intersection_indices[0][0] - offset:intersection_indices[0][0] + offset],\n",
    "    #             label=layers[1].layer_name + ' segment 1')\n",
    "    # plt.plot(layers[1].twtt[intersection_indices[0][1] - offset:intersection_indices[0][1] + offset],\n",
    "    # label=layers[1].layer_name + ' segment 2')\n",
    "\n",
    "    # invert the y-axis because the twtt increases with depth\n",
    "    plt.gca().invert_yaxis()\n",
    "    # plot the crossover point on the plot\n",
    "    plt.scatter(offset, twtt_at_point(layers[1], layers[0],\n",
    "                                      intersection_indices, quiet=True)[0][0], color='red',\n",
    "                label='X Point 1')\n",
    "    plt.scatter(offset, twtt_at_point(layers[1], layers[0],\n",
    "                                      intersection_indices, quiet=True)[0][1], color='green',\n",
    "                label='X Point 2')\n",
    "    # plot a line at the crossover point\n",
    "    plt.axvline(x=offset, color='black', label='X Point', linestyle='--', linewidth=0.3)\n",
    "\n",
    "    # set the y axis to be in nanoseconds instead of seconds\n",
    "    plt.ylabel(\"Adjusted Two Way Travel Time (ns)\")\n",
    "    plt.xlabel(\"Index\")\n",
    "\n",
    "    # force the y values to be displayed in 1e-6 ticks (microseconds) instead of 1e-5 ticks (tens of microseconds)\n",
    "    plt.ticklabel_format(style='sci', axis='y', scilimits=(0, 0), useMathText=True)\n",
    "\n",
    "    def s_to_ms(x, pos):\n",
    "        \"\"\"\n",
    "        :param x: the x value\n",
    "        :param pos: the position\n",
    "        :return: the x value in milliseconds\n",
    "        \"\"\"\n",
    "        return '%1.1f' % (x * 1e6)\n",
    "\n",
    "    # set the y axis to be in microseconds instead of seconds\n",
    "    plt.gca().yaxis.set_major_formatter(plt.FuncFormatter(s_to_ms))\n",
    "\n",
    "    # make the right side y axis show the depth in meters by converting the twtt to depth using the refractive index\n",
    "    min_y, max_y = plt.ylim()\n",
    "    n = refractive_index\n",
    "    c = 299792458  # m/s\n",
    "    v = c / n\n",
    "    # depth = twtt * v / 2\n",
    "    scale_factor = v / 2\n",
    "    print(f\"scale factor: {scale_factor}\")\n",
    "    plt.twinx()\n",
    "    plt.ylim(min_y * scale_factor, max_y * scale_factor)\n",
    "    plt.ylabel(\"Depth (m)\")\n",
    "\n",
    "    # make the top of the x axis be the distance in meters by converting the lat-lon to distance using the haversine formula\n",
    "    min_x, max_x = plt.xlim()\n",
    "    scale_factor = latlon_dist((layers[0].lat[0], layers[0].lon[0]), (layers[0].lat[1], layers[0].lon[1]))\n",
    "    print(f\"scale factor: {scale_factor}\")\n",
    "    plt.twiny()\n",
    "    plt.xlim(min_x * scale_factor, max_x * scale_factor)\n",
    "    plt.xlabel(\"Distance (m)\")\n",
    "\n",
    "    plt.title(\"Adjusted Two Way Travel Time vs Index\")\n",
    "    plt.legend([\"legend\"], fontsize='smaller', loc='upper right', bbox_to_anchor=(1.1, 1.1))\n",
    "\n",
    "    \"\"\"\n",
    "    plot the map\n",
    "    \"\"\"\n",
    "    plt.subplot(1, 2, 2)\n",
    "\n",
    "    # TODO: add an offset to the zoom settings so that the crossover point is in the center of the zoomed in map\n",
    "\n",
    "    # # this code sets up a polar stereographic map of antarctica with the South Pole in the center\n",
    "    zoom_out_to_continent = not zoom\n",
    "    if zoom_out_to_continent:\n",
    "        llcrnrx = -400000\n",
    "        llcrnry = -400000\n",
    "        urcrnrx = 250000\n",
    "        urcrnry = 250000\n",
    "    else:\n",
    "        llcrnrx= -50000\n",
    "        llcrnry= -50000\n",
    "        urcrnrx= 50000\n",
    "        urcrnry= 50000\n",
    "    lat_0 = intersection_points[cross_index][0]\n",
    "    lon_0 = intersection_points[cross_index][1]\n",
    "    m = Basemap(projection='ortho', lat_0=lat_0, lon_0=lon_0, llcrnrx=llcrnrx, \n",
    "                llcrnry=llcrnry, urcrnrx=urcrnrx, urcrnry=urcrnry, resolution='c')\n",
    "\n",
    "    m.drawcoastlines()\n",
    "    m.fillcontinents(color='grey', lake_color='aqua')\n",
    "    m.drawparallels(np.arange(-80., 81., 20.))\n",
    "    m.drawmeridians(np.arange(-180., 181., 20.))\n",
    "    m.drawmapboundary(fill_color='aqua')\n",
    "\n",
    "    # plot the flight path\n",
    "    m.plot(layers[0].lon, layers[0].lat, latlon=True, color='lightgreen', linewidth=1)\n",
    "    # plot the section of the flight path in the plot above\n",
    "    m.plot(layers[0].lon[intersection_indices[0][0] - offset:intersection_indices[0][0] + offset],\n",
    "           layers[0].lat[intersection_indices[0][0] - offset:intersection_indices[0][0] + offset], latlon=True,\n",
    "           color='red', linewidth=1)\n",
    "    m.plot(layers[0].lon[intersection_indices[0][1] - offset:intersection_indices[0][1] + offset],\n",
    "           layers[0].lat[intersection_indices[0][1] - offset:intersection_indices[0][1] + offset], latlon=True,\n",
    "           color='green', linewidth=1)\n",
    "    # plot labels for the flight paths at their start points\n",
    "    plt.text(\n",
    "        m(layers[0].lon[intersection_indices[0][0] - offset], layers[0].lat[intersection_indices[0][0] - offset])[\n",
    "            0],\n",
    "        m(layers[0].lon[intersection_indices[0][0] - offset], layers[0].lat[intersection_indices[0][0] - offset])[\n",
    "            1], '\\nsegment 1', fontsize='smaller', fontweight='bold', ha='right', va='top', color='red')\n",
    "    plt.text(\n",
    "        m(layers[0].lon[intersection_indices[0][1] - offset], layers[0].lat[intersection_indices[0][1] - offset])[\n",
    "            0],\n",
    "        m(layers[0].lon[intersection_indices[0][1] - offset], layers[0].lat[intersection_indices[0][1] - offset])[\n",
    "            1], '\\nsegment 2', fontsize='smaller', fontweight='bold', ha='left', va='top', color='green')\n",
    "    # plot the South Pole\n",
    "    m.scatter(0, -90, latlon=True, color='black', linewidth=1, label='South Pole')\n",
    "    # plot the crossover points\n",
    "    for point in intersection_points:\n",
    "        m.scatter(point[1], point[0], latlon=True, color='darkred', linewidth=1, label='Crossover Point')\n",
    "        plt.text(m(point[1], point[0])[0], m(point[1], point[0])[1] - 10000, 'Crossover Point\\n\\n',\n",
    "                 fontsize='smaller', fontweight='bold', ha='center', va='top', color='darkred')\n",
    "\n",
    "    # m.scatter(intersection_points[cross_index][1], intersection_points[cross_index][0], latlon=True, color='darkred',\n",
    "    #           linewidth=1, label='Crossover Point')\n",
    "    # plt.text(m(intersection_points[cross_index][1], intersection_points[cross_index][0])[0],\n",
    "    #          m(intersection_points[cross_index][1], intersection_points[cross_index][0])[1] - 10000,\n",
    "    #          'Crossover Point\\n\\n',\n",
    "    #          fontsize='smaller', fontweight='bold', ha='center', va='top', color='darkred')\n",
    "\n",
    "    # plot the crossover line\n",
    "\n",
    "    x, y = m(0, -90)\n",
    "    plt.text(x, y, '\\nSouth Pole', fontsize='smaller', fontweight='bold', ha='center', va='top', color='black')\n",
    "    plt.title(\"Lat-Lon Map\")\n",
    "    # set tight layout\n",
    "    # plt.tight_layout()\n",
    "\n",
    "    # save the plot\n",
    "    plt.savefig(\"layer_plot.png\", dpi=250)\n",
    "\n",
    "    plt.show()\n",
    "\n",
    "    print(\"plotted map\")\n",
    "    print(\"--------------------\\n\")"
   ]
  },
  {
   "cell_type": "code",
   "execution_count": 14,
   "id": "908aed9ecd9e80ca",
   "metadata": {
    "collapsed": false,
    "ExecuteTime": {
     "end_time": "2023-12-18T18:12:59.808603100Z",
     "start_time": "2023-12-18T18:12:57.471053100Z"
    }
   },
   "outputs": [
    {
     "name": "stdout",
     "output_type": "stream",
     "text": [
      "2018_Antarctica_DC8 20181030_01\n",
      "Plotting layers and map...\n",
      "--------------------\n",
      "Adjusting for surface twtt...\n",
      "scale factor: 84687135.0282486\n",
      "scale factor: 14.933140956571789\n"
     ]
    },
    {
     "data": {
      "text/plain": "<Figure size 2400x1200 with 4 Axes>",
      "image/png": "[encoded data removed]"
     },
     "metadata": {},
     "output_type": "display_data"
    },
    {
     "name": "stdout",
     "output_type": "stream",
     "text": [
      "plotted map\n",
      "--------------------\n",
      "\n",
      "2184.928083728814 m\n",
      "2582.9576183615823 m\n",
      "difference: -398.02953463276845 m\n"
     ]
    }
   ],
   "source": [
    "print(season, flight)\n",
    "cross_index = 0\n",
    "plot_layers_at_cross(layers, intersection_indices, intersection_points,zoom=False, refractive_index=my_refractive_index,cross_index=cross_index)\n",
    "\n",
    "\n",
    "# convert 25.8 microseconds to seconds\n",
    "time = 25.8 * 10 ** -6\n",
    "time2 = 30.5 * 10 ** -6\n",
    "\n",
    "print(f\"{twtt_to_depth(time, 1.77)} m\")\n",
    "print(f\"{twtt_to_depth(time2, 1.77)} m\")\n",
    "print(f\"difference: {twtt_to_depth(time, 1.77) - twtt_to_depth(time2, 1.77)} m\")"
   ]
  },
  {
   "cell_type": "code",
   "execution_count": 14,
   "outputs": [],
   "source": [
    "import cartopy.crs as ccrs\n",
    "import cartopy.feature as cfeature\n",
    "import iceflow_library as iceflow\n",
    "from iceflow_library import *"
   ],
   "metadata": {
    "collapsed": false,
    "ExecuteTime": {
     "end_time": "2023-12-18T18:05:13.730024400Z",
     "start_time": "2023-12-18T18:05:13.699989800Z"
    }
   },
   "id": "938ccba22162917f"
  },
  {
   "cell_type": "code",
   "execution_count": 15,
   "outputs": [
    {
     "name": "stdout",
     "output_type": "stream",
     "text": [
      "The iceflow data pickle file was not found. Creating a new one...\n"
     ]
    },
    {
     "ename": "FileNotFoundError",
     "evalue": "[Errno 2] No such file or directory: 'C:\\\\Users\\\\rj\\\\Documents\\\\cresis\\\\iceflow\\\\antarctic_ice_vel_phase_map_v01.nc'",
     "output_type": "error",
     "traceback": [
      "\u001B[1;31m---------------------------------------------------------------------------\u001B[0m",
      "\u001B[1;31mFileNotFoundError\u001B[0m                         Traceback (most recent call last)",
      "Cell \u001B[1;32mIn[15], line 2\u001B[0m\n\u001B[0;32m      1\u001B[0m \u001B[38;5;28;01mtry\u001B[39;00m:\n\u001B[1;32m----> 2\u001B[0m     iceflow_data \u001B[38;5;241m=\u001B[39m \u001B[43miceflow\u001B[49m\u001B[38;5;241;43m.\u001B[39;49m\u001B[43miceflow_data_file_loader\u001B[49m\u001B[43m(\u001B[49m\u001B[43m)\u001B[49m\n\u001B[0;32m      3\u001B[0m     \u001B[38;5;28mprint\u001B[39m(\u001B[38;5;124m\"\u001B[39m\u001B[38;5;124mThe iceflow data pickle file was found and loaded.\u001B[39m\u001B[38;5;124m\"\u001B[39m)\n",
      "File \u001B[1;32m~\\PycharmProjects\\cresis_project\\iceflow_library.py:27\u001B[0m, in \u001B[0;36miceflow_data_file_loader\u001B[1;34m()\u001B[0m\n\u001B[0;32m     21\u001B[0m \u001B[38;5;250m\u001B[39m\u001B[38;5;124;03m\"\"\"\u001B[39;00m\n\u001B[0;32m     22\u001B[0m \u001B[38;5;124;03mThis function is used to visualize the iceflow map in the file antarctic_ice_vel_phase_map_v01.nc which comes from\u001B[39;00m\n\u001B[0;32m     23\u001B[0m \u001B[38;5;124;03mMEaSUREs Phase-Based Antarctica Ice Velocity Map, Version 1. This file is a netCDF file, which is a file format\u001B[39;00m\n\u001B[0;32m     24\u001B[0m \u001B[38;5;124;03mthat is used to store multidimensional data. This file contains the ice flow velocity data for Antarctica.\u001B[39;00m\n\u001B[0;32m     25\u001B[0m \u001B[38;5;124;03m:return: the iceflow data in a readable format\u001B[39;00m\n\u001B[0;32m     26\u001B[0m \u001B[38;5;124;03m\"\"\"\u001B[39;00m\n\u001B[1;32m---> 27\u001B[0m iceflow_file \u001B[38;5;241m=\u001B[39m \u001B[43mDataset\u001B[49m\u001B[43m(\u001B[49m\u001B[38;5;124;43m\"\u001B[39;49m\u001B[38;5;124;43mC:\u001B[39;49m\u001B[38;5;130;43;01m\\\\\u001B[39;49;00m\u001B[38;5;124;43mUsers\u001B[39;49m\u001B[38;5;130;43;01m\\\\\u001B[39;49;00m\u001B[38;5;124;43mrj\u001B[39;49m\u001B[38;5;130;43;01m\\\\\u001B[39;49;00m\u001B[38;5;124;43mDocuments\u001B[39;49m\u001B[38;5;130;43;01m\\\\\u001B[39;49;00m\u001B[38;5;124;43mcresis\u001B[39;49m\u001B[38;5;130;43;01m\\\\\u001B[39;49;00m\u001B[38;5;124;43miceflow\u001B[39;49m\u001B[38;5;130;43;01m\\\\\u001B[39;49;00m\u001B[38;5;124;43mantarctic_ice_vel_phase_map_v01.nc\u001B[39;49m\u001B[38;5;124;43m\"\u001B[39;49m\u001B[43m,\u001B[49m\u001B[43m \u001B[49m\u001B[38;5;124;43m\"\u001B[39;49m\u001B[38;5;124;43mr\u001B[39;49m\u001B[38;5;124;43m\"\u001B[39;49m\u001B[43m)\u001B[49m\n\u001B[0;32m     29\u001B[0m \u001B[38;5;66;03m# print(iceflow_file.variables.keys())\u001B[39;00m\n\u001B[0;32m     30\u001B[0m \u001B[38;5;66;03m# print()\u001B[39;00m\n\u001B[0;32m     31\u001B[0m \n\u001B[1;32m   (...)\u001B[0m\n\u001B[0;32m     34\u001B[0m \n\u001B[0;32m     35\u001B[0m \u001B[38;5;66;03m# get the data\u001B[39;00m\n",
      "File \u001B[1;32msrc\\\\netCDF4\\\\_netCDF4.pyx:2469\u001B[0m, in \u001B[0;36mnetCDF4._netCDF4.Dataset.__init__\u001B[1;34m()\u001B[0m\n",
      "File \u001B[1;32msrc\\\\netCDF4\\\\_netCDF4.pyx:2028\u001B[0m, in \u001B[0;36mnetCDF4._netCDF4._ensure_nc_success\u001B[1;34m()\u001B[0m\n",
      "\u001B[1;31mFileNotFoundError\u001B[0m: [Errno 2] No such file or directory: 'C:\\\\Users\\\\rj\\\\Documents\\\\cresis\\\\iceflow\\\\antarctic_ice_vel_phase_map_v01.nc'",
      "\nDuring handling of the above exception, another exception occurred:\n",
      "\u001B[1;31mFileNotFoundError\u001B[0m                         Traceback (most recent call last)",
      "Cell \u001B[1;32mIn[15], line 6\u001B[0m\n\u001B[0;32m      4\u001B[0m \u001B[38;5;28;01mexcept\u001B[39;00m \u001B[38;5;167;01mFileNotFoundError\u001B[39;00m:\n\u001B[0;32m      5\u001B[0m     \u001B[38;5;28mprint\u001B[39m(\u001B[38;5;124m\"\u001B[39m\u001B[38;5;124mThe iceflow data pickle file was not found. Creating a new one...\u001B[39m\u001B[38;5;124m\"\u001B[39m)\n\u001B[1;32m----> 6\u001B[0m     filename \u001B[38;5;241m=\u001B[39m \u001B[43miceflow\u001B[49m\u001B[38;5;241;43m.\u001B[39;49m\u001B[43miceflow_saver\u001B[49m\u001B[43m(\u001B[49m\u001B[43m)\u001B[49m\n\u001B[0;32m      7\u001B[0m     iceflow_data \u001B[38;5;241m=\u001B[39m iceflow\u001B[38;5;241m.\u001B[39miceflow_loader(filename)\n\u001B[0;32m      8\u001B[0m     \u001B[38;5;28mprint\u001B[39m(\u001B[38;5;124m\"\u001B[39m\u001B[38;5;124mThe iceflow data pickle file was successfully created.\u001B[39m\u001B[38;5;124m\"\u001B[39m)\n",
      "File \u001B[1;32m~\\PycharmProjects\\cresis_project\\iceflow_library.py:51\u001B[0m, in \u001B[0;36miceflow_saver\u001B[1;34m()\u001B[0m\n\u001B[0;32m     46\u001B[0m \u001B[38;5;28;01mdef\u001B[39;00m \u001B[38;5;21miceflow_saver\u001B[39m():\n\u001B[0;32m     47\u001B[0m \u001B[38;5;250m    \u001B[39m\u001B[38;5;124;03m\"\"\"\u001B[39;00m\n\u001B[0;32m     48\u001B[0m \u001B[38;5;124;03m    This function is used to save the iceflow data to a pickle file.\u001B[39;00m\n\u001B[0;32m     49\u001B[0m \u001B[38;5;124;03m    :return: the file name of the pickle file that the iceflow data was saved to\u001B[39;00m\n\u001B[0;32m     50\u001B[0m \u001B[38;5;124;03m    \"\"\"\u001B[39;00m\n\u001B[1;32m---> 51\u001B[0m     x, y, velocity_x, velocity_y, latitude, longitude \u001B[38;5;241m=\u001B[39m \u001B[43miceflow_data_file_loader\u001B[49m\u001B[43m(\u001B[49m\u001B[43m)\u001B[49m\n\u001B[0;32m     52\u001B[0m     iceflow_data \u001B[38;5;241m=\u001B[39m [x, y, velocity_x, velocity_y, latitude, longitude]\n\u001B[0;32m     54\u001B[0m     pickle_file_name \u001B[38;5;241m=\u001B[39m \u001B[38;5;124m\"\u001B[39m\u001B[38;5;124miceflow_data.pickle\u001B[39m\u001B[38;5;124m\"\u001B[39m\n",
      "File \u001B[1;32m~\\PycharmProjects\\cresis_project\\iceflow_library.py:27\u001B[0m, in \u001B[0;36miceflow_data_file_loader\u001B[1;34m()\u001B[0m\n\u001B[0;32m     20\u001B[0m \u001B[38;5;28;01mdef\u001B[39;00m \u001B[38;5;21miceflow_data_file_loader\u001B[39m():\n\u001B[0;32m     21\u001B[0m \u001B[38;5;250m    \u001B[39m\u001B[38;5;124;03m\"\"\"\u001B[39;00m\n\u001B[0;32m     22\u001B[0m \u001B[38;5;124;03m    This function is used to visualize the iceflow map in the file antarctic_ice_vel_phase_map_v01.nc which comes from\u001B[39;00m\n\u001B[0;32m     23\u001B[0m \u001B[38;5;124;03m    MEaSUREs Phase-Based Antarctica Ice Velocity Map, Version 1. This file is a netCDF file, which is a file format\u001B[39;00m\n\u001B[0;32m     24\u001B[0m \u001B[38;5;124;03m    that is used to store multidimensional data. This file contains the ice flow velocity data for Antarctica.\u001B[39;00m\n\u001B[0;32m     25\u001B[0m \u001B[38;5;124;03m    :return: the iceflow data in a readable format\u001B[39;00m\n\u001B[0;32m     26\u001B[0m \u001B[38;5;124;03m    \"\"\"\u001B[39;00m\n\u001B[1;32m---> 27\u001B[0m     iceflow_file \u001B[38;5;241m=\u001B[39m \u001B[43mDataset\u001B[49m\u001B[43m(\u001B[49m\u001B[38;5;124;43m\"\u001B[39;49m\u001B[38;5;124;43mC:\u001B[39;49m\u001B[38;5;130;43;01m\\\\\u001B[39;49;00m\u001B[38;5;124;43mUsers\u001B[39;49m\u001B[38;5;130;43;01m\\\\\u001B[39;49;00m\u001B[38;5;124;43mrj\u001B[39;49m\u001B[38;5;130;43;01m\\\\\u001B[39;49;00m\u001B[38;5;124;43mDocuments\u001B[39;49m\u001B[38;5;130;43;01m\\\\\u001B[39;49;00m\u001B[38;5;124;43mcresis\u001B[39;49m\u001B[38;5;130;43;01m\\\\\u001B[39;49;00m\u001B[38;5;124;43miceflow\u001B[39;49m\u001B[38;5;130;43;01m\\\\\u001B[39;49;00m\u001B[38;5;124;43mantarctic_ice_vel_phase_map_v01.nc\u001B[39;49m\u001B[38;5;124;43m\"\u001B[39;49m\u001B[43m,\u001B[49m\u001B[43m \u001B[49m\u001B[38;5;124;43m\"\u001B[39;49m\u001B[38;5;124;43mr\u001B[39;49m\u001B[38;5;124;43m\"\u001B[39;49m\u001B[43m)\u001B[49m\n\u001B[0;32m     29\u001B[0m     \u001B[38;5;66;03m# print(iceflow_file.variables.keys())\u001B[39;00m\n\u001B[0;32m     30\u001B[0m     \u001B[38;5;66;03m# print()\u001B[39;00m\n\u001B[0;32m     31\u001B[0m \n\u001B[1;32m   (...)\u001B[0m\n\u001B[0;32m     34\u001B[0m \n\u001B[0;32m     35\u001B[0m     \u001B[38;5;66;03m# get the data\u001B[39;00m\n\u001B[0;32m     36\u001B[0m     x \u001B[38;5;241m=\u001B[39m iceflow_file\u001B[38;5;241m.\u001B[39mvariables[\u001B[38;5;124m'\u001B[39m\u001B[38;5;124mx\u001B[39m\u001B[38;5;124m'\u001B[39m][:]\n",
      "File \u001B[1;32msrc\\\\netCDF4\\\\_netCDF4.pyx:2469\u001B[0m, in \u001B[0;36mnetCDF4._netCDF4.Dataset.__init__\u001B[1;34m()\u001B[0m\n",
      "File \u001B[1;32msrc\\\\netCDF4\\\\_netCDF4.pyx:2028\u001B[0m, in \u001B[0;36mnetCDF4._netCDF4._ensure_nc_success\u001B[1;34m()\u001B[0m\n",
      "\u001B[1;31mFileNotFoundError\u001B[0m: [Errno 2] No such file or directory: 'C:\\\\Users\\\\rj\\\\Documents\\\\cresis\\\\iceflow\\\\antarctic_ice_vel_phase_map_v01.nc'"
     ]
    }
   ],
   "source": [
    "try:\n",
    "    iceflow_data = iceflow.iceflow_data_file_loader()\n",
    "    print(\"The iceflow data pickle file was found and loaded.\")\n",
    "except FileNotFoundError:\n",
    "    print(\"The iceflow data pickle file was not found. Creating a new one...\")\n",
    "    filename = iceflow.iceflow_saver()\n",
    "    iceflow_data = iceflow.iceflow_loader(filename)\n",
    "    print(\"The iceflow data pickle file was successfully created.\")\n",
    "\n",
    "print(f\"Iceflow data array layout is 0:x, 1:y, 2:v_x, 3:v_y, 4:latitude, 5:longitude\")"
   ],
   "metadata": {
    "collapsed": false,
    "ExecuteTime": {
     "end_time": "2023-12-18T18:05:13.788942100Z",
     "start_time": "2023-12-18T18:05:13.733024200Z"
    }
   },
   "id": "be0582f104e27a3"
  },
  {
   "cell_type": "code",
   "execution_count": null,
   "outputs": [],
   "source": [
    "# find the nearest iceflow data point to the crossover point\n",
    "# print(f\"intersection_points[0]: {intersection_points[0]}\")\n",
    "x_lat = intersection_points[0][0]\n",
    "y_lon = intersection_points[0][1]\n",
    "print(f\"x_lat: {x_lat}, y_lon: {y_lon}\")\n",
    "\n",
    "# convert the crossover point lat-lon to polar stereographic\n",
    "from pyproj import Transformer\n",
    "polar_stereo_format = \"EPSG:3031\"  # the polar stereographic projection for Antarctica\n",
    "lat_lon_format = \"EPSG:4326\"  # the lat-lon projection\n",
    "transformer = Transformer.from_crs(lat_lon_format, polar_stereo_format)\n",
    "point = transformer.transform(x_lat, y_lon)\n",
    "x_point = point[0]\n",
    "y_point = point[1]\n",
    "print(f\"type of x_point: {type(x_point)}\")\n",
    "# print the nearest x and y iceflow data points to the crossover point\n",
    "closest_x_y = find_nearest_x_and_y(x_point, y_point, iceflow_data)\n",
    "print(f\"closest_x_y: {closest_x_y}\")\n",
    "# print the iceflow data at the nearest x and y points\n",
    "print(iceflow_data[4][closest_x_y[0]][closest_x_y[1]])\n",
    "print(iceflow_data[5][closest_x_y[0]][closest_x_y[1]])"
   ],
   "metadata": {
    "collapsed": false,
    "ExecuteTime": {
     "start_time": "2023-12-18T18:05:13.769941900Z"
    }
   },
   "id": "f8b6ab08eb85c742"
  },
  {
   "cell_type": "code",
   "execution_count": 15,
   "outputs": [],
   "source": [],
   "metadata": {
    "collapsed": false,
    "ExecuteTime": {
     "end_time": "2023-12-18T18:05:13.809111300Z",
     "start_time": "2023-12-18T18:05:13.791602400Z"
    }
   },
   "id": "cbba0165d95b88d5"
  },
  {
   "cell_type": "code",
   "execution_count": 15,
   "outputs": [],
   "source": [],
   "metadata": {
    "collapsed": false,
    "ExecuteTime": {
     "end_time": "2023-12-18T18:05:13.839872800Z",
     "start_time": "2023-12-18T18:05:13.810851900Z"
    }
   },
   "id": "f573c6b100bf3ba9"
  },
  {
   "cell_type": "code",
   "execution_count": 15,
   "outputs": [],
   "source": [],
   "metadata": {
    "collapsed": false,
    "ExecuteTime": {
     "end_time": "2023-12-18T18:05:13.865292600Z",
     "start_time": "2023-12-18T18:05:13.839872800Z"
    }
   },
   "id": "1860b21be92b8868"
  },
  {
   "cell_type": "code",
   "execution_count": null,
   "outputs": [],
   "source": [],
   "metadata": {
    "collapsed": false
   },
   "id": "c5f8a1ab2538cc9b"
  },
  {
   "cell_type": "code",
   "execution_count": null,
   "id": "ced39fee086ed207",
   "metadata": {
    "collapsed": false
   },
   "outputs": [],
   "source": [
    "cross_index = 2\n",
    "plot_layers_at_cross(layers, intersection_indices, intersection_points,zoom=zoom, refractive_index=my_refractive_index,cross_index=cross_index)"
   ]
  },
  {
   "cell_type": "code",
   "execution_count": null,
   "id": "c7655805c04d1c82",
   "metadata": {
    "collapsed": false
   },
   "outputs": [],
   "source": [
    "# TODO: now that everything is in the library file -> look at the plot_layers_at_cross function and see if the corrected\n",
    "    # layer portion is something that should be its own function and if it needs to be part of the posit object that is\n",
    "    # being saved."
   ]
  },
  {
   "cell_type": "code",
   "execution_count": null,
   "id": "1068dfeb3fa8631",
   "metadata": {
    "collapsed": false
   },
   "outputs": [],
   "source": [
    "# find the difference in lat-lon between each of the 4 points in the crossover\n"
   ]
  },
  {
   "cell_type": "code",
   "execution_count": null,
   "id": "aadb6fda4d39a481",
   "metadata": {
    "collapsed": false
   },
   "outputs": [],
   "source": []
  }
 ],
 "metadata": {
  "kernelspec": {
   "display_name": "Python 3 (ipykernel)",
   "language": "python",
   "name": "python3"
  },
  "language_info": {
   "codemirror_mode": {
    "name": "ipython",
    "version": 3
   },
   "file_extension": ".py",
   "mimetype": "text/x-python",
   "name": "python",
   "nbconvert_exporter": "python",
   "pygments_lexer": "ipython3",
   "version": "3.10.4"
  }
 },
 "nbformat": 4,
 "nbformat_minor": 5
}

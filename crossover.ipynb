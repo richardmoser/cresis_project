{
 "cells": [
  {
   "cell_type": "markdown",
   "id": "c2dfc15635b07850",
   "metadata": {
    "collapsed": false
   },
   "source": [
    "# TODO:\n",
    "### 24Oct23 - 31Oct23\n",
    "- use lat-lon for distance and make that the x axis of the layer\n",
    "    - distance from... what exactly?\n",
    "        - the exact placement of $d_0$ may not actually matter as long as it is noted on the plot that it is arbitrary (or however it is actually placed)\n",
    "            - i.e. it is only useful for showing scale\n",
    "    - this would put the plot in meters on both axes if reading the right side y axis scale\n",
    "- get the distance between crossover points\n",
    "    - *GPS time is not a useful measure of ~distance~ anything*\n",
    "    - use the lat-lon coordinates to get the distance between points\n",
    "        - i.e. get the 4 endpoints of the 2 segments and use the distance between them\n",
    "    - **distance between points in the 2018 Antarctica DC8 20181030_01 flight is about 14.9m**\n",
    "        - need to make distance step a variable that is read from this because it may change flight to flight\n",
    "- find the slope in both directions across the segments\n",
    "    - probably want to go out a bit from the crossover point to get a better slope\n",
    "        - e.g. 2 or 3x crossover point distance\n",
    "    - may have to normalize the slope if jagged\n",
    "- find the plane heading on each segment\n",
    "    - check for point to point consistency - wandering gps\n",
    "        - i.e. make sure that the points in the segment are actually in a straight line with the surrounding points\n",
    "        - can probably implement an if statement for this\n",
    "            - `if heading(segment) ~= heading(segment + a_few_points_either_end), then segment is straight`\n",
    "            - `else, use heading(segment + a_few_points_either_end)`\n"
   ]
  },
  {
   "cell_type": "code",
   "execution_count": 1,
   "id": "initial_id",
   "metadata": {
    "collapsed": true,
    "jupyter": {
     "outputs_hidden": true
    },
    "ExecuteTime": {
     "end_time": "2023-11-06T21:29:04.021240100Z",
     "start_time": "2023-11-06T21:29:01.350243700Z"
    }
   },
   "outputs": [],
   "source": [
    "import math\n",
    "from layer_class import Twtt_Posit\n",
    "from library import *"
   ]
  },
  {
   "cell_type": "code",
   "execution_count": 2,
   "id": "8c194ffbeabd931b",
   "metadata": {
    "collapsed": false,
    "ExecuteTime": {
     "end_time": "2023-11-06T21:29:04.024237900Z",
     "start_time": "2023-11-06T21:29:03.956239500Z"
    }
   },
   "outputs": [],
   "source": [
    "zoom = False \n",
    "# zoom = True\n",
    "seg_length = 100\n",
    "season = \"2018_Antarctica_DC8\"\n",
    "# season = \"2016_Antarctica_DC8\"\n",
    "flight = \"20181030_01\"  # the flight date and frame number\n",
    "# flight = \"20181103_01\"\n",
    "# flight = \"20181112_02\"\n",
    "# flight = \"20161024_05\"\n",
    "file_name = \"layer_export_\" + flight + \".pickle\"\n",
    "\n",
    "# TODO: make map plotter center on crossover point n. default to centering on the first crossover point if no n is given\n",
    "# TODO: choose a crossover point or save the data for them or something. Do we already do this? Probably. Very tired.\n",
    "    # Who is this we?"
   ]
  },
  {
   "cell_type": "code",
   "execution_count": 3,
   "id": "49548c348d597a15",
   "metadata": {
    "collapsed": false,
    "ExecuteTime": {
     "end_time": "2023-11-06T21:29:08.593240600Z",
     "start_time": "2023-11-06T21:29:03.969242800Z"
    }
   },
   "outputs": [
    {
     "name": "stdout",
     "output_type": "stream",
     "text": [
      "Reading pickle file...\n",
      "--------------------\n",
      "Surface\n",
      "Bottom\n",
      "Test\n",
      "--------------------\n",
      "\n",
      "Finding crossover point...\n",
      "--------------------\n",
      "Dividing the path into segments of length 100...\n",
      "Number of segments: 547\n",
      "Checking for intersections...\n",
      "Segments 54 and 122 intersect near (-87.97980253666243, -130.00293379604554)\n",
      "\n",
      "Checking for a more precise intersection...\n",
      "segment 54 start: 5400, segment 1 end: 5500\n",
      "segment 122 start: 12200, segment 2 end: 12300\n",
      "Segments 54 and 122 intersect near indices 5481 and 12389\n",
      "This corresponds roughly to the lat-lon: (-87.97979626378307, -130.00290123313295)\n",
      "Number of intersections: 1\n",
      "Number of rough intersections: 1\n",
      "Number of intersection indices: 1\n",
      "Indices: [[5481, 12389]]\n",
      "Index: [5481, 12389]\n",
      "--------------------\n",
      "\n",
      "Saving posit...\n",
      "--------------------\n",
      "posit.pickle saved in local directory of this python file.\n",
      "--------------------\n"
     ]
    }
   ],
   "source": [
    "layers = read_layers(file_name)  # read in the layers from the pickle file\n",
    "\n",
    "intersection_points, intersection_indices, segment_ends = cross_point(layers[0], seg_length, quiet=False)\n",
    "# find the crossover points\n",
    "\n",
    "posit = Twtt_Posit(layers[1], season, flight, intersection_indices)\n",
    "# create a Twtt_Posit object to store the crossover point data\n",
    "# print(f\"posit.layer_name: {posit.layer_name}\")\n",
    "\n",
    "save_posit(posit)"
   ]
  },
  {
   "cell_type": "code",
   "execution_count": 4,
   "id": "5a5504f8442047f0",
   "metadata": {
    "ExecuteTime": {
     "end_time": "2023-11-06T16:32:09.843605800Z",
     "start_time": "2023-11-06T16:32:09.730619200Z"
    },
    "collapsed": false
   },
   "outputs": [],
   "source": [
    "def gps_time_to_seconds(gps_time):\n",
    "    \"\"\"\n",
    "    :param gps_time: the gps time in seconds\n",
    "    :return: the gps time in seconds\n",
    "    \"\"\"\n",
    "    return gps_time * 10 ** -9"
   ]
  },
  {
   "cell_type": "code",
   "execution_count": 7,
   "id": "b8be6a337daee413",
   "metadata": {
    "collapsed": false,
    "ExecuteTime": {
     "end_time": "2023-11-06T21:31:30.463625500Z",
     "start_time": "2023-11-06T21:31:30.443998400Z"
    }
   },
   "outputs": [
    {
     "name": "stdout",
     "output_type": "stream",
     "text": [
      "1540923785.6594396\n"
     ]
    }
   ],
   "source": [
    "print(layers[0].gps_time[0])\n",
    "# time is epoch seconds from 1970"
   ]
  },
  {
   "cell_type": "code",
   "execution_count": 4,
   "id": "63b34a3a1797a4dd",
   "metadata": {
    "collapsed": false,
    "ExecuteTime": {
     "end_time": "2023-11-06T21:29:09.023239600Z",
     "start_time": "2023-11-06T21:29:08.591243600Z"
    }
   },
   "outputs": [
    {
     "ename": "NameError",
     "evalue": "name 'gps_time_to_seconds' is not defined",
     "output_type": "error",
     "traceback": [
      "\u001B[1;31m---------------------------------------------------------------------------\u001B[0m",
      "\u001B[1;31mNameError\u001B[0m                                 Traceback (most recent call last)",
      "Cell \u001B[1;32mIn[4], line 10\u001B[0m\n\u001B[0;32m      1\u001B[0m \u001B[38;5;66;03m# print(f\"Segment ends: \\n{segment_ends}\\n\")\u001B[39;00m\n\u001B[0;32m      2\u001B[0m \u001B[38;5;66;03m# latlon_dist(segment_ends[0][0][0], segment_ends[0][0][1])\u001B[39;00m\n\u001B[0;32m      3\u001B[0m \u001B[38;5;66;03m# latlon_dist(segment_ends[0][1][0], segment_ends[0][1][1])\u001B[39;00m\n\u001B[1;32m   (...)\u001B[0m\n\u001B[0;32m      8\u001B[0m \n\u001B[0;32m      9\u001B[0m \u001B[38;5;66;03m# find the plane's velocity in m/s using the distance between the endpoints and the time between the endpoints\u001B[39;00m\n\u001B[1;32m---> 10\u001B[0m time1 \u001B[38;5;241m=\u001B[39m \u001B[43mgps_time_to_seconds\u001B[49m(layers[\u001B[38;5;241m0\u001B[39m]\u001B[38;5;241m.\u001B[39mgps_time[intersection_indices[\u001B[38;5;241m0\u001B[39m][\u001B[38;5;241m0\u001B[39m]])\n\u001B[0;32m     11\u001B[0m time2 \u001B[38;5;241m=\u001B[39m gps_time_to_seconds(layers[\u001B[38;5;241m0\u001B[39m]\u001B[38;5;241m.\u001B[39mgps_time[intersection_indices[\u001B[38;5;241m0\u001B[39m][\u001B[38;5;241m1\u001B[39m]])\n\u001B[0;32m     12\u001B[0m \u001B[38;5;28mprint\u001B[39m(\u001B[38;5;124mf\u001B[39m\u001B[38;5;124m\"\u001B[39m\u001B[38;5;124mtime1: \u001B[39m\u001B[38;5;132;01m{\u001B[39;00mtime1\u001B[38;5;132;01m}\u001B[39;00m\u001B[38;5;124m, time2: \u001B[39m\u001B[38;5;132;01m{\u001B[39;00mtime2\u001B[38;5;132;01m}\u001B[39;00m\u001B[38;5;124m\"\u001B[39m)\n",
      "\u001B[1;31mNameError\u001B[0m: name 'gps_time_to_seconds' is not defined"
     ]
    }
   ],
   "source": [
    "# print(f\"Segment ends: \\n{segment_ends}\\n\")\n",
    "# latlon_dist(segment_ends[0][0][0], segment_ends[0][0][1])\n",
    "# latlon_dist(segment_ends[0][1][0], segment_ends[0][1][1])\n",
    "# print(f\"Distance between segment 1 endpoints: {round(latlon_dist(segment_ends[0][0][0], segment_ends[0][0][1]),2)} m\")\n",
    "# print(f\"Distance between segment 2 endpoints: {round(latlon_dist(segment_ends[0][1][0], segment_ends[0][1][1]),2)} m\")\n",
    "\n",
    "# print(layers[0].gps_time[intersection_indices[0][0]])\n",
    "\n",
    "# find the plane's velocity in m/s using the distance between the endpoints and the time between the endpoints\n",
    "time1 = gps_time_to_seconds(layers[0].gps_time[intersection_indices[0][0]])\n",
    "time2 = gps_time_to_seconds(layers[0].gps_time[intersection_indices[0][1]])\n",
    "print(f\"time1: {time1}, time2: {time2}\")\n",
    "d_time = time2 - time1\n",
    "print(f\"Time between segment 1 endpoints: {d_time} s\")\n",
    "dist = latlon_dist(segment_ends[0][0][0], segment_ends[0][0][1])\n",
    "print(f\"Distance between segment 1 endpoints: {round(dist,2)} m\")\n",
    "vel = dist / d_time\n",
    "print(f\"Plane velocity: {round(vel,2)} m/s\")\n",
    "\n",
    "\n",
    "# vel_ms, vel_kh = plane_velocity(segment_ends[0][0][0], segment_ends[0][0][1], time1,time2)\n",
    "\n",
    "\n",
    "# print(f\"Plane velocity: {round(vel_ms,2)} m/s or {round(vel_kh,2)} km/h\")\n",
    "\n",
    "\n",
    "# print(layers[1].layer_name)\n",
    "slope = slope_around_index(layers[1], intersection_indices[0][0], 2)\n",
    "print(f\"{round(slope,2)}\")"
   ]
  },
  {
   "cell_type": "code",
   "execution_count": 40,
   "id": "e67fdf447e0fad49",
   "metadata": {
    "ExecuteTime": {
     "end_time": "2023-10-31T16:15:11.259693600Z",
     "start_time": "2023-10-31T16:15:11.217916Z"
    },
    "collapsed": false
   },
   "outputs": [
    {
     "name": "stdout",
     "output_type": "stream",
     "text": [
      "Comparing my depth to CReSIS depth...\n",
      "--------------------\n",
      "twtt difference at crossover point: -1.5131660511637695e-07 ns\n",
      "depth at crossover point 0 on segment 1: 2701.0368867503407 m\n",
      "depth at crossover point 0 on segment 2: 2713.8514565198475 m\n",
      "difference: -12.814569769506761 m\n",
      "depth at crossover point 1 on segment 1: 2923.8402742772882 m\n",
      "depth at crossover point 1 on segment 2: 2931.453882025299 m\n",
      "difference: -7.613607748010963 m\n",
      "depth at crossover point 2 on segment 1: nan m\n",
      "depth at crossover point 2 on segment 2: nan m\n",
      "difference: nan m\n",
      "depth at crossover point 3 on segment 1: 2826.3315070057624 m\n",
      "depth at crossover point 3 on segment 2: 2781.953713377351 m\n",
      "difference: 44.37779362841138 m\n",
      "depth at crossover point 4 on segment 1: 1559.4255870469394 m\n",
      "depth at crossover point 4 on segment 2: 1573.074077207646 m\n",
      "difference: -13.648490160706615 m\n",
      "depth at crossover point 5 on segment 1: 282.21367970766346 m\n",
      "depth at crossover point 5 on segment 2: 271.0696894612235 m\n",
      "difference: 11.143990246439955 m\n",
      "depth at crossover point 6 on segment 1: 889.9596880662303 m\n",
      "depth at crossover point 6 on segment 2: 460.58128916672035 m\n",
      "difference: 429.37839889951 m\n",
      "depth at crossover point 7 on segment 1: 3173.63344775661 m\n",
      "depth at crossover point 7 on segment 2: nan m\n",
      "difference: nan m\n",
      "depth at crossover point 8 on segment 1: 2745.031744077645 m\n",
      "depth at crossover point 8 on segment 2: 2740.3743956715653 m\n",
      "difference: 4.657348406079564 m\n",
      "depth at crossover point 9 on segment 1: 2821.419467967287 m\n",
      "depth at crossover point 9 on segment 2: 2954.1613961369403 m\n",
      "difference: -132.74192816965342 m\n",
      "crossover point lat-long: [-81.11805741453195, -29.734744400231527]\n"
     ]
    }
   ],
   "source": [
    "\"\"\"\n",
    "Clean this up and put it in a function in the library file (?)\n",
    "\"\"\"\n",
    "\n",
    "print(\"Comparing my depth to CReSIS depth...\")\n",
    "print(\"--------------------\")\n",
    "twtt_at_intersect = twtt_at_point(layers[1], layers[0], intersection_indices, quiet=True)\n",
    "# find the twtt at the crossover points\n",
    "twtt_difference_at_intersect = twtt_at_intersect[0][0] - twtt_at_intersect[0][1]\n",
    "# find the difference in twtt at the crossover points\n",
    "print(f\"twtt difference at crossover point: {twtt_difference_at_intersect} ns\")\n",
    "\n",
    "my_refractive_index = 1.77\n",
    "# my_depth_1 = twtt_to_depth(twtt_at_intersect[0][0], my_refractive_index)\n",
    "# my_depth_2 = twtt_to_depth(twtt_at_intersect[0][1], my_refractive_index)\n",
    "#\n",
    "# print(f\"By my refractive index: {my_refractive_index}\")\n",
    "# print(f\"depth at crossover point on segment 1: {my_depth_1} m\")\n",
    "# print(f\"depth at crossover point on segment 2: {my_depth_2} m\")\n",
    "# print(f\"difference: {my_depth_1 - my_depth_2} m\")\n",
    "\n",
    "# loop through all intersections and print the depth at each\n",
    "for i in range(len(intersection_indices)):\n",
    "    my_depth_1 = twtt_to_depth(twtt_at_intersect[i][0], my_refractive_index)\n",
    "    my_depth_2 = twtt_to_depth(twtt_at_intersect[i][1], my_refractive_index)\n",
    "    print(f\"depth at crossover point {i} on segment 1: {my_depth_1} m\")\n",
    "    print(f\"depth at crossover point {i} on segment 2: {my_depth_2} m\")\n",
    "    print(f\"difference: {my_depth_1 - my_depth_2} m\")\n",
    "\n",
    "print(f\"crossover point lat-long: {intersection_points[0]}\")"
   ]
  },
  {
   "cell_type": "code",
   "execution_count": 41,
   "id": "a5a5ef3488929da9",
   "metadata": {
    "ExecuteTime": {
     "end_time": "2023-10-31T16:15:11.260965100Z",
     "start_time": "2023-10-31T16:15:11.233448800Z"
    },
    "collapsed": false
   },
   "outputs": [
    {
     "name": "stdout",
     "output_type": "stream",
     "text": [
      "By CReSIS refractive index: 1.7748239349298849\n",
      "depth at crossover point on segment 1: 2693.6955240785455 m\n",
      "depth at crossover point on segment 2: 2706.475264111138 m\n",
      "--------------------\n"
     ]
    },
    {
     "data": {
      "text/plain": [
       "'\\nEnd of the cleanup (for now)\\n'"
      ]
     },
     "execution_count": 41,
     "metadata": {},
     "output_type": "execute_result"
    }
   ],
   "source": [
    "cresis_refractive_index = math.sqrt(3.15)\n",
    "# cresis_refractive_index = 1.785\n",
    "cresis_depth_1 = twtt_to_depth(twtt_at_intersect[0][0], cresis_refractive_index)\n",
    "cresis_depth_2 = twtt_to_depth(twtt_at_intersect[0][1], cresis_refractive_index)\n",
    "\n",
    "print(f\"By CReSIS refractive index: {cresis_refractive_index}\")\n",
    "print(f\"depth at crossover point on segment 1: {cresis_depth_1} m\")\n",
    "print(f\"depth at crossover point on segment 2: {cresis_depth_2} m\")\n",
    "print(section_break)\n",
    "\"\"\"\n",
    "End of the cleanup (for now)\n",
    "\"\"\""
   ]
  },
  {
   "cell_type": "code",
   "execution_count": 42,
   "id": "1b12cd14470c7932",
   "metadata": {
    "ExecuteTime": {
     "end_time": "2023-10-31T16:15:11.298078300Z",
     "start_time": "2023-10-31T16:15:11.263466Z"
    },
    "collapsed": false
   },
   "outputs": [],
   "source": [
    "def plot_layers_at_cross(layers, intersection_indices, intersection_points, zoom=False, refractive_index=1.77, cross_index=0):\n",
    "    \"\"\"\n",
    "    :param layers: a list of Layer objects\n",
    "    :param intersection_indices: a list of indices in the lat-lon arrays where the flight path\n",
    "    crosses over itself\n",
    "    :param intersection_points: a list of lat-lon points where the flight path crosses over itself\n",
    "    :return: nothing (plots the layers and the map)\n",
    "    \"\"\"\n",
    "    plt.figure(figsize=(24, 12), layout='tight')\n",
    "    print(\"Plotting layers and map...\")\n",
    "    print(\"--------------------\")\n",
    "    print(\"Adjusting for surface twtt...\")\n",
    "    for layer in layers:\n",
    "        corrected_layer = layer.twtt - layers[0].twtt\n",
    "        layer.twtt_corrected = corrected_layer\n",
    "\n",
    "    # ax2 will be the layer plot\n",
    "    plt.subplot(1, 2, 1)\n",
    "\n",
    "    # plot the layer depths vs index for 500 points before and after the first\n",
    "    # crossover point for each layer.\n",
    "    # also plot the layer depths vs index for 500 points before and after the\n",
    "    # second crossover point for each layer.\n",
    "    offset = 500\n",
    "    # plot the corrected twtt for each layer\n",
    "    plt.plot(layers[0].twtt_corrected[intersection_indices[0][0] - offset:intersection_indices[cross_index][0] + offset],\n",
    "             label=layers[0].layer_name)\n",
    "    plt.plot(layers[1].twtt_corrected[intersection_indices[0][0] - offset:intersection_indices[cross_index][0] + offset],\n",
    "             label=layers[1].layer_name + ' segment 1')\n",
    "    plt.plot(layers[1].twtt_corrected[intersection_indices[0][1] - offset:intersection_indices[cross_index][1] + offset],\n",
    "             label=layers[1].layer_name + ' segment 2')\n",
    "\n",
    "    # plot uncorrected twtt for each layer\n",
    "    # plt.plot(layers[0].twtt[intersection_indices[0][0] - offset:intersection_indices[0][0] + offset],\n",
    "    #             label=layers[0].layer_name)\n",
    "    # plt.plot(layers[1].twtt[intersection_indices[0][0] - offset:intersection_indices[0][0] + offset],\n",
    "    #             label=layers[1].layer_name + ' segment 1')\n",
    "    # plt.plot(layers[1].twtt[intersection_indices[0][1] - offset:intersection_indices[0][1] + offset],\n",
    "                # label=layers[1].layer_name + ' segment 2')\n",
    "\n",
    "\n",
    "    # invert the y-axis because the twtt increases with depth\n",
    "    plt.gca().invert_yaxis()\n",
    "    # plot the crossover point on the plot\n",
    "    plt.scatter(offset, twtt_at_point(layers[1], layers[0],\n",
    "                                      intersection_indices, quiet=True)[0][0], color='red',\n",
    "                label='X Point 1')\n",
    "    plt.scatter(offset, twtt_at_point(layers[1], layers[0],\n",
    "                                      intersection_indices, quiet=True)[0][1], color='green',\n",
    "                label='X Point 2')\n",
    "    # plot a line at the crossover point\n",
    "    plt.axvline(x=offset, color='black', label='X Point', linestyle='--', linewidth=0.3)\n",
    "\n",
    "    # set the y axis to be in nanoseconds instead of seconds\n",
    "    plt.ylabel(\"Adjusted Two Way Travel Time (ns)\")\n",
    "    plt.xlabel(\"Index\")\n",
    "\n",
    "    # force the y values to be displayed in 1e-6 ticks (microseconds) instead of 1e-5 ticks (tens of microseconds)\n",
    "    plt.ticklabel_format(style='sci', axis='y', scilimits=(0, 0), useMathText=True)\n",
    "\n",
    "    def s_to_ms(x, pos):\n",
    "        \"\"\"\n",
    "        :param x: the x value\n",
    "        :param pos: the position\n",
    "        :return: the x value in milliseconds\n",
    "        \"\"\"\n",
    "        return '%1.1f' % (x * 1e6)\n",
    "\n",
    "    # set the y axis to be in microseconds instead of seconds\n",
    "    plt.gca().yaxis.set_major_formatter(plt.FuncFormatter(s_to_ms))\n",
    "\n",
    "    # make the right side y axis show the depth in meters by converting the twtt to depth using the refractive index\n",
    "    min_y, max_y = plt.ylim()\n",
    "    n = refractive_index\n",
    "    c = 299792458  # m/s\n",
    "    v = c / n\n",
    "    # depth = twtt * v / 2\n",
    "    scale_factor = v / 2\n",
    "    print(f\"scale factor: {scale_factor}\")\n",
    "    plt.twinx()\n",
    "    plt.ylim(min_y * scale_factor, max_y * scale_factor)\n",
    "    plt.ylabel(\"Depth (m)\")\n",
    "    \n",
    "    # make the top of the x axis be the distance in meters by converting the lat-lon to distance using the haversine formula\n",
    "    min_x, max_x = plt.xlim()\n",
    "    scale_factor = latlon_dist((layers[0].lat[0], layers[0].lon[0]), (layers[0].lat[1], layers[0].lon[1]))\n",
    "    print(f\"scale factor: {scale_factor}\")\n",
    "    plt.twiny()\n",
    "    plt.xlim(min_x * scale_factor, max_x * scale_factor)\n",
    "    plt.xlabel(\"Distance (m)\")\n",
    "    \n",
    "\n",
    "    plt.title(\"Adjusted Two Way Travel Time vs Index\")\n",
    "    plt.legend()\n",
    "\n",
    "    \"\"\"\n",
    "    plot the map\n",
    "    \"\"\"\n",
    "    plt.subplot(1, 2, 2)\n",
    "\n",
    "    # TODO: make the right pane a zoomed in map centered around the X point\n",
    "    #  with a small zoomed out map in the corner\n",
    "    # TODO: adjust time scale to be in nanoseconds instead of seconds\n",
    "    # zoom_out_to_continent = False\n",
    "\n",
    "\n",
    "    # # this code sets up a polar stereographic map of antarctica with the South Pole in the center\n",
    "    # zoom_out_to_continent = not zoom\n",
    "    # if zoom_out_to_continent:\n",
    "    #     bound_lat = -65\n",
    "    # else:\n",
    "    #     bound_lat = -87\n",
    "    # # plot the lat-lon map for one of the layers in antarctica\n",
    "    # # print(\"Plotting lat-lon map...\")\n",
    "    # # print(\"--------------------\")\n",
    "    # m = Basemap(projection='spstere', boundinglat=bound_lat, lon_0=180, resolution='l')\n",
    "    # m.drawcoastlines()\n",
    "    # m.fillcontinents(color='grey', lake_color='aqua')\n",
    "    # m.drawparallels(np.arange(-80., 81., 20.))\n",
    "    # m.drawmeridians(np.arange(-180., 181., 20.))\n",
    "    # m.drawmapboundary(fill_color='aqua')\n",
    "    \n",
    "\n",
    "    # make m a plot of the lat-lon map for one of the layers in antarctica centered around the crossover point\n",
    "    # m should be an orthographic map centered around the crossover point\n",
    "    # print(\"Plotting lat-lon map...\")\n",
    "    # print(\"--------------------\")\n",
    "    lat_0 = intersection_points[cross_index][0]\n",
    "    lon_0 = intersection_points[cross_index][1]\n",
    "    m = Basemap(projection='ortho', lat_0=lat_0, lon_0=lon_0, llcrnrx=-100000, llcrnry=-100000, urcrnrx=100000, urcrnry=100000, \n",
    "            resolution = 'c')\n",
    "\n",
    "    \n",
    "    m.drawcoastlines()\n",
    "    m.fillcontinents(color='grey', lake_color='aqua')\n",
    "    m.drawparallels(np.arange(-80., 81., 20.))\n",
    "    m.drawmeridians(np.arange(-180., 181., 20.))\n",
    "    m.drawmapboundary(fill_color='aqua')\n",
    "\n",
    "\n",
    "\n",
    "    # plot the flight path\n",
    "    m.plot(layers[0].lon, layers[0].lat, latlon=True, color='lightgreen', linewidth=1)\n",
    "    # plot the section of the flight path in the plot above\n",
    "    m.plot(layers[0].lon[intersection_indices[0][0] - offset:intersection_indices[0][0] + offset],\n",
    "           layers[0].lat[intersection_indices[0][0] - offset:intersection_indices[0][0] + offset], latlon=True,\n",
    "           color='red', linewidth=1)\n",
    "    m.plot(layers[0].lon[intersection_indices[0][1] - offset:intersection_indices[0][1] + offset],\n",
    "           layers[0].lat[intersection_indices[0][1] - offset:intersection_indices[0][1] + offset], latlon=True,\n",
    "           color='green', linewidth=1)\n",
    "    # plot labels for the flight paths at their start points\n",
    "    plt.text(\n",
    "        m(layers[0].lon[intersection_indices[0][0] - offset], layers[0].lat[intersection_indices[0][0] - offset])[\n",
    "            0],\n",
    "        m(layers[0].lon[intersection_indices[0][0] - offset], layers[0].lat[intersection_indices[0][0] - offset])[\n",
    "            1], '\\nsegment 1', fontsize='smaller', fontweight='bold', ha='right', va='top', color='red')\n",
    "    plt.text(\n",
    "        m(layers[0].lon[intersection_indices[0][1] - offset], layers[0].lat[intersection_indices[0][1] - offset])[\n",
    "            0],\n",
    "        m(layers[0].lon[intersection_indices[0][1] - offset], layers[0].lat[intersection_indices[0][1] - offset])[\n",
    "            1], '\\nsegment 2', fontsize='smaller', fontweight='bold', ha='left', va='top', color='green')\n",
    "    # plot the South Pole\n",
    "    m.scatter(0, -90, latlon=True, color='black', linewidth=1, label='South Pole')\n",
    "    # plot the crossover points\n",
    "    # for point in intersection_points:\n",
    "    #     m.scatter(point[1], point[0], latlon=True, color='darkred', linewidth=1, label='Crossover Point')\n",
    "    #     plt.text(m(point[1], point[0])[0], m(point[1], point[0])[1] - 10000, 'Crossover Point\\n\\n',\n",
    "    #              fontsize='smaller', fontweight='bold', ha='center', va='top', color='darkred')\n",
    "    \n",
    "    m.scatter(intersection_points[cross_index][1], intersection_points[cross_index][0], latlon=True, color='darkred', linewidth=1, label='Crossover Point')\n",
    "    plt.text(m(intersection_points[cross_index][1], intersection_points[cross_index][0])[0], m(intersection_points[cross_index][1], intersection_points[cross_index][0])[1] - 10000, 'Crossover Point\\n\\n',\n",
    "                fontsize='smaller', fontweight='bold', ha='center', va='top', color='darkred')\n",
    "    \n",
    "    # plot the crossover line\n",
    "\n",
    "    x, y = m(0, -90)\n",
    "    plt.text(x, y, '\\nSouth Pole', fontsize='smaller', fontweight='bold', ha='center', va='top', color='black')\n",
    "    plt.title(\"Lat-Lon Map\")\n",
    "    # set tight layout\n",
    "    plt.tight_layout()\n",
    "    \n",
    "    # plt.show()\n",
    "    print(\"plotted map\")\n",
    "    print(\"--------------------\\n\")\n",
    "\n",
    "    plt.show()\n",
    "    \n",
    "    # save the plot\n",
    "    plt.savefig(\"layer_plot.png\", dpi=1200)"
   ]
  },
  {
   "cell_type": "code",
   "execution_count": 5,
   "id": "908aed9ecd9e80ca",
   "metadata": {
    "collapsed": false,
    "ExecuteTime": {
     "end_time": "2023-11-06T21:30:26.723060800Z",
     "start_time": "2023-11-06T21:30:26.668450300Z"
    }
   },
   "outputs": [
    {
     "name": "stdout",
     "output_type": "stream",
     "text": [
      "2018_Antarctica_DC8 20181030_01\n"
     ]
    },
    {
     "ename": "NameError",
     "evalue": "name 'my_refractive_index' is not defined",
     "output_type": "error",
     "traceback": [
      "\u001B[1;31m---------------------------------------------------------------------------\u001B[0m",
      "\u001B[1;31mNameError\u001B[0m                                 Traceback (most recent call last)",
      "Cell \u001B[1;32mIn[5], line 3\u001B[0m\n\u001B[0;32m      1\u001B[0m \u001B[38;5;28mprint\u001B[39m(season, flight)\n\u001B[0;32m      2\u001B[0m cross_index \u001B[38;5;241m=\u001B[39m \u001B[38;5;241m0\u001B[39m\n\u001B[1;32m----> 3\u001B[0m plot_layers_at_cross(layers, intersection_indices, intersection_points,zoom\u001B[38;5;241m=\u001B[39mzoom, refractive_index\u001B[38;5;241m=\u001B[39m\u001B[43mmy_refractive_index\u001B[49m,cross_index\u001B[38;5;241m=\u001B[39mcross_index)\n\u001B[0;32m      6\u001B[0m \u001B[38;5;66;03m# convert 25.8 microseconds to seconds\u001B[39;00m\n\u001B[0;32m      7\u001B[0m time \u001B[38;5;241m=\u001B[39m \u001B[38;5;241m25.8\u001B[39m \u001B[38;5;241m*\u001B[39m \u001B[38;5;241m10\u001B[39m \u001B[38;5;241m*\u001B[39m\u001B[38;5;241m*\u001B[39m \u001B[38;5;241m-\u001B[39m\u001B[38;5;241m6\u001B[39m\n",
      "\u001B[1;31mNameError\u001B[0m: name 'my_refractive_index' is not defined"
     ]
    }
   ],
   "source": [
    "print(season, flight)\n",
    "cross_index = 0\n",
    "plot_layers_at_cross(layers, intersection_indices, intersection_points,zoom=zoom, refractive_index=my_refractive_index,cross_index=cross_index)\n",
    "\n",
    "\n",
    "# convert 25.8 microseconds to seconds\n",
    "time = 25.8 * 10 ** -6\n",
    "time2 = 30.5 * 10 ** -6\n",
    "\n",
    "print(f\"{twtt_to_depth(time, 1.77)} m\")\n",
    "print(f\"{twtt_to_depth(time2, 1.77)} m\")\n",
    "print(f\"difference: {twtt_to_depth(time, 1.77) - twtt_to_depth(time2, 1.77)} m\")"
   ]
  },
  {
   "cell_type": "code",
   "execution_count": 6,
   "id": "ced39fee086ed207",
   "metadata": {
    "collapsed": false,
    "ExecuteTime": {
     "end_time": "2023-11-06T21:30:27.693360700Z",
     "start_time": "2023-11-06T21:30:27.637433600Z"
    }
   },
   "outputs": [
    {
     "ename": "NameError",
     "evalue": "name 'my_refractive_index' is not defined",
     "output_type": "error",
     "traceback": [
      "\u001B[1;31m---------------------------------------------------------------------------\u001B[0m",
      "\u001B[1;31mNameError\u001B[0m                                 Traceback (most recent call last)",
      "Cell \u001B[1;32mIn[6], line 2\u001B[0m\n\u001B[0;32m      1\u001B[0m cross_index \u001B[38;5;241m=\u001B[39m \u001B[38;5;241m2\u001B[39m\n\u001B[1;32m----> 2\u001B[0m plot_layers_at_cross(layers, intersection_indices, intersection_points,zoom\u001B[38;5;241m=\u001B[39mzoom, refractive_index\u001B[38;5;241m=\u001B[39m\u001B[43mmy_refractive_index\u001B[49m,cross_index\u001B[38;5;241m=\u001B[39mcross_index)\n",
      "\u001B[1;31mNameError\u001B[0m: name 'my_refractive_index' is not defined"
     ]
    }
   ],
   "source": [
    "cross_index = 2\n",
    "plot_layers_at_cross(layers, intersection_indices, intersection_points,zoom=zoom, refractive_index=my_refractive_index,cross_index=cross_index)"
   ]
  },
  {
   "cell_type": "code",
   "execution_count": null,
   "id": "c7655805c04d1c82",
   "metadata": {
    "collapsed": false
   },
   "outputs": [],
   "source": [
    "# TODO: now that everything is in the library file -> look at the plot_layers_at_cross function and see if the corrected\n",
    "    # layer portion is something that should be its own function and if it needs to be part of the posit object that is\n",
    "    # being saved."
   ]
  },
  {
   "cell_type": "code",
   "execution_count": null,
   "id": "1068dfeb3fa8631",
   "metadata": {
    "collapsed": false
   },
   "outputs": [],
   "source": [
    "# find the difference in lat-lon between each of the 4 points in the crossover\n"
   ]
  },
  {
   "cell_type": "code",
   "execution_count": null,
   "id": "aadb6fda4d39a481",
   "metadata": {
    "collapsed": false
   },
   "outputs": [],
   "source": []
  }
 ],
 "metadata": {
  "kernelspec": {
   "display_name": "Python 3 (ipykernel)",
   "language": "python",
   "name": "python3"
  },
  "language_info": {
   "codemirror_mode": {
    "name": "ipython",
    "version": 3
   },
   "file_extension": ".py",
   "mimetype": "text/x-python",
   "name": "python",
   "nbconvert_exporter": "python",
   "pygments_lexer": "ipython3",
   "version": "3.10.4"
  }
 },
 "nbformat": 4,
 "nbformat_minor": 5
}

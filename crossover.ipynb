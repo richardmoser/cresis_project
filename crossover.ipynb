{
 "cells": [
  {
   "cell_type": "markdown",
   "id": "c2dfc15635b07850",
   "metadata": {
    "collapsed": false
   },
   "source": [
    "# TODO:\n",
    "### 24Oct23 - 31Oct23\n",
    "- use lat-lon for distance and make that the x axis of the layer\n",
    "    - distance from... what exactly?\n",
    "        - the exact placement of $d_0$ may not actually matter as long as it is noted on the plot that it is arbitrary (or however it is actually placed)\n",
    "            - i.e. it is only useful for showing scale\n",
    "    - this would put the plot in meters on both axes if reading the right side y axis scale\n",
    "- get the distance between crossover points\n",
    "    - *GPS time is not a useful measure of ~distance~ anything*\n",
    "    - use the lat-lon coordinates to get the distance between points\n",
    "        - i.e. get the 4 endpoints of the 2 segments and use the distance between them\n",
    "    - **distance between points in the 2018 Antarctica DC8 20181030_01 flight is about 14.9m**\n",
    "        - need to make distance step a variable that is read from this because it may change flight to flight\n",
    "- find the slope in both directions across the segments\n",
    "    - probably want to go out a bit from the crossover point to get a better slope\n",
    "        - e.g. 2 or 3x crossover point distance\n",
    "    - may have to normalize the slope if jagged\n",
    "- find the plane heading on each segment\n",
    "    - check for point to point consistency - wandering gps\n",
    "        - i.e. make sure that the points in the segment are actually in a straight line with the surrounding points\n",
    "        - can probably implement an if statement for this\n",
    "            - `if heading(segment) ~= heading(segment + a_few_points_either_end), then segment is straight`\n",
    "            - `else, use heading(segment + a_few_points_either_end)`\n"
   ]
  },
  {
   "cell_type": "code",
   "execution_count": 1,
   "id": "initial_id",
   "metadata": {
    "collapsed": true,
    "jupyter": {
     "outputs_hidden": true
    },
    "ExecuteTime": {
     "end_time": "2023-12-19T02:17:13.857992700Z",
     "start_time": "2023-12-19T02:17:12.352064600Z"
    }
   },
   "outputs": [],
   "source": [
    "import math\n",
    "from layer_class import *\n",
    "from functions import *\n",
    "from iceflow_library import *\n",
    "from crossover_class import *"
   ]
  },
  {
   "cell_type": "code",
   "execution_count": 6,
   "id": "8c194ffbeabd931b",
   "metadata": {
    "collapsed": false,
    "ExecuteTime": {
     "end_time": "2023-12-19T02:17:53.195442100Z",
     "start_time": "2023-12-19T02:17:53.176335Z"
    }
   },
   "outputs": [],
   "source": [
    " # zoom = False \n",
    "zoom = True\n",
    "seg_length = 100\n",
    "season = \"2018_Antarctica_DC8\"\n",
    "# season = \"2016_Antarctica_DC8\"\n",
    "flight = \"20181030_01\"  # the flight date and frame number\n",
    "# flight = \"20181103_01\"\n",
    "flight = \"20181112_02\"  # the problem flight\n",
    "# flight = \"20161024_05\"\n",
    "file_name = \"layer_export_\" + flight + \".pickle\"\n",
    "\n",
    "# TODO: make map plotter center on crossover point n. default to centering on the first crossover point if no n is given\n",
    "# TODO: choose a crossover point or save the data for them or something. Do we already do this? Probably. Very tired.\n",
    "    # Who is this we?"
   ]
  },
  {
   "cell_type": "code",
   "execution_count": 7,
   "id": "49548c348d597a15",
   "metadata": {
    "collapsed": false,
    "ExecuteTime": {
     "end_time": "2023-12-19T02:18:05.671189400Z",
     "start_time": "2023-12-19T02:17:53.336403800Z"
    }
   },
   "outputs": [
    {
     "name": "stdout",
     "output_type": "stream",
     "text": [
      "Reading pickle file...\n",
      "--------------------\n",
      "Surface\n",
      "Bottom\n",
      "--------------------\n",
      "\n",
      "Finding crossover point...\n",
      "--------------------\n",
      "Dividing the path into segments of length 100...\n",
      "Number of segments: 501\n",
      "Checking for intersections...\n",
      "Segments 110 and 259 intersect near (-87.98001101278417, -123.34469159128469)\n",
      "Segments 112 and 259 intersect near (-87.98001102641388, -124.14692494261692)\n",
      "Segments 119 and 259 intersect near (-87.98001107302225, -126.89025714096518)\n",
      "Segments 167 and 259 intersect near (-87.98001138614491, -145.32041200649948)\n",
      "Segments 177 and 259 intersect near (-87.98001145058717, -149.113433587631)\n",
      "Segments 178 and 259 intersect near (-87.98001145170355, -149.17914214002064)\n",
      "Segments 179 and 259 intersect near (-87.98001146049403, -149.69654320760745)\n",
      "Segments 181 and 259 intersect near (-87.98001147622848, -150.62266082012968)\n",
      "Segments 182 and 259 intersect near (-87.98001147752557, -150.69900575343024)\n",
      "Segments 230 and 259 intersect near (-87.98001178976334, -169.0770771254751)\n",
      "Segments 233 and 259 intersect near (-87.98001181103606, -170.32917325539535)\n",
      "Segments 234 and 259 intersect near (-87.98001181894402, -170.7946298372254)\n",
      "Segments 235 and 259 intersect near (-87.98001182062389, -170.89350495910665)\n",
      "Segments 239 and 259 intersect near (-87.98001185158856, -172.7160614231459)\n",
      "Segments 242 and 259 intersect near (-87.98001187133745, -173.87846573605557)\n",
      "Segments 243 and 259 intersect near (-87.98001187244394, -173.94359240968373)\n",
      "Segments 244 and 259 intersect near (-87.98001188412198, -174.63095311260423)\n",
      "Segments 245 and 259 intersect near (-87.98001188512507, -174.68999365491987)\n",
      "Segments 246 and 259 intersect near (-87.98001189293457, -175.14965540392484)\n",
      "Segments 259 and 263 intersect near (-87.98000588669323, 178.37301405433584)\n",
      "Segments 259 and 264 intersect near (-87.98000589660951, 177.78934933108283)\n",
      "Segments 259 and 268 intersect near (-87.98000591818007, 176.51972293875772)\n",
      "Segments 259 and 276 intersect near (-87.98000597520696, 173.16316507195188)\n",
      "Segments 259 and 471 intersect near (-87.98000687856533, 119.99219732413687)\n",
      "Segments 416 and 471 intersect near (-87.97998607465767, 119.99218379404485)\n",
      "\n",
      "Checking for a more precise intersection...\n",
      "segment 110 start: 11000, segment 1 end: 11100\n",
      "segment 259 start: 25900, segment 2 end: 26000\n",
      "Segments 110 and 259 intersect near indices 11018 and 26001\n",
      "This corresponds roughly to the lat-lon: (-87.98001187498203, -123.29535421412406)\n",
      "segment 112 start: 11200, segment 1 end: 11300\n",
      "segment 259 start: 25900, segment 2 end: 26000\n",
      "Segments 112 and 259 intersect near indices 11248 and 26001\n",
      "This corresponds roughly to the lat-lon: (-87.98001187515118, -124.17380321868097)\n",
      "segment 119 start: 11900, segment 1 end: 12000\n",
      "segment 259 start: 25900, segment 2 end: 26000\n",
      "Segments 119 and 259 intersect near indices 11950 and 26001\n",
      "This corresponds roughly to the lat-lon: (-87.9800118756658, -126.84638104919028)\n",
      "segment 167 start: 16700, segment 1 end: 16800\n",
      "segment 259 start: 25900, segment 2 end: 26000\n",
      "Segments 167 and 259 intersect near indices 16799 and 26001\n",
      "This corresponds roughly to the lat-lon: (-87.98001187922327, -145.321506524731)\n",
      "segment 177 start: 17700, segment 1 end: 17800\n",
      "segment 259 start: 25900, segment 2 end: 26000\n",
      "Segments 177 and 259 intersect near indices 17796 and 26001\n",
      "This corresponds roughly to the lat-lon: (-87.98001187995501, -149.12174863821747)\n",
      "segment 178 start: 17800, segment 1 end: 17900\n",
      "segment 259 start: 25900, segment 2 end: 26000\n",
      "Segments 178 and 259 intersect near indices 17868 and 26001\n",
      "This corresponds roughly to the lat-lon: (-87.98001188000767, -149.39512652986733)\n",
      "segment 179 start: 17900, segment 1 end: 18000\n",
      "segment 259 start: 25900, segment 2 end: 26000\n",
      "Segments 179 and 259 intersect near indices 17985 and 26001\n",
      "This corresponds roughly to the lat-lon: (-87.98001188009363, -149.84161788184122)\n",
      "segment 181 start: 18100, segment 1 end: 18200\n",
      "segment 259 start: 25900, segment 2 end: 26000\n",
      "Segments 181 and 259 intersect near indices 18128 and 26001\n",
      "This corresponds roughly to the lat-lon: (-87.98001188019792, -150.3831992858818)\n",
      "segment 182 start: 18200, segment 1 end: 18300\n",
      "segment 259 start: 25900, segment 2 end: 26000\n",
      "Segments 182 and 259 intersect near indices 18214 and 26001\n",
      "This corresponds roughly to the lat-lon: (-87.98001188026116, -150.71165368635394)\n",
      "Segments 182 and 259 intersect near indices 18241 and 26001\n",
      "This corresponds roughly to the lat-lon: (-87.98001188028141, -150.81683494647177)\n",
      "Segments 182 and 259 intersect near indices 18258 and 26001\n",
      "This corresponds roughly to the lat-lon: (-87.98001188029394, -150.88191827061087)\n",
      "segment 230 start: 23000, segment 1 end: 23100\n",
      "segment 259 start: 25900, segment 2 end: 26000\n",
      "Segments 230 and 259 intersect near indices 23018 and 26001\n",
      "This corresponds roughly to the lat-lon: (-87.980011883786, -169.01730028786798)\n",
      "segment 233 start: 23300, segment 1 end: 23400\n",
      "segment 259 start: 25900, segment 2 end: 26000\n",
      "Segments 233 and 259 intersect near indices 23364 and 26001\n",
      "This corresponds roughly to the lat-lon: (-87.98001188403994, -170.3361078050746)\n",
      "segment 234 start: 23400, segment 1 end: 23500\n",
      "segment 259 start: 25900, segment 2 end: 26000\n",
      "Segments 234 and 259 intersect near indices 23486 and 26001\n",
      "This corresponds roughly to the lat-lon: (-87.98001188412925, -170.79992841324182)\n",
      "segment 235 start: 23500, segment 1 end: 23600\n",
      "segment 259 start: 25900, segment 2 end: 26000\n",
      "Segments 235 and 259 intersect near indices 23546 and 26001\n",
      "This corresponds roughly to the lat-lon: (-87.98001188417325, -171.02845094821768)\n",
      "segment 239 start: 23900, segment 1 end: 24000\n",
      "segment 259 start: 25900, segment 2 end: 26000\n",
      "Segments 239 and 259 intersect near indices 23991 and 26001\n",
      "This corresponds roughly to the lat-lon: (-87.98001188449985, -172.72452583576757)\n",
      "segment 242 start: 24200, segment 1 end: 24300\n",
      "segment 259 start: 25900, segment 2 end: 26000\n",
      "Segments 242 and 259 intersect near indices 24295 and 26001\n",
      "This corresponds roughly to the lat-lon: (-87.98001188472301, -173.8834985226104)\n",
      "segment 243 start: 24300, segment 1 end: 24400\n",
      "segment 259 start: 25900, segment 2 end: 26000\n",
      "Segments 243 and 259 intersect near indices 24361 and 26001\n",
      "This corresponds roughly to the lat-lon: (-87.98001188477137, -174.13465028100995)\n",
      "segment 244 start: 24400, segment 1 end: 24500\n",
      "segment 259 start: 25900, segment 2 end: 26000\n",
      "Segments 244 and 259 intersect near indices 24495 and 26001\n",
      "This corresponds roughly to the lat-lon: (-87.98001188486948, -174.64417625159507)\n",
      "segment 245 start: 24500, segment 1 end: 24600\n",
      "segment 259 start: 25900, segment 2 end: 26000\n",
      "Segments 245 and 259 intersect near indices 24540 and 26001\n",
      "This corresponds roughly to the lat-lon: (-87.98001188490224, -174.81430823868476)\n",
      "segment 246 start: 24600, segment 1 end: 24700\n",
      "segment 259 start: 25900, segment 2 end: 26000\n",
      "Segments 246 and 259 intersect near indices 24663 and 26001\n",
      "This corresponds roughly to the lat-lon: (-87.98001188499266, -175.28388698778082)\n",
      "segment 259 start: 25900, segment 1 end: 26000\n",
      "segment 263 start: 26300, segment 2 end: 26400\n",
      "segment 259 start: 25900, segment 1 end: 26000\n",
      "segment 264 start: 26400, segment 2 end: 26500\n",
      "segment 259 start: 25900, segment 1 end: 26000\n",
      "segment 268 start: 26800, segment 2 end: 26900\n",
      "segment 259 start: 25900, segment 1 end: 26000\n",
      "segment 276 start: 27600, segment 2 end: 27700\n",
      "Segments 259 and 276 intersect near indices 25901 and 27702\n",
      "This corresponds roughly to the lat-lon: (-87.98001181782911, 173.51880819088927)\n",
      "Segments 259 and 276 intersect near indices 25901 and 27758\n",
      "This corresponds roughly to the lat-lon: (-87.98001181787052, 173.3037491947909)\n",
      "segment 259 start: 25900, segment 1 end: 26000\n",
      "segment 471 start: 47100, segment 2 end: 47200\n",
      "Segments 259 and 471 intersect near indices 25901 and 47226\n",
      "This corresponds roughly to the lat-lon: (-87.98001182813607, 119.99130567250452)\n",
      "segment 416 start: 41600, segment 1 end: 41700\n",
      "segment 471 start: 47100, segment 2 end: 47200\n",
      "Segments 416 and 471 intersect near indices 41651 and 47226\n",
      "This corresponds roughly to the lat-lon: (-87.97998633028469, 119.99129355234749)\n",
      "Number of intersections: 25\n",
      "Number of rough intersections: 25\n",
      "Number of intersection indices: 25\n",
      "Indices: [[11018, 26001], [11248, 26001], [11950, 26001], [16799, 26001], [17796, 26001], [17868, 26001], [17985, 26001], [18128, 26001], [18214, 26001], [18241, 26001], [18258, 26001], [23018, 26001], [23364, 26001], [23486, 26001], [23546, 26001], [23991, 26001], [24295, 26001], [24361, 26001], [24495, 26001], [24540, 26001], [24663, 26001], [25901, 27702], [25901, 27758], [25901, 47226], [41651, 47226]]\n",
      "Index: [11018, 26001]\n",
      "Index: [11248, 26001]\n",
      "Index: [11950, 26001]\n",
      "Index: [16799, 26001]\n",
      "Index: [17796, 26001]\n",
      "Index: [17868, 26001]\n",
      "Index: [17985, 26001]\n",
      "Index: [18128, 26001]\n",
      "Index: [18214, 26001]\n",
      "Index: [18241, 26001]\n",
      "Index: [18258, 26001]\n",
      "Index: [23018, 26001]\n",
      "Index: [23364, 26001]\n",
      "Index: [23486, 26001]\n",
      "Index: [23546, 26001]\n",
      "Index: [23991, 26001]\n",
      "Index: [24295, 26001]\n",
      "Index: [24361, 26001]\n",
      "Index: [24495, 26001]\n",
      "Index: [24540, 26001]\n",
      "Index: [24663, 26001]\n",
      "Index: [25901, 27702]\n",
      "Index: [25901, 27758]\n",
      "Index: [25901, 47226]\n",
      "Index: [41651, 47226]\n",
      "--------------------\n",
      "\n",
      "len(intersection_indices): 25\n",
      "len(intersection_points): 25\n"
     ]
    }
   ],
   "source": [
    "\n",
    "# if the file at filename exists, read in the layers from the pickle file\n",
    "# otherwise, read in the layers from the layer files and save them to a pickle file\n",
    "if not os.path.isfile(file_name):  # if the file does not exist\n",
    "    # file_name = \"layer_export_\" + flight + \".pickle\"\n",
    "    print(f\"File {file_name} does not exist. Making it...\")\n",
    "    mat_pickler(season, flight, testing_mode=False)  # make it\n",
    "    \n",
    "layers = read_layers(file_name)  # read in the layers from the pickle file\n",
    "\n",
    "intersection_points_base, intersection_indices_base, segment_ends = cross_point(layers[0], seg_length, quiet=False)\n",
    "# find the crossover points\n",
    "print(f\"len(intersection_indices): {len(intersection_indices_base)}\")\n",
    "print(f\"len(intersection_points): {len(intersection_points_base)}\")\n",
    "intersection_indices = intersection_indices_base\n",
    "intersection_points = intersection_points_base"
   ]
  },
  {
   "cell_type": "code",
   "execution_count": 8,
   "outputs": [
    {
     "name": "stdout",
     "output_type": "stream",
     "text": [
      "len(intersection_indices): 25\n",
      "len(intersection_points): 25\n",
      "iteration 0\n",
      "heading on first segment: -92.42013177417579\n",
      "heading on second segment: -90.3564903407434\n",
      "intersection 0 is not valid\n",
      "intersection 0 removed\n",
      "iteration 0\n",
      "heading on first segment: -88.77347407658993\n",
      "heading on second segment: -90.3564903407434\n",
      "intersection 0 is not valid\n",
      "intersection 0 removed\n",
      "iteration 0\n",
      "heading on first segment: -91.0595094508796\n",
      "heading on second segment: -90.3564903407434\n",
      "intersection 0 is not valid\n",
      "intersection 0 removed\n",
      "iteration 0\n",
      "heading on first segment: -89.89342025959525\n",
      "heading on second segment: -90.3564903407434\n",
      "intersection 0 is not valid\n",
      "intersection 0 removed\n",
      "iteration 0\n",
      "heading on first segment: -90.40858220128463\n",
      "heading on second segment: -90.3564903407434\n",
      "intersection 0 is not valid\n",
      "intersection 0 removed\n",
      "iteration 0\n",
      "heading on first segment: -90.37645615194154\n",
      "heading on second segment: -90.3564903407434\n",
      "intersection 0 is not valid\n",
      "intersection 0 removed\n",
      "iteration 0\n",
      "heading on first segment: -90.4215944982727\n",
      "heading on second segment: -90.3564903407434\n",
      "intersection 0 is not valid\n",
      "intersection 0 removed\n",
      "iteration 0\n",
      "heading on first segment: -90.33871747287596\n",
      "heading on second segment: -90.3564903407434\n",
      "intersection 0 is not valid\n",
      "intersection 0 removed\n",
      "iteration 0\n",
      "heading on first segment: -90.40223046080973\n",
      "heading on second segment: -90.3564903407434\n",
      "intersection 0 is not valid\n",
      "intersection 0 removed\n",
      "iteration 0\n",
      "heading on first segment: -90.45041296784066\n",
      "heading on second segment: -90.3564903407434\n",
      "intersection 0 is not valid\n",
      "intersection 0 removed\n",
      "iteration 0\n",
      "heading on first segment: -90.47614801917283\n",
      "heading on second segment: -90.3564903407434\n",
      "intersection 0 is not valid\n",
      "intersection 0 removed\n",
      "iteration 0\n",
      "heading on first segment: -90.23519660261739\n",
      "heading on second segment: -90.3564903407434\n",
      "intersection 0 is not valid\n",
      "intersection 0 removed\n",
      "iteration 0\n",
      "heading on first segment: -90.40333050756547\n",
      "heading on second segment: -90.3564903407434\n",
      "intersection 0 is not valid\n",
      "intersection 0 removed\n",
      "iteration 0\n",
      "heading on first segment: -90.38327789781732\n",
      "heading on second segment: -90.3564903407434\n",
      "intersection 0 is not valid\n",
      "intersection 0 removed\n",
      "iteration 0\n",
      "heading on first segment: -90.40315638908153\n",
      "heading on second segment: -90.3564903407434\n",
      "intersection 0 is not valid\n",
      "intersection 0 removed\n",
      "iteration 0\n",
      "heading on first segment: -90.34297637004205\n",
      "heading on second segment: -90.3564903407434\n",
      "intersection 0 is not valid\n",
      "intersection 0 removed\n",
      "iteration 0\n",
      "heading on first segment: -90.39589791049497\n",
      "heading on second segment: -90.3564903407434\n",
      "intersection 0 is not valid\n",
      "intersection 0 removed\n",
      "iteration 0\n",
      "heading on first segment: -90.38342729720357\n",
      "heading on second segment: -90.3564903407434\n",
      "intersection 0 is not valid\n",
      "intersection 0 removed\n",
      "iteration 0\n",
      "heading on first segment: -90.38021831677551\n",
      "heading on second segment: -90.3564903407434\n",
      "intersection 0 is not valid\n",
      "intersection 0 removed\n",
      "iteration 0\n",
      "heading on first segment: -90.38497462484031\n",
      "heading on second segment: -90.3564903407434\n",
      "intersection 0 is not valid\n",
      "intersection 0 removed\n",
      "iteration 0\n",
      "heading on first segment: -90.44936582139312\n",
      "heading on second segment: -90.3564903407434\n",
      "intersection 0 is not valid\n",
      "intersection 0 removed\n",
      "iteration 0\n",
      "heading on first segment: -90.35425564088808\n",
      "heading on second segment: -90.34341183632608\n",
      "intersection 0 is not valid\n",
      "intersection 0 removed\n",
      "iteration 0\n",
      "heading on first segment: -90.35425564088808\n",
      "heading on second segment: -90.34316520775111\n",
      "intersection 0 is not valid\n",
      "intersection 0 removed\n",
      "iteration 0\n",
      "intersection 0 is valid\n",
      "heading on first segment: -90.35425564088808\n",
      "heading on second segment: 179.26171708889132\n",
      "--------------------\n",
      "\n",
      "iteration 1\n",
      "intersection 1 is valid\n",
      "heading on first segment: -90.37916179653945\n",
      "heading on second segment: 179.26171708889132\n",
      "--------------------\n"
     ]
    }
   ],
   "source": [
    "intersection_indices = intersection_indices_base\n",
    "intersection_points = intersection_points_base\n",
    "print(f\"len(intersection_indices): {len(intersection_indices)}\")\n",
    "print(f\"len(intersection_points): {len(intersection_points)}\")\n",
    "removed = 0\n",
    "i = 0\n",
    "# if the crosover point headings do not have a difference of at least 75 degrees, then the crossover point is not valid and should be removed\n",
    "while i < (len(intersection_indices)):\n",
    "    print(f\"iteration {i}\")\n",
    "    if abs(find_heading(layers[0], intersection_indices[i][0]) - find_heading(layers[0], intersection_indices[i][1])) < 75:\n",
    "        print(f\"heading on first segment: {find_heading(layers[0], intersection_indices[i][0])}\")\n",
    "        print(f\"heading on second segment: {find_heading(layers[0], intersection_indices[i][1])}\")\n",
    "        print(f\"intersection {i} is not valid\")\n",
    "        intersection_indices.pop(i)\n",
    "        intersection_points.pop(i)\n",
    "        segment_ends.pop(i)\n",
    "        print(f\"intersection {i} removed\")\n",
    "        # print(f\"intersection_indices: {intersection_indices}\")\n",
    "        # print(f\"intersection_points: {intersection_points}\")\n",
    "        # print(f\"segment_ends: {segment_ends}\")\n",
    "        # print(section_break)\n",
    "        # break   \n",
    "        continue\n",
    "    else:\n",
    "        print(f\"intersection {i} is valid\")\n",
    "        print(f\"heading on first segment: {find_heading(layers[0], intersection_indices[i][0])}\")\n",
    "        print(f\"heading on second segment: {find_heading(layers[0], intersection_indices[i][1])}\")\n",
    "        print(section_break)\n",
    "        i += 1\n"
   ],
   "metadata": {
    "collapsed": false,
    "ExecuteTime": {
     "end_time": "2023-12-19T02:18:12.072113500Z",
     "start_time": "2023-12-19T02:18:12.035870Z"
    }
   },
   "id": "365fcca1696d28d5"
  },
  {
   "cell_type": "code",
   "execution_count": 9,
   "outputs": [
    {
     "name": "stdout",
     "output_type": "stream",
     "text": [
      "Saving posit...\n",
      "--------------------\n",
      "posit.pickle saved in local directory of this python file.\n",
      "--------------------\n"
     ]
    }
   ],
   "source": [
    "posit = Twtt_Posit(layers[1], season, flight, intersection_indices)\n",
    "# create a Twtt_Posit object to store the crossover point data\n",
    "# print(f\"posit.layer_name: {posit.layer_name}\")\n",
    "\n",
    "save_posit(posit)"
   ],
   "metadata": {
    "collapsed": false,
    "ExecuteTime": {
     "end_time": "2023-12-19T02:18:13.375034300Z",
     "start_time": "2023-12-19T02:18:13.352527500Z"
    }
   },
   "id": "b7f9e8cf051f4c41"
  },
  {
   "cell_type": "code",
   "execution_count": 10,
   "id": "5a5504f8442047f0",
   "metadata": {
    "collapsed": false,
    "ExecuteTime": {
     "end_time": "2023-12-19T02:18:14.904091500Z",
     "start_time": "2023-12-19T02:18:14.879086100Z"
    }
   },
   "outputs": [],
   "source": [
    "# def gps_time_to_seconds(gps_time):\n",
    "#     \"\"\"\n",
    "#     :param gps_time: the gps time in seconds\n",
    "#     :return: the gps time in seconds\n",
    "#     \"\"\"\n",
    "#     return gps_time * 10 ** -9"
   ]
  },
  {
   "cell_type": "code",
   "execution_count": 11,
   "id": "b8be6a337daee413",
   "metadata": {
    "collapsed": false,
    "ExecuteTime": {
     "end_time": "2023-12-19T02:18:15.536564800Z",
     "start_time": "2023-12-19T02:18:15.478599Z"
    }
   },
   "outputs": [
    {
     "name": "stdout",
     "output_type": "stream",
     "text": [
      "1542043219.4200106\n",
      "2018-11-12 11:20:19.420011\n"
     ]
    }
   ],
   "source": [
    "print(layers[0].gps_time[0])\n",
    "# time is epoch seconds from 1970\n",
    "print(gps_time_to_date(layers[0].gps_time[0]))"
   ]
  },
  {
   "cell_type": "code",
   "execution_count": 11,
   "outputs": [],
   "source": [],
   "metadata": {
    "collapsed": false,
    "ExecuteTime": {
     "end_time": "2023-12-19T02:18:15.990215200Z",
     "start_time": "2023-12-19T02:18:15.959020800Z"
    }
   },
   "id": "34c724acf19e8215"
  },
  {
   "cell_type": "code",
   "execution_count": 12,
   "id": "63b34a3a1797a4dd",
   "metadata": {
    "collapsed": false,
    "ExecuteTime": {
     "end_time": "2023-12-19T02:18:16.386848600Z",
     "start_time": "2023-12-19T02:18:16.348849400Z"
    }
   },
   "outputs": [
    {
     "name": "stdout",
     "output_type": "stream",
     "text": [
      "(2, 2)\n",
      "time1: 1542047739.812114, time2: 1542047739.9311926\n",
      "Time between segment 1 endpoints: 0.1190786361694336 s\n",
      "Distance between segment 1 endpoints: 14.93 m\n",
      "Plane velocity: 125.4 m/s or 451.46 km/h\n",
      "rise: 0.0m, run: 59.73m\n",
      "slope at crossover 1: 0.0\n"
     ]
    }
   ],
   "source": [
    "# intersection indices are just the indices of the crossover point, not the indices of the endpoints of the segments\n",
    "index_to_check = 1\n",
    "print(np.shape(intersection_indices))\n",
    "time1 = layers[0].gps_time[intersection_indices[0][index_to_check]]\n",
    "time2 = layers[0].gps_time[intersection_indices[0][index_to_check]+1]\n",
    "print(f\"time1: {time1}, time2: {time2}\")\n",
    "d_time = time2 - time1\n",
    "\n",
    "print(f\"Time between segment 1 endpoints: {d_time} s\")\n",
    "dist = latlon_dist(segment_ends[0][0][0], segment_ends[0][0][1])\n",
    "print(f\"Distance between segment 1 endpoints: {round(dist,2)} m\")\n",
    "# print(f\"type of dist: {type(dist)}\")\n",
    "# print(f\"type of d_time: {type(d_time)}\")\n",
    "vel = dist / d_time\n",
    "print(f\"Plane velocity: {round(vel,2)} m/s or {round(vel * 3.6,2)} km/h\")\n",
    "\n",
    "# print(layers[1].layer_name)\n",
    "slope = slope_around_index(layers[1], intersection_indices[0][index_to_check], 2)\n",
    "print(f\"slope at crossover {index_to_check}: {round(slope,2)}\")"
   ]
  },
  {
   "cell_type": "code",
   "execution_count": 13,
   "id": "e67fdf447e0fad49",
   "metadata": {
    "collapsed": false,
    "ExecuteTime": {
     "end_time": "2023-12-19T02:18:16.873569200Z",
     "start_time": "2023-12-19T02:18:16.853175300Z"
    }
   },
   "outputs": [
    {
     "name": "stdout",
     "output_type": "stream",
     "text": [
      "Comparing my depth to CReSIS depth...\n",
      "--------------------\n",
      "twtt difference at crossover point: -1.7208622057233508e-05 ns\n",
      "depth at crossover point 0 on segment 1: 1925.0552732172177 m\n",
      "depth at crossover point 0 on segment 2: 3382.404173028249 m\n",
      "difference: -1457.348899811031 m\n",
      "depth at crossover point 1 on segment 1: 3312.4437279025547 m\n",
      "depth at crossover point 1 on segment 2: 3382.404173028249 m\n",
      "difference: -69.96044512569415 m\n",
      "crossover point lat-long: [-87.98001182813607, 119.99130567250452]\n"
     ]
    }
   ],
   "source": [
    "\"\"\"\n",
    "Clean this up and put it in a function in the library file (?)\n",
    "\"\"\"\n",
    "\n",
    "print(\"Comparing my depth to CReSIS depth...\")\n",
    "print(\"--------------------\")\n",
    "twtt_at_intersect = twtt_at_point(layers[1], layers[0], intersection_indices, quiet=True)\n",
    "# find the twtt at the crossover points\n",
    "twtt_difference_at_intersect = twtt_at_intersect[0][0] - twtt_at_intersect[0][1]\n",
    "# find the difference in twtt at the crossover points\n",
    "print(f\"twtt difference at crossover point: {twtt_difference_at_intersect} ns\")\n",
    "\n",
    "my_refractive_index = 1.77\n",
    "# my_depth_1 = twtt_to_depth(twtt_at_intersect[0][0], my_refractive_index)\n",
    "# my_depth_2 = twtt_to_depth(twtt_at_intersect[0][1], my_refractive_index)\n",
    "#\n",
    "# print(f\"By my refractive index: {my_refractive_index}\")\n",
    "# print(f\"depth at crossover point on segment 1: {my_depth_1} m\")\n",
    "# print(f\"depth at crossover point on segment 2: {my_depth_2} m\")\n",
    "# print(f\"difference: {my_depth_1 - my_depth_2} m\")\n",
    "\n",
    "# loop through all intersections and print the depth at each\n",
    "for i in range(len(intersection_indices)):\n",
    "    my_depth_1 = twtt_to_depth(twtt_at_intersect[i][0], my_refractive_index)\n",
    "    my_depth_2 = twtt_to_depth(twtt_at_intersect[i][1], my_refractive_index)\n",
    "    print(f\"depth at crossover point {i} on segment 1: {my_depth_1} m\")\n",
    "    print(f\"depth at crossover point {i} on segment 2: {my_depth_2} m\")\n",
    "    print(f\"difference: {my_depth_1 - my_depth_2} m\")\n",
    "\n",
    "print(f\"crossover point lat-long: {intersection_points[0]}\")"
   ]
  },
  {
   "cell_type": "code",
   "execution_count": 14,
   "id": "a5a5ef3488929da9",
   "metadata": {
    "collapsed": false,
    "ExecuteTime": {
     "end_time": "2023-12-19T02:18:17.377569500Z",
     "start_time": "2023-12-19T02:18:17.360283700Z"
    }
   },
   "outputs": [
    {
     "name": "stdout",
     "output_type": "stream",
     "text": [
      "By CReSIS refractive index: 1.7748239349298849\n",
      "depth at crossover point on segment 1: 1919.823012601576 m\n",
      "depth at crossover point on segment 2: 3373.2108680946503 m\n",
      "--------------------\n"
     ]
    },
    {
     "data": {
      "text/plain": "'\\nEnd of the cleanup (for now)\\n'"
     },
     "execution_count": 14,
     "metadata": {},
     "output_type": "execute_result"
    }
   ],
   "source": [
    "cresis_refractive_index = math.sqrt(3.15)\n",
    "# cresis_refractive_index = 1.785\n",
    "cresis_depth_1 = twtt_to_depth(twtt_at_intersect[0][0], cresis_refractive_index)\n",
    "cresis_depth_2 = twtt_to_depth(twtt_at_intersect[0][1], cresis_refractive_index)\n",
    "\n",
    "print(f\"By CReSIS refractive index: {cresis_refractive_index}\")\n",
    "print(f\"depth at crossover point on segment 1: {cresis_depth_1} m\")\n",
    "print(f\"depth at crossover point on segment 2: {cresis_depth_2} m\")\n",
    "print(section_break)\n",
    "\"\"\"\n",
    "End of the cleanup (for now)\n",
    "\"\"\""
   ]
  },
  {
   "cell_type": "code",
   "execution_count": 15,
   "outputs": [],
   "source": [
    "# save the crossover point data to crossovers.json\n",
    "# save_crossover()"
   ],
   "metadata": {
    "collapsed": false,
    "ExecuteTime": {
     "end_time": "2023-12-19T02:18:17.865195600Z",
     "start_time": "2023-12-19T02:18:17.840854500Z"
    }
   },
   "id": "3b087e1419fd2dab"
  },
  {
   "cell_type": "code",
   "execution_count": 16,
   "id": "1b12cd14470c7932",
   "metadata": {
    "collapsed": false,
    "ExecuteTime": {
     "end_time": "2023-12-19T02:18:18.273513500Z",
     "start_time": "2023-12-19T02:18:18.231136900Z"
    }
   },
   "outputs": [],
   "source": [
    "def plot_layers_at_cross(layers, intersection_indices, intersection_points, zoom=False, refractive_index=1.77,\n",
    "                         cross_index=0):\n",
    "    \"\"\"\n",
    "    :param layers: a list of Layer objects\n",
    "    :param intersection_indices: a list of indices in the lat-lon arrays where the flight path\n",
    "    crosses over itself\n",
    "    :param intersection_points: a list of lat-lon points where the flight path crosses over itself\n",
    "    :return: nothing (plots the layers and the map)\n",
    "    \"\"\"\n",
    "    plt.figure(figsize=(24, 12), layout='constrained')\n",
    "    print(\"Plotting layers and map...\")\n",
    "    print(\"--------------------\")\n",
    "    print(\"Adjusting for surface twtt...\")\n",
    "    for layer in layers:\n",
    "        corrected_layer = layer.twtt - layers[0].twtt\n",
    "        layer.twtt_corrected = corrected_layer\n",
    "\n",
    "    # ax2 will be the layer plot\n",
    "    plt.subplot(1, 2, 1)\n",
    "\n",
    "    # plot the layer depths vs index for 500 points before and after the first\n",
    "    # crossover point for each layer.\n",
    "    # also plot the layer depths vs index for 500 points before and after the\n",
    "    # second crossover point for each layer.\n",
    "    offset = 500\n",
    "    # plot the corrected twtt for each layer\n",
    "    plt.plot(\n",
    "        layers[0].twtt_corrected[intersection_indices[0][0] - offset:intersection_indices[cross_index][0] + offset],\n",
    "        label=layers[0].layer_name)\n",
    "    plt.plot(\n",
    "        layers[1].twtt_corrected[intersection_indices[0][0] - offset:intersection_indices[cross_index][0] + offset],\n",
    "        label=layers[1].layer_name + ' segment 1')\n",
    "    plt.plot(\n",
    "        layers[1].twtt_corrected[intersection_indices[0][1] - offset:intersection_indices[cross_index][1] + offset],\n",
    "        label=layers[1].layer_name + ' segment 2')\n",
    "\n",
    "    # plot uncorrected twtt for each layer\n",
    "    # plt.plot(layers[0].twtt[intersection_indices[0][0] - offset:intersection_indices[0][0] + offset],\n",
    "    #             label=layers[0].layer_name)\n",
    "    # plt.plot(layers[1].twtt[intersection_indices[0][0] - offset:intersection_indices[0][0] + offset],\n",
    "    #             label=layers[1].layer_name + ' segment 1')\n",
    "    # plt.plot(layers[1].twtt[intersection_indices[0][1] - offset:intersection_indices[0][1] + offset],\n",
    "    # label=layers[1].layer_name + ' segment 2')\n",
    "\n",
    "    # invert the y-axis because the twtt increases with depth\n",
    "    plt.gca().invert_yaxis()\n",
    "    # plot the crossover point on the plot\n",
    "    plt.scatter(offset, twtt_at_point(layers[1], layers[0],\n",
    "                                      intersection_indices, quiet=True)[0][0], color='red',\n",
    "                label='X Point 1')\n",
    "    plt.scatter(offset, twtt_at_point(layers[1], layers[0],\n",
    "                                      intersection_indices, quiet=True)[0][1], color='green',\n",
    "                label='X Point 2')\n",
    "    # plot a line at the crossover point\n",
    "    plt.axvline(x=offset, color='black', label='X Point', linestyle='--', linewidth=0.3)\n",
    "\n",
    "    # set the y axis to be in nanoseconds instead of seconds\n",
    "    plt.ylabel(\"Adjusted Two Way Travel Time (ns)\")\n",
    "    plt.xlabel(\"Index\")\n",
    "\n",
    "    # force the y values to be displayed in 1e-6 ticks (microseconds) instead of 1e-5 ticks (tens of microseconds)\n",
    "    plt.ticklabel_format(style='sci', axis='y', scilimits=(0, 0), useMathText=True)\n",
    "\n",
    "    def s_to_ms(x, pos):\n",
    "        \"\"\"\n",
    "        :param x: the x value\n",
    "        :param pos: the position\n",
    "        :return: the x value in milliseconds\n",
    "        \"\"\"\n",
    "        return '%1.1f' % (x * 1e6)\n",
    "\n",
    "    # set the y axis to be in microseconds instead of seconds\n",
    "    plt.gca().yaxis.set_major_formatter(plt.FuncFormatter(s_to_ms))\n",
    "\n",
    "    # make the right side y axis show the depth in meters by converting the twtt to depth using the refractive index\n",
    "    min_y, max_y = plt.ylim()\n",
    "    n = refractive_index\n",
    "    c = 299792458  # m/s\n",
    "    v = c / n\n",
    "    # depth = twtt * v / 2\n",
    "    scale_factor = v / 2\n",
    "    print(f\"scale factor: {scale_factor}\")\n",
    "    plt.twinx()\n",
    "    plt.ylim(min_y * scale_factor, max_y * scale_factor)\n",
    "    plt.ylabel(\"Depth (m)\")\n",
    "\n",
    "    # make the top of the x axis be the distance in meters by converting the lat-lon to distance using the haversine formula\n",
    "    min_x, max_x = plt.xlim()\n",
    "    scale_factor = latlon_dist((layers[0].lat[0], layers[0].lon[0]), (layers[0].lat[1], layers[0].lon[1]))\n",
    "    print(f\"scale factor: {scale_factor}\")\n",
    "    plt.twiny()\n",
    "    plt.xlim(min_x * scale_factor, max_x * scale_factor)\n",
    "    plt.xlabel(\"Distance (m)\")\n",
    "\n",
    "    plt.title(\"Adjusted Two Way Travel Time vs Index\")\n",
    "    plt.legend([\"legend\"], fontsize='smaller', loc='upper right', bbox_to_anchor=(1.1, 1.1))\n",
    "\n",
    "    \"\"\"\n",
    "    plot the map\n",
    "    \"\"\"\n",
    "    plt.subplot(1, 2, 2)\n",
    "\n",
    "    # TODO: add an offset to the zoom settings so that the crossover point is in the center of the zoomed in map\n",
    "\n",
    "    # # this code sets up a polar stereographic map of antarctica with the South Pole in the center\n",
    "    zoom_out_to_continent = not zoom\n",
    "    if zoom_out_to_continent:\n",
    "        llcrnrx = -400000\n",
    "        llcrnry = -400000\n",
    "        urcrnrx = 250000\n",
    "        urcrnry = 250000\n",
    "    else:\n",
    "        llcrnrx= -50000\n",
    "        llcrnry= -50000\n",
    "        urcrnrx= 50000\n",
    "        urcrnry= 50000\n",
    "    lat_0 = intersection_points[cross_index][0]\n",
    "    lon_0 = intersection_points[cross_index][1]\n",
    "    m = Basemap(projection='ortho', lat_0=lat_0, lon_0=lon_0, llcrnrx=llcrnrx, \n",
    "                llcrnry=llcrnry, urcrnrx=urcrnrx, urcrnry=urcrnry, resolution='c')\n",
    "\n",
    "    m.drawcoastlines()\n",
    "    m.fillcontinents(color='grey', lake_color='aqua')\n",
    "    m.drawparallels(np.arange(-80., 81., 20.))\n",
    "    m.drawmeridians(np.arange(-180., 181., 20.))\n",
    "    m.drawmapboundary(fill_color='aqua')\n",
    "\n",
    "    # plot the flight path\n",
    "    m.plot(layers[0].lon, layers[0].lat, latlon=True, color='lightgreen', linewidth=1)\n",
    "    # plot the section of the flight path in the plot above\n",
    "    m.plot(layers[0].lon[intersection_indices[0][0] - offset:intersection_indices[0][0] + offset],\n",
    "           layers[0].lat[intersection_indices[0][0] - offset:intersection_indices[0][0] + offset], latlon=True,\n",
    "           color='red', linewidth=1)\n",
    "    m.plot(layers[0].lon[intersection_indices[0][1] - offset:intersection_indices[0][1] + offset],\n",
    "           layers[0].lat[intersection_indices[0][1] - offset:intersection_indices[0][1] + offset], latlon=True,\n",
    "           color='green', linewidth=1)\n",
    "    # plot labels for the flight paths at their start points\n",
    "    plt.text(\n",
    "        m(layers[0].lon[intersection_indices[0][0] - offset], layers[0].lat[intersection_indices[0][0] - offset])[\n",
    "            0],\n",
    "        m(layers[0].lon[intersection_indices[0][0] - offset], layers[0].lat[intersection_indices[0][0] - offset])[\n",
    "            1], '\\nsegment 1', fontsize='smaller', fontweight='bold', ha='right', va='top', color='red')\n",
    "    plt.text(\n",
    "        m(layers[0].lon[intersection_indices[0][1] - offset], layers[0].lat[intersection_indices[0][1] - offset])[\n",
    "            0],\n",
    "        m(layers[0].lon[intersection_indices[0][1] - offset], layers[0].lat[intersection_indices[0][1] - offset])[\n",
    "            1], '\\nsegment 2', fontsize='smaller', fontweight='bold', ha='left', va='top', color='green')\n",
    "    # plot the South Pole\n",
    "    m.scatter(0, -90, latlon=True, color='black', linewidth=1, label='South Pole')\n",
    "    # plot the crossover points\n",
    "    for point in intersection_points:\n",
    "        m.scatter(point[1], point[0], latlon=True, color='darkred', linewidth=1, label='Crossover Point')\n",
    "        plt.text(m(point[1], point[0])[0], m(point[1], point[0])[1] - 10000, 'Crossover Point\\n\\n',\n",
    "                 fontsize='smaller', fontweight='bold', ha='center', va='top', color='darkred')\n",
    "\n",
    "    # m.scatter(intersection_points[cross_index][1], intersection_points[cross_index][0], latlon=True, color='darkred',\n",
    "    #           linewidth=1, label='Crossover Point')\n",
    "    # plt.text(m(intersection_points[cross_index][1], intersection_points[cross_index][0])[0],\n",
    "    #          m(intersection_points[cross_index][1], intersection_points[cross_index][0])[1] - 10000,\n",
    "    #          'Crossover Point\\n\\n',\n",
    "    #          fontsize='smaller', fontweight='bold', ha='center', va='top', color='darkred')\n",
    "\n",
    "    # plot the crossover line\n",
    "\n",
    "    x, y = m(0, -90)\n",
    "    plt.text(x, y, '\\nSouth Pole', fontsize='smaller', fontweight='bold', ha='center', va='top', color='black')\n",
    "    plt.title(\"Lat-Lon Map\")\n",
    "    # set tight layout\n",
    "    # plt.tight_layout()\n",
    "\n",
    "    # save the plot\n",
    "    plt.savefig(\"layer_plot.png\", dpi=250)\n",
    "\n",
    "    plt.show()\n",
    "\n",
    "    print(\"plotted map\")\n",
    "    print(\"--------------------\\n\")"
   ]
  },
  {
   "cell_type": "code",
   "execution_count": 17,
   "id": "908aed9ecd9e80ca",
   "metadata": {
    "collapsed": false,
    "ExecuteTime": {
     "end_time": "2023-12-19T02:18:22.961178200Z",
     "start_time": "2023-12-19T02:18:18.743675600Z"
    }
   },
   "outputs": [
    {
     "name": "stdout",
     "output_type": "stream",
     "text": [
      "2018_Antarctica_DC8 20181112_02\n",
      "Plotting layers and map...\n",
      "--------------------\n",
      "Adjusting for surface twtt...\n",
      "scale factor: 84687135.0282486\n",
      "scale factor: 14.933282351146456\n"
     ]
    },
    {
     "data": {
      "text/plain": "<Figure size 2400x1200 with 4 Axes>",
      "image/png": "[encoded data removed]"
     },
     "metadata": {},
     "output_type": "display_data"
    },
    {
     "name": "stdout",
     "output_type": "stream",
     "text": [
      "plotted map\n",
      "--------------------\n",
      "\n",
      "2184.928083728814 m\n",
      "2582.9576183615823 m\n",
      "difference: -398.02953463276845 m\n"
     ]
    }
   ],
   "source": [
    "print(season, flight)\n",
    "cross_index = 0\n",
    "plot_layers_at_cross(layers, intersection_indices, intersection_points,zoom=False, refractive_index=my_refractive_index,cross_index=cross_index)\n",
    "\n",
    "\n",
    "# convert 25.8 microseconds to seconds\n",
    "time = 25.8 * 10 ** -6\n",
    "time2 = 30.5 * 10 ** -6\n",
    "\n",
    "print(f\"{twtt_to_depth(time, 1.77)} m\")\n",
    "print(f\"{twtt_to_depth(time2, 1.77)} m\")\n",
    "print(f\"difference: {twtt_to_depth(time, 1.77) - twtt_to_depth(time2, 1.77)} m\")"
   ]
  },
  {
   "cell_type": "code",
   "execution_count": 18,
   "outputs": [],
   "source": [
    "import cartopy.crs as ccrs\n",
    "import cartopy.feature as cfeature\n",
    "import iceflow_library as iceflow\n",
    "from iceflow_library import *"
   ],
   "metadata": {
    "collapsed": false,
    "ExecuteTime": {
     "end_time": "2023-12-19T02:18:22.965451Z",
     "start_time": "2023-12-19T02:18:22.952556100Z"
    }
   },
   "id": "938ccba22162917f"
  },
  {
   "cell_type": "code",
   "execution_count": 19,
   "outputs": [
    {
     "name": "stdout",
     "output_type": "stream",
     "text": [
      "The iceflow data pickle file was found and loaded.\n",
      "Iceflow data array layout is 0:x, 1:y, 2:v_x, 3:v_y, 4:latitude, 5:longitude\n"
     ]
    }
   ],
   "source": [
    "try:\n",
    "    iceflow_data = iceflow.iceflow_data_file_loader()\n",
    "    print(\"The iceflow data pickle file was found and loaded.\")\n",
    "except FileNotFoundError:\n",
    "    print(\"The iceflow data pickle file was not found. Creating a new one...\")\n",
    "    filename = iceflow.iceflow_saver()\n",
    "    iceflow_data = iceflow.iceflow_loader(filename)\n",
    "    print(\"The iceflow data pickle file was successfully created.\")\n",
    "\n",
    "print(f\"Iceflow data array layout is 0:x, 1:y, 2:v_x, 3:v_y, 4:latitude, 5:longitude\")"
   ],
   "metadata": {
    "collapsed": false,
    "ExecuteTime": {
     "end_time": "2023-12-19T02:18:27.290230900Z",
     "start_time": "2023-12-19T02:18:22.965451Z"
    }
   },
   "id": "be0582f104e27a3"
  },
  {
   "cell_type": "code",
   "execution_count": 20,
   "outputs": [
    {
     "name": "stdout",
     "output_type": "stream",
     "text": [
      "x_lat: -87.98001182813607, y_lon: 119.99130567250452\n",
      "type of x_point: <class 'float'>\n",
      "closest_x_y: (6645, 6466)\n",
      "-87.97897370417806\n",
      "150.031833949998\n"
     ]
    }
   ],
   "source": [
    "# find the nearest iceflow data point to the crossover point\n",
    "# print(f\"intersection_points[0]: {intersection_points[0]}\")\n",
    "x_lat = intersection_points[0][0]\n",
    "y_lon = intersection_points[0][1]\n",
    "print(f\"x_lat: {x_lat}, y_lon: {y_lon}\")\n",
    "\n",
    "# convert the crossover point lat-lon to polar stereographic\n",
    "from pyproj import Transformer\n",
    "polar_stereo_format = \"EPSG:3031\"  # the polar stereographic projection for Antarctica\n",
    "lat_lon_format = \"EPSG:4326\"  # the lat-lon projection\n",
    "transformer = Transformer.from_crs(lat_lon_format, polar_stereo_format)\n",
    "point = transformer.transform(x_lat, y_lon)\n",
    "x_point = point[0]\n",
    "y_point = point[1]\n",
    "print(f\"type of x_point: {type(x_point)}\")\n",
    "# print the nearest x and y iceflow data points to the crossover point\n",
    "closest_x_y = find_nearest_x_and_y(x_point, y_point, iceflow_data)\n",
    "print(f\"closest_x_y: {closest_x_y}\")\n",
    "# print the iceflow data at the nearest x and y points\n",
    "print(iceflow_data[4][closest_x_y[0]][closest_x_y[1]])\n",
    "print(iceflow_data[5][closest_x_y[0]][closest_x_y[1]])"
   ],
   "metadata": {
    "collapsed": false,
    "ExecuteTime": {
     "end_time": "2023-12-19T02:18:27.328513800Z",
     "start_time": "2023-12-19T02:18:27.291306800Z"
    }
   },
   "id": "f8b6ab08eb85c742"
  },
  {
   "cell_type": "code",
   "execution_count": 15,
   "outputs": [],
   "source": [],
   "metadata": {
    "collapsed": false,
    "ExecuteTime": {
     "end_time": "2023-12-18T18:05:13.809111300Z",
     "start_time": "2023-12-18T18:05:13.791602400Z"
    }
   },
   "id": "cbba0165d95b88d5"
  },
  {
   "cell_type": "code",
   "execution_count": 15,
   "outputs": [],
   "source": [],
   "metadata": {
    "collapsed": false,
    "ExecuteTime": {
     "end_time": "2023-12-18T18:05:13.839872800Z",
     "start_time": "2023-12-18T18:05:13.810851900Z"
    }
   },
   "id": "f573c6b100bf3ba9"
  },
  {
   "cell_type": "code",
   "execution_count": 15,
   "outputs": [],
   "source": [],
   "metadata": {
    "collapsed": false,
    "ExecuteTime": {
     "end_time": "2023-12-18T18:05:13.865292600Z",
     "start_time": "2023-12-18T18:05:13.839872800Z"
    }
   },
   "id": "1860b21be92b8868"
  },
  {
   "cell_type": "code",
   "execution_count": null,
   "outputs": [],
   "source": [],
   "metadata": {
    "collapsed": false
   },
   "id": "c5f8a1ab2538cc9b"
  },
  {
   "cell_type": "code",
   "execution_count": null,
   "id": "ced39fee086ed207",
   "metadata": {
    "collapsed": false
   },
   "outputs": [],
   "source": [
    "cross_index = 2\n",
    "plot_layers_at_cross(layers, intersection_indices, intersection_points,zoom=zoom, refractive_index=my_refractive_index,cross_index=cross_index)"
   ]
  },
  {
   "cell_type": "code",
   "execution_count": null,
   "id": "c7655805c04d1c82",
   "metadata": {
    "collapsed": false
   },
   "outputs": [],
   "source": [
    "# TODO: now that everything is in the library file -> look at the plot_layers_at_cross function and see if the corrected\n",
    "    # layer portion is something that should be its own function and if it needs to be part of the posit object that is\n",
    "    # being saved."
   ]
  },
  {
   "cell_type": "code",
   "execution_count": null,
   "id": "1068dfeb3fa8631",
   "metadata": {
    "collapsed": false
   },
   "outputs": [],
   "source": [
    "# find the difference in lat-lon between each of the 4 points in the crossover\n"
   ]
  },
  {
   "cell_type": "code",
   "execution_count": null,
   "id": "aadb6fda4d39a481",
   "metadata": {
    "collapsed": false
   },
   "outputs": [],
   "source": []
  }
 ],
 "metadata": {
  "kernelspec": {
   "display_name": "Python 3 (ipykernel)",
   "language": "python",
   "name": "python3"
  },
  "language_info": {
   "codemirror_mode": {
    "name": "ipython",
    "version": 3
   },
   "file_extension": ".py",
   "mimetype": "text/x-python",
   "name": "python",
   "nbconvert_exporter": "python",
   "pygments_lexer": "ipython3",
   "version": "3.10.4"
  }
 },
 "nbformat": 4,
 "nbformat_minor": 5
}

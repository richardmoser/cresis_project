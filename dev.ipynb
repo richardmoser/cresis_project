{
 "cells": [
  {
   "cell_type": "markdown",
   "source": [
    "# TODO:\n",
    "### 24Oct23 - 31Oct23"
   ],
   "metadata": {
    "collapsed": false
   },
   "id": "914384a0570a905a"
  },
  {
   "cell_type": "code",
   "execution_count": 1,
   "outputs": [],
   "source": [
    "from CReSIS_project_classes import *\n",
    "from functions import *\n",
    "from iceflow_library import *\n",
    "from CReSIS_project_classes import *"
   ],
   "metadata": {
    "collapsed": false,
    "ExecuteTime": {
     "end_time": "2023-12-19T16:25:07.338470900Z",
     "start_time": "2023-12-19T16:25:04.149507500Z"
    }
   },
   "id": "82c297c4d7d856f2"
  },
  {
   "cell_type": "code",
   "execution_count": 10,
   "outputs": [],
   "source": [
    "zoom = True\n",
    "seg_length = 100\n",
    "season = \"2018_Antarctica_DC8\"\n",
    "# season = \"2016_Antarctica_DC8\"\n",
    "flight = \"20181030_01\"  # the flight date and frame number\n",
    "# flight = \"20181103_01\"\n",
    "flight = \"20181112_02\"  # the problem flight\n",
    "# flight = \"20161024_05\"\n",
    "file_name = \"layer_export_\" + flight + \".pickle\"\n",
    "testing = False"
   ],
   "metadata": {
    "collapsed": false,
    "ExecuteTime": {
     "end_time": "2023-12-19T16:29:20.596607200Z",
     "start_time": "2023-12-19T16:29:20.583100600Z"
    }
   },
   "id": "80fa46579d551152"
  },
  {
   "cell_type": "markdown",
   "source": [
    "### read in the layers from the layer files and save them to a pickle file"
   ],
   "metadata": {
    "collapsed": false
   },
   "id": "82960565fc3413a4"
  },
  {
   "cell_type": "code",
   "execution_count": 11,
   "outputs": [
    {
     "name": "stdout",
     "output_type": "stream",
     "text": [
      "File layer_export_20181112_02.pickle does not exist. Making it...\n",
      "Reading data files...\n",
      "--------------------\n",
      "layer_attributes_file: layer_20181112_02.mat\n"
     ]
    },
    {
     "ename": "FileNotFoundError",
     "evalue": "[Errno 2] No such file or directory: 'C:\\\\Users\\\\rj\\\\Documents\\\\cresis\\\\rds\\\\2018_Antarctica_DC8\\\\CSARP_layerData\\\\20181112_02\\\\layer_20181112_02.mat'",
     "output_type": "error",
     "traceback": [
      "\u001B[1;31m---------------------------------------------------------------------------\u001B[0m",
      "\u001B[1;31mFileNotFoundError\u001B[0m                         Traceback (most recent call last)",
      "File \u001B[1;32m~\\AppData\\Local\\Programs\\Python\\Python311\\Lib\\site-packages\\scipy\\io\\matlab\\_mio.py:39\u001B[0m, in \u001B[0;36m_open_file\u001B[1;34m(file_like, appendmat, mode)\u001B[0m\n\u001B[0;32m     38\u001B[0m \u001B[38;5;28;01mtry\u001B[39;00m:\n\u001B[1;32m---> 39\u001B[0m     \u001B[38;5;28;01mreturn\u001B[39;00m \u001B[38;5;28mopen\u001B[39m(file_like, mode), \u001B[38;5;28;01mTrue\u001B[39;00m\n\u001B[0;32m     40\u001B[0m \u001B[38;5;28;01mexcept\u001B[39;00m \u001B[38;5;167;01mOSError\u001B[39;00m \u001B[38;5;28;01mas\u001B[39;00m e:\n\u001B[0;32m     41\u001B[0m     \u001B[38;5;66;03m# Probably \"not found\"\u001B[39;00m\n",
      "\u001B[1;31mFileNotFoundError\u001B[0m: [Errno 2] No such file or directory: 'C:\\\\Users\\\\rj\\\\Documents\\\\cresis\\\\rds\\\\2018_Antarctica_DC8\\\\CSARP_layerData\\\\20181112_02\\\\layer_20181112_02.mat'",
      "\nDuring handling of the above exception, another exception occurred:\n",
      "\u001B[1;31mFileNotFoundError\u001B[0m                         Traceback (most recent call last)",
      "Cell \u001B[1;32mIn[11], line 6\u001B[0m\n\u001B[0;32m      3\u001B[0m \u001B[38;5;28;01mif\u001B[39;00m \u001B[38;5;129;01mnot\u001B[39;00m os\u001B[38;5;241m.\u001B[39mpath\u001B[38;5;241m.\u001B[39misfile(file_name):  \u001B[38;5;66;03m# if the file does not exist\u001B[39;00m\n\u001B[0;32m      4\u001B[0m     \u001B[38;5;66;03m# file_name = \"layer_export_\" + flight + \".pickle\"\u001B[39;00m\n\u001B[0;32m      5\u001B[0m     \u001B[38;5;28mprint\u001B[39m(\u001B[38;5;124mf\u001B[39m\u001B[38;5;124m\"\u001B[39m\u001B[38;5;124mFile \u001B[39m\u001B[38;5;132;01m{\u001B[39;00mfile_name\u001B[38;5;132;01m}\u001B[39;00m\u001B[38;5;124m does not exist. Making it...\u001B[39m\u001B[38;5;124m\"\u001B[39m)\n\u001B[1;32m----> 6\u001B[0m     \u001B[43mmat_pickler\u001B[49m\u001B[43m(\u001B[49m\u001B[43mseason\u001B[49m\u001B[43m,\u001B[49m\u001B[43m \u001B[49m\u001B[43mflight\u001B[49m\u001B[43m,\u001B[49m\u001B[43m \u001B[49m\u001B[43mtesting_mode\u001B[49m\u001B[38;5;241;43m=\u001B[39;49m\u001B[43mtesting\u001B[49m\u001B[43m)\u001B[49m  \u001B[38;5;66;03m# make it\u001B[39;00m\n\u001B[0;32m      8\u001B[0m layers \u001B[38;5;241m=\u001B[39m read_layers(file_name)  \u001B[38;5;66;03m# read in the layers from the pickle file\u001B[39;00m\n",
      "File \u001B[1;32m~\\PycharmProjects\\cresis_project\\functions.py:57\u001B[0m, in \u001B[0;36mmat_pickler\u001B[1;34m(season, flight, testing_mode, readout, save, plot_layer)\u001B[0m\n\u001B[0;32m     54\u001B[0m \u001B[38;5;66;03m# load an array of mat files\u001B[39;00m\n\u001B[0;32m     55\u001B[0m data_mat \u001B[38;5;241m=\u001B[39m np\u001B[38;5;241m.\u001B[39marray([sio\u001B[38;5;241m.\u001B[39mloadmat(\u001B[38;5;28mdir\u001B[39m \u001B[38;5;241m+\u001B[39m segment_data_file \u001B[38;5;241m+\u001B[39m \u001B[38;5;28mstr\u001B[39m(i)\u001B[38;5;241m.\u001B[39mzfill(\u001B[38;5;241m3\u001B[39m) \u001B[38;5;241m+\u001B[39m \u001B[38;5;124m'\u001B[39m\u001B[38;5;124m.mat\u001B[39m\u001B[38;5;124m'\u001B[39m)\n\u001B[0;32m     56\u001B[0m                      \u001B[38;5;28;01mfor\u001B[39;00m i \u001B[38;5;129;01min\u001B[39;00m \u001B[38;5;28mrange\u001B[39m(\u001B[38;5;28mint\u001B[39m(startframe), \u001B[38;5;28mint\u001B[39m(endframe)\u001B[38;5;241m+\u001B[39m\u001B[38;5;241m1\u001B[39m)])\n\u001B[1;32m---> 57\u001B[0m attribute_mat \u001B[38;5;241m=\u001B[39m \u001B[43msio\u001B[49m\u001B[38;5;241;43m.\u001B[39;49m\u001B[43mloadmat\u001B[49m\u001B[43m(\u001B[49m\u001B[38;5;28;43mdir\u001B[39;49m\u001B[43m \u001B[49m\u001B[38;5;241;43m+\u001B[39;49m\u001B[43m \u001B[49m\u001B[43mlayer_attributes_file\u001B[49m\u001B[43m)\u001B[49m\n\u001B[0;32m     59\u001B[0m \u001B[38;5;66;03m# data_mat = np.array([mat73.loadmat(dir + segment_data_file + str(i).zfill(3) + '.mat')\u001B[39;00m\n\u001B[0;32m     60\u001B[0m \u001B[38;5;66;03m#                         for i in range(int(startframe), int(endframe)+1)])\u001B[39;00m\n\u001B[0;32m     61\u001B[0m \u001B[38;5;66;03m# attribute_mat = mat73.loadmat(dir + layer_attributes_file)\u001B[39;00m\n\u001B[0;32m     62\u001B[0m \n\u001B[0;32m     63\u001B[0m \n\u001B[0;32m     64\u001B[0m \u001B[38;5;66;03m# print the keys as strings without all the extra stuff\u001B[39;00m\n\u001B[0;32m     65\u001B[0m keys \u001B[38;5;241m=\u001B[39m [\u001B[38;5;28mstr\u001B[39m(key)\u001B[38;5;241m.\u001B[39mstrip(\u001B[38;5;124m\"\u001B[39m\u001B[38;5;124m_\u001B[39m\u001B[38;5;124m\"\u001B[39m) \u001B[38;5;28;01mfor\u001B[39;00m key \u001B[38;5;129;01min\u001B[39;00m data_mat[\u001B[38;5;241m0\u001B[39m]\u001B[38;5;241m.\u001B[39mkeys()]\n",
      "File \u001B[1;32m~\\AppData\\Local\\Programs\\Python\\Python311\\Lib\\site-packages\\scipy\\io\\matlab\\_mio.py:225\u001B[0m, in \u001B[0;36mloadmat\u001B[1;34m(file_name, mdict, appendmat, **kwargs)\u001B[0m\n\u001B[0;32m     88\u001B[0m \u001B[38;5;250m\u001B[39m\u001B[38;5;124;03m\"\"\"\u001B[39;00m\n\u001B[0;32m     89\u001B[0m \u001B[38;5;124;03mLoad MATLAB file.\u001B[39;00m\n\u001B[0;32m     90\u001B[0m \n\u001B[1;32m   (...)\u001B[0m\n\u001B[0;32m    222\u001B[0m \u001B[38;5;124;03m    3.14159265+3.14159265j])\u001B[39;00m\n\u001B[0;32m    223\u001B[0m \u001B[38;5;124;03m\"\"\"\u001B[39;00m\n\u001B[0;32m    224\u001B[0m variable_names \u001B[38;5;241m=\u001B[39m kwargs\u001B[38;5;241m.\u001B[39mpop(\u001B[38;5;124m'\u001B[39m\u001B[38;5;124mvariable_names\u001B[39m\u001B[38;5;124m'\u001B[39m, \u001B[38;5;28;01mNone\u001B[39;00m)\n\u001B[1;32m--> 225\u001B[0m \u001B[43m\u001B[49m\u001B[38;5;28;43;01mwith\u001B[39;49;00m\u001B[43m \u001B[49m\u001B[43m_open_file_context\u001B[49m\u001B[43m(\u001B[49m\u001B[43mfile_name\u001B[49m\u001B[43m,\u001B[49m\u001B[43m \u001B[49m\u001B[43mappendmat\u001B[49m\u001B[43m)\u001B[49m\u001B[43m \u001B[49m\u001B[38;5;28;43;01mas\u001B[39;49;00m\u001B[43m \u001B[49m\u001B[43mf\u001B[49m\u001B[43m:\u001B[49m\n\u001B[0;32m    226\u001B[0m \u001B[43m    \u001B[49m\u001B[43mMR\u001B[49m\u001B[43m,\u001B[49m\u001B[43m \u001B[49m\u001B[43m_\u001B[49m\u001B[43m \u001B[49m\u001B[38;5;241;43m=\u001B[39;49m\u001B[43m \u001B[49m\u001B[43mmat_reader_factory\u001B[49m\u001B[43m(\u001B[49m\u001B[43mf\u001B[49m\u001B[43m,\u001B[49m\u001B[43m \u001B[49m\u001B[38;5;241;43m*\u001B[39;49m\u001B[38;5;241;43m*\u001B[39;49m\u001B[43mkwargs\u001B[49m\u001B[43m)\u001B[49m\n\u001B[0;32m    227\u001B[0m \u001B[43m    \u001B[49m\u001B[43mmatfile_dict\u001B[49m\u001B[43m \u001B[49m\u001B[38;5;241;43m=\u001B[39;49m\u001B[43m \u001B[49m\u001B[43mMR\u001B[49m\u001B[38;5;241;43m.\u001B[39;49m\u001B[43mget_variables\u001B[49m\u001B[43m(\u001B[49m\u001B[43mvariable_names\u001B[49m\u001B[43m)\u001B[49m\n",
      "File \u001B[1;32m~\\AppData\\Local\\Programs\\Python\\Python311\\Lib\\contextlib.py:137\u001B[0m, in \u001B[0;36m_GeneratorContextManager.__enter__\u001B[1;34m(self)\u001B[0m\n\u001B[0;32m    135\u001B[0m \u001B[38;5;28;01mdel\u001B[39;00m \u001B[38;5;28mself\u001B[39m\u001B[38;5;241m.\u001B[39margs, \u001B[38;5;28mself\u001B[39m\u001B[38;5;241m.\u001B[39mkwds, \u001B[38;5;28mself\u001B[39m\u001B[38;5;241m.\u001B[39mfunc\n\u001B[0;32m    136\u001B[0m \u001B[38;5;28;01mtry\u001B[39;00m:\n\u001B[1;32m--> 137\u001B[0m     \u001B[38;5;28;01mreturn\u001B[39;00m \u001B[38;5;28mnext\u001B[39m(\u001B[38;5;28mself\u001B[39m\u001B[38;5;241m.\u001B[39mgen)\n\u001B[0;32m    138\u001B[0m \u001B[38;5;28;01mexcept\u001B[39;00m \u001B[38;5;167;01mStopIteration\u001B[39;00m:\n\u001B[0;32m    139\u001B[0m     \u001B[38;5;28;01mraise\u001B[39;00m \u001B[38;5;167;01mRuntimeError\u001B[39;00m(\u001B[38;5;124m\"\u001B[39m\u001B[38;5;124mgenerator didn\u001B[39m\u001B[38;5;124m'\u001B[39m\u001B[38;5;124mt yield\u001B[39m\u001B[38;5;124m\"\u001B[39m) \u001B[38;5;28;01mfrom\u001B[39;00m \u001B[38;5;28;01mNone\u001B[39;00m\n",
      "File \u001B[1;32m~\\AppData\\Local\\Programs\\Python\\Python311\\Lib\\site-packages\\scipy\\io\\matlab\\_mio.py:17\u001B[0m, in \u001B[0;36m_open_file_context\u001B[1;34m(file_like, appendmat, mode)\u001B[0m\n\u001B[0;32m     15\u001B[0m \u001B[38;5;129m@contextmanager\u001B[39m\n\u001B[0;32m     16\u001B[0m \u001B[38;5;28;01mdef\u001B[39;00m \u001B[38;5;21m_open_file_context\u001B[39m(file_like, appendmat, mode\u001B[38;5;241m=\u001B[39m\u001B[38;5;124m'\u001B[39m\u001B[38;5;124mrb\u001B[39m\u001B[38;5;124m'\u001B[39m):\n\u001B[1;32m---> 17\u001B[0m     f, opened \u001B[38;5;241m=\u001B[39m \u001B[43m_open_file\u001B[49m\u001B[43m(\u001B[49m\u001B[43mfile_like\u001B[49m\u001B[43m,\u001B[49m\u001B[43m \u001B[49m\u001B[43mappendmat\u001B[49m\u001B[43m,\u001B[49m\u001B[43m \u001B[49m\u001B[43mmode\u001B[49m\u001B[43m)\u001B[49m\n\u001B[0;32m     18\u001B[0m     \u001B[38;5;28;01mtry\u001B[39;00m:\n\u001B[0;32m     19\u001B[0m         \u001B[38;5;28;01myield\u001B[39;00m f\n",
      "File \u001B[1;32m~\\AppData\\Local\\Programs\\Python\\Python311\\Lib\\site-packages\\scipy\\io\\matlab\\_mio.py:45\u001B[0m, in \u001B[0;36m_open_file\u001B[1;34m(file_like, appendmat, mode)\u001B[0m\n\u001B[0;32m     43\u001B[0m     \u001B[38;5;28;01mif\u001B[39;00m appendmat \u001B[38;5;129;01mand\u001B[39;00m \u001B[38;5;129;01mnot\u001B[39;00m file_like\u001B[38;5;241m.\u001B[39mendswith(\u001B[38;5;124m'\u001B[39m\u001B[38;5;124m.mat\u001B[39m\u001B[38;5;124m'\u001B[39m):\n\u001B[0;32m     44\u001B[0m         file_like \u001B[38;5;241m+\u001B[39m\u001B[38;5;241m=\u001B[39m \u001B[38;5;124m'\u001B[39m\u001B[38;5;124m.mat\u001B[39m\u001B[38;5;124m'\u001B[39m\n\u001B[1;32m---> 45\u001B[0m     \u001B[38;5;28;01mreturn\u001B[39;00m \u001B[38;5;28mopen\u001B[39m(file_like, mode), \u001B[38;5;28;01mTrue\u001B[39;00m\n\u001B[0;32m     46\u001B[0m \u001B[38;5;28;01melse\u001B[39;00m:\n\u001B[0;32m     47\u001B[0m     \u001B[38;5;28;01mraise\u001B[39;00m \u001B[38;5;167;01mOSError\u001B[39;00m(\n\u001B[0;32m     48\u001B[0m         \u001B[38;5;124m'\u001B[39m\u001B[38;5;124mReader needs file name or open file-like object\u001B[39m\u001B[38;5;124m'\u001B[39m\n\u001B[0;32m     49\u001B[0m     ) \u001B[38;5;28;01mfrom\u001B[39;00m \u001B[38;5;21;01me\u001B[39;00m\n",
      "\u001B[1;31mFileNotFoundError\u001B[0m: [Errno 2] No such file or directory: 'C:\\\\Users\\\\rj\\\\Documents\\\\cresis\\\\rds\\\\2018_Antarctica_DC8\\\\CSARP_layerData\\\\20181112_02\\\\layer_20181112_02.mat'"
     ]
    }
   ],
   "source": [
    "# if the file at filename exists, read in the layers from the pickle file\n",
    "# otherwise, read in the layers from the layer files and save them to a pickle file\n",
    "if not os.path.isfile(file_name):  # if the file does not exist\n",
    "    # file_name = \"layer_export_\" + flight + \".pickle\"\n",
    "    print(f\"File {file_name} does not exist. Making it...\")\n",
    "    mat_pickler(season, flight, testing_mode=testing)  # make it\n",
    "    \n",
    "layers = read_layers(file_name)  # read in the layers from the pickle file"
   ],
   "metadata": {
    "collapsed": false,
    "ExecuteTime": {
     "end_time": "2023-12-19T16:29:21.459054700Z",
     "start_time": "2023-12-19T16:29:21.304339Z"
    }
   },
   "id": "5e4326b0a8fa5712"
  },
  {
   "cell_type": "markdown",
   "source": [
    "### read in the iceflow data from the iceflow data files and save them to a pickle file"
   ],
   "metadata": {
    "collapsed": false
   },
   "id": "fc35cca7687abf68"
  },
  {
   "cell_type": "code",
   "execution_count": 4,
   "outputs": [
    {
     "name": "stdout",
     "output_type": "stream",
     "text": [
      "The iceflow data pickle file was found and loaded.\n"
     ]
    }
   ],
   "source": [
    "try:\n",
    "    iceflow_data = iceflow_data_file_loader()\n",
    "    print(\"The iceflow data pickle file was found and loaded.\")\n",
    "except FileNotFoundError:\n",
    "    print(\"The iceflow data pickle file was not found. Creating a new one...\")\n",
    "    filename = iceflow_saver()\n",
    "    iceflow_data = iceflow_loader(filename)\n",
    "    print(\"The iceflow data pickle file was successfully created.\")\n",
    "    \n",
    "x = iceflow_data[0]\n",
    "y = iceflow_data[1]\n",
    "velocity_x = iceflow_data[2]\n",
    "velocity_y = iceflow_data[3]\n",
    "latitude = iceflow_data[4]\n",
    "longitude = iceflow_data[5]"
   ],
   "metadata": {
    "collapsed": false,
    "ExecuteTime": {
     "end_time": "2023-12-19T16:25:16.949937300Z",
     "start_time": "2023-12-19T16:25:12.121093500Z"
    }
   },
   "id": "dbaab48f077de2bd"
  },
  {
   "cell_type": "markdown",
   "source": [
    "# next step: continue working through crossover.py to rebuild the code"
   ],
   "metadata": {
    "collapsed": false
   },
   "id": "ba5e58645026c00e"
  },
  {
   "cell_type": "code",
   "execution_count": 5,
   "outputs": [
    {
     "name": "stdout",
     "output_type": "stream",
     "text": [
      "Finding crossover point...\n",
      "--------------------\n",
      "Checking for intersections...\n",
      "Number of intersections: 1\n",
      "Index 0: \n",
      "indices: \t[5481, 12389]\n",
      "lat-lon: \t(-87.97979626378307, -130.00290123313295)\n",
      "segment ends: \t[[(-87.97970194261742, -130.00289959349308), (-87.9798362397862, -130.00290192805912)], [(-87.97979547351247, -130.00663549195292), (-87.97979627971515, -130.0028259494278)]]\n",
      "lat-lon by layer: \t(-87.97970194261742, -130.00289959349308)\n",
      "--------------------\n",
      "\n",
      "len(intersection_indices): 1\n",
      "len(intersection_points): 1\n"
     ]
    }
   ],
   "source": [
    "intersection_points_base, intersection_indices_base, segment_ends = cross_point(layers[0], seg_length, quiet=True)\n",
    "# find the crossover points\n",
    "print(f\"len(intersection_indices): {len(intersection_indices_base)}\")\n",
    "print(f\"len(intersection_points): {len(intersection_points_base)}\")"
   ],
   "metadata": {
    "collapsed": false,
    "ExecuteTime": {
     "end_time": "2023-12-19T16:26:22.736440900Z",
     "start_time": "2023-12-19T16:26:20.149298900Z"
    }
   },
   "id": "3eedf3cf8aa71b62"
  }
 ],
 "metadata": {
  "kernelspec": {
   "display_name": "Python 3",
   "language": "python",
   "name": "python3"
  },
  "language_info": {
   "codemirror_mode": {
    "name": "ipython",
    "version": 2
   },
   "file_extension": ".py",
   "mimetype": "text/x-python",
   "name": "python",
   "nbconvert_exporter": "python",
   "pygments_lexer": "ipython2",
   "version": "2.7.6"
  }
 },
 "nbformat": 4,
 "nbformat_minor": 5
}

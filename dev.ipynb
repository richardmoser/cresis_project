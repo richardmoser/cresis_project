{
 "cells": [
  {
   "cell_type": "markdown",
   "source": [
    "# TODO:\n",
    "### 24Oct23 - 31Oct23"
   ],
   "metadata": {
    "collapsed": false
   },
   "id": "914384a0570a905a"
  },
  {
   "cell_type": "code",
   "execution_count": 1,
   "outputs": [],
   "source": [
    "from CReSIS_project_classes import *\n",
    "from functions import *\n",
    "from iceflow_library import *\n",
    "from CReSIS_project_classes import *"
   ],
   "metadata": {
    "collapsed": false,
    "ExecuteTime": {
     "end_time": "2023-12-19T06:42:36.290604Z",
     "start_time": "2023-12-19T06:42:35.739571400Z"
    }
   },
   "id": "82c297c4d7d856f2"
  },
  {
   "cell_type": "code",
   "execution_count": 2,
   "outputs": [],
   "source": [
    "zoom = True\n",
    "seg_length = 100\n",
    "season = \"2018_Antarctica_DC8\"\n",
    "# season = \"2016_Antarctica_DC8\"\n",
    "flight = \"20181030_01\"  # the flight date and frame number\n",
    "# flight = \"20181103_01\"\n",
    "# flight = \"20181112_02\"  # the problem flight\n",
    "# flight = \"20161024_05\"\n",
    "file_name = \"layer_export_\" + flight + \".pickle\""
   ],
   "metadata": {
    "collapsed": false,
    "ExecuteTime": {
     "end_time": "2023-12-19T06:42:36.333327700Z",
     "start_time": "2023-12-19T06:42:36.290604Z"
    }
   },
   "id": "80fa46579d551152"
  },
  {
   "cell_type": "markdown",
   "source": [
    "### read in the layers from the layer files and save them to a pickle file"
   ],
   "metadata": {
    "collapsed": false
   },
   "id": "82960565fc3413a4"
  },
  {
   "cell_type": "code",
   "execution_count": 12,
   "outputs": [
    {
     "name": "stdout",
     "output_type": "stream",
     "text": [
      "Reading pickle file...\n",
      "--------------------\n",
      "Surface\n",
      "Bottom\n",
      "Test\n",
      "--------------------\n"
     ]
    }
   ],
   "source": [
    "# if the file at filename exists, read in the layers from the pickle file\n",
    "# otherwise, read in the layers from the layer files and save them to a pickle file\n",
    "if not os.path.isfile(file_name):  # if the file does not exist\n",
    "    # file_name = \"layer_export_\" + flight + \".pickle\"\n",
    "    print(f\"File {file_name} does not exist. Making it...\")\n",
    "    mat_pickler(season, flight, testing_mode=True)  # make it\n",
    "    \n",
    "layers = read_layers(file_name)  # read in the layers from the pickle file"
   ],
   "metadata": {
    "collapsed": false,
    "ExecuteTime": {
     "end_time": "2023-12-19T06:44:37.087648800Z",
     "start_time": "2023-12-19T06:44:37.070991100Z"
    }
   },
   "id": "5e4326b0a8fa5712"
  },
  {
   "cell_type": "markdown",
   "source": [
    "### read in the iceflow data from the iceflow data files and save them to a pickle file"
   ],
   "metadata": {
    "collapsed": false
   },
   "id": "fc35cca7687abf68"
  },
  {
   "cell_type": "code",
   "execution_count": 14,
   "outputs": [
    {
     "name": "stdout",
     "output_type": "stream",
     "text": [
      "The iceflow data pickle file was found and loaded.\n"
     ]
    }
   ],
   "source": [
    "try:\n",
    "    iceflow_data = iceflow_data_file_loader()\n",
    "    print(\"The iceflow data pickle file was found and loaded.\")\n",
    "except FileNotFoundError:\n",
    "    print(\"The iceflow data pickle file was not found. Creating a new one...\")\n",
    "    filename = iceflow_saver()\n",
    "    iceflow_data = iceflow_loader(filename)\n",
    "    print(\"The iceflow data pickle file was successfully created.\")\n",
    "    \n",
    "x = iceflow_data[0]\n",
    "y = iceflow_data[1]\n",
    "velocity_x = iceflow_data[2]\n",
    "velocity_y = iceflow_data[3]\n",
    "latitude = iceflow_data[4]\n",
    "longitude = iceflow_data[5]"
   ],
   "metadata": {
    "collapsed": false,
    "ExecuteTime": {
     "end_time": "2023-12-19T06:45:32.574574300Z",
     "start_time": "2023-12-19T06:45:29.686534800Z"
    }
   },
   "id": "dbaab48f077de2bd"
  },
  {
   "cell_type": "markdown",
   "source": [
    "# next step: continue working through crossover.py to rebuild the code"
   ],
   "metadata": {
    "collapsed": false
   },
   "id": "ba5e58645026c00e"
  }
 ],
 "metadata": {
  "kernelspec": {
   "display_name": "Python 3",
   "language": "python",
   "name": "python3"
  },
  "language_info": {
   "codemirror_mode": {
    "name": "ipython",
    "version": 2
   },
   "file_extension": ".py",
   "mimetype": "text/x-python",
   "name": "python",
   "nbconvert_exporter": "python",
   "pygments_lexer": "ipython2",
   "version": "2.7.6"
  }
 },
 "nbformat": 4,
 "nbformat_minor": 5
}

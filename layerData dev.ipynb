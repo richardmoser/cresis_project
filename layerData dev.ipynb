{
 "cells": [
  {
   "cell_type": "code",
   "execution_count": 2,
   "id": "initial_id",
   "metadata": {
    "collapsed": true,
    "ExecuteTime": {
     "end_time": "2024-02-28T19:44:55.678773Z",
     "start_time": "2024-02-28T19:44:55.658613Z"
    }
   },
   "outputs": [],
   "source": [
    "import math\n",
    "import os\n",
    "import numpy as np\n",
    "from project_classes import *\n",
    "from functions import *\n",
    "from iceflow_library import *"
   ]
  },
  {
   "cell_type": "code",
   "outputs": [],
   "source": [
    "zoom = True\n",
    "seg_length = 100\n",
    "season = \"2014_Antarctica_DC8\" # a layerData season\n",
    "flight = '20141026_06'\n",
    "file_name = \"layer_export_\" + flight + \".pickle\"\n",
    "testing = False"
   ],
   "metadata": {
    "collapsed": false,
    "ExecuteTime": {
     "end_time": "2024-02-28T19:44:55.694814Z",
     "start_time": "2024-02-28T19:44:55.681776Z"
    }
   },
   "id": "13b9561722c7e336",
   "execution_count": 3
  },
  {
   "cell_type": "code",
   "outputs": [],
   "source": [
    "dir = ('C:\\\\Users\\\\rj\\\\Documents\\\\cresis\\\\rds\\\\' + season + '\\\\CSARP_layerData\\\\' + flight + '\\\\')\n",
    "segment_data_file = 'Data_' + flight + '_'\n",
    "\n",
    "startframe = '001'\n",
    "files = os.listdir(dir)\n",
    "endframe = str(len(files) - 1).zfill(3)"
   ],
   "metadata": {
    "collapsed": false,
    "ExecuteTime": {
     "end_time": "2024-02-27T22:56:55.230035300Z",
     "start_time": "2024-02-27T22:56:55.214510900Z"
    }
   },
   "id": "12bc79a7422ceec8",
   "execution_count": 13
  },
  {
   "cell_type": "code",
   "outputs": [],
   "source": [
    "data_mat = np.array([sio.loadmat(dir + segment_data_file + str(i).zfill(3) + '.mat')\n",
    "                         for i in range(int(startframe), int(endframe)+1)])"
   ],
   "metadata": {
    "collapsed": false,
    "ExecuteTime": {
     "end_time": "2024-02-27T22:56:56.153459500Z",
     "start_time": "2024-02-27T22:56:56.010233800Z"
    }
   },
   "id": "6cdc55fd68fafcd8",
   "execution_count": 14
  },
  {
   "cell_type": "code",
   "outputs": [
    {
     "name": "stdout",
     "output_type": "stream",
     "text": [
      "[[array([[(array([[array([[(array([[      nan, 1.918e-05,       nan, ...,       nan,       nan,\n",
      "                                        nan]]),)                                              ]],\n",
      "                        dtype=[('data', 'O')])                                                   ,\n",
      "                  array([[(array([[           nan,            nan, 1.91716665e-05, ...,\n",
      "                                  4.60058966e-06, 4.59861022e-06, 4.59668984e-06]]),)  ]],\n",
      "                        dtype=[('data', 'O')])                                            ]],\n",
      "                dtype=object), array([[nan, nan,  1., ...,  1.,  1.,  1.]]))                      ]],\n",
      "        dtype=[('value', 'O'), ('quality', 'O')])\n",
      "  array([[(array([[array([[(array([[nan, nan, nan, ..., nan, nan, nan]]),)]],\n",
      "                        dtype=[('data', 'O')])                              ,\n",
      "                  array([[(array([[           nan,            nan,            nan, ...,\n",
      "                                  2.87362958e-05, 2.88036937e-05, 2.88172976e-05]]),)  ]],\n",
      "                        dtype=[('data', 'O')])                                            ]],\n",
      "                dtype=object), array([[nan, nan, nan, ...,  1.,  1.,  1.]]))                 ]],\n",
      "        dtype=[('value', 'O'), ('quality', 'O')])                                               ]]\n"
     ]
    }
   ],
   "source": [
    "# print the keys of the first file\n",
    "print(data_mat[0]['layerData'])"
   ],
   "metadata": {
    "collapsed": false,
    "ExecuteTime": {
     "end_time": "2024-02-27T23:00:23.085715300Z",
     "start_time": "2024-02-27T23:00:23.071114900Z"
    }
   },
   "id": "7fbd958df2af47a1",
   "execution_count": 48
  },
  {
   "cell_type": "code",
   "outputs": [],
   "source": [],
   "metadata": {
    "collapsed": false
   },
   "id": "638fd33e7179cb05"
  }
 ],
 "metadata": {
  "kernelspec": {
   "display_name": "Python 3",
   "language": "python",
   "name": "python3"
  },
  "language_info": {
   "codemirror_mode": {
    "name": "ipython",
    "version": 2
   },
   "file_extension": ".py",
   "mimetype": "text/x-python",
   "name": "python",
   "nbconvert_exporter": "python",
   "pygments_lexer": "ipython2",
   "version": "2.7.6"
  }
 },
 "nbformat": 4,
 "nbformat_minor": 5
}

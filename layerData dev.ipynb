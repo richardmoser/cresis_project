{
 "cells": [
  {
   "cell_type": "code",
   "id": "initial_id",
   "metadata": {
    "collapsed": true,
    "ExecuteTime": {
     "end_time": "2024-06-24T20:55:44.572359Z",
     "start_time": "2024-06-24T20:55:39.605516Z"
    }
   },
   "source": [
    "import numpy as np\n",
    "import matplotlib.pyplot as plt\n",
    "from netCDF4 import Dataset\n",
    "from functions import *\n",
    "from pyproj import Transformer\n",
    "import pickle\n",
    "import pyproj\n",
    "import math"
   ],
   "outputs": [],
   "execution_count": 8
  },
  {
   "metadata": {
    "ExecuteTime": {
     "end_time": "2024-06-24T20:55:49.577013Z",
     "start_time": "2024-06-24T20:55:49.557792Z"
    }
   },
   "cell_type": "code",
   "source": [
    "season = \"2016_Antarctica_DC8\" # a season with both layer and layerData\n",
    "# season = \"2014_Antarctica_DC8\" # a layerData season\n",
    "# flight = \"20181030_01\"  # the flight date and frame numbe\n",
    "# flight = \"20181018_01\"\n",
    "# flight = \"20181103_01\"\n",
    "# flight = \"20181109_01\"\n",
    "# flight = \"20181112_02\"  # the problem flight\n",
    "flight = \"20161024_05\"\n",
    "flight = \"20161111_05\"\n",
    "# flight = \"20161024_05\"\n",
    "# flight = '20141026_06'\n",
    "# file_name = \"layer_export_\" + flight + \".pickle\"\n",
    "file_name = \"C:\\\\Users\\\\rj\\\\Documents\\\\cresis_project\\\\pickle_jar\\\\layer_export_\" + flight + \".pickle\"\n",
    "testing = False"
   ],
   "id": "3ca52553beb6f9b6",
   "outputs": [],
   "execution_count": 9
  },
  {
   "metadata": {
    "ExecuteTime": {
     "end_time": "2024-06-24T20:56:26.334565Z",
     "start_time": "2024-06-24T20:56:26.311941Z"
    }
   },
   "cell_type": "code",
   "source": [
    "if not os.path.isfile(file_name):  # if the file does not exist\n",
    "    print(f\"File {file_name} does not exist. Making it...\")\n",
    "    mat_pickler_h5py(season, flight, testing_mode=testing)  # make it\n",
    "    layers = read_layers(file_name)  # read in the layers from the pickle file\n",
    "    print(f\"File {file_name} created.\")\n",
    "else:\n",
    "    layers = read_layers(file_name)  # read in the layers from the pickle file\n",
    "    print(f\"File {file_name} loaded.\")"
   ],
   "id": "1c30c839f136b955",
   "outputs": [
    {
     "name": "stdout",
     "output_type": "stream",
     "text": [
      "Reading pickle file...\n",
      "--------------------\n",
      "Surface\n",
      "Bottom\n",
      "--------------------\n",
      "\n",
      "File C:\\Users\\rj\\Documents\\cresis_project\\pickle_jar\\layer_export_20161111_05.pickle loaded.\n"
     ]
    }
   ],
   "execution_count": 11
  },
  {
   "cell_type": "code",
   "source": [
    "iceflow_file = Dataset(\"C:\\\\Users\\\\rj\\\\Documents\\\\cresis\\\\iceflow\\\\antarctic_ice_vel_phase_map_v01.nc\", \"r\")\n",
    "print(iceflow_file.variables)"
   ],
   "metadata": {
    "collapsed": false,
    "ExecuteTime": {
     "end_time": "2024-06-24T20:56:38.824872Z",
     "start_time": "2024-06-24T20:56:38.815550Z"
    }
   },
   "id": "638fd33e7179cb05",
   "outputs": [
    {
     "name": "stdout",
     "output_type": "stream",
     "text": [
      "{'coord_system': <class 'netCDF4._netCDF4.Variable'>\n",
      "|S1 coord_system()\n",
      "    ellipsoid: WGS84\n",
      "    false_easting: 0.0\n",
      "    false_northing: 0.0\n",
      "    grid_mapping_name: polar_stereographic\n",
      "    longitude_of_projection_origin: 0.0\n",
      "    latitude_of_projection_origin: -90.0\n",
      "    standard_parallel: -71.0\n",
      "    straight_vertical_longitude_from_pole: 0.0\n",
      "unlimited dimensions: \n",
      "current shape = ()\n",
      "filling on, default _FillValue of \u0000 used, 'x': <class 'netCDF4._netCDF4.Variable'>\n",
      "float64 x(x)\n",
      "    long_name: Cartesian x-coordinate\n",
      "    standard_name: projection_x_coordinate\n",
      "    axis: X\n",
      "    units: m\n",
      "unlimited dimensions: \n",
      "current shape = (12445,)\n",
      "filling on, default _FillValue of 9.969209968386869e+36 used, 'y': <class 'netCDF4._netCDF4.Variable'>\n",
      "float64 y(y)\n",
      "    long_name: Cartesian y-coordinate\n",
      "    standard_name: projection_y_coordinate\n",
      "    axis: Y\n",
      "    units: m\n",
      "unlimited dimensions: \n",
      "current shape = (12445,)\n",
      "filling on, default _FillValue of 9.969209968386869e+36 used, 'lat': <class 'netCDF4._netCDF4.Variable'>\n",
      "float64 lat(y, x)\n",
      "    units: degrees_north\n",
      "    long_name: latitude coordinate\n",
      "    standard_name: latitude\n",
      "unlimited dimensions: \n",
      "current shape = (12445, 12445)\n",
      "filling on, default _FillValue of 9.969209968386869e+36 used, 'lon': <class 'netCDF4._netCDF4.Variable'>\n",
      "float64 lon(y, x)\n",
      "    units: degrees_east\n",
      "    long_name: longitude coordinate\n",
      "    standard_name: longitude\n",
      "unlimited dimensions: \n",
      "current shape = (12445, 12445)\n",
      "filling on, default _FillValue of 9.969209968386869e+36 used, 'VX': <class 'netCDF4._netCDF4.Variable'>\n",
      "float32 VX(y, x)\n",
      "    long_name: Ice velocity in x direction\n",
      "    standard_name: land_ice_x_velocity\n",
      "    units: meter/year\n",
      "    _FillValue: 0.0\n",
      "    coordinates: lon lat\n",
      "    grid_mapping: coord_system\n",
      "unlimited dimensions: \n",
      "current shape = (12445, 12445)\n",
      "filling on, 'VY': <class 'netCDF4._netCDF4.Variable'>\n",
      "float32 VY(y, x)\n",
      "    long_name: Ice velocity in y direction\n",
      "    standard_name: land_ice_y_velocity\n",
      "    units: meter/year\n",
      "    _FillValue: 0.0\n",
      "    coordinates: lon lat\n",
      "    grid_mapping: coord_system\n",
      "unlimited dimensions: \n",
      "current shape = (12445, 12445)\n",
      "filling on, 'STDX': <class 'netCDF4._netCDF4.Variable'>\n",
      "float32 STDX(y, x)\n",
      "    long_name: Std velocity in x direction\n",
      "    standard_name: std_ice_x_velocity\n",
      "    units: meter/year\n",
      "    _FillValue: 0.0\n",
      "    coordinates: lon lat\n",
      "    grid_mapping: coord_system\n",
      "unlimited dimensions: \n",
      "current shape = (12445, 12445)\n",
      "filling on, 'STDY': <class 'netCDF4._netCDF4.Variable'>\n",
      "float32 STDY(y, x)\n",
      "    long_name: Std velocity in y direction\n",
      "    standard_name: std_ice_y_velocity\n",
      "    units: meter/year\n",
      "    _FillValue: 0.0\n",
      "    coordinates: lon lat\n",
      "    grid_mapping: coord_system\n",
      "unlimited dimensions: \n",
      "current shape = (12445, 12445)\n",
      "filling on, 'ERRX': <class 'netCDF4._netCDF4.Variable'>\n",
      "float32 ERRX(y, x)\n",
      "    long_name: Err velocity in x direction\n",
      "    standard_name: err_ice_x_velocity\n",
      "    units: meter/year\n",
      "    _FillValue: 0.0\n",
      "    coordinates: lon lat\n",
      "    grid_mapping: coord_system\n",
      "unlimited dimensions: \n",
      "current shape = (12445, 12445)\n",
      "filling on, 'ERRY': <class 'netCDF4._netCDF4.Variable'>\n",
      "float32 ERRY(y, x)\n",
      "    long_name: Err velocity in y direction\n",
      "    standard_name: err_ice_y_velocity\n",
      "    units: meter/year\n",
      "    _FillValue: 0.0\n",
      "    coordinates: lon lat\n",
      "    grid_mapping: coord_system\n",
      "unlimited dimensions: \n",
      "current shape = (12445, 12445)\n",
      "filling on, 'CNT': <class 'netCDF4._netCDF4.Variable'>\n",
      "int32 CNT(y, x)\n",
      "    long_name: Cnt velocity\n",
      "    standard_name: cnt_ice_velocity\n",
      "    units: Count\n",
      "    coordinates: lon lat\n",
      "    grid_mapping: coord_system\n",
      "unlimited dimensions: \n",
      "current shape = (12445, 12445)\n",
      "filling on, default _FillValue of -2147483647 used, 'SOURCE': <class 'netCDF4._netCDF4.Variable'>\n",
      "int8 SOURCE(y, x)\n",
      "    long_name: Data source (no data=0 tracking-based=1 phase-based=2 interpolation-tracking-phase=4)\n",
      "    standard_name: source\n",
      "    units: None\n",
      "    flag_values: 0b 1b 2b 3b\n",
      "    flag_meanings: none tracking-based phase-based interpolation-tracking-phase\n",
      "    coordinates: lon lat\n",
      "    grid_mapping: coord_system\n",
      "unlimited dimensions: \n",
      "current shape = (12445, 12445)\n",
      "filling on, default _FillValue of -127 ignored}\n"
     ]
    }
   ],
   "execution_count": 13
  },
  {
   "metadata": {
    "ExecuteTime": {
     "end_time": "2024-06-24T20:56:46.224055Z",
     "start_time": "2024-06-24T20:56:39.777901Z"
    }
   },
   "cell_type": "code",
   "source": [
    "x = iceflow_file.variables['x'][:]\n",
    "y = iceflow_file.variables['y'][:]\n",
    "velocity_x = iceflow_file.variables['VX'][:]\n",
    "velocity_y = iceflow_file.variables['VY'][:]\n",
    "latitude = iceflow_file.variables['lat'][:]\n",
    "longitude = iceflow_file.variables['lon'][:]\n",
    "# print the min and max lat and lon\n",
    "print(f\"min lat: {np.min(latitude)}, max lat: {np.max(latitude)}\")\n",
    "print(f\"min lon: {np.min(longitude)}, max lon: {np.max(longitude)}\")"
   ],
   "id": "da3c787df514735f",
   "outputs": [
    {
     "name": "stdout",
     "output_type": "stream",
     "text": [
      "min lat: -89.9986991032591, max lat: -54.67352915941042\n",
      "min lon: 0.007161972457312616, max lon: 359.99795372214527\n"
     ]
    }
   ],
   "execution_count": 14
  },
  {
   "metadata": {},
   "cell_type": "code",
   "outputs": [],
   "execution_count": null,
   "source": [
    "\"\"\"\n",
    "TODO: 21Jun24\n",
    "verify 450m spacing\n",
    "    - error in converting from xy to indices?\n",
    "    - don't need to do that?\n",
    "    - web live version of data does not output the same flow data\n",
    "read the output of the variables above and save it somewhere\n",
    "\"\"\""
   ],
   "id": "77ec92f99ce234f4"
  },
  {
   "metadata": {},
   "cell_type": "code",
   "outputs": [],
   "execution_count": null,
   "source": "",
   "id": "f99e6eb2f2631996"
  }
 ],
 "metadata": {
  "kernelspec": {
   "display_name": "Python 3",
   "language": "python",
   "name": "python3"
  },
  "language_info": {
   "codemirror_mode": {
    "name": "ipython",
    "version": 2
   },
   "file_extension": ".py",
   "mimetype": "text/x-python",
   "name": "python",
   "nbconvert_exporter": "python",
   "pygments_lexer": "ipython2",
   "version": "2.7.6"
  }
 },
 "nbformat": 4,
 "nbformat_minor": 5
}

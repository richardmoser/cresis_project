{
 "cells": [
  {
   "cell_type": "code",
   "execution_count": 1,
   "outputs": [],
   "source": [
    "import numpy as np\n",
    "import matplotlib.pyplot as plt\n",
    "import matplotlib.colors as colors\n",
    "import matplotlib.cm as cmx\n",
    "from netCDF4 import Dataset\n",
    "import cartopy.crs as ccrs\n",
    "import cartopy.feature as cfeature\n",
    "from iceflow_library import *\n",
    "from cartopy.mpl.gridliner import LONGITUDE_FORMATTER, LATITUDE_FORMATTER\n",
    "# from scipy.spatial import cKDTree"
   ],
   "metadata": {
    "collapsed": false,
    "ExecuteTime": {
     "end_time": "2024-02-12T20:30:14.330526700Z",
     "start_time": "2024-02-12T20:30:13.516609600Z"
    }
   },
   "id": "7edc9cbfef642663"
  },
  {
   "cell_type": "markdown",
   "source": [
    "EPSG 4326 is standard lat-lon format\n",
    "EPSG 3031 is Antarctic Polar Stereographic format (this is the format the iceflow data is in)"
   ],
   "metadata": {
    "collapsed": false
   },
   "id": "61766f0d311f42aa"
  },
  {
   "cell_type": "code",
   "execution_count": 2,
   "outputs": [
    {
     "name": "stdout",
     "output_type": "stream",
     "text": [
      "The iceflow data pickle file was found and loaded.\n",
      "Iceflow data array layout is 0:x, 1:y, 2:v_x, 3:v_y, 4:latitude, 5:longitude\n"
     ]
    }
   ],
   "source": [
    "try:\n",
    "    iceflow_data = iceflow_data_file_loader()\n",
    "    print(\"The iceflow data pickle file was found and loaded.\")\n",
    "except FileNotFoundError:\n",
    "    print(\"The iceflow data pickle file was not found. Creating a new one...\")\n",
    "    filename = iceflow_saver()\n",
    "    iceflow_data = iceflow_loader(filename)\n",
    "    print(\"The iceflow data pickle file was successfully created.\")\n",
    "\n",
    "print(f\"Iceflow data array layout is 0:x, 1:y, 2:v_x, 3:v_y, 4:latitude, 5:longitude\")"
   ],
   "metadata": {
    "collapsed": false,
    "ExecuteTime": {
     "end_time": "2024-02-12T20:30:19.464030600Z",
     "start_time": "2024-02-12T20:30:14.335536700Z"
    }
   },
   "id": "8324f8518bd5af8f"
  },
  {
   "cell_type": "code",
   "execution_count": 3,
   "outputs": [],
   "source": [
    "x = iceflow_data[0]\n",
    "y = iceflow_data[1]\n",
    "velocity_x = iceflow_data[2]\n",
    "velocity_y = iceflow_data[3]\n",
    "latitude = iceflow_data[4]\n",
    "longitude = iceflow_data[5]"
   ],
   "metadata": {
    "collapsed": false,
    "ExecuteTime": {
     "end_time": "2024-02-12T20:30:19.477903900Z",
     "start_time": "2024-02-12T20:30:19.460655600Z"
    }
   },
   "id": "1b2f1c82691614a2"
  },
  {
   "cell_type": "code",
   "execution_count": 4,
   "outputs": [
    {
     "name": "stdout",
     "output_type": "stream",
     "text": [
      "Iceflow lat-lon for point (6000, 6000): (-68.5942716119921, 272.4366475685123)\n",
      "-68.5942716119921 272.4366475685123\n",
      "-2800000.0\n"
     ]
    }
   ],
   "source": [
    "print(f\"Iceflow lat-lon for point (6000, 1000): ({iceflow_data[4][6000][1000]}, {iceflow_data[5][6000][1000]})\")\n",
    "print(latitude[6000][1000], longitude[6000][1000])\n",
    "print(x[0])"
   ],
   "metadata": {
    "collapsed": false,
    "ExecuteTime": {
     "end_time": "2024-02-12T20:30:19.505712600Z",
     "start_time": "2024-02-12T20:30:19.467070400Z"
    }
   },
   "id": "a00019e231fdf80c"
  },
  {
   "cell_type": "code",
   "execution_count": 5,
   "outputs": [
    {
     "name": "stdout",
     "output_type": "stream",
     "text": [
      "data x-y: \t\t\t(-1047700.0, -981350.0)\n",
      "data lat-lon: \t\t(-76.84372240199521, 43.127093879658176)\n",
      "converted lat-lon: \t(-76.843721827678, 43.127093545579896)\n"
     ]
    },
    {
     "ename": "NameError",
     "evalue": "name 'lonlat_to_xy' is not defined",
     "output_type": "error",
     "traceback": [
      "\u001B[1;31m---------------------------------------------------------------------------\u001B[0m",
      "\u001B[1;31mNameError\u001B[0m                                 Traceback (most recent call last)",
      "Cell \u001B[1;32mIn[5], line 10\u001B[0m\n\u001B[0;32m      7\u001B[0m \u001B[38;5;28mprint\u001B[39m(\u001B[38;5;124mf\u001B[39m\u001B[38;5;124m\"\u001B[39m\u001B[38;5;124mconverted lat-lon: \u001B[39m\u001B[38;5;130;01m\\t\u001B[39;00m\u001B[38;5;132;01m{\u001B[39;00mpoint\u001B[38;5;132;01m}\u001B[39;00m\u001B[38;5;124m\"\u001B[39m)\n\u001B[0;32m      9\u001B[0m lat, lon \u001B[38;5;241m=\u001B[39m xy_to_latlon(x, y)\n\u001B[1;32m---> 10\u001B[0m \u001B[38;5;28mprint\u001B[39m(\u001B[38;5;124mf\u001B[39m\u001B[38;5;124m\"\u001B[39m\u001B[38;5;124mconverted x-y: \u001B[39m\u001B[38;5;130;01m\\t\u001B[39;00m\u001B[38;5;130;01m\\t\u001B[39;00m\u001B[38;5;132;01m{\u001B[39;00mlonlat_to_xy(lat,\u001B[38;5;250m \u001B[39mlon)\u001B[38;5;132;01m}\u001B[39;00m\u001B[38;5;124m\"\u001B[39m)\n",
      "\u001B[1;31mNameError\u001B[0m: name 'lonlat_to_xy' is not defined"
     ]
    }
   ],
   "source": [
    "i_x = np.random.randint(0, iceflow_data[0].size)\n",
    "i_y = np.random.randint(0, iceflow_data[1].size)\n",
    "x, y = iceflow_data[0][i_x], iceflow_data[1][i_y]\n",
    "print(f\"data x-y: \\t\\t\\t{x, y}\")\n",
    "print(f\"data lat-lon: \\t\\t{iceflow_data[4][i_x][i_y], iceflow_data[5][i_x][i_y]}\")\n",
    "point = xy_to_latlon(x, y) \n",
    "print(f\"converted lat-lon: \\t{point}\")\n",
    "\n",
    "lat, lon = xy_to_latlon(x, y)\n",
    "print(f\"converted x-y: \\t\\t{lonlat_to_xy(lat, lon)}\")"
   ],
   "metadata": {
    "collapsed": false,
    "ExecuteTime": {
     "end_time": "2024-02-12T20:30:19.994921100Z",
     "start_time": "2024-02-12T20:30:19.486455600Z"
    }
   },
   "id": "d8cf02903d41e195"
  },
  {
   "cell_type": "code",
   "execution_count": null,
   "outputs": [],
   "source": [
    "print(f\" finding the nearest x and y value to {x, y} with error\")\n",
    "x += np.random.uniform(-10, 10) * 0.1\n",
    "y += np.random.uniform(-10, 10) * 0.1\n",
    "\n",
    "x_index, y_index = find_nearest_x_and_y(x, y, iceflow_data)\n",
    "\n",
    "print(f\"nearest x and y: {iceflow_data[0][x_index], iceflow_data[1][y_index]}\")\n",
    "print(f\"corresponding lat-lon: {iceflow_data[4][x_index][y_index], iceflow_data[5][x_index][y_index]}\")\n",
    "print(\"\")\n",
    "\n",
    "flow = flow_at_lat_lon(iceflow_data[4][x_index][y_index], iceflow_data[5][x_index][y_index], iceflow_data)\n",
    "print(f\"flow at lat-lon: {flow}\")\n",
    "print(flow[0], flow[1])\n",
    "print(\"\")\n",
    "\n",
    "# print the complete ice flow data for (-660700.0, 77950.0)\n",
    "print(f\"x-y: ({x}, {y})\")\n",
    "print(f\"nearest x and y: {iceflow_data[0][x_index], iceflow_data[1][y_index]}\")\n",
    "print(x_index, y_index)\n",
    "print(iceflow_data[4][x_index][y_index])\n",
    "print(f\"corresponding lat-lon: {iceflow_data[4][x_index][y_index], iceflow_data[5][x_index][y_index]}\")\n",
    "# print(f\"corresponding lat-lon: {iceflow_data[4][-660700.0, ][77950.0], iceflow_data[5][x][y]}\")\n",
    "print(f\"flow at lat-lon: {iceflow_data[2][x_index][y_index], iceflow_data[3][x_index][y_index]}\")"
   ],
   "metadata": {
    "collapsed": false,
    "ExecuteTime": {
     "start_time": "2024-02-12T20:30:19.996224100Z"
    }
   },
   "id": "c7e86b682cbf4601"
  },
  {
   "cell_type": "code",
   "execution_count": null,
   "outputs": [],
   "source": [
    "# unmasked_x_index, unmasked_y_index, x_diff, y_diff = find_nearest_unmasked_x_and_y(x, y, iceflow_data)\n",
    "unmasked_x_index, unmasked_y_index = find_nearest_unmasked_x_and_y(x, y, iceflow_data)\n",
    "print(f\"nearest unmasked x and y: {iceflow_data[0][unmasked_x_index], iceflow_data[1][unmasked_y_index]}\")"
   ],
   "metadata": {
    "collapsed": false,
    "ExecuteTime": {
     "start_time": "2024-02-12T20:30:19.997343100Z"
    }
   },
   "id": "fa3e24bd2d03794c"
  },
  {
   "cell_type": "code",
   "execution_count": null,
   "outputs": [],
   "source": [],
   "metadata": {
    "collapsed": false,
    "ExecuteTime": {
     "start_time": "2024-02-12T20:30:19.999711100Z"
    }
   },
   "id": "b1aa0e79a0ed19a1"
  },
  {
   "cell_type": "code",
   "execution_count": null,
   "outputs": [],
   "source": [],
   "metadata": {
    "collapsed": false,
    "ExecuteTime": {
     "end_time": "2024-02-12T20:30:20.011243200Z",
     "start_time": "2024-02-12T20:30:20.001750600Z"
    }
   },
   "id": "50e0cb3d9304f051"
  },
  {
   "cell_type": "code",
   "execution_count": null,
   "outputs": [],
   "source": [
    "\n",
    "\n",
    "fig = plt.figure(figsize=(10, 10))\n",
    "ax = fig.add_subplot(1, 1, 1, projection=ccrs.SouthPolarStereo())\n",
    "ax.set_extent([-180, 180, -90, -65], ccrs.PlateCarree())\n",
    "ax.add_feature(cfeature.LAND)\n",
    "ax.add_feature(cfeature.OCEAN)\n",
    "ax.add_feature(cfeature.COASTLINE)\n",
    "ax.add_feature(cfeature.BORDERS, linestyle=':')\n",
    "ax.add_feature(cfeature.LAKES, alpha=0.5)\n",
    "ax.add_feature(cfeature.RIVERS)\n",
    "ax.gridlines()\n",
    "ax.set_title('Antarctica')\n",
    "ax.plot(iceflow_data[5][::1000,::1000], iceflow_data[4][::1000,::1000], 'o', transform=ccrs.PlateCarree())\n",
    "plt.show()"
   ],
   "metadata": {
    "collapsed": false,
    "ExecuteTime": {
     "start_time": "2024-02-12T20:30:20.002837600Z"
    }
   },
   "id": "9ff615ae907e1100"
  },
  {
   "cell_type": "code",
   "execution_count": null,
   "outputs": [],
   "source": [],
   "metadata": {
    "collapsed": false,
    "ExecuteTime": {
     "start_time": "2024-02-12T20:30:20.003888100Z"
    }
   },
   "id": "167e17cba216deec"
  },
  {
   "cell_type": "code",
   "execution_count": null,
   "outputs": [],
   "source": [],
   "metadata": {
    "collapsed": false,
    "ExecuteTime": {
     "start_time": "2024-02-12T20:30:20.004926700Z"
    }
   },
   "id": "85bfbcd2c4ec2d9f"
  },
  {
   "cell_type": "code",
   "execution_count": null,
   "outputs": [],
   "source": [],
   "metadata": {
    "collapsed": false,
    "ExecuteTime": {
     "start_time": "2024-02-12T20:30:20.005925800Z"
    }
   },
   "id": "f67f6007658077bb"
  }
 ],
 "metadata": {
  "kernelspec": {
   "display_name": "Python 3",
   "language": "python",
   "name": "python3"
  },
  "language_info": {
   "codemirror_mode": {
    "name": "ipython",
    "version": 2
   },
   "file_extension": ".py",
   "mimetype": "text/x-python",
   "name": "python",
   "nbconvert_exporter": "python",
   "pygments_lexer": "ipython2",
   "version": "2.7.6"
  }
 },
 "nbformat": 4,
 "nbformat_minor": 5
}

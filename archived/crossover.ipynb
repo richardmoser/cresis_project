{
 "cells": [
  {
   "cell_type": "code",
   "execution_count": 1,
   "id": "initial_id",
   "metadata": {
    "collapsed": true,
    "jupyter": {
     "outputs_hidden": true
    },
    "ExecuteTime": {
     "end_time": "2024-02-13T22:10:34.765428500Z",
     "start_time": "2024-02-13T22:10:34.191751400Z"
    }
   },
   "outputs": [
    {
     "ename": "ModuleNotFoundError",
     "evalue": "No module named 'CReSIS_project_classes'",
     "output_type": "error",
     "traceback": [
      "\u001B[1;31m---------------------------------------------------------------------------\u001B[0m",
      "\u001B[1;31mModuleNotFoundError\u001B[0m                       Traceback (most recent call last)",
      "Cell \u001B[1;32mIn[1], line 2\u001B[0m\n\u001B[0;32m      1\u001B[0m \u001B[38;5;28;01mimport\u001B[39;00m \u001B[38;5;21;01mmath\u001B[39;00m\n\u001B[1;32m----> 2\u001B[0m \u001B[38;5;28;01mfrom\u001B[39;00m \u001B[38;5;21;01mCReSIS_project_classes\u001B[39;00m \u001B[38;5;28;01mimport\u001B[39;00m \u001B[38;5;241m*\u001B[39m\n\u001B[0;32m      3\u001B[0m \u001B[38;5;28;01mfrom\u001B[39;00m \u001B[38;5;21;01mfunctions\u001B[39;00m \u001B[38;5;28;01mimport\u001B[39;00m \u001B[38;5;241m*\u001B[39m\n\u001B[0;32m      4\u001B[0m \u001B[38;5;28;01mfrom\u001B[39;00m \u001B[38;5;21;01miceflow_library\u001B[39;00m \u001B[38;5;28;01mimport\u001B[39;00m \u001B[38;5;241m*\u001B[39m\n",
      "\u001B[1;31mModuleNotFoundError\u001B[0m: No module named 'CReSIS_project_classes'"
     ]
    }
   ],
   "source": [
    "import math\n",
    "from CReSIS_project_classes import *\n",
    "from functions import *\n",
    "from iceflow_library import *\n",
    "from crossover_class import *"
   ]
  },
  {
   "cell_type": "code",
   "execution_count": null,
   "id": "8c194ffbeabd931b",
   "metadata": {
    "collapsed": false,
    "ExecuteTime": {
     "start_time": "2024-02-13T22:10:34.744431Z"
    }
   },
   "outputs": [],
   "source": [
    " # zoom = False \n",
    "zoom = True\n",
    "seg_length = 100\n",
    "season = \"2018_Antarctica_DC8\"\n",
    "# season = \"2016_Antarctica_DC8\"\n",
    "flight = \"20181030_01\"  # the flight date and frame number\n",
    "# flight = \"20181103_01\"\n",
    "flight = \"20181112_02\"  # the problem flight\n",
    "# flight = \"20161024_05\"\n",
    "file_name = \"layer_export_\" + flight + \".pickle\"\n",
    "\n",
    "# TODO: make map plotter center on crossover point n. default to centering on the first crossover point if no n is given\n",
    "# TODO: choose a crossover point or save the data for them or something. Do we already do this? Probably. Very tired.\n",
    "    # Who is this we?"
   ]
  },
  {
   "cell_type": "code",
   "execution_count": null,
   "id": "49548c348d597a15",
   "metadata": {
    "collapsed": false,
    "ExecuteTime": {
     "start_time": "2024-02-13T22:10:34.746429300Z"
    }
   },
   "outputs": [],
   "source": [
    "\n",
    "# if the file at filename exists, read in the layers from the pickle file\n",
    "# otherwise, read in the layers from the layer files and save them to a pickle file\n",
    "if not os.path.isfile(file_name):  # if the file does not exist\n",
    "    # file_name = \"layer_export_\" + flight + \".pickle\"\n",
    "    print(f\"File {file_name} does not exist. Making it...\")\n",
    "    mat_pickler_layerData(season, flight, testing_mode=False)  # make it\n",
    "    \n",
    "layers = read_layers(file_name)  # read in the layers from the pickle file\n",
    "\n",
    "intersection_points_base, intersection_indices_base, segment_ends = cross_point(layers[0], seg_length, quiet=True)\n",
    "# find the crossover points\n",
    "print(f\"len(intersection_indices): {len(intersection_indices_base)}\")\n",
    "print(f\"len(intersection_points): {len(intersection_points_base)}\")\n",
    "# intersection_indices = intersection_indices_base\n",
    "# intersection_points = intersection_points_base"
   ]
  },
  {
   "cell_type": "code",
   "execution_count": null,
   "outputs": [],
   "source": [
    "intersection_indices = intersection_indices_base\n",
    "intersection_points = intersection_points_base\n",
    "print(f\"len(intersection_indices): {len(intersection_indices)}\")\n",
    "print(f\"len(intersection_points): {len(intersection_points)}\")\n",
    "removed = 0\n",
    "i = 0\n",
    "i_2 = 0\n",
    "# if the crosover point headings do not have a difference of at least 75 degrees, then the crossover point is not valid and should be removed\n",
    "while i < (len(intersection_indices)):\n",
    "    # print(f\"iteration {i}\")\n",
    "    if abs(find_heading(layers[0], intersection_indices[i][0]) - find_heading(layers[0], intersection_indices[i][1])) < 75:\n",
    "        print(f\"heading on first segment: {find_heading(layers[0], intersection_indices[i][0])}\")\n",
    "        print(f\"heading on second segment: {find_heading(layers[0], intersection_indices[i][1])}\")\n",
    "        print(f\"intersection {i} is not valid\")\n",
    "        intersection_indices.pop(i)\n",
    "        intersection_points.pop(i)\n",
    "        segment_ends.pop(i)\n",
    "        print(f\"intersection {i} removed\")\n",
    "        # print(f\"intersection_indices: {intersection_indices}\")\n",
    "        # print(f\"intersection_points: {intersection_points}\")\n",
    "        # print(f\"segment_ends: {segment_ends}\")\n",
    "        # print(section_break)\n",
    "        # break   \n",
    "        i_2 += 1\n",
    "        continue\n",
    "    else:\n",
    "        print(f\"intersection {i_2} is valid\")\n",
    "        print(f\"heading on first segment: {find_heading(layers[0], intersection_indices[i][0])}\")\n",
    "        print(f\"heading on second segment: {find_heading(layers[0], intersection_indices[i][1])}\")\n",
    "        print(f\"lat-lon of intersection {i}: {intersection_points[i][0]}, {intersection_points[i][1]}\")\n",
    "        print(section_break)\n",
    "        i_2 += 1\n",
    "        i += 1\n",
    "\n",
    "# while (len(intersection_indices)) > 2:\n",
    "#         intersection_indices.pop(i)\n",
    "#         intersection_points.pop(i)\n",
    "#         segment_ends.pop(i)\n",
    "#         \n",
    "#         print(f\"heading on first segment: {find_heading(layers[0], intersection_indices[i][0])}\")\n",
    "#         print(f\"heading on second segment: {find_heading(layers[0], intersection_indices[i][1])}\")\n",
    "#         print(f\"lat-lon of intersection {i}: {intersection_points[i][0]}, {intersection_points[i][1]}\")\n",
    "#     \n",
    "#         print(section_break)\n",
    "\n",
    "\n",
    "print(f\"intersection_indices: {intersection_indices}\")\n",
    "print(f\"intersection_points: {intersection_points}\")"
   ],
   "metadata": {
    "collapsed": false,
    "ExecuteTime": {
     "start_time": "2024-02-13T22:10:34.751429500Z"
    }
   },
   "id": "365fcca1696d28d5"
  },
  {
   "cell_type": "code",
   "execution_count": null,
   "outputs": [],
   "source": [
    "posit = Twtt_Posit(layers[1], season, flight, intersection_indices)\n",
    "# create a Twtt_Posit object to store the crossover point data\n",
    "# print(f\"posit.layer_name: {posit.layer_name}\")\n",
    "\n",
    "save_posit(posit)"
   ],
   "metadata": {
    "collapsed": false,
    "ExecuteTime": {
     "start_time": "2024-02-13T22:10:34.755428500Z"
    }
   },
   "id": "b7f9e8cf051f4c41"
  },
  {
   "cell_type": "code",
   "execution_count": null,
   "outputs": [],
   "source": [
    "# plot the points in the cross\n",
    "print(f\"intersection_indices: {intersection_indices}\")\n",
    "print(f\"intersection_points: {intersection_points}\")\n",
    "\n",
    "plt.figure(figsize=(24, 12), layout='constrained')\n",
    "plt.subplot(1, 2, 1)\n",
    "plt.plot(layers[0].twtt, label=layers[0].layer_name)\n",
    "plt.plot(layers[0].twtt, label=layers[0].layer_name)\n",
    "plt.gca().invert_yaxis()\n",
    "plt.ylabel(\"Two Way Travel Time (s)\")\n",
    "plt.xlabel(\"Index\")\n",
    "plt.title(\"Two Way Travel Time vs Index\")\n",
    "\n",
    "# mark the first crossover point\n",
    "plt.scatter(intersection_indices[0][0], layers[0].twtt[intersection_indices[0][0]], color='red', linewidth=1,\n",
    "            label='X Point 1')\n",
    "# mark the second crossover point\n",
    "plt.scatter(intersection_indices[0][1], layers[0].twtt[intersection_indices[0][1]], color='green', linewidth=1,\n",
    "            label='X Point 2')\n",
    "\n",
    "plt.legend([\"legend\"], fontsize='smaller', loc='upper right', bbox_to_anchor=(1.1, 1.1))\n",
    "\n",
    "plt.subplot(1, 2, 2)\n",
    "zoom_out_to_continent = not zoom\n",
    "# zoom_out_to_continent = True\n",
    "if zoom_out_to_continent:\n",
    "    llcrnrx = -400000\n",
    "    llcrnry = -400000\n",
    "    urcrnrx = 250000\n",
    "    urcrnry = 250000\n",
    "else: \n",
    "    llcrnrx = -600000\n",
    "    llcrnry = -500000\n",
    "    urcrnrx = 400000\n",
    "    urcrnry = 500000\n",
    "\n",
    "# print the xy coordinates of the intersection points\n",
    "print(layers[0].lon[intersection_indices[0][0]], layers[0].lat[intersection_indices[0][0]])\n",
    "x,y = lonlat_to_xy(layers[0].lon[intersection_indices[0][0]], layers[0].lat[intersection_indices[0][0]])\n",
    "print(f\"intersection point 1: {x}, {y}\")\n",
    "\n",
    "\n",
    "m = Basemap(projection='ortho', lat_0=lat_0, lon_0=lon_0, llcrnrx=llcrnrx, \n",
    "            llcrnry=llcrnry, urcrnrx=urcrnrx, urcrnry=urcrnry, resolution='c')\n",
    "\n",
    "m.drawcoastlines()\n",
    "m.fillcontinents(color='grey', lake_color='aqua')\n",
    "m.drawparallels(np.arange(-80., 81., 20.))\n",
    "m.drawmeridians(np.arange(-180., 181., 20.))\n",
    "m.drawmapboundary(fill_color='aqua')\n",
    "\n",
    "# plot the flight path\n",
    "m.plot(layers[0].lon, layers[0].lat, latlon=True, color='lightgreen', linewidth=1)\n",
    "# plot the section of the flight path in the plot above\n",
    "m.plot(layers[0].lon[intersection_indices[0][0]:intersection_indices[0][0] + 100],\n",
    "       layers[0].lat[intersection_indices[0][0]:intersection_indices[0][0] + 100], latlon=True, color='red',\n",
    "       linewidth=1)\n",
    "# m.plot(layers[0].lon[intersection_indices[0][1]:intersection_indices[0][1] + 100],\n",
    "         # layers[0].lat[intersection_indices[0][1]:intersection_indices[0][1] + 100], latlon=True, color='green',\n",
    "         # linewidth=1)\n",
    "# plot the intersection points on the map. one in red, one in green\n",
    "# m.scatter(intersection_points[0][1], intersection_points[0][0], latlon=True, color='red', linewidth=1,\n",
    "          # label='X Point 1')\n",
    "m.scatter(intersection_points[1][1], intersection_points[1][0], latlon=True, color='green', linewidth=1,\n",
    "            label='X Point 2')\n",
    "\n",
    "plt.show()\n",
    "\n",
    "\n",
    "# # plt.plot(layers[0].lon, layers[0].lat, label=layers[0].layer_name)\n",
    "# plt.plot(layers[1].lon, layers[1].lat, label=layers[1].layer_name)\n",
    "# plt.title(\"Lat-Lon Map\")\n",
    "# \n",
    "# # plot the intersection points on the map. one in red, one in green\n",
    "# # plt.scatter(intersection_points[0][1], intersection_points[0][0], color='red', linewidth=1, label='X Point 1')\n",
    "# # plt.scatter(intersection_points[1][1], intersection_points[1][0], color='green', linewidth=1, label='X Point 2')\n",
    "# \n",
    "# # zoom in on the crossover points to 1 degree around the crossover point\n",
    "# # radii = 0.0005\n",
    "# radii = 400\n",
    "# if zoom:\n",
    "#     plt.xlim(intersection_points[0][1] - radii, intersection_points[0][1] + radii)\n",
    "#     plt.ylim(intersection_points[0][0] - radii, intersection_points[0][0] + radii)\n",
    "#     \n",
    "# # mark the intersection_indices[0][0]'eth point in layers[0] with a white dot\n",
    "# plt.scatter(layers[0].lon[intersection_indices[0][0]], layers[0].lat[intersection_indices[0][0]], color='white',\n",
    "            # linewidth=10, label='X Point 1')\n",
    "#  \n",
    "# plt.legend([\"legend\"], fontsize='smaller', loc='upper right', bbox_to_anchor=(1.1, 1.1))\n",
    "# \n",
    "# plt.show()\n",
    "# print(layers[0].lon[intersection_indices[0][0]], layers[0].lat[intersection_indices[0][0]])"
   ],
   "metadata": {
    "collapsed": false,
    "ExecuteTime": {
     "start_time": "2024-02-13T22:10:34.760430400Z"
    }
   },
   "id": "a19116b0321fd769"
  },
  {
   "cell_type": "code",
   "execution_count": null,
   "outputs": [],
   "source": [],
   "metadata": {
    "collapsed": false,
    "ExecuteTime": {
     "start_time": "2024-02-13T22:10:34.765428500Z"
    }
   },
   "id": "9743670eecd01f05"
  },
  {
   "cell_type": "code",
   "execution_count": null,
   "outputs": [],
   "source": [
    "def lonlat_to_xy(lon, lat):\n",
    "    \"\"\"\n",
    "    This function is used to convert lat and lon coordinates to x and y coordinates.\n",
    "    :param lat: the latitude to convert\n",
    "    :param lon: the longitude to convert\n",
    "    :return: the x and y coordinates\n",
    "    # TODO: WHY ARE YOU THE WAY YOU ARE???\n",
    "    \"\"\"\n",
    "    transformer = Transformer.from_crs(\"EPSG:4326\", \"EPSG:3031\")  # standard lat-lon to Antarctic Polar Stereographic\n",
    "    point = transformer.transform(lat, lon)\n",
    "    # point = transformer.transform(lon, lat)\n",
    "    # print(point)\n",
    "    # point = (- int(point[1]), - int(point[0]))\n",
    "    # # ok this one you *REALLY* can't ask me why it is like this. If you don't do this, the lat and lon are flipped and\n",
    "    # # negative relative to the actual values. I don't like it either\n",
    "    # print(f\"lat-lon: {lat, lon}, x-y: {point}\")\n",
    "    return point"
   ],
   "metadata": {
    "collapsed": false,
    "ExecuteTime": {
     "end_time": "2024-02-13T22:10:34.889783100Z",
     "start_time": "2024-02-13T22:10:34.770429700Z"
    }
   },
   "id": "e829ef79f97850de"
  },
  {
   "cell_type": "code",
   "execution_count": null,
   "outputs": [],
   "source": [
    "print(f\"{layers[0].lon[intersection_indices[0][0]], layers[0].lat[intersection_indices[0][0]]}\")\n",
    "x,y = lonlat_to_xy(layers[0].lon[intersection_indices[0][0]], layers[0].lat[intersection_indices[0][0]])\n",
    "print(f\"x: {x}, y: {y}\")\n",
    "print(xy_to_latlon(x,y))"
   ],
   "metadata": {
    "collapsed": false,
    "ExecuteTime": {
     "start_time": "2024-02-13T22:10:34.776428Z"
    }
   },
   "id": "dee41d25473b5e01"
  },
  {
   "cell_type": "code",
   "execution_count": null,
   "id": "5a5504f8442047f0",
   "metadata": {
    "collapsed": false,
    "ExecuteTime": {
     "start_time": "2024-02-13T22:10:34.780427Z"
    }
   },
   "outputs": [],
   "source": [
    "# def gps_time_to_seconds(gps_time):\n",
    "#     \"\"\"\n",
    "#     :param gps_time: the gps time in seconds\n",
    "#     :return: the gps time in seconds\n",
    "#     \"\"\"\n",
    "#     return gps_time * 10 ** -9"
   ]
  },
  {
   "cell_type": "code",
   "execution_count": null,
   "id": "b8be6a337daee413",
   "metadata": {
    "collapsed": false,
    "ExecuteTime": {
     "start_time": "2024-02-13T22:10:34.782433800Z"
    }
   },
   "outputs": [],
   "source": [
    "print(layers[0].gps_time[0])\n",
    "# time is epoch seconds from 1970\n",
    "print(gps_time_to_date(layers[0].gps_time[0]))"
   ]
  },
  {
   "cell_type": "code",
   "execution_count": null,
   "outputs": [],
   "source": [],
   "metadata": {
    "collapsed": false,
    "ExecuteTime": {
     "start_time": "2024-02-13T22:10:34.785434400Z"
    }
   },
   "id": "34c724acf19e8215"
  },
  {
   "cell_type": "code",
   "execution_count": null,
   "id": "63b34a3a1797a4dd",
   "metadata": {
    "collapsed": false,
    "ExecuteTime": {
     "start_time": "2024-02-13T22:10:34.787428500Z"
    }
   },
   "outputs": [],
   "source": [
    "# intersection indices are just the indices of the crossover point, not the indices of the endpoints of the segments\n",
    "index_to_check = 1\n",
    "print(np.shape(intersection_indices))\n",
    "time1 = layers[0].gps_time[intersection_indices[0][index_to_check]]\n",
    "time2 = layers[0].gps_time[intersection_indices[0][index_to_check]+1]\n",
    "print(f\"time1: {time1}, time2: {time2}\")\n",
    "d_time = time2 - time1\n",
    "\n",
    "print(f\"Time between segment 1 endpoints: {d_time} s\")\n",
    "dist = latlon_dist(segment_ends[0][0][0], segment_ends[0][0][1])\n",
    "print(f\"Distance between segment 1 endpoints: {round(dist,2)} m\")\n",
    "# print(f\"type of dist: {type(dist)}\")\n",
    "# print(f\"type of d_time: {type(d_time)}\")\n",
    "vel = dist / d_time\n",
    "print(f\"Plane velocity: {round(vel,2)} m/s or {round(vel * 3.6,2)} km/h\")\n",
    "\n",
    "# print(layers[1].layer_name)\n",
    "slope = slope_around_index(layers[1], intersection_indices[0][index_to_check], 2)\n",
    "print(f\"slope at crossover {index_to_check}: {round(slope,2)}\")"
   ]
  },
  {
   "cell_type": "code",
   "execution_count": null,
   "id": "e67fdf447e0fad49",
   "metadata": {
    "collapsed": false,
    "ExecuteTime": {
     "start_time": "2024-02-13T22:10:34.789430800Z"
    }
   },
   "outputs": [],
   "source": [
    "\"\"\"\n",
    "Clean this up and put it in a function in the library file (?)\n",
    "\"\"\"\n",
    "\n",
    "print(\"Comparing my depth to CReSIS depth...\")\n",
    "print(\"--------------------\")\n",
    "twtt_at_intersect = twtt_at_point(layers[1], layers[0], intersection_indices, quiet=True)\n",
    "# find the twtt at the crossover points\n",
    "twtt_difference_at_intersect = twtt_at_intersect[0][0] - twtt_at_intersect[0][1]\n",
    "# find the difference in twtt at the crossover points\n",
    "print(f\"twtt difference at crossover point: {twtt_difference_at_intersect} ns\")\n",
    "\n",
    "my_refractive_index = 1.77\n",
    "# my_depth_1 = twtt_to_depth(twtt_at_intersect[0][0], my_refractive_index)\n",
    "# my_depth_2 = twtt_to_depth(twtt_at_intersect[0][1], my_refractive_index)\n",
    "#\n",
    "# print(f\"By my refractive index: {my_refractive_index}\")\n",
    "# print(f\"depth at crossover point on segment 1: {my_depth_1} m\")\n",
    "# print(f\"depth at crossover point on segment 2: {my_depth_2} m\")\n",
    "# print(f\"difference: {my_depth_1 - my_depth_2} m\")\n",
    "\n",
    "# loop through all intersections and print the depth at each\n",
    "for i in range(len(intersection_indices)):\n",
    "    my_depth_1 = twtt_to_depth(twtt_at_intersect[i][0], my_refractive_index)\n",
    "    my_depth_2 = twtt_to_depth(twtt_at_intersect[i][1], my_refractive_index)\n",
    "    print(f\"depth at crossover point {i} on segment 1: {my_depth_1} m\")\n",
    "    print(f\"depth at crossover point {i} on segment 2: {my_depth_2} m\")\n",
    "    print(f\"difference: {my_depth_1 - my_depth_2} m\")\n",
    "\n",
    "print(f\"crossover point lat-long: {intersection_points[0]}\")"
   ]
  },
  {
   "cell_type": "code",
   "execution_count": null,
   "id": "a5a5ef3488929da9",
   "metadata": {
    "collapsed": false,
    "ExecuteTime": {
     "start_time": "2024-02-13T22:10:34.793426500Z"
    }
   },
   "outputs": [],
   "source": [
    "cresis_refractive_index = math.sqrt(3.15)\n",
    "# cresis_refractive_index = 1.785\n",
    "cresis_depth_1 = twtt_to_depth(twtt_at_intersect[0][0], cresis_refractive_index)\n",
    "cresis_depth_2 = twtt_to_depth(twtt_at_intersect[0][1], cresis_refractive_index)\n",
    "\n",
    "print(f\"By CReSIS refractive index: {cresis_refractive_index}\")\n",
    "print(f\"depth at crossover point on segment 1: {cresis_depth_1} m\")\n",
    "print(f\"depth at crossover point on segment 2: {cresis_depth_2} m\")\n",
    "print(section_break)\n",
    "\"\"\"\n",
    "End of the cleanup (for now)\n",
    "\"\"\""
   ]
  },
  {
   "cell_type": "code",
   "execution_count": null,
   "outputs": [],
   "source": [
    "# save the crossover point data to crossovers.json\n",
    "# save_crossover()"
   ],
   "metadata": {
    "collapsed": false,
    "ExecuteTime": {
     "start_time": "2024-02-13T22:10:34.796425900Z"
    }
   },
   "id": "3b087e1419fd2dab"
  },
  {
   "cell_type": "code",
   "execution_count": null,
   "id": "1b12cd14470c7932",
   "metadata": {
    "collapsed": false,
    "ExecuteTime": {
     "start_time": "2024-02-13T22:10:34.799427100Z"
    }
   },
   "outputs": [],
   "source": [
    "def plot_layers_at_cross(layers, intersection_indices, intersection_points, zoom=False, refractive_index=1.77,\n",
    "                         cross_index=0):\n",
    "    \"\"\"\n",
    "    :param layers: a list of Layer objects\n",
    "    :param intersection_indices: a list of indices in the lat-lon arrays where the flight path\n",
    "    crosses over itself\n",
    "    :param intersection_points: a list of lat-lon points where the flight path crosses over itself\n",
    "    :return: nothing (plots the layers and the map)\n",
    "    \"\"\"\n",
    "    plt.figure(figsize=(24, 12), layout='constrained')\n",
    "    print(\"Plotting layers and map...\")\n",
    "    print(\"--------------------\")\n",
    "    print(\"Adjusting for surface twtt...\")\n",
    "    for layer in layers:\n",
    "        corrected_layer = layer.twtt - layers[0].twtt\n",
    "        layer.twtt_corrected = corrected_layer\n",
    "\n",
    "    # ax2 will be the layer plot\n",
    "    plt.subplot(1, 2, 1)\n",
    "\n",
    "    # plot the layer depths vs index for 500 points before and after the first\n",
    "    # crossover point for each layer.\n",
    "    # also plot the layer depths vs index for 500 points before and after the\n",
    "    # second crossover point for each layer.\n",
    "    offset = 500\n",
    "    # plot the corrected twtt for each layer\n",
    "    plt.plot(\n",
    "        layers[0].twtt_corrected[intersection_indices[0][0] - offset:intersection_indices[cross_index][0] + offset],\n",
    "        label=layers[0].layer_name)\n",
    "    plt.plot(\n",
    "        layers[1].twtt_corrected[intersection_indices[0][0] - offset:intersection_indices[cross_index][0] + offset],\n",
    "        label=layers[1].layer_name + ' segment 1')\n",
    "    plt.plot(\n",
    "        layers[1].twtt_corrected[intersection_indices[0][1] - offset:intersection_indices[cross_index][1] + offset],\n",
    "        label=layers[1].layer_name + ' segment 2')\n",
    "\n",
    "    # plot uncorrected twtt for each layer\n",
    "    # plt.plot(layers[0].twtt[intersection_indices[0][0] - offset:intersection_indices[0][0] + offset],\n",
    "    #             label=layers[0].layer_name)\n",
    "    # plt.plot(layers[1].twtt[intersection_indices[0][0] - offset:intersection_indices[0][0] + offset],\n",
    "    #             label=layers[1].layer_name + ' segment 1')\n",
    "    # plt.plot(layers[1].twtt[intersection_indices[0][1] - offset:intersection_indices[0][1] + offset],\n",
    "    # label=layers[1].layer_name + ' segment 2')\n",
    "\n",
    "    # invert the y-axis because the twtt increases with depth\n",
    "    plt.gca().invert_yaxis()\n",
    "    # plot the crossover point on the plot\n",
    "    plt.scatter(offset, twtt_at_point(layers[1], layers[0],\n",
    "                                      intersection_indices, quiet=True)[0][0], color='red',\n",
    "                label='X Point 1')\n",
    "    plt.scatter(offset, twtt_at_point(layers[1], layers[0],\n",
    "                                      intersection_indices, quiet=True)[0][1], color='green',\n",
    "                label='X Point 2')\n",
    "    # plot a line at the crossover point\n",
    "    plt.axvline(x=offset, color='black', label='X Point', linestyle='--', linewidth=0.3)\n",
    "\n",
    "    # set the y axis to be in nanoseconds instead of seconds\n",
    "    plt.ylabel(\"Adjusted Two Way Travel Time (ns)\")\n",
    "    plt.xlabel(\"Index\")\n",
    "\n",
    "    # force the y values to be displayed in 1e-6 ticks (microseconds) instead of 1e-5 ticks (tens of microseconds)\n",
    "    plt.ticklabel_format(style='sci', axis='y', scilimits=(0, 0), useMathText=True)\n",
    "\n",
    "    def s_to_ms(x, pos):\n",
    "        \"\"\"\n",
    "        :param x: the x value\n",
    "        :param pos: the position\n",
    "        :return: the x value in milliseconds\n",
    "        \"\"\"\n",
    "        return '%1.1f' % (x * 1e6)\n",
    "\n",
    "    # set the y axis to be in microseconds instead of seconds\n",
    "    plt.gca().yaxis.set_major_formatter(plt.FuncFormatter(s_to_ms))\n",
    "\n",
    "    # make the right side y axis show the depth in meters by converting the twtt to depth using the refractive index\n",
    "    min_y, max_y = plt.ylim()\n",
    "    n = refractive_index\n",
    "    c = 299792458  # m/s\n",
    "    v = c / n\n",
    "    # depth = twtt * v / 2\n",
    "    scale_factor = v / 2\n",
    "    print(f\"scale factor: {scale_factor}\")\n",
    "    plt.twinx()\n",
    "    plt.ylim(min_y * scale_factor, max_y * scale_factor)\n",
    "    plt.ylabel(\"Depth (m)\")\n",
    "\n",
    "    # make the top of the x axis be the distance in meters by converting the lat-lon to distance using the haversine formula\n",
    "    min_x, max_x = plt.xlim()\n",
    "    scale_factor = latlon_dist((layers[0].lat[0], layers[0].lon[0]), (layers[0].lat[1], layers[0].lon[1]))\n",
    "    print(f\"scale factor: {scale_factor}\")\n",
    "    plt.twiny()\n",
    "    plt.xlim(min_x * scale_factor, max_x * scale_factor)\n",
    "    plt.xlabel(\"Distance (m)\")\n",
    "\n",
    "    plt.title(\"Adjusted Two Way Travel Time vs Index\")\n",
    "    plt.legend([\"legend\"], fontsize='smaller', loc='upper right', bbox_to_anchor=(1.1, 1.1))\n",
    "\n",
    "    \"\"\"\n",
    "    plot the map\n",
    "    \"\"\"\n",
    "    plt.subplot(1, 2, 2)\n",
    "\n",
    "    # TODO: add an offset to the zoom settings so that the crossover point is in the center of the zoomed in map\n",
    "\n",
    "    # # this code sets up a polar stereographic map of antarctica with the South Pole in the center\n",
    "    zoom_out_to_continent = not zoom\n",
    "    if zoom_out_to_continent:\n",
    "        llcrnrx = -400000\n",
    "        llcrnry = -400000\n",
    "        urcrnrx = 250000\n",
    "        urcrnry = 250000\n",
    "    else:\n",
    "        llcrnrx= -50000\n",
    "        llcrnry= -50000\n",
    "        urcrnrx= 50000\n",
    "        urcrnry= 50000\n",
    "    lat_0 = intersection_points[cross_index][0]\n",
    "    lon_0 = intersection_points[cross_index][1]\n",
    "    m = Basemap(projection='ortho', lat_0=lat_0, lon_0=lon_0, llcrnrx=llcrnrx, \n",
    "                llcrnry=llcrnry, urcrnrx=urcrnrx, urcrnry=urcrnry, resolution='c')\n",
    "\n",
    "    m.drawcoastlines()\n",
    "    m.fillcontinents(color='grey', lake_color='aqua')\n",
    "    m.drawparallels(np.arange(-80., 81., 20.))\n",
    "    m.drawmeridians(np.arange(-180., 181., 20.))\n",
    "    m.drawmapboundary(fill_color='aqua')\n",
    "\n",
    "    # plot the flight path\n",
    "    m.plot(layers[0].lon, layers[0].lat, latlon=True, color='lightgreen', linewidth=1)\n",
    "    # plot the section of the flight path in the plot above\n",
    "    m.plot(layers[0].lon[intersection_indices[0][0] - offset:intersection_indices[0][0] + offset],\n",
    "           layers[0].lat[intersection_indices[0][0] - offset:intersection_indices[0][0] + offset], latlon=True,\n",
    "           color='red', linewidth=1)\n",
    "    m.plot(layers[0].lon[intersection_indices[0][1] - offset:intersection_indices[0][1] + offset],\n",
    "           layers[0].lat[intersection_indices[0][1] - offset:intersection_indices[0][1] + offset], latlon=True,\n",
    "           color='green', linewidth=1)\n",
    "    # plot labels for the flight paths at their start points\n",
    "    plt.text(\n",
    "        m(layers[0].lon[intersection_indices[0][0] - offset], layers[0].lat[intersection_indices[0][0] - offset])[\n",
    "            0],\n",
    "        m(layers[0].lon[intersection_indices[0][0] - offset], layers[0].lat[intersection_indices[0][0] - offset])[\n",
    "            1], '\\nsegment 1', fontsize='smaller', fontweight='bold', ha='right', va='top', color='red')\n",
    "    plt.text(\n",
    "        m(layers[0].lon[intersection_indices[0][1] - offset], layers[0].lat[intersection_indices[0][1] - offset])[\n",
    "            0],\n",
    "        m(layers[0].lon[intersection_indices[0][1] - offset], layers[0].lat[intersection_indices[0][1] - offset])[\n",
    "            1], '\\nsegment 2', fontsize='smaller', fontweight='bold', ha='left', va='top', color='green')\n",
    "    # plot the South Pole\n",
    "    m.scatter(0, -90, latlon=True, color='black', linewidth=1, label='South Pole')\n",
    "    # plot the crossover points\n",
    "    for point in intersection_points:\n",
    "        m.scatter(point[1], point[0], latlon=True, color='darkred', linewidth=1, label='Crossover Point')\n",
    "        plt.text(m(point[1], point[0])[0], m(point[1], point[0])[1] - 10000, 'Crossover Point\\n\\n',\n",
    "                 fontsize='smaller', fontweight='bold', ha='center', va='top', color='darkred')\n",
    "\n",
    "    # m.scatter(intersection_points[cross_index][1], intersection_points[cross_index][0], latlon=True, color='darkred',\n",
    "    #           linewidth=1, label='Crossover Point')\n",
    "    # plt.text(m(intersection_points[cross_index][1], intersection_points[cross_index][0])[0],\n",
    "    #          m(intersection_points[cross_index][1], intersection_points[cross_index][0])[1] - 10000,\n",
    "    #          'Crossover Point\\n\\n',\n",
    "    #          fontsize='smaller', fontweight='bold', ha='center', va='top', color='darkred')\n",
    "\n",
    "    # plot the crossover line\n",
    "\n",
    "    x, y = m(0, -90)\n",
    "    plt.text(x, y, '\\nSouth Pole', fontsize='smaller', fontweight='bold', ha='center', va='top', color='black')\n",
    "    plt.title(\"Lat-Lon Map\")\n",
    "    # set tight layout\n",
    "    # plt.tight_layout()\n",
    "\n",
    "    # save the plot\n",
    "    plt.savefig(\"layer_plot.png\", dpi=250)\n",
    "\n",
    "    plt.show()\n",
    "\n",
    "    print(\"plotted map\")\n",
    "    print(\"--------------------\\n\")"
   ]
  },
  {
   "cell_type": "code",
   "execution_count": 2,
   "id": "908aed9ecd9e80ca",
   "metadata": {
    "collapsed": false,
    "ExecuteTime": {
     "end_time": "2024-02-13T22:10:35.164047400Z",
     "start_time": "2024-02-13T22:10:34.931761300Z"
    }
   },
   "outputs": [
    {
     "ename": "NameError",
     "evalue": "name 'season' is not defined",
     "output_type": "error",
     "traceback": [
      "\u001B[1;31m---------------------------------------------------------------------------\u001B[0m",
      "\u001B[1;31mNameError\u001B[0m                                 Traceback (most recent call last)",
      "Cell \u001B[1;32mIn[2], line 1\u001B[0m\n\u001B[1;32m----> 1\u001B[0m \u001B[38;5;28mprint\u001B[39m(\u001B[43mseason\u001B[49m, flight)\n\u001B[0;32m      2\u001B[0m cross_index \u001B[38;5;241m=\u001B[39m \u001B[38;5;241m0\u001B[39m\n\u001B[0;32m      3\u001B[0m plot_layers_at_cross(layers, intersection_indices, intersection_points,zoom\u001B[38;5;241m=\u001B[39m\u001B[38;5;28;01mFalse\u001B[39;00m, refractive_index\u001B[38;5;241m=\u001B[39mmy_refractive_index,cross_index\u001B[38;5;241m=\u001B[39mcross_index)\n",
      "\u001B[1;31mNameError\u001B[0m: name 'season' is not defined"
     ]
    }
   ],
   "source": [
    "print(season, flight)\n",
    "cross_index = 0\n",
    "plot_layers_at_cross(layers, intersection_indices, intersection_points,zoom=False, refractive_index=my_refractive_index,cross_index=cross_index)\n",
    "\n",
    "\n",
    "# convert 25.8 microseconds to seconds\n",
    "time = 25.8 * 10 ** -6\n",
    "time2 = 30.5 * 10 ** -6\n",
    "\n",
    "print(f\"{twtt_to_depth(time, 1.77)} m\")\n",
    "print(f\"{twtt_to_depth(time2, 1.77)} m\")\n",
    "print(f\"difference: {twtt_to_depth(time, 1.77) - twtt_to_depth(time2, 1.77)} m\")"
   ]
  },
  {
   "cell_type": "code",
   "execution_count": 3,
   "outputs": [],
   "source": [
    "import cartopy.crs as ccrs\n",
    "import cartopy.feature as cfeature\n",
    "import iceflow_library as iceflow\n",
    "from iceflow_library import *"
   ],
   "metadata": {
    "collapsed": false,
    "ExecuteTime": {
     "end_time": "2024-02-13T22:10:43.937728400Z",
     "start_time": "2024-02-13T22:10:35.144047600Z"
    }
   },
   "id": "938ccba22162917f"
  },
  {
   "cell_type": "code",
   "execution_count": 4,
   "outputs": [
    {
     "name": "stdout",
     "output_type": "stream",
     "text": [
      "The iceflow data pickle file was found and loaded.\n",
      "Iceflow data array layout is 0:x, 1:y, 2:v_x, 3:v_y, 4:latitude, 5:longitude\n"
     ]
    }
   ],
   "source": [
    "try:\n",
    "    iceflow_data = iceflow.iceflow_data_file_loader()\n",
    "    print(\"The iceflow data pickle file was found and loaded.\")\n",
    "except FileNotFoundError:\n",
    "    print(\"The iceflow data pickle file was not found. Creating a new one...\")\n",
    "    filename = iceflow.iceflow_saver()\n",
    "    iceflow_data = iceflow.iceflow_loader(filename)\n",
    "    print(\"The iceflow data pickle file was successfully created.\")\n",
    "\n",
    "print(f\"Iceflow data array layout is 0:x, 1:y, 2:v_x, 3:v_y, 4:latitude, 5:longitude\")"
   ],
   "metadata": {
    "collapsed": false,
    "ExecuteTime": {
     "end_time": "2024-02-13T22:11:02.201632200Z",
     "start_time": "2024-02-13T22:10:43.796737Z"
    }
   },
   "id": "be0582f104e27a3"
  },
  {
   "cell_type": "code",
   "execution_count": 5,
   "outputs": [
    {
     "ename": "NameError",
     "evalue": "name 'intersection_points' is not defined",
     "output_type": "error",
     "traceback": [
      "\u001B[1;31m---------------------------------------------------------------------------\u001B[0m",
      "\u001B[1;31mNameError\u001B[0m                                 Traceback (most recent call last)",
      "Cell \u001B[1;32mIn[5], line 3\u001B[0m\n\u001B[0;32m      1\u001B[0m \u001B[38;5;66;03m# find the nearest iceflow data point to the crossover point\u001B[39;00m\n\u001B[0;32m      2\u001B[0m \u001B[38;5;66;03m# print(f\"intersection_points[0]: {intersection_points[0]}\")\u001B[39;00m\n\u001B[1;32m----> 3\u001B[0m x_lat \u001B[38;5;241m=\u001B[39m \u001B[43mintersection_points\u001B[49m[\u001B[38;5;241m0\u001B[39m][\u001B[38;5;241m0\u001B[39m]\n\u001B[0;32m      4\u001B[0m y_lon \u001B[38;5;241m=\u001B[39m intersection_points[\u001B[38;5;241m0\u001B[39m][\u001B[38;5;241m1\u001B[39m]\n\u001B[0;32m      5\u001B[0m \u001B[38;5;28mprint\u001B[39m(\u001B[38;5;124mf\u001B[39m\u001B[38;5;124m\"\u001B[39m\u001B[38;5;124mx_lat: \u001B[39m\u001B[38;5;132;01m{\u001B[39;00mx_lat\u001B[38;5;132;01m}\u001B[39;00m\u001B[38;5;124m, y_lon: \u001B[39m\u001B[38;5;132;01m{\u001B[39;00my_lon\u001B[38;5;132;01m}\u001B[39;00m\u001B[38;5;124m\"\u001B[39m)\n",
      "\u001B[1;31mNameError\u001B[0m: name 'intersection_points' is not defined"
     ]
    }
   ],
   "source": [
    "# find the nearest iceflow data point to the crossover point\n",
    "# print(f\"intersection_points[0]: {intersection_points[0]}\")\n",
    "x_lat = intersection_points[0][0]\n",
    "y_lon = intersection_points[0][1]\n",
    "print(f\"x_lat: {x_lat}, y_lon: {y_lon}\")\n",
    "\n",
    "# convert the crossover point lat-lon to polar stereographic\n",
    "from pyproj import Transformer\n",
    "polar_stereo_format = \"EPSG:3031\"  # the polar stereographic projection for Antarctica\n",
    "lat_lon_format = \"EPSG:4326\"  # the lat-lon projection\n",
    "transformer = Transformer.from_crs(lat_lon_format, polar_stereo_format)\n",
    "point = transformer.transform(x_lat, y_lon)\n",
    "x_point = point[0]\n",
    "y_point = point[1]\n",
    "print(f\"type of x_point: {type(x_point)}\")\n",
    "# print the nearest x and y iceflow data points to the crossover point\n",
    "closest_x_y = find_nearest_x_and_y(x_point, y_point, iceflow_data)\n",
    "print(f\"closest_x_y: {closest_x_y}\")\n",
    "# print the iceflow data at the nearest x and y points\n",
    "print(iceflow_data[4][closest_x_y[0]][closest_x_y[1]])\n",
    "print(iceflow_data[5][closest_x_y[0]][closest_x_y[1]])"
   ],
   "metadata": {
    "collapsed": false,
    "ExecuteTime": {
     "end_time": "2024-02-13T22:11:05.131009800Z",
     "start_time": "2024-02-13T22:11:02.262103900Z"
    }
   },
   "id": "f8b6ab08eb85c742"
  },
  {
   "cell_type": "code",
   "execution_count": null,
   "outputs": [],
   "source": [],
   "metadata": {
    "collapsed": false,
    "ExecuteTime": {
     "end_time": "2024-02-13T22:11:05.138007400Z",
     "start_time": "2024-02-13T22:11:05.134008100Z"
    }
   },
   "id": "cbba0165d95b88d5"
  },
  {
   "cell_type": "markdown",
   "source": [
    "# TODO:\n",
    "### 24Oct23 - 31Oct23\n",
    "- use lat-lon for distance and make that the x axis of the layer\n",
    "    - distance from... what exactly?\n",
    "        - the exact placement of $d_0$ may not actually matter as long as it is noted on the plot that it is arbitrary (or however it is actually placed)\n",
    "            - i.e. it is only useful for showing scale\n",
    "    - this would put the plot in meters on both axes if reading the right side y axis scale\n",
    "- get the distance between crossover points\n",
    "    - *GPS time is not a useful measure of ~distance~ anything*\n",
    "    - use the lat-lon coordinates to get the distance between points\n",
    "        - i.e. get the 4 endpoints of the 2 segments and use the distance between them\n",
    "    - **distance between points in the 2018 Antarctica DC8 20181030_01 flight is about 14.9m**\n",
    "        - need to make distance step a variable that is read from this because it may change flight to flight"
   ],
   "metadata": {
    "collapsed": false
   },
   "id": "c2dfc15635b07850"
  }
 ],
 "metadata": {
  "kernelspec": {
   "display_name": "Python 3 (ipykernel)",
   "language": "python",
   "name": "python3"
  },
  "language_info": {
   "codemirror_mode": {
    "name": "ipython",
    "version": 3
   },
   "file_extension": ".py",
   "mimetype": "text/x-python",
   "name": "python",
   "nbconvert_exporter": "python",
   "pygments_lexer": "ipython3",
   "version": "3.10.4"
  }
 },
 "nbformat": 4,
 "nbformat_minor": 5
}

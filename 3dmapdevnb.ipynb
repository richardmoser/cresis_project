{
 "cells": [
  {
   "metadata": {
    "ExecuteTime": {
     "end_time": "2024-06-18T00:29:25.280821Z",
     "start_time": "2024-06-18T00:29:18.903640Z"
    }
   },
   "cell_type": "code",
   "source": [
    "import matplotlib.pyplot as plt\n",
    "import os\n",
    "from project_classes import *\n",
    "from functions import *\n",
    "from iceflow_library import *\n",
    "from scipy.optimize import curve_fit\n",
    "import scipy.optimize as opt\n",
    "import sys"
   ],
   "id": "df18536798616ae2",
   "outputs": [],
   "execution_count": 1
  },
  {
   "metadata": {},
   "cell_type": "markdown",
   "source": "",
   "id": "ca2c9361d71e686b"
  },
  {
   "metadata": {
    "ExecuteTime": {
     "end_time": "2024-06-18T00:29:25.312728Z",
     "start_time": "2024-06-18T00:29:25.299283Z"
    }
   },
   "cell_type": "code",
   "source": [
    "zoom = True\n",
    "seg_length = 100\n",
    "# season = \"2009_Antarctica_DC8\"\n",
    "season = \"2018_Antarctica_DC8\"\n",
    "# season = \"2016_Antarctica_DC8\" \n",
    "# season = \"2014_Antarctica_DC8\" \n",
    "season = \"2022_Antarctica_BaslerMKB\"\n",
    "\n",
    "# flight = \"20181030_01\"  # the flight date and frame number \n",
    "# that flight only has one point\n",
    "flight = \"20181018_01\"\n",
    "# flight = \"20181103_01\"\n",
    "# flight = \"20181011_01\"\n",
    "# one dimensional data error\n",
    "# TODO: figure out why 10018 and 1103 have the same data or at least print the same maps and plots\n",
    "# flight = \"20181109_01\"\n",
    "# flight = \"20181112_02\"  # the problem flight\n",
    "# plots fake crossovers along the curved path\n",
    "# flight = \"20161024_05\"\n",
    "# flight = \"20161111_05\"\n",
    "# probably too close to the coast to be useful\n",
    "# flight = \"20161024_05\"\n",
    "# flight = \"20141026_06\"\n",
    "flight = \"20230127_01\"\n",
    "# ~ 1/3 of an orbit of the pole and yet the angle plot looks like hot garbage\n",
    "# file_name = \"layer_export_\" + flight + \".pickle\"\n",
    "file_name = \"C:\\\\Users\\\\rj\\\\Documents\\\\cresis_project\\\\pickle_jar\\\\layer_export_\" + flight + \".pickle\"\n",
    "testing = False"
   ],
   "id": "5525ed77b41227aa",
   "outputs": [],
   "execution_count": 3
  },
  {
   "metadata": {
    "ExecuteTime": {
     "end_time": "2024-06-18T00:29:34.197476Z",
     "start_time": "2024-06-18T00:29:25.314727Z"
    }
   },
   "cell_type": "code",
   "source": [
    "print(f\"Force remaking {file_name}...\")\n",
    "mat_pickler_h5py(season, flight, testing_mode=testing)  # make it\n",
    "layers = read_layers(file_name)  # read in the layers from the pickle file\n",
    "print(f\"File {file_name} created.\")\n",
    "\n",
    "if not os.path.isfile(\n",
    "        \"C:\\\\Users\\\\rj\\\\Documents\\\\cresis_project\\\\pickle_jar\\\\iceflow_data.pickle\"):  # if the file does not exist\n",
    "    print(\"The iceflow data pickle file was not found. Creating a new one...\")\n",
    "    filename = iceflow_saver()\n",
    "    iceflow_data = iceflow_loader(filename)\n",
    "    print(\"The iceflow data pickle file was successfully created.\")\n",
    "# try:\n",
    "iceflow_data = iceflow_loader(\"C:\\\\Users\\\\rj\\\\Documents\\\\cresis_project\\\\pickle_jar\\\\iceflow_data.pickle\")\n",
    "print(\"The iceflow data pickle file was found and loaded.\")\n",
    "\n",
    "x = iceflow_data[0]\n",
    "y = iceflow_data[1]\n",
    "velocity_x = iceflow_data[2]\n",
    "velocity_y = iceflow_data[3]\n",
    "latitude = iceflow_data[4]\n",
    "longitude = iceflow_data[5]\n",
    "print(\"iceflow data loaded\")\n",
    "\n",
    "filename = f\"C:\\\\Users\\\\rj\\\\Documents\\\\cresis_project\\\\pickle_jar\\\\{season}_{flight}_crossover_points.pickle\"\n",
    "\n",
    "print(f\"Force remaking {file_name}...\")\n"
   ],
   "id": "43774761ee44eced",
   "outputs": [
    {
     "name": "stdout",
     "output_type": "stream",
     "text": [
      "Force remaking C:\\Users\\rj\\Documents\\cresis_project\\pickle_jar\\layer_export_20230127_01.pickle...\n",
      "Reading data files...\n",
      "--------------------\n",
      "f['param']: <HDF5 group \"/param\" (6 members)>\n",
      "f['param'].keys(): ['day_seg', 'radar', 'radar_name', 'records', 'season_name', 'sw_version']\n",
      "\n",
      "\n",
      "layerize_h5py debug:\n",
      "f['lat'][:]: [[-88.89395645]\n",
      " [-88.89382215]\n",
      " [-88.89368786]\n",
      " ...\n",
      " [-88.44666919]\n",
      " [-88.44653489]\n",
      " [-88.4464006 ]]\n",
      "f['lat'][:]: -88.8939564477804\n",
      "\n",
      "\n",
      "\n",
      "layer1: Surface number of points: 96358\n",
      "layer2: Bottom number of points: 96358\n",
      "--------------------\n",
      "C:\\Users\\rj\\Documents\\cresis_project\\pickle_jar\\layer_export_20230127_01.pickle  saved in local directory of this python file.\n",
      "--------------------\n",
      "\n",
      "Reading pickle file...\n",
      "--------------------\n",
      "Surface\n",
      "Bottom\n",
      "--------------------\n",
      "\n",
      "File C:\\Users\\rj\\Documents\\cresis_project\\pickle_jar\\layer_export_20230127_01.pickle created.\n",
      "The iceflow data pickle file was found and loaded.\n",
      "iceflow data loaded\n",
      "Force remaking C:\\Users\\rj\\Documents\\cresis_project\\pickle_jar\\layer_export_20230127_01.pickle...\n"
     ]
    }
   ],
   "execution_count": 4
  },
  {
   "metadata": {
    "ExecuteTime": {
     "end_time": "2024-06-18T00:29:45.728538Z",
     "start_time": "2024-06-18T00:29:34.276154Z"
    }
   },
   "cell_type": "code",
   "source": [
    "intersection_points, intersection_indices, segment_ends = cross_point(layers[0], seg_length, quiet=True)\n",
    "with open(filename, 'wb') as file:\n",
    "    pickle.dump(intersection_indices, file)\n",
    "    pickle.dump(intersection_points, file)\n",
    "    pickle.dump(segment_ends, file)\n",
    "print(f\"intersection_indices and intersection_points saved to {filename}\")"
   ],
   "id": "22ec5c18b8ef685b",
   "outputs": [
    {
     "name": "stdout",
     "output_type": "stream",
     "text": [
      "Finding crossover point...\n",
      "--------------------\n",
      "Checking for intersections...\n",
      "\u001B[92m[====================] 100.0%\u001B[0m\n",
      "\u001B[92m[====================] 100.0%\u001B[0m\n",
      "Number of intersections: 6\n",
      "--------------------\n",
      "\n",
      "intersection_indices and intersection_points saved to C:\\Users\\rj\\Documents\\cresis_project\\pickle_jar\\2022_Antarctica_BaslerMKB_20230127_01_crossover_points.pickle\n"
     ]
    }
   ],
   "execution_count": 6
  },
  {
   "metadata": {
    "ExecuteTime": {
     "end_time": "2024-06-18T00:29:45.743446Z",
     "start_time": "2024-06-18T00:29:45.730645Z"
    }
   },
   "cell_type": "code",
   "source": [
    "# print the lat-lon and twtt of the first crossover point\n",
    "\n",
    "# print(f\"layers[1].lat[0]: {layers[1].lat[0]}\")\n",
    "#                             layers[1].lon[index][0])\n",
    "print(f\"segment_ends[0][0][0]: {segment_ends[0][0][2]}\")\n",
    "print(f\"segment_ends[0][0]: {segment_ends[0][0]}\")\n"
   ],
   "id": "d61c767b6fc02981",
   "outputs": [
    {
     "name": "stdout",
     "output_type": "stream",
     "text": [
      "segment_ends[0][0][0]: 29253\n",
      "segment_ends[0][0]: [(-85.95336842784279, -104.31383823598436), (-85.95325594062754, -104.31279852896284), 29253]\n"
     ]
    }
   ],
   "execution_count": 7
  },
  {
   "metadata": {
    "ExecuteTime": {
     "end_time": "2024-06-18T00:29:46.319577Z",
     "start_time": "2024-06-18T00:29:45.745573Z"
    }
   },
   "cell_type": "code",
   "source": [
    "def plot_layers_3d(layers, season, flight, intersect_indices, seg_ends):\n",
    "    # plot the layers with respect to lat, lon, and twtt\n",
    "    # plot a grid of scattered points at 0 twtt to represent the surface\n",
    "\n",
    "    # convert the lat-lon points to xy points\n",
    "    fig = plt.figure()\n",
    "    ax = fig.add_subplot(111, projection='3d')\n",
    "\n",
    "\n",
    "    plot_all = False\n",
    "    # plot_all = True\n",
    "    plot_surface = False\n",
    "\n",
    "    for layer in layers:\n",
    "        corrected_twtt = layer.twtt - layers[0].twtt  # normalize against the surface layer\n",
    "        # corrected_twtt = layer.twtt\n",
    "        layer.twtt_corrected = corrected_twtt\n",
    "\n",
    "    for point in layers[0].twtt_corrected:\n",
    "        if point != 0:\n",
    "            print(f\"point: {point} is not 0. Hopefully it is nan.\")\n",
    "\n",
    "    lats_bottom = []\n",
    "    lons_bottom = []\n",
    "    twtts_bottom = []\n",
    "    lats_surf = []\n",
    "    lons_surf = []\n",
    "    twtts_surf = []\n",
    "\n",
    "    for i in range(len(layers[1].lat)):\n",
    "        lats_bottom.append(layers[1].lat[i])\n",
    "        lons_bottom.append(layers[1].lon[i])\n",
    "        twtts_bottom.append(layers[1].twtt_corrected[i])\n",
    "        # twtts1.append(layers[1].twtt[index])\n",
    "\n",
    "    for i in range(len(layers[0].lat)):\n",
    "        lats_surf.append(layers[0].lat[i])\n",
    "        lons_surf.append(layers[0].lon[i])\n",
    "        twtts_surf.append(layers[0].twtt_corrected[i])\n",
    "        # twtts2.append(layers[0].twtt[index])\n",
    "\n",
    "    # offset = 250\n",
    "    offset = 150\n",
    "\n",
    "    i=0\n",
    "    # for index in range(len(intersect_indices) - 1):\n",
    "\n",
    "    if plot_surface:\n",
    "        # plot the surface layer (layer 0)\n",
    "        ax.plot(lons_surf[intersect_indices[i][0] - offset:intersect_indices[i][0] + offset],\n",
    "                lats_surf[intersect_indices[i][0] - offset:intersect_indices[i][0] + offset],\n",
    "                [-x for x in (twtts_surf[intersect_indices[i][0] - offset:intersect_indices[i][0] + offset])], label='top. seg. 1', c='blue',\n",
    "                linewidth=1)\n",
    "\n",
    "        ax.plot(lons_surf[intersect_indices[i][1] - offset:intersect_indices[i][1] + offset],\n",
    "                lats_surf[intersect_indices[i][1] - offset:intersect_indices[i][1] + offset],\n",
    "                [-x for x in (twtts_surf[intersect_indices[i][1] - offset:intersect_indices[i][1] + offset])], label='top seg. 2', c='black',\n",
    "                linewidth=1)\n",
    "\n",
    "        # draw a line from one end of the segment to the other in blue\n",
    "        # Define the slice range\n",
    "        start_index = intersect_indices[i][0] - offset\n",
    "        end_index = intersect_indices[i][0] + offset\n",
    "\n",
    "        # Extract the sliced arrays\n",
    "        lons2_slice = lons_surf[start_index:end_index]\n",
    "        lats2_slice = lats_surf[start_index:end_index]\n",
    "        twtts2_slice = [-x for x in twtts_surf[start_index:end_index]]\n",
    "\n",
    "        # plot the distance in meters between the first and last point\n",
    "        # get the distance in meters between the first and last point\n",
    "        distance = latlon_dist([lats2_slice[0], lons2_slice[0]], [lats2_slice[-1], lons2_slice[-1]])\n",
    "        # plot the distance in meters to the first decimal between the first and last point\n",
    "        ax.text((lons2_slice[0]), (lats2_slice[0]),\n",
    "                (max(twtts2_slice[0], twtts2_slice[-1])), f\"{distance:.1f}m\", color='blue')\n",
    "\n",
    "\n",
    "\n",
    "    start_index_seg1 = intersect_indices[i][1] - offset\n",
    "    end_index_seg2 = intersect_indices[i][1] + offset\n",
    "\n",
    "    start_index_seg2 = intersect_indices[i][0] - offset\n",
    "    end_index_seg1 = intersect_indices[i][0] + offset\n",
    "\n",
    "    # plot the bottom layer (layer 1)\n",
    "    # plot.plot(lons_bottom[intersect_indices[index][0] - offset:intersect_indices[index][0] + offset],\n",
    "    #         lats_bottom[intersect_indices[index][0] - offset:intersect_indices[index][0] + offset],\n",
    "    #         [-x for x in (twtts_bottom[intersect_indices[index][0] - offset:intersect_indices[index][0] + offset])],\n",
    "    #         label='bott. seg. 1', c='orange',\n",
    "    #         linewidth=1)\n",
    "    #\n",
    "    # plot.plot(lons_bottom[intersect_indices[index][1] - offset:intersect_indices[index][1] + offset],\n",
    "    #         lats_bottom[intersect_indices[index][1] - offset:intersect_indices[index][1] + offset],\n",
    "    #         [-x for x in (twtts_bottom[intersect_indices[index][1] - offset:intersect_indices[index][1] + offset])],\n",
    "    #         label='bott. seg. 2', c='green',\n",
    "    #         linewidth=1)\n",
    "\n",
    "    ax.plot(lons_bottom[start_index_seg1:end_index_seg2],\n",
    "            lats_bottom[start_index_seg1:end_index_seg2],\n",
    "            [-x for x in twtts_bottom[start_index_seg1:end_index_seg2]],\n",
    "            label='bott. seg. 2', c='green', linewidth=1)\n",
    "\n",
    "    ax.plot(lons_bottom[start_index_seg2:end_index_seg1],\n",
    "            lats_bottom[start_index_seg2:end_index_seg1],\n",
    "            [-x for x in twtts_bottom[start_index_seg2:end_index_seg1]],\n",
    "            label='bott. seg. 1', c='orange', linewidth=1)\n",
    "\n",
    "\n",
    "    if plot_all:\n",
    "        # plot the rest of the bottom layer\n",
    "        ax.plot(lons_bottom[intersect_indices[0][0] - offset:intersect_indices[0][1] + offset],\n",
    "                lats_bottom[intersect_indices[0][0] - offset:intersect_indices[0][1] + offset],\n",
    "                [-x for x in (twtts_bottom[intersect_indices[0][0] - offset:intersect_indices[0][1] + offset])], label='whole bottom', c='purple',\n",
    "                linewidth=0.25)\n",
    "\n",
    "        # plot the rest of the surface layer\n",
    "        ax.plot(lons_surf[intersect_indices[0][0] - offset:intersect_indices[0][1] + offset],\n",
    "                lats_surf[intersect_indices[0][0] - offset:intersect_indices[0][1] + offset],\n",
    "                [-x for x in (twtts_surf[intersect_indices[0][0] - offset:intersect_indices[0][1] + offset])], label='whole surface', c='grey',\n",
    "                linewidth=0.25)\n",
    "\n",
    "    # plot the intersection points\n",
    "    i = 0\n",
    "\n",
    "    # for index in range(len(intersection_points) - 1):\n",
    "    # plot.scatter(intersection_points[index][1], intersection_points[index][0], -1 * twtts_bottom[intersect_indices[index][0]],\n",
    "    #            c='red', marker='o')\n",
    "    # plot.scatter(intersection_points[index][1], intersection_points[index][0], -1 * twtts_bottom[intersect_indices[index][1]],\n",
    "    #            c='black', marker='o')\n",
    "    #\n",
    "    # plot.scatter(layers[1].lon[intersect_indices[index][0]],\n",
    "    #            layers[1].lat[intersect_indices[index][0]],\n",
    "    #            -1 * layers[1].twtt_corrected[intersect_indices[index][0]], c='green', marker='o')\n",
    "    # plot.scatter(layers[1].lon[intersect_indices[index][1]],\n",
    "    #            layers[1].lat[intersect_indices[index][1]],\n",
    "    #            -1 * layers[1].twtt_corrected[intersect_indices[index][1]], c='blue', marker='o')\n",
    "\n",
    "    # plot the segment_ends\n",
    "    # for index in range(len(seg_ends)-1):\n",
    "    \n",
    "        # plot.scatter(seg_ends[index][0][0][0], seg_ends[index][0][0][1], -1 * corrected_twtt[seg_ends[index][0][2]], c='red', marker='o')\n",
    "        # plot.scatter(seg_ends[index][0][0][1], seg_ends[index][0][0][0], -1 * corrected_twtt[seg_ends[index][0][2]], c='red', marker='o')\n",
    "\n",
    "    # plot just the first 4 segment ends\n",
    "    for i in range(1):\n",
    "        ax.scatter(seg_ends[i][0][0][1], seg_ends[i][0][0][0], -1 * corrected_twtt[seg_ends[i][0][2]], c='red', marker='o')\n",
    "        ax.scatter(seg_ends[i][0][1][1], seg_ends[i][0][1][0], -1 * corrected_twtt[seg_ends[i][0][2]], c='blue', marker='o')\n",
    "        ax.scatter(seg_ends[i][1][0][1], seg_ends[i][1][0][0], -1 * corrected_twtt[seg_ends[i][1][2]], c='green', marker='o')\n",
    "        ax.scatter(seg_ends[i][1][1][1], seg_ends[i][1][1][0], -1 * corrected_twtt[seg_ends[i][1][2]], c='black', marker='o')\n",
    "\n",
    "    # index = 0\n",
    "    # plot.scatter(seg_ends[index][0][0][0], seg_ends[index][0][0][1], -1 * corrected_twtt[seg_ends[index][0][2]], c='red', marker='o')\n",
    "    \n",
    "    print(f\"first cross lat-lon: {seg_ends[i][0][0][0]}, {seg_ends[i][0][0][1]}\")\n",
    "    print(f\"first segment lat-lon: {seg_ends[i][0][1][0]}, {seg_ends[i][0][1][1]}\")\n",
    "    print(f\"first cross twtt: {corrected_twtt[seg_ends[i][0][2]]}\")\n",
    "\n",
    "\n",
    "    # print(f\"by way of twtt_bottom: \\t{twtts_bottom[intersect_indices[index][0]]}\")  # red one\n",
    "    # print(f\"by way of twtt_bottom: \\t{twtts_bottom[intersect_indices[index][1]]}\")  # black one\n",
    "    # print(f\"by way of twtt_corrected: \\t{layers[1].twtt_corrected[intersect_indices[index][0]]}\")  # green one\n",
    "    # print(f\"by way of twtt_corrected: \\t{layers[1].twtt_corrected[intersect_indices[index][1]]}\")  # blue one\n",
    "\n",
    "\n",
    "\n",
    "    #     # label the points with their index\n",
    "    print(f\"intersection point {i}: {intersection_points[i]}\")\n",
    "\n",
    "\n",
    "    # add a legend without the whole bottom and whole surface\n",
    "    # plot.legend(labels=[f'{l.get_label()}' for l in plot.lines[::2]], bbox_to_anchor=(1.1, 1.05))\n",
    "    ax.set_xlabel('Longitude')\n",
    "    ax.set_ylabel('Latitude')\n",
    "    ax.set_zlabel('TWTT')\n",
    "    plt.show()\n",
    "\n",
    "plot_layers_3d(layers, season, flight, intersection_indices, segment_ends)"
   ],
   "id": "e36b220985f18b29",
   "outputs": [
    {
     "name": "stdout",
     "output_type": "stream",
     "text": [
      "point: nan is not 0. Hopefully it is nan.\n",
      "point: nan is not 0. Hopefully it is nan.\n",
      "first cross lat-lon: -85.95336842784279, -104.31383823598436\n",
      "first segment lat-lon: -85.95325594062754, -104.31279852896284\n",
      "first cross twtt: 2.2062186341800812e-05\n",
      "intersection point 0: [-85.95336842784279, -104.31383823598436]\n"
     ]
    },
    {
     "data": {
      "text/plain": [
       "<Figure size 640x480 with 1 Axes>"
      ],
      "image/png": "[encoded data removed]"
     },
     "metadata": {},
     "output_type": "display_data"
    }
   ],
   "execution_count": 8
  },
  {
   "metadata": {
    "ExecuteTime": {
     "end_time": "2024-06-12T17:07:33.931896Z",
     "start_time": "2024-06-12T17:07:33.917803Z"
    }
   },
   "cell_type": "code",
   "source": [
    "print(segment_ends[0][0][0])\n",
    "print(segment_ends[0][0][1])\n",
    "print(segment_ends[0][0])\n",
    "print(\"\")\n",
    "print(segment_ends[0][1][0])\n",
    "print(segment_ends[0][1][1])\n",
    "print(segment_ends[0][1])\n",
    "print(\"\")\n",
    "print(segment_ends[0])\n"
   ],
   "id": "b26d2d919f9d4499",
   "outputs": [
    {
     "name": "stdout",
     "output_type": "stream",
     "text": [
      "(-85.95336842784279, -104.31383823598436)\n",
      "(-85.95325594062754, -104.31279852896284)\n",
      "[(-85.95336842784279, -104.31383823598436), (-85.95325594062754, -104.31279852896284), 29253]\n",
      "\n",
      "(-85.95332237124342, -104.31346984061088)\n",
      "(-85.95339582068333, -104.31187657863418)\n",
      "[(-85.95332237124342, -104.31346984061088), (-85.95339582068333, -104.31187657863418), 63621]\n",
      "\n",
      "[[(-85.95336842784279, -104.31383823598436), (-85.95325594062754, -104.31279852896284), 29253], [(-85.95332237124342, -104.31346984061088), (-85.95339582068333, -104.31187657863418), 63621]]\n"
     ]
    }
   ],
   "execution_count": 6
  },
  {
   "metadata": {
    "ExecuteTime": {
     "end_time": "2024-06-12T17:07:33.948106Z",
     "start_time": "2024-06-12T17:07:33.933901Z"
    }
   },
   "cell_type": "code",
   "source": "",
   "id": "b6a8ed6c62b46dbb",
   "outputs": [],
   "execution_count": 6
  },
  {
   "metadata": {
    "ExecuteTime": {
     "end_time": "2024-06-12T17:07:33.963658Z",
     "start_time": "2024-06-12T17:07:33.949370Z"
    }
   },
   "cell_type": "code",
   "source": "",
   "id": "665f1fc631439f69",
   "outputs": [],
   "execution_count": 6
  },
  {
   "metadata": {},
   "cell_type": "code",
   "outputs": [],
   "execution_count": null,
   "source": "",
   "id": "6ae0127303a2f480"
  }
 ],
 "metadata": {
  "kernelspec": {
   "display_name": "Python 3",
   "language": "python",
   "name": "python3"
  },
  "language_info": {
   "codemirror_mode": {
    "name": "ipython",
    "version": 2
   },
   "file_extension": ".py",
   "mimetype": "text/x-python",
   "name": "python",
   "nbconvert_exporter": "python",
   "pygments_lexer": "ipython2",
   "version": "2.7.6"
  }
 },
 "nbformat": 4,
 "nbformat_minor": 5
}

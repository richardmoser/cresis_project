{
 "cells": [
  {
   "cell_type": "markdown",
   "source": [
    "# TODO:\n",
    "### 24Oct23 - 31Oct23"
   ],
   "metadata": {
    "collapsed": false
   },
   "id": "914384a0570a905a"
  },
  {
   "cell_type": "code",
   "execution_count": 7,
   "outputs": [
    {
     "ename": "ModuleNotFoundError",
     "evalue": "No module named 'CReSIS_project_classes'",
     "output_type": "error",
     "traceback": [
      "\u001B[1;31m---------------------------------------------------------------------------\u001B[0m",
      "\u001B[1;31mModuleNotFoundError\u001B[0m                       Traceback (most recent call last)",
      "Cell \u001B[1;32mIn[7], line 1\u001B[0m\n\u001B[1;32m----> 1\u001B[0m \u001B[38;5;28;01mfrom\u001B[39;00m \u001B[38;5;21;01mCReSIS_project_classes\u001B[39;00m \u001B[38;5;28;01mimport\u001B[39;00m \u001B[38;5;241m*\u001B[39m\n\u001B[0;32m      2\u001B[0m \u001B[38;5;28;01mfrom\u001B[39;00m \u001B[38;5;21;01mfunctions\u001B[39;00m \u001B[38;5;28;01mimport\u001B[39;00m \u001B[38;5;241m*\u001B[39m\n\u001B[0;32m      3\u001B[0m \u001B[38;5;28;01mfrom\u001B[39;00m \u001B[38;5;21;01miceflow_library\u001B[39;00m \u001B[38;5;28;01mimport\u001B[39;00m \u001B[38;5;241m*\u001B[39m\n",
      "\u001B[1;31mModuleNotFoundError\u001B[0m: No module named 'CReSIS_project_classes'"
     ]
    }
   ],
   "source": [
    "from CReSIS_project_classes import *\n",
    "from functions import *\n",
    "from iceflow_library import *\n",
    "from crossover_class import *"
   ],
   "metadata": {
    "collapsed": false,
    "ExecuteTime": {
     "end_time": "2023-12-19T05:15:18.499167400Z",
     "start_time": "2023-12-19T05:15:17.562632400Z"
    }
   },
   "id": "82c297c4d7d856f2"
  },
  {
   "cell_type": "code",
   "execution_count": 8,
   "outputs": [],
   "source": [
    "zoom = True\n",
    "seg_length = 100\n",
    "season = \"2018_Antarctica_DC8\"\n",
    "# season = \"2016_Antarctica_DC8\"\n",
    "flight = \"20181030_01\"  # the flight date and frame number\n",
    "# flight = \"20181103_01\"\n",
    "flight = \"20181112_02\"  # the problem flight\n",
    "# flight = \"20161024_05\"\n",
    "file_name = \"layer_export_\" + flight + \".pickle\""
   ],
   "metadata": {
    "collapsed": false,
    "ExecuteTime": {
     "end_time": "2023-12-19T05:15:43.794960900Z",
     "start_time": "2023-12-19T05:15:42.978117600Z"
    }
   },
   "id": "80fa46579d551152"
  },
  {
   "cell_type": "code",
   "execution_count": null,
   "outputs": [],
   "source": [],
   "metadata": {
    "collapsed": false
   },
   "id": "5e4326b0a8fa5712"
  }
 ],
 "metadata": {
  "kernelspec": {
   "display_name": "Python 3",
   "language": "python",
   "name": "python3"
  },
  "language_info": {
   "codemirror_mode": {
    "name": "ipython",
    "version": 2
   },
   "file_extension": ".py",
   "mimetype": "text/x-python",
   "name": "python",
   "nbconvert_exporter": "python",
   "pygments_lexer": "ipython2",
   "version": "2.7.6"
  }
 },
 "nbformat": 4,
 "nbformat_minor": 5
}

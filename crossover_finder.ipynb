{
 "cells": [
  {
   "cell_type": "markdown",
   "source": [
    "# TODO:\n",
    "### 24Oct23 - 31Oct23"
   ],
   "metadata": {
    "collapsed": false
   },
   "id": "914384a0570a905a"
  },
  {
   "cell_type": "code",
   "execution_count": 2,
   "outputs": [],
   "source": [
    "from project_classes import *\n",
    "from functions import *\n",
    "from iceflow_library import *\n",
    "# from project_classes import *"
   ],
   "metadata": {
    "collapsed": false,
    "ExecuteTime": {
     "end_time": "2024-01-08T19:11:57.441407900Z",
     "start_time": "2024-01-08T19:11:57.415895100Z"
    }
   },
   "id": "82c297c4d7d856f2"
  },
  {
   "cell_type": "code",
   "execution_count": 3,
   "outputs": [],
   "source": [
    "zoom = True\n",
    "seg_length = 100\n",
    "season = \"2018_Antarctica_DC8\"\n",
    "# season = \"2016_Antarctica_DC8\"\n",
    "flight = \"20181030_01\"  # the flight date and frame number\n",
    "# flight = \"20181103_01\"\n",
    "flight = \"20181112_02\"  # the problem flight\n",
    "# flight = \"20161024_05\"\n",
    "file_name = \"layer_export_\" + flight + \".pickle\""
   ],
   "metadata": {
    "collapsed": false,
    "ExecuteTime": {
     "end_time": "2024-01-08T19:11:58.999865700Z",
     "start_time": "2024-01-08T19:11:58.985730500Z"
    }
   },
   "id": "80fa46579d551152"
  },
  {
   "cell_type": "code",
   "execution_count": null,
   "outputs": [],
   "source": [],
   "metadata": {
    "collapsed": false
   },
   "id": "5e4326b0a8fa5712"
  }
 ],
 "metadata": {
  "kernelspec": {
   "display_name": "Python 3",
   "language": "python",
   "name": "python3"
  },
  "language_info": {
   "codemirror_mode": {
    "name": "ipython",
    "version": 2
   },
   "file_extension": ".py",
   "mimetype": "text/x-python",
   "name": "python",
   "nbconvert_exporter": "python",
   "pygments_lexer": "ipython2",
   "version": "2.7.6"
  }
 },
 "nbformat": 4,
 "nbformat_minor": 5
}

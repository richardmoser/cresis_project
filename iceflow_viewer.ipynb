{
 "cells": [
  {
   "cell_type": "code",
   "execution_count": 1,
   "outputs": [],
   "source": [
    "import numpy as np\n",
    "import matplotlib.pyplot as plt\n",
    "import matplotlib.colors as colors\n",
    "import matplotlib.cm as cmx\n",
    "from netCDF4 import Dataset\n",
    "import cartopy.crs as ccrs\n",
    "import cartopy.feature as cfeature\n",
    "import iceflow_library as iceflow\n",
    "from cartopy.mpl.gridliner import LONGITUDE_FORMATTER, LATITUDE_FORMATTER"
   ],
   "metadata": {
    "collapsed": false,
    "ExecuteTime": {
     "end_time": "2023-11-27T17:57:43.130947100Z",
     "start_time": "2023-11-27T17:57:42.533354800Z"
    }
   },
   "id": "7edc9cbfef642663"
  },
  {
   "cell_type": "code",
   "execution_count": 2,
   "outputs": [
    {
     "name": "stdout",
     "output_type": "stream",
     "text": [
      "The iceflow data pickle file was found and loaded.\n",
      "Iceflow data array layout is 0:x, 1:y, 2:v_x, 3:v_y, 4:latitude, 5:longitude\n"
     ]
    }
   ],
   "source": [
    "try:\n",
    "    iceflow_data = iceflow.iceflow_data_file_loader()\n",
    "    print(\"The iceflow data pickle file was found and loaded.\")\n",
    "except FileNotFoundError:\n",
    "    print(\"The iceflow data pickle file was not found. Creating a new one...\")\n",
    "    filename = iceflow.iceflow_saver()\n",
    "    iceflow_data = iceflow.iceflow_loader(filename)\n",
    "    print(\"The iceflow data pickle file was successfully created.\")\n",
    "\n",
    "print(f\"Iceflow data array layout is 0:x, 1:y, 2:v_x, 3:v_y, 4:latitude, 5:longitude\")"
   ],
   "metadata": {
    "collapsed": false,
    "ExecuteTime": {
     "end_time": "2023-11-27T17:57:44.979984300Z",
     "start_time": "2023-11-27T17:57:43.133694700Z"
    }
   },
   "id": "8324f8518bd5af8f"
  },
  {
   "cell_type": "code",
   "execution_count": 3,
   "outputs": [
    {
     "name": "stdout",
     "output_type": "stream",
     "text": [
      "[-64.62743891 -64.63138697 -64.6353351  ... -64.63708984 -64.63314169\n",
      " -64.6291936 ] [245.10364788 245.10013119 245.09661356 ... 114.90495013 114.90143209\n",
      " 114.89791498]\n",
      "test (8900.0, 6400.0) with error [80.90691905035733 80.90288238420531 80.89884493291143 ...\n",
      " 51.36759434160368 51.37189868452839 51.37620229083055]\n",
      "-78.91845468567841, 176.20170614453093\n"
     ]
    }
   ],
   "source": [
    "test_x, test_y, dist_err = iceflow.find_nearest_x_and_y(-76, 165, iceflow_data)\n",
    "print(f\"test ({test_x}, {test_y}) with error {dist_err}\")\n",
    "# print(f\"type of test_x is {type(test_x)} and type of test_y is {type(test_y)}\")\n",
    "# print(iceflow_data[4][int(test_x)][int(test_y)])\n",
    "print(f\"{iceflow_data[4][int(test_x)][int(test_y)]}, {iceflow_data[5][int(test_x)][int(test_y)]}\")"
   ],
   "metadata": {
    "collapsed": false,
    "ExecuteTime": {
     "end_time": "2023-11-27T17:57:47.103957900Z",
     "start_time": "2023-11-27T17:57:44.976975900Z"
    }
   },
   "id": "1b2f1c82691614a2"
  },
  {
   "cell_type": "code",
   "execution_count": null,
   "outputs": [],
   "source": [],
   "metadata": {
    "collapsed": false
   },
   "id": "434a78a42d14b959"
  }
 ],
 "metadata": {
  "kernelspec": {
   "display_name": "Python 3",
   "language": "python",
   "name": "python3"
  },
  "language_info": {
   "codemirror_mode": {
    "name": "ipython",
    "version": 2
   },
   "file_extension": ".py",
   "mimetype": "text/x-python",
   "name": "python",
   "nbconvert_exporter": "python",
   "pygments_lexer": "ipython2",
   "version": "2.7.6"
  }
 },
 "nbformat": 4,
 "nbformat_minor": 5
}

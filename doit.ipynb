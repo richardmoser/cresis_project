{
 "cells": [
  {
   "cell_type": "markdown",
   "source": [
    "# TODO:\n",
    "- schedule time with John to review the python code and see what changed in OPR\n",
    "- test to_index and index_to functions against lat-lon values to verify all of the conversions against each other\n",
    "- rewrite any implementations of xy conversion to include the to_index and index_to functions\n",
    "    - see if this stays consistent\n",
    "- finally get around to fixing the flow vectors & headings\n",
    "    - accuracy depends on accurate xy to lat-lon conversion\n",
    "    - verify against online heading calculators\n",
    "    - \n",
    "- verify neareast_unmasked_x_and_y function works\n",
    "    - might have broken the search function in process of debugging conversions\n",
    "        - may need rolling back from old code\n",
    "- once all that works, probably ought to draw it all to a map and see if it all checks out. \n",
    "- Add something to add a minimap to the delta_twtt plot to show one point in the general area of the crossover points for quick reference\n",
    "- **Implement multi flight crossover point finding**\n",
    "- Multi flight plotting\n",
    "    - how many flights could I put in a file together? i.e. can I save a full season to one file in the pickle format?\n",
    "- scaling for overall depth in twtt? i.e. less effect in shallower ice so you can't really compare to deeper ice CX points\n",
    "- tell john about \"bob\" layer save bug/workaround\n",
    "\n"
   ],
   "metadata": {
    "collapsed": false
   },
   "id": "914384a0570a905a"
  },
  {
   "cell_type": "code",
   "execution_count": 1,
   "outputs": [],
   "source": [
    "import matplotlib.pyplot as plt\n",
    "\n",
    "from project_classes import *\n",
    "from functions import *\n",
    "from iceflow_library import *"
   ],
   "metadata": {
    "collapsed": false,
    "ExecuteTime": {
     "end_time": "2024-04-16T17:29:19.753725Z",
     "start_time": "2024-04-16T17:29:13.368296Z"
    }
   },
   "id": "82c297c4d7d856f2"
  },
  {
   "cell_type": "code",
   "execution_count": 2,
   "outputs": [],
   "source": [
    "zoom = True\n",
    "seg_length = 100\n",
    "# season = \"2009_Antarctica_DC8\"\n",
    "# season = \"2018_Antarctica_DC8\" # a layerData season\n",
    "season = \"2016_Antarctica_DC8\" # a season with both layer and layerData\n",
    "# season = \"2014_Antarctica_DC8\" # a layerData season\n",
    "# flight = \"20181030_01\"  # the flight date and frame numbe\n",
    "# flight = \"20181018_01\"\n",
    "# flight = \"20181103_01\"\n",
    "# flight = \"20181109_01\"\n",
    "# flight = \"20181112_02\"  # the problem flight\n",
    "# flight = \"20161024_05\"\n",
    "flight = \"20161111_05\"\n",
    "# flight = \"20161024_05\"\n",
    "# flight = '20141026_06'\n",
    "# file_name = \"layer_export_\" + flight + \".pickle\"\n",
    "file_name = \"C:\\\\Users\\\\rj\\\\Documents\\\\cresis_project\\\\pickle_jar\\\\layer_export_\" + flight + \".pickle\"\n",
    "testing = False"
   ],
   "metadata": {
    "collapsed": false,
    "ExecuteTime": {
     "end_time": "2024-04-16T17:29:19.768946Z",
     "start_time": "2024-04-16T17:29:19.756283Z"
    }
   },
   "id": "80fa46579d551152"
  },
  {
   "cell_type": "code",
   "execution_count": 3,
   "outputs": [
    {
     "name": "stdout",
     "output_type": "stream",
     "text": [
      "Reading data files...\n",
      "--------------------\n",
      "f['param']: <HDF5 group \"/param\" (6 members)>\n",
      "f['param'].keys(): ['day_seg', 'radar', 'radar_name', 'records', 'season_name', 'sw_version']\n",
      "layer1: Surface number of points: 135548\n",
      "layer2: Bottom number of points: 135548\n",
      "--------------------\n",
      "C:\\Users\\rj\\Documents\\cresis_project\\pickle_jar\\layer_export_20161111_05.pickle  saved in local directory of this python file.\n",
      "--------------------\n",
      "\n",
      "Reading pickle file...\n",
      "--------------------\n",
      "Surface\n",
      "Bottom\n",
      "--------------------\n"
     ]
    }
   ],
   "source": [
    "\"\"\"\n",
    "read in the layers from the layer files and save them to a pickle file\n",
    "\"\"\"\n",
    "# mat_pickler_layer(season, flight, testing_mode=testing)  # make it\n",
    "mat_pickler_h5py(season, flight, testing_mode=testing)  # make it\n",
    "layers = read_layers(file_name)  # read in the layers from the pickle file\n",
    "\n",
    "# TODO: figure out the difference in file structure between the h5py and sio based pickler outputs"
   ],
   "metadata": {
    "collapsed": false,
    "ExecuteTime": {
     "end_time": "2024-04-16T17:29:20.266165Z",
     "start_time": "2024-04-16T17:29:19.770946Z"
    }
   },
   "id": "5e4326b0a8fa5712"
  },
  {
   "cell_type": "markdown",
   "source": [
    "### read in the iceflow data from the iceflow data files and save them to a pickle file"
   ],
   "metadata": {
    "collapsed": false
   },
   "id": "fc35cca7687abf68"
  },
  {
   "cell_type": "code",
   "execution_count": 4,
   "outputs": [
    {
     "name": "stdout",
     "output_type": "stream",
     "text": [
      "The iceflow data pickle file was found and loaded.\n"
     ]
    }
   ],
   "source": [
    "if not os.path.isfile(\"C:\\\\Users\\\\rj\\\\Documents\\\\cresis_project\\\\pickle_jar\\\\iceflow_data.pickle\"):  # if the file does not exist\n",
    "    print(\"The iceflow data pickle file was not found. Creating a new one...\")\n",
    "    filename = iceflow_saver()\n",
    "    iceflow_data = iceflow_loader(filename)\n",
    "    print(\"The iceflow data pickle file was successfully created.\")\n",
    "# try:\n",
    "iceflow_data = iceflow_loader(\"C:\\\\Users\\\\rj\\\\Documents\\\\cresis_project\\\\pickle_jar\\\\iceflow_data.pickle\")\n",
    "print(\"The iceflow data pickle file was found and loaded.\")\n",
    "\n",
    "x = iceflow_data[0]\n",
    "y = iceflow_data[1]\n",
    "velocity_x = iceflow_data[2]\n",
    "velocity_y = iceflow_data[3]\n",
    "latitude = iceflow_data[4]\n",
    "longitude = iceflow_data[5]"
   ],
   "metadata": {
    "collapsed": false,
    "ExecuteTime": {
     "end_time": "2024-04-16T17:29:28.994437Z",
     "start_time": "2024-04-16T17:29:20.269167Z"
    }
   },
   "id": "dbaab48f077de2bd"
  },
  {
   "cell_type": "code",
   "execution_count": 5,
   "outputs": [
    {
     "name": "stdout",
     "output_type": "stream",
     "text": [
      "intersection_indices and intersection_points loaded from C:\\Users\\rj\\Documents\\cresis_project\\pickle_jar\\2016_Antarctica_DC8_20161111_05_crossover_points.pickle\n"
     ]
    }
   ],
   "source": [
    "# if the file at filename exists, read in the intersection_indices and intersection_points from the pickle file\n",
    "# otherwise, find the intersection_indices and intersection_points and save them to a pickle file\n",
    "filename = f\"C:\\\\Users\\\\rj\\\\Documents\\\\cresis_project\\\\pickle_jar\\\\{season}_{flight}_crossover_points.pickle\"\n",
    "if not os.path.isfile(filename):  # if the file does not exist\n",
    "    print(f\"File {filename} does not exist. Making it...\")\n",
    "    intersection_points, intersection_indices, segment_ends = cross_point(layers[0], seg_length, quiet=True)\n",
    "    with open(filename, 'wb') as file:\n",
    "        pickle.dump(intersection_indices, file)\n",
    "        pickle.dump(intersection_points, file)\n",
    "        pickle.dump(segment_ends, file)\n",
    "    print(f\"intersection_indices and intersection_points saved to {filename}\")\n",
    "else:\n",
    "    with open(filename, 'rb') as file:\n",
    "        intersection_indices = pickle.load(file)\n",
    "        intersection_points = pickle.load(file)\n",
    "        segment_ends = pickle.load(file)\n",
    "    print(f\"intersection_indices and intersection_points loaded from {filename}\")"
   ],
   "metadata": {
    "collapsed": false,
    "ExecuteTime": {
     "end_time": "2024-04-16T17:29:29.056500Z",
     "start_time": "2024-04-16T17:29:29.004007Z"
    }
   },
   "id": "3eedf3cf8aa71b62"
  },
  {
   "cell_type": "code",
   "outputs": [
    {
     "name": "stdout",
     "output_type": "stream",
     "text": [
      "intersection_indices: [[5124, 128943], [7341, 135049], [29948, 127603], [52216, 126262], [77612, 124922], [87688, 123581], [114162, 122240]]\n",
      "intersection_points: [[array([-73.76325887]), array([-75.64877564])], [array([-73.70380584]), array([-74.60693654])], [array([-73.58950819]), array([-75.81735006])], [array([-73.41566647]), array([-75.98407455])], [array([-73.2416312]), array([-76.14684543])], [array([-73.06752706]), array([-76.30745037])], [array([-72.89324202]), array([-76.46415738])]]\n"
     ]
    }
   ],
   "source": [
    "\"\"\" Current Project 30Jan24 \"\"\"\n",
    "# TODO: deconstruct the nested lists and make them make more sense\n",
    "    # put them in class objects\n",
    "\n",
    "print(f\"intersection_indices: {intersection_indices}\")\n",
    "print(f\"intersection_points: {intersection_points}\")"
   ],
   "metadata": {
    "collapsed": false,
    "ExecuteTime": {
     "end_time": "2024-04-16T17:29:29.088053Z",
     "start_time": "2024-04-16T17:29:29.058499Z"
    }
   },
   "id": "e8af2c86e4b0f114",
   "execution_count": 6
  },
  {
   "cell_type": "code",
   "outputs": [],
   "source": [
    "# TODO: identify why this is still here and not in the functions file\n",
    "# TODO: consider normalizing to the elevation, not the surface\n",
    "    # i.e. instead of having the surface be flat, have it represent the actual topology\n",
    "    # really only useful for places where the surface is not basically flat \n",
    "def plot_layers_at_cross(layers, intersection_indices, intersection_points, zoom=False, refractive_index=1.77, cross_index=0, filename=None):\n",
    "    \"\"\"\n",
    "    :param layers: a list of Layer objects\n",
    "    :param intersection_indices: a list of indices in the lat-lon arrays where the flight path\n",
    "    crosses over itself\n",
    "    :param intersection_points: a list of lat-lon points where the flight path crosses over itself\n",
    "    :return: nothing (plots the layers and the map)\n",
    "    \"\"\"\n",
    "    plt.figure(figsize=(16, 8), layout='constrained')\n",
    "    print(\"Plotting layers...\")\n",
    "    print(\"--------------------\")\n",
    "    print(\"Adjusting for surface twtt...\")\n",
    "    for layer in layers:\n",
    "        corrected_layer = layer.twtt - layers[0].twtt\n",
    "        layer.twtt_corrected = corrected_layer\n",
    "\n",
    "\n",
    "    # ax2 will be the layer plot\n",
    "    # plt.subplot(1, 2, 1)\n",
    "\n",
    "    # plot the layer depths vs index for 500 points before and after the first\n",
    "    # crossover point for each layer.\n",
    "    # also plot the layer depths vs index for 500 points before and after the\n",
    "    # second crossover point for each layer.\n",
    "    offset = 500\n",
    "    # plot the corrected twtt for each layer\n",
    "    plt.plot(\n",
    "        layers[0].twtt_corrected[intersection_indices[0][0] - offset:intersection_indices[cross_index][0] + offset],\n",
    "        label=layers[0].layer_name)\n",
    "    plt.plot(\n",
    "        layers[1].twtt_corrected[intersection_indices[0][0] - offset:intersection_indices[cross_index][0] + offset],\n",
    "        label=layers[1].layer_name + ' segment 1')\n",
    "    plt.plot(\n",
    "        layers[1].twtt_corrected[intersection_indices[0][1] - offset:intersection_indices[cross_index][1] + offset],\n",
    "        label=layers[1].layer_name + ' segment 2')\n",
    "\n",
    "    # plot uncorrected twtt for each layer\n",
    "    # plt.plot(layers[0].twtt[intersection_indices[0][0] - offset:intersection_indices[0][0] + offset],\n",
    "    #             label=layers[0].layer_name)\n",
    "    # plt.plot(layers[1].twtt[intersection_indices[0][0] - offset:intersection_indices[0][0] + offset],\n",
    "    #             label=layers[1].layer_name + ' segment 1')\n",
    "    # plt.plot(layers[1].twtt[intersection_indices[0][1] - offset:intersection_indices[0][1] + offset],\n",
    "    # label=layers[1].layer_name + ' segment 2')\n",
    "\n",
    "    # invert the y-axis because the twtt increases with depth\n",
    "    plt.gca().invert_yaxis()\n",
    "    # plot the crossover point on the plot\n",
    "    plt.scatter(offset, twtt_at_point(layers[1], layers[0],\n",
    "                                      intersection_indices, quiet=True)[0][0], color='red',\n",
    "                label='X Point 1')\n",
    "    plt.scatter(offset, twtt_at_point(layers[1], layers[0],\n",
    "                                      intersection_indices, quiet=True)[0][1], color='green',\n",
    "                label='X Point 2')\n",
    "    \n",
    "    # print the twtt at the crossover point on both segments\n",
    "    twtt = twtt_at_point(layers[1], layers[0], intersection_indices, quiet=True)[0]\n",
    "    print(f\"twtt: {twtt}\")\n",
    "    \n",
    "    \n",
    "    # plot a line at the crossover point\n",
    "    plt.axvline(x=offset, color='black', label='X Point', linestyle='--', linewidth=0.3)\n",
    "\n",
    "    # set the y axis to be in microseconds instead of seconds\n",
    "    plt.ylabel(f\"Adjusted Two Way Travel Time ({chr(956)}s)\")\n",
    "    plt.xlabel(\"Index\")\n",
    "\n",
    "    # force the y values to be displayed in 1e-6 ticks (microseconds) instead of 1e-5 ticks (tens of microseconds)\n",
    "    plt.ticklabel_format(style='sci', axis='y', scilimits=(0, 0), useMathText=True)\n",
    "\n",
    "    def s_to_ms(x, pos):\n",
    "        \"\"\"\n",
    "        :param x: the x value\n",
    "        :param pos: the position\n",
    "        :return: the x value in milliseconds\n",
    "        \"\"\"\n",
    "        return '%1.1f' % (x * 1e6)\n",
    "\n",
    "    # set the y axis to be in microseconds instead of seconds\n",
    "    plt.gca().yaxis.set_major_formatter(plt.FuncFormatter(s_to_ms))\n",
    "    plt.legend( fontsize='smaller', loc='upper right', bbox_to_anchor=(1, 0.9))\n",
    "\n",
    "    # make the right side y axis show the depth in meters by converting the twtt to depth using the refractive index\n",
    "    min_y, max_y = plt.ylim()\n",
    "    n = refractive_index\n",
    "    c = 299792458  # m/s\n",
    "    v = c / n\n",
    "    # depth = twtt * v / 2\n",
    "    scale_factor = v / 2\n",
    "    print(f\"scale factor: {scale_factor}\")\n",
    "    plt.twinx()\n",
    "    plt.ylim(min_y * scale_factor, max_y * scale_factor)\n",
    "    plt.ylabel(\"Depth (m)\")\n",
    "\n",
    "    # make the top of the x axis be the distance in meters by converting the lat-lon to distance using the haversine formula\n",
    "    min_x, max_x = plt.xlim()\n",
    "    scale_factor = latlon_dist((layers[0].lat[0], layers[0].lon[0]), (layers[0].lat[1], layers[0].lon[1]))\n",
    "    print(f\"scale factor: {scale_factor}\")\n",
    "    plt.twiny()\n",
    "    plt.xlim(min_x * scale_factor, max_x * scale_factor)\n",
    "    plt.xlabel(\"Distance (m)\")\n",
    "\n",
    "    plt.title(\"Adjusted Two Way Travel Time vs Index\")\n",
    "    if filename:\n",
    "    # plt.savefig(f\"{filename}.png\", dpi=250)\n",
    "        plt.savefig(f\"C:\\\\Users\\\\rj\\Documents\\\\cresis_project\\\\screens\\\\{filename}_layers.png\", dpi=250)\n",
    "    \n",
    "    plt.show()\n",
    "\n",
    "\n",
    "def plot_map(layers, intersection_indices, intersection_points, zoom=False, cross_index=0, filename=None):\n",
    "    \"\"\"\n",
    "    plot the map\n",
    "    \"\"\"\n",
    "    plt.figure(figsize=(16, 16), layout='constrained')\n",
    "    print(\"Plotting map...\")\n",
    "    # TODO: add an offset to the zoom settings so that the crossover point is in the center of the zoomed in map\n",
    "    offset = 500 # this is not that offset\n",
    "\n",
    "    # this code sets up a polar stereographic map of antarctica with the South Pole in the center\n",
    "    zoom_out_to_continent = not zoom\n",
    "    if zoom_out_to_continent:\n",
    "        llcrnrx = -400000\n",
    "        llcrnry = -400000\n",
    "        urcrnrx = 250000\n",
    "        urcrnry = 250000\n",
    "    else:\n",
    "        llcrnrx = -100000\n",
    "        llcrnry = -100000\n",
    "        urcrnrx = 100000\n",
    "        urcrnry = 100000\n",
    "    lat_0 = intersection_points[cross_index][0]\n",
    "    lon_0 = intersection_points[cross_index][1]\n",
    "    # print(f\"debug: lat_0: {lat_0}, lon_0: {lon_0}\")\n",
    "    m = Basemap(projection='ortho', lat_0=lat_0, lon_0=lon_0, llcrnrx=llcrnrx,\n",
    "                llcrnry=llcrnry, urcrnrx=urcrnrx, urcrnry=urcrnry, resolution='c')\n",
    "\n",
    "    m.drawcoastlines()\n",
    "    m.fillcontinents(color='grey', lake_color='aqua')\n",
    "    m.drawparallels(np.arange(-80., 81., 20.))\n",
    "    m.drawmeridians(np.arange(-180., 181., 20.))\n",
    "    m.drawmapboundary(fill_color='aqua')\n",
    "\n",
    "    # plot the flight path\n",
    "    m.plot(layers[0].lon, layers[0].lat, latlon=True, color='lightgreen', linewidth=1)\n",
    "    # plot the section of the flight path in the plot above\n",
    "    m.plot(layers[0].lon[intersection_indices[0][0] - offset:intersection_indices[0][0] + offset], layers[0].lat[intersection_indices[0][0] - offset:intersection_indices[0][0] + offset], latlon=True,\n",
    "           color='red', linewidth=1)\n",
    "    m.plot(layers[0].lon[intersection_indices[0][1] - offset:intersection_indices[0][1] + offset], layers[0].lat[intersection_indices[0][1] - offset:intersection_indices[0][1] + offset], latlon=True,\n",
    "           color='green', linewidth=1)\n",
    "    # plot labels for the flight paths at their start points\n",
    "    plt.text(\n",
    "        m(layers[0].lon[intersection_indices[0][0] - offset], layers[0].lat[intersection_indices[0][0] - offset])[0],\n",
    "        m(layers[0].lon[intersection_indices[0][0] - offset], layers[0].lat[intersection_indices[0][0] - offset])[1], '\\nsegment 1', fontsize='smaller', fontweight='bold', ha='right', va='top', color='red')\n",
    "    plt.text(\n",
    "        m(layers[0].lon[intersection_indices[0][1] - offset], layers[0].lat[intersection_indices[0][1] - offset])[0],\n",
    "        m(layers[0].lon[intersection_indices[0][1] - offset], layers[0].lat[intersection_indices[0][1] - offset])[1], '\\nsegment 2', fontsize='smaller', fontweight='bold', ha='left', va='top', color='green')\n",
    "    # plot the South Pole\n",
    "    # m.scatter(0, -90, latlon=True, color='black', linewidth=1, label='South Pole')\n",
    "    # plot the crossover points\n",
    "    for point in intersection_points:\n",
    "        # m.scatter(point[1], point[0], latlon=True, color='darkred', linewidth=10, label='Crossover Point')  \n",
    "        plt.scatter(m(point[1], point[0])[0], m(point[1], point[0])[1], color='darkred', linewidth=5, label='Crossover Point')\n",
    "        plt.text(m(point[1], point[0])[0], m(point[1], point[0])[1] - 10000, f'Crossover Point {intersection_points.index(point) + 1}\\n\\n',\n",
    "                 fontsize='smaller', fontweight='bold', ha='center', va='top', color='darkred')\n",
    "\n",
    "    \n",
    "    # m.scatter(intersection_points[cross_index][1]+1, intersection_points[cross_index][0]+1, latlon=True, color='darkred',\n",
    "              # linewidth=1, label='Crossover Point')\n",
    "    # plt.text(m(intersection_points[cross_index][1], intersection_points[cross_index][0])[0],\n",
    "    #          m(intersection_points[cross_index][1], intersection_points[cross_index][0])[1] - 10000,\n",
    "    #          'Crossover Point\\n\\n',\n",
    "    #          fontsize='smaller', fontweight='bold', ha='center', va='top', color='darkred')\n",
    "\n",
    "    # plot the the ice flow direction at the crossover point\n",
    "    for i in range(len(intersection_indices)):\n",
    "        nearest_x_index, nearest_y_index = xy_to_nearest_unmasked_index(intersection_points[i][0], intersection_points[i][1], iceflow_data, max_radius=10)\n",
    "    flow = flow_at_x_y(nearest_x_index, nearest_y_index, iceflow_data)\n",
    "    flow_heading = xyindex_vector_to_heading(nearest_x_index, nearest_y_index, flow[0], flow[1])[0]\n",
    "    # m.quiver(intersection_points[0][1], intersection_points[0][0], 1000 * np.cos(np.radians(flow_heading)),\n",
    "    #          1000 * np.sin(np.radians(flow_heading)), latlon=True, color='blue', label='Ice Flow Vector')\n",
    "    # plot the ice flow vector in the upper right corner as a quiver\n",
    "    m.quiver(intersection_points[0][1]+2.5, intersection_points[0][0]+0.7, 10000 * np.cos(np.radians(flow_heading)),\n",
    "             10000 * np.sin(np.radians(flow_heading)), latlon=True, color='blue', label='Ice Flow Vector')\n",
    "    plt.text(m(intersection_points[0][1]+2.5, intersection_points[0][0]+0.6)[0], m(intersection_points[0][1]+5, intersection_points[0][0]+0.7)[1], 'Ice Flow Vector\\n\\n', fontsize='smaller', fontweight='bold', ha='center', va='top', color='blue')\n",
    "    \n",
    "    x, y = m(0, -90)\n",
    "    # plt.text(x, y, '\\nSouth Pole', fontsize='smaller', fontweight='bold', ha='center', va='top', color='black')\n",
    "    plt.title(\"Lat-Lon Map\")\n",
    "    # set tight layout\n",
    "    # plt.tight_layout()\n",
    "\n",
    "    # save the plot\n",
    "    if filename:\n",
    "        # plt.savefig(f\"{filename}.png\", dpi=250)\n",
    "        plt.savefig(f\"C:\\\\Users\\\\rj\\Documents\\\\cresis_project\\\\screens\\\\{filename}_map.png\", dpi=250)\n",
    "\n",
    "    plt.show()\n",
    "\n",
    "    print(\"plotted map\")\n",
    "    print(\"--------------------\\n\")\n",
    "    \n",
    "\n",
    "    \n",
    "# plot_map(layers, intersection_indices, intersection_points, zoom=zoom, cross_index=0, filename=(season + flight + \"crossover\"))"
   ],
   "metadata": {
    "collapsed": false,
    "ExecuteTime": {
     "end_time": "2024-04-16T17:30:11.833002Z",
     "start_time": "2024-04-16T17:30:11.809801Z"
    }
   },
   "id": "427f7537c751514b",
   "execution_count": 13
  },
  {
   "cell_type": "code",
   "outputs": [
    {
     "name": "stdout",
     "output_type": "stream",
     "text": [
      "Plotting map...\n"
     ]
    },
    {
     "ename": "AttributeError",
     "evalue": "Line2D.set() got an unexpected keyword argument 'latlon'",
     "output_type": "error",
     "traceback": [
      "\u001B[1;31m---------------------------------------------------------------------------\u001B[0m",
      "\u001B[1;31mAttributeError\u001B[0m                            Traceback (most recent call last)",
      "Cell \u001B[1;32mIn[21], line 95\u001B[0m\n\u001B[0;32m     92\u001B[0m     \u001B[38;5;28mprint\u001B[39m(\u001B[38;5;124m\"\u001B[39m\u001B[38;5;124mplotted map\u001B[39m\u001B[38;5;124m\"\u001B[39m)\n\u001B[0;32m     93\u001B[0m     \u001B[38;5;28mprint\u001B[39m(\u001B[38;5;124m\"\u001B[39m\u001B[38;5;124m--------------------\u001B[39m\u001B[38;5;130;01m\\n\u001B[39;00m\u001B[38;5;124m\"\u001B[39m)\n\u001B[1;32m---> 95\u001B[0m \u001B[43mplot_map_cartopy\u001B[49m\u001B[43m(\u001B[49m\u001B[43mlayers\u001B[49m\u001B[43m,\u001B[49m\u001B[43m \u001B[49m\u001B[43mintersection_indices\u001B[49m\u001B[43m,\u001B[49m\u001B[43m \u001B[49m\u001B[43mintersection_points\u001B[49m\u001B[43m,\u001B[49m\u001B[43m \u001B[49m\u001B[43mzoom\u001B[49m\u001B[38;5;241;43m=\u001B[39;49m\u001B[43mzoom\u001B[49m\u001B[43m,\u001B[49m\u001B[43m \u001B[49m\u001B[43mcross_index\u001B[49m\u001B[38;5;241;43m=\u001B[39;49m\u001B[38;5;241;43m0\u001B[39;49m\u001B[43m,\u001B[49m\u001B[43m \u001B[49m\u001B[43mfilename\u001B[49m\u001B[38;5;241;43m=\u001B[39;49m\u001B[43m(\u001B[49m\u001B[43mseason\u001B[49m\u001B[43m \u001B[49m\u001B[38;5;241;43m+\u001B[39;49m\u001B[43m \u001B[49m\u001B[43mflight\u001B[49m\u001B[43m \u001B[49m\u001B[38;5;241;43m+\u001B[39;49m\u001B[43m \u001B[49m\u001B[38;5;124;43m\"\u001B[39;49m\u001B[38;5;124;43mcrossover\u001B[39;49m\u001B[38;5;124;43m\"\u001B[39;49m\u001B[43m)\u001B[49m\u001B[43m)\u001B[49m\n",
      "Cell \u001B[1;32mIn[21], line 39\u001B[0m, in \u001B[0;36mplot_map_cartopy\u001B[1;34m(layers, intersection_indices, intersection_points, zoom, cross_index, filename)\u001B[0m\n\u001B[0;32m     36\u001B[0m ax\u001B[38;5;241m.\u001B[39madd_feature(cfeature\u001B[38;5;241m.\u001B[39mLAND, zorder\u001B[38;5;241m=\u001B[39m\u001B[38;5;241m0\u001B[39m, edgecolor\u001B[38;5;241m=\u001B[39m\u001B[38;5;124m'\u001B[39m\u001B[38;5;124mblack\u001B[39m\u001B[38;5;124m'\u001B[39m)\n\u001B[0;32m     37\u001B[0m ax\u001B[38;5;241m.\u001B[39madd_feature(cfeature\u001B[38;5;241m.\u001B[39mOCEAN, zorder\u001B[38;5;241m=\u001B[39m\u001B[38;5;241m0\u001B[39m, edgecolor\u001B[38;5;241m=\u001B[39m\u001B[38;5;124m'\u001B[39m\u001B[38;5;124mblack\u001B[39m\u001B[38;5;124m'\u001B[39m)\n\u001B[1;32m---> 39\u001B[0m \u001B[43max\u001B[49m\u001B[38;5;241;43m.\u001B[39;49m\u001B[43mplot\u001B[49m\u001B[43m(\u001B[49m\u001B[43mlayers\u001B[49m\u001B[43m[\u001B[49m\u001B[38;5;241;43m0\u001B[39;49m\u001B[43m]\u001B[49m\u001B[38;5;241;43m.\u001B[39;49m\u001B[43mlon\u001B[49m\u001B[43m,\u001B[49m\u001B[43m \u001B[49m\u001B[43mlayers\u001B[49m\u001B[43m[\u001B[49m\u001B[38;5;241;43m0\u001B[39;49m\u001B[43m]\u001B[49m\u001B[38;5;241;43m.\u001B[39;49m\u001B[43mlat\u001B[49m\u001B[43m,\u001B[49m\u001B[43m \u001B[49m\u001B[43mlatlon\u001B[49m\u001B[38;5;241;43m=\u001B[39;49m\u001B[38;5;28;43;01mTrue\u001B[39;49;00m\u001B[43m,\u001B[49m\u001B[43m \u001B[49m\u001B[43mcolor\u001B[49m\u001B[38;5;241;43m=\u001B[39;49m\u001B[38;5;124;43m'\u001B[39;49m\u001B[38;5;124;43mlightgreen\u001B[39;49m\u001B[38;5;124;43m'\u001B[39;49m\u001B[43m,\u001B[49m\u001B[43m \u001B[49m\u001B[43mlinewidth\u001B[49m\u001B[38;5;241;43m=\u001B[39;49m\u001B[38;5;241;43m1\u001B[39;49m\u001B[43m)\u001B[49m\n\u001B[0;32m     41\u001B[0m \u001B[38;5;66;03m# plot the flight path\u001B[39;00m\n\u001B[0;32m     42\u001B[0m m\u001B[38;5;241m.\u001B[39mplot(layers[\u001B[38;5;241m0\u001B[39m]\u001B[38;5;241m.\u001B[39mlon, layers[\u001B[38;5;241m0\u001B[39m]\u001B[38;5;241m.\u001B[39mlat, latlon\u001B[38;5;241m=\u001B[39m\u001B[38;5;28;01mTrue\u001B[39;00m, color\u001B[38;5;241m=\u001B[39m\u001B[38;5;124m'\u001B[39m\u001B[38;5;124mlightgreen\u001B[39m\u001B[38;5;124m'\u001B[39m, linewidth\u001B[38;5;241m=\u001B[39m\u001B[38;5;241m1\u001B[39m)\n",
      "File \u001B[1;32m~\\Documents\\cresis_project\\venv\\lib\\site-packages\\matplotlib\\axes\\_axes.py:1721\u001B[0m, in \u001B[0;36mAxes.plot\u001B[1;34m(self, scalex, scaley, data, *args, **kwargs)\u001B[0m\n\u001B[0;32m   1478\u001B[0m \u001B[38;5;250m\u001B[39m\u001B[38;5;124;03m\"\"\"\u001B[39;00m\n\u001B[0;32m   1479\u001B[0m \u001B[38;5;124;03mPlot y versus x as lines and/or markers.\u001B[39;00m\n\u001B[0;32m   1480\u001B[0m \n\u001B[1;32m   (...)\u001B[0m\n\u001B[0;32m   1718\u001B[0m \u001B[38;5;124;03m(``'green'``) or hex strings (``'#008000'``).\u001B[39;00m\n\u001B[0;32m   1719\u001B[0m \u001B[38;5;124;03m\"\"\"\u001B[39;00m\n\u001B[0;32m   1720\u001B[0m kwargs \u001B[38;5;241m=\u001B[39m cbook\u001B[38;5;241m.\u001B[39mnormalize_kwargs(kwargs, mlines\u001B[38;5;241m.\u001B[39mLine2D)\n\u001B[1;32m-> 1721\u001B[0m lines \u001B[38;5;241m=\u001B[39m [\u001B[38;5;241m*\u001B[39m\u001B[38;5;28mself\u001B[39m\u001B[38;5;241m.\u001B[39m_get_lines(\u001B[38;5;28mself\u001B[39m, \u001B[38;5;241m*\u001B[39margs, data\u001B[38;5;241m=\u001B[39mdata, \u001B[38;5;241m*\u001B[39m\u001B[38;5;241m*\u001B[39mkwargs)]\n\u001B[0;32m   1722\u001B[0m \u001B[38;5;28;01mfor\u001B[39;00m line \u001B[38;5;129;01min\u001B[39;00m lines:\n\u001B[0;32m   1723\u001B[0m     \u001B[38;5;28mself\u001B[39m\u001B[38;5;241m.\u001B[39madd_line(line)\n",
      "File \u001B[1;32m~\\Documents\\cresis_project\\venv\\lib\\site-packages\\matplotlib\\axes\\_base.py:303\u001B[0m, in \u001B[0;36m_process_plot_var_args.__call__\u001B[1;34m(self, axes, data, *args, **kwargs)\u001B[0m\n\u001B[0;32m    301\u001B[0m     this \u001B[38;5;241m+\u001B[39m\u001B[38;5;241m=\u001B[39m args[\u001B[38;5;241m0\u001B[39m],\n\u001B[0;32m    302\u001B[0m     args \u001B[38;5;241m=\u001B[39m args[\u001B[38;5;241m1\u001B[39m:]\n\u001B[1;32m--> 303\u001B[0m \u001B[38;5;28;01myield from\u001B[39;00m \u001B[38;5;28;43mself\u001B[39;49m\u001B[38;5;241;43m.\u001B[39;49m\u001B[43m_plot_args\u001B[49m\u001B[43m(\u001B[49m\n\u001B[0;32m    304\u001B[0m \u001B[43m    \u001B[49m\u001B[43maxes\u001B[49m\u001B[43m,\u001B[49m\u001B[43m \u001B[49m\u001B[43mthis\u001B[49m\u001B[43m,\u001B[49m\u001B[43m \u001B[49m\u001B[43mkwargs\u001B[49m\u001B[43m,\u001B[49m\u001B[43m \u001B[49m\u001B[43mambiguous_fmt_datakey\u001B[49m\u001B[38;5;241;43m=\u001B[39;49m\u001B[43mambiguous_fmt_datakey\u001B[49m\u001B[43m)\u001B[49m\n",
      "File \u001B[1;32m~\\Documents\\cresis_project\\venv\\lib\\site-packages\\matplotlib\\axes\\_base.py:539\u001B[0m, in \u001B[0;36m_process_plot_var_args._plot_args\u001B[1;34m(self, axes, tup, kwargs, return_kwargs, ambiguous_fmt_datakey)\u001B[0m\n\u001B[0;32m    537\u001B[0m     \u001B[38;5;28;01mreturn\u001B[39;00m \u001B[38;5;28mlist\u001B[39m(result)\n\u001B[0;32m    538\u001B[0m \u001B[38;5;28;01melse\u001B[39;00m:\n\u001B[1;32m--> 539\u001B[0m     \u001B[38;5;28;01mreturn\u001B[39;00m [l[\u001B[38;5;241m0\u001B[39m] \u001B[38;5;28;01mfor\u001B[39;00m l \u001B[38;5;129;01min\u001B[39;00m result]\n",
      "File \u001B[1;32m~\\Documents\\cresis_project\\venv\\lib\\site-packages\\matplotlib\\axes\\_base.py:539\u001B[0m, in \u001B[0;36m<listcomp>\u001B[1;34m(.0)\u001B[0m\n\u001B[0;32m    537\u001B[0m     \u001B[38;5;28;01mreturn\u001B[39;00m \u001B[38;5;28mlist\u001B[39m(result)\n\u001B[0;32m    538\u001B[0m \u001B[38;5;28;01melse\u001B[39;00m:\n\u001B[1;32m--> 539\u001B[0m     \u001B[38;5;28;01mreturn\u001B[39;00m [l[\u001B[38;5;241m0\u001B[39m] \u001B[38;5;28;01mfor\u001B[39;00m l \u001B[38;5;129;01min\u001B[39;00m result]\n",
      "File \u001B[1;32m~\\Documents\\cresis_project\\venv\\lib\\site-packages\\matplotlib\\axes\\_base.py:532\u001B[0m, in \u001B[0;36m<genexpr>\u001B[1;34m(.0)\u001B[0m\n\u001B[0;32m    529\u001B[0m \u001B[38;5;28;01melse\u001B[39;00m:\n\u001B[0;32m    530\u001B[0m     labels \u001B[38;5;241m=\u001B[39m [label] \u001B[38;5;241m*\u001B[39m n_datasets\n\u001B[1;32m--> 532\u001B[0m result \u001B[38;5;241m=\u001B[39m (\u001B[43mmake_artist\u001B[49m\u001B[43m(\u001B[49m\u001B[43maxes\u001B[49m\u001B[43m,\u001B[49m\u001B[43m \u001B[49m\u001B[43mx\u001B[49m\u001B[43m[\u001B[49m\u001B[43m:\u001B[49m\u001B[43m,\u001B[49m\u001B[43m \u001B[49m\u001B[43mj\u001B[49m\u001B[43m \u001B[49m\u001B[38;5;241;43m%\u001B[39;49m\u001B[43m \u001B[49m\u001B[43mncx\u001B[49m\u001B[43m]\u001B[49m\u001B[43m,\u001B[49m\u001B[43m \u001B[49m\u001B[43my\u001B[49m\u001B[43m[\u001B[49m\u001B[43m:\u001B[49m\u001B[43m,\u001B[49m\u001B[43m \u001B[49m\u001B[43mj\u001B[49m\u001B[43m \u001B[49m\u001B[38;5;241;43m%\u001B[39;49m\u001B[43m \u001B[49m\u001B[43mncy\u001B[49m\u001B[43m]\u001B[49m\u001B[43m,\u001B[49m\u001B[43m \u001B[49m\u001B[43mkw\u001B[49m\u001B[43m,\u001B[49m\n\u001B[0;32m    533\u001B[0m \u001B[43m                      \u001B[49m\u001B[43m{\u001B[49m\u001B[38;5;241;43m*\u001B[39;49m\u001B[38;5;241;43m*\u001B[39;49m\u001B[43mkwargs\u001B[49m\u001B[43m,\u001B[49m\u001B[43m \u001B[49m\u001B[38;5;124;43m'\u001B[39;49m\u001B[38;5;124;43mlabel\u001B[39;49m\u001B[38;5;124;43m'\u001B[39;49m\u001B[43m:\u001B[49m\u001B[43m \u001B[49m\u001B[43mlabel\u001B[49m\u001B[43m}\u001B[49m\u001B[43m)\u001B[49m\n\u001B[0;32m    534\u001B[0m           \u001B[38;5;28;01mfor\u001B[39;00m j, label \u001B[38;5;129;01min\u001B[39;00m \u001B[38;5;28menumerate\u001B[39m(labels))\n\u001B[0;32m    536\u001B[0m \u001B[38;5;28;01mif\u001B[39;00m return_kwargs:\n\u001B[0;32m    537\u001B[0m     \u001B[38;5;28;01mreturn\u001B[39;00m \u001B[38;5;28mlist\u001B[39m(result)\n",
      "File \u001B[1;32m~\\Documents\\cresis_project\\venv\\lib\\site-packages\\matplotlib\\axes\\_base.py:346\u001B[0m, in \u001B[0;36m_process_plot_var_args._makeline\u001B[1;34m(self, axes, x, y, kw, kwargs)\u001B[0m\n\u001B[0;32m    344\u001B[0m default_dict \u001B[38;5;241m=\u001B[39m \u001B[38;5;28mself\u001B[39m\u001B[38;5;241m.\u001B[39m_getdefaults(\u001B[38;5;28mset\u001B[39m(), kw)\n\u001B[0;32m    345\u001B[0m \u001B[38;5;28mself\u001B[39m\u001B[38;5;241m.\u001B[39m_setdefaults(default_dict, kw)\n\u001B[1;32m--> 346\u001B[0m seg \u001B[38;5;241m=\u001B[39m mlines\u001B[38;5;241m.\u001B[39mLine2D(x, y, \u001B[38;5;241m*\u001B[39m\u001B[38;5;241m*\u001B[39mkw)\n\u001B[0;32m    347\u001B[0m \u001B[38;5;28;01mreturn\u001B[39;00m seg, kw\n",
      "File \u001B[1;32m~\\Documents\\cresis_project\\venv\\lib\\site-packages\\matplotlib\\lines.py:407\u001B[0m, in \u001B[0;36mLine2D.__init__\u001B[1;34m(self, xdata, ydata, linewidth, linestyle, color, gapcolor, marker, markersize, markeredgewidth, markeredgecolor, markerfacecolor, markerfacecoloralt, fillstyle, antialiased, dash_capstyle, solid_capstyle, dash_joinstyle, solid_joinstyle, pickradius, drawstyle, markevery, **kwargs)\u001B[0m\n\u001B[0;32m    403\u001B[0m \u001B[38;5;28mself\u001B[39m\u001B[38;5;241m.\u001B[39mset_markeredgewidth(markeredgewidth)\n\u001B[0;32m    405\u001B[0m \u001B[38;5;66;03m# update kwargs before updating data to give the caller a\u001B[39;00m\n\u001B[0;32m    406\u001B[0m \u001B[38;5;66;03m# chance to init axes (and hence unit support)\u001B[39;00m\n\u001B[1;32m--> 407\u001B[0m \u001B[38;5;28;43mself\u001B[39;49m\u001B[38;5;241;43m.\u001B[39;49m\u001B[43m_internal_update\u001B[49m\u001B[43m(\u001B[49m\u001B[43mkwargs\u001B[49m\u001B[43m)\u001B[49m\n\u001B[0;32m    408\u001B[0m \u001B[38;5;28mself\u001B[39m\u001B[38;5;241m.\u001B[39mpickradius \u001B[38;5;241m=\u001B[39m pickradius\n\u001B[0;32m    409\u001B[0m \u001B[38;5;28mself\u001B[39m\u001B[38;5;241m.\u001B[39mind_offset \u001B[38;5;241m=\u001B[39m \u001B[38;5;241m0\u001B[39m\n",
      "File \u001B[1;32m~\\Documents\\cresis_project\\venv\\lib\\site-packages\\matplotlib\\artist.py:1219\u001B[0m, in \u001B[0;36mArtist._internal_update\u001B[1;34m(self, kwargs)\u001B[0m\n\u001B[0;32m   1212\u001B[0m \u001B[38;5;28;01mdef\u001B[39;00m \u001B[38;5;21m_internal_update\u001B[39m(\u001B[38;5;28mself\u001B[39m, kwargs):\n\u001B[0;32m   1213\u001B[0m \u001B[38;5;250m    \u001B[39m\u001B[38;5;124;03m\"\"\"\u001B[39;00m\n\u001B[0;32m   1214\u001B[0m \u001B[38;5;124;03m    Update artist properties without prenormalizing them, but generating\u001B[39;00m\n\u001B[0;32m   1215\u001B[0m \u001B[38;5;124;03m    errors as if calling `set`.\u001B[39;00m\n\u001B[0;32m   1216\u001B[0m \n\u001B[0;32m   1217\u001B[0m \u001B[38;5;124;03m    The lack of prenormalization is to maintain backcompatibility.\u001B[39;00m\n\u001B[0;32m   1218\u001B[0m \u001B[38;5;124;03m    \"\"\"\u001B[39;00m\n\u001B[1;32m-> 1219\u001B[0m     \u001B[38;5;28;01mreturn\u001B[39;00m \u001B[38;5;28;43mself\u001B[39;49m\u001B[38;5;241;43m.\u001B[39;49m\u001B[43m_update_props\u001B[49m\u001B[43m(\u001B[49m\n\u001B[0;32m   1220\u001B[0m \u001B[43m        \u001B[49m\u001B[43mkwargs\u001B[49m\u001B[43m,\u001B[49m\u001B[43m \u001B[49m\u001B[38;5;124;43m\"\u001B[39;49m\u001B[38;5;132;43;01m{cls.__name__}\u001B[39;49;00m\u001B[38;5;124;43m.set() got an unexpected keyword argument \u001B[39;49m\u001B[38;5;124;43m\"\u001B[39;49m\n\u001B[0;32m   1221\u001B[0m \u001B[43m        \u001B[49m\u001B[38;5;124;43m\"\u001B[39;49m\u001B[38;5;132;43;01m{prop_name!r}\u001B[39;49;00m\u001B[38;5;124;43m\"\u001B[39;49m\u001B[43m)\u001B[49m\n",
      "File \u001B[1;32m~\\Documents\\cresis_project\\venv\\lib\\site-packages\\matplotlib\\artist.py:1193\u001B[0m, in \u001B[0;36mArtist._update_props\u001B[1;34m(self, props, errfmt)\u001B[0m\n\u001B[0;32m   1191\u001B[0m             func \u001B[38;5;241m=\u001B[39m \u001B[38;5;28mgetattr\u001B[39m(\u001B[38;5;28mself\u001B[39m, \u001B[38;5;124mf\u001B[39m\u001B[38;5;124m\"\u001B[39m\u001B[38;5;124mset_\u001B[39m\u001B[38;5;132;01m{\u001B[39;00mk\u001B[38;5;132;01m}\u001B[39;00m\u001B[38;5;124m\"\u001B[39m, \u001B[38;5;28;01mNone\u001B[39;00m)\n\u001B[0;32m   1192\u001B[0m             \u001B[38;5;28;01mif\u001B[39;00m \u001B[38;5;129;01mnot\u001B[39;00m \u001B[38;5;28mcallable\u001B[39m(func):\n\u001B[1;32m-> 1193\u001B[0m                 \u001B[38;5;28;01mraise\u001B[39;00m \u001B[38;5;167;01mAttributeError\u001B[39;00m(\n\u001B[0;32m   1194\u001B[0m                     errfmt\u001B[38;5;241m.\u001B[39mformat(\u001B[38;5;28mcls\u001B[39m\u001B[38;5;241m=\u001B[39m\u001B[38;5;28mtype\u001B[39m(\u001B[38;5;28mself\u001B[39m), prop_name\u001B[38;5;241m=\u001B[39mk))\n\u001B[0;32m   1195\u001B[0m             ret\u001B[38;5;241m.\u001B[39mappend(func(v))\n\u001B[0;32m   1196\u001B[0m \u001B[38;5;28;01mif\u001B[39;00m ret:\n",
      "\u001B[1;31mAttributeError\u001B[0m: Line2D.set() got an unexpected keyword argument 'latlon'"
     ]
    },
    {
     "data": {
      "text/plain": "<Figure size 1600x1600 with 0 Axes>"
     },
     "metadata": {},
     "output_type": "display_data"
    },
    {
     "data": {
      "text/plain": "<Figure size 1600x1600 with 1 Axes>",
      "image/png": "[encoded data removed]"
     },
     "metadata": {},
     "output_type": "display_data"
    }
   ],
   "source": [
    "import cartopy.crs as ccrs\n",
    "import cartopy.feature as cfeature\n",
    "\n",
    "def plot_map_cartopy(layers, intersection_indices, intersection_points, zoom=False, cross_index=0, filename=None):\n",
    "    \"\"\"\n",
    "    plot the map\n",
    "    \"\"\"\n",
    "    plt.figure(figsize=(16, 16), layout='constrained')\n",
    "    print(\"Plotting map...\")\n",
    "    # TODO: add an offset to the zoom settings so that the crossover point is in the center of the zoomed in map\n",
    "    offset = 500 # this is not that offset\n",
    "\n",
    "    # this code sets up a polar stereographic map of antarctica with the South Pole in the center\n",
    "    zoom_out_to_continent = not zoom\n",
    "    if zoom_out_to_continent:\n",
    "        llcrnrx = -400000\n",
    "        llcrnry = -400000\n",
    "        urcrnrx = 250000\n",
    "        urcrnry = 250000\n",
    "    else:\n",
    "        llcrnrx = -100000\n",
    "        llcrnry = -100000\n",
    "        urcrnrx = 100000\n",
    "        urcrnry = 100000\n",
    "    lat_0 = intersection_points[cross_index][0]\n",
    "    lon_0 = intersection_points[cross_index][1]\n",
    "    # print(f\"debug: lat_0: {lat_0}, lon_0: {lon_0}\")\n",
    "\n",
    "    # TODO: update the function to utilize the cartopy library\n",
    "        # https://scitools.org.uk/cartopy/docs/v0.15/matplotlib/intro.html is the example I was following\n",
    "        # as well as https://github.com/polarwatch/code-gallery/blob/main/mapping-data-with-different-projections/Python/mapping-data-with-different-projections.ipynb\n",
    "    \n",
    "    crs_epsg = ccrs.SouthPolarStereo(central_longitude=0.0, true_scale_latitude=-71)\n",
    "    fig = plt.figure(figsize=(16, 16))\n",
    "    ax = plt.axes(projection=crs_epsg)\n",
    "    ax.set_extent([-180, 180, -90, -60], crs_epsg)\n",
    "    ax.coastlines()\n",
    "    ax.gridlines()\n",
    "    ax.add_feature(cfeature.LAND, zorder=0, edgecolor='black')\n",
    "    ax.add_feature(cfeature.OCEAN, zorder=0, edgecolor='black')\n",
    "    \n",
    "    ax.plot(layers[0].lon, layers[0].lat, latlon=True, color='lightgreen', linewidth=1)\n",
    "\n",
    "    # plot the flight path\n",
    "    m.plot(layers[0].lon, layers[0].lat, latlon=True, color='lightgreen', linewidth=1)\n",
    "    # plot the section of the flight path in the plot above\n",
    "    m.plot(layers[0].lon[intersection_indices[0][0] - offset:intersection_indices[0][0] + offset],\n",
    "           layers[0].lat[intersection_indices[0][0] - offset:intersection_indices[0][0] + offset], latlon=True,\n",
    "           color='red', linewidth=1)\n",
    "    m.plot(layers[0].lon[intersection_indices[0][1] - offset:intersection_indices[0][1] + offset],\n",
    "           layers[0].lat[intersection_indices[0][1] - offset:intersection_indices[0][1] + offset], latlon=True,\n",
    "           color='green', linewidth=1)\n",
    "    # plot labels for the flight paths at their start points\n",
    "    plt.text(\n",
    "        m(layers[0].lon[intersection_indices[0][0] - offset], layers[0].lat[intersection_indices[0][0] - offset])[\n",
    "            0],\n",
    "        m(layers[0].lon[intersection_indices[0][0] - offset], layers[0].lat[intersection_indices[0][0] - offset])[\n",
    "            1], '\\nsegment 1', fontsize='smaller', fontweight='bold', ha='right', va='top', color='red')\n",
    "    plt.text(\n",
    "        m(layers[0].lon[intersection_indices[0][1] - offset], layers[0].lat[intersection_indices[0][1] - offset])[\n",
    "            0],\n",
    "        m(layers[0].lon[intersection_indices[0][1] - offset], layers[0].lat[intersection_indices[0][1] - offset])[\n",
    "            1], '\\nsegment 2', fontsize='smaller', fontweight='bold', ha='left', va='top', color='green')\n",
    "    # plot the South Pole\n",
    "    # m.scatter(0, -90, latlon=True, color='black', linewidth=1, label='South Pole')\n",
    "    # plot the crossover points\n",
    "    for point in intersection_points:\n",
    "        # m.scatter(point[1], point[0], latlon=True, color='darkred', linewidth=10, label='Crossover Point')  \n",
    "        plt.scatter(m(point[1], point[0])[0], m(point[1], point[0])[1], color='darkred', linewidth=5, label='Crossover Point')\n",
    "        plt.text(m(point[1], point[0])[0], m(point[1], point[0])[1] - 10000, f'Crossover Point {intersection_points.index(point) + 1}\\n\\n',\n",
    "                 fontsize='smaller', fontweight='bold', ha='center', va='top', color='darkred')\n",
    "\n",
    "\n",
    "    # plot the the ice flow direction at the crossover point\n",
    "    for i in range(len(intersection_indices)):\n",
    "        nearest_x_index, nearest_y_index = xy_to_nearest_unmasked_index(intersection_points[i][0], intersection_points[i][1], iceflow_data, max_radius=10)\n",
    "    flow = flow_at_x_y(nearest_x_index, nearest_y_index, iceflow_data)\n",
    "    flow_heading = xyindex_vector_to_heading(nearest_x_index, nearest_y_index, flow[0], flow[1])[0]\n",
    "\n",
    "    # plot the ice flow vector in the upper right corner as a quiver\n",
    "    m.quiver(intersection_points[0][1]+2.5, intersection_points[0][0]+0.7, 10000 * np.cos(np.radians(flow_heading)),\n",
    "             10000 * np.sin(np.radians(flow_heading)), latlon=True, color='blue', label='Ice Flow Vector')\n",
    "    plt.text(m(intersection_points[0][1]+2.5, intersection_points[0][0]+0.6)[0], m(intersection_points[0][1]+5, intersection_points[0][0]+0.7)[1], 'Ice Flow Vector\\n\\n', fontsize='smaller', fontweight='bold', ha='center', va='top', color='blue')\n",
    "    \n",
    "    # plt.text(x, y, '\\nSouth Pole', fontsize='smaller', fontweight='bold', ha='center', va='top', color='black')\n",
    "    plt.title(\"Lat-Lon Map\")\n",
    "\n",
    "    # save the plot\n",
    "    if filename:\n",
    "        # plt.savefig(f\"{filename}.png\", dpi=250)\n",
    "        plt.savefig(f\"C:\\\\Users\\\\rj\\Documents\\\\cresis_project\\\\screens\\\\{filename}_map.png\", dpi=250)\n",
    "\n",
    "    plt.show()\n",
    "\n",
    "    print(\"plotted map\")\n",
    "    print(\"--------------------\\n\")\n",
    "    \n",
    "plot_map_cartopy(layers, intersection_indices, intersection_points, zoom=zoom, cross_index=0, filename=(season + flight + \"crossover\"))"
   ],
   "metadata": {
    "collapsed": false,
    "ExecuteTime": {
     "end_time": "2024-04-16T17:39:27.114431Z",
     "start_time": "2024-04-16T17:39:23.662416Z"
    }
   },
   "id": "4e26285e5ee8661c",
   "execution_count": 21
  },
  {
   "cell_type": "code",
   "outputs": [
    {
     "name": "stdout",
     "output_type": "stream",
     "text": [
      "Plotting map...\n"
     ]
    },
    {
     "data": {
      "text/plain": "<Figure size 1600x1600 with 1 Axes>",
      "image/png": "[encoded data removed]"
     },
     "metadata": {},
     "output_type": "display_data"
    },
    {
     "name": "stdout",
     "output_type": "stream",
     "text": [
      "plotted map\n",
      "--------------------\n"
     ]
    }
   ],
   "source": [
    "# print(segment_ends[0][0][0][0])\n",
    "# for point in intersection_points:\n",
    "    # print(point[0])\n",
    "# plot_layers_at_cross(layers, intersection_indices, segment_ends)\n",
    "# plot_layers_at_cross(layers, intersection_indices, intersection_points, zoom=zoom, cross_index=0, filename=(season + flight + \"crossover\"))\n",
    "plot_map(layers, intersection_indices, intersection_points, zoom=zoom, cross_index=0, filename=(season + flight + \"crossover\"))"
   ],
   "metadata": {
    "collapsed": false,
    "ExecuteTime": {
     "end_time": "2024-04-16T17:29:33.693193Z",
     "start_time": "2024-04-16T17:29:31.853822Z"
    }
   },
   "id": "4066b4cf9d2e9d0b",
   "execution_count": 8
  },
  {
   "cell_type": "code",
   "outputs": [
    {
     "name": "stdout",
     "output_type": "stream",
     "text": [
      "twtt: [1.0868371768323803e-05, 1.079070438186287e-05]\n",
      "depth1: 920.4112674812428\n",
      "depth2: 913.8338390367346\n",
      "depth2 - depth1: -6.5774284445082\n",
      "delta twtt: -7.766738646093265e-08\n"
     ]
    }
   ],
   "source": [
    "# twtt 1 = 1.4212416976291829e-05\n",
    "twtt = twtt_at_point(layers[1], layers[0], intersection_indices, quiet=True)[0]\n",
    "print(f\"twtt: {twtt}\")\n",
    "\n",
    "# twtt 2 = 1.395535327834069e-05\n",
    "\n",
    "# find the depth of both twtt 1 and 2\n",
    "\n",
    "depth1 = twtt_to_depth(twtt[0], refractive_index=1.77)\n",
    "print(f\"depth1: {depth1}\")\n",
    "depth2 = twtt_to_depth(twtt[1], refractive_index=1.77)\n",
    "print(f\"depth2: {depth2}\")\n",
    "\n",
    "# find the difference in depth\n",
    "print(f\"depth2 - depth1: {depth2 - depth1}\")\n",
    "\n",
    "deltatwtt = twtt[1] - twtt[0]\n",
    "print(f\"delta twtt: {deltatwtt}\")"
   ],
   "metadata": {
    "collapsed": false,
    "ExecuteTime": {
     "end_time": "2024-04-16T17:29:33.708449Z",
     "start_time": "2024-04-16T17:29:33.695191Z"
    }
   },
   "id": "c75cd6b3d578e7fe",
   "execution_count": 9
  },
  {
   "cell_type": "code",
   "outputs": [
    {
     "name": "stdout",
     "output_type": "stream",
     "text": [
      "lat-lon 0: (array([-73.76325887]), array([-75.64877564]))\n",
      "x: -440106, y: 1720178\n",
      "x_index: 5245, y_index: 2401\n",
      "nearest_lat: -73.76954927885168, nearest_lon: 284.3451130717839\n",
      "flow at nearest: [-347.88953, -47.50641]\n",
      "flow_heading[0]: 163.17913422958244\n",
      "heading_1[0]: [79.05416118]\n",
      "heading_2[0]: [164.72182913]\n",
      "plane_flow_angle: [84.12497305]\n",
      "delta_twtt[0]: 7.766738646093265e-08\n",
      "--------------------\n",
      "\n",
      "lat-lon 1: (array([-73.70380584]), array([-74.60693654]))\n",
      "x: -473058, y: 1718241\n",
      "x_index: 5172, y_index: 2405\n",
      "nearest_lat: -73.70918351185892, nearest_lon: 285.3830338877675\n",
      "flow at nearest: [-402.64868, 78.61359]\n",
      "flow_heading[1]: 144.01387124475096\n",
      "heading_1[1]: [78.11678093]\n",
      "heading_2[1]: [9.41419284]\n",
      "plane_flow_angle: [134.59967841]\n",
      "delta_twtt[1]: 1.2369404611223345e-06\n",
      "--------------------\n",
      "\n",
      "lat-lon 2: (array([-73.58950819]), array([-75.81735006]))\n",
      "x: -439759, y: 1740130\n",
      "x_index: 5246, y_index: 2357\n",
      "nearest_lat: -73.59734957163737, nearest_lon: 284.17451098375614\n",
      "flow at nearest: [-205.33571, 9.969416]\n",
      "flow_heading[2]: 153.0262391430311\n",
      "heading_1[2]: [-101.15164821]\n",
      "heading_2[2]: [164.87234544]\n",
      "plane_flow_angle: [254.17788735]\n",
      "delta_twtt[2]: 5.991911300745032e-08\n",
      "--------------------\n",
      "\n",
      "lat-lon 3: (array([-73.41566647]), array([-75.98407455]))\n",
      "x: -439361, y: 1760098\n",
      "x_index: 5247, y_index: 2312\n",
      "nearest_lat: -73.42114283620697, nearest_lon: 284.0040596235389\n",
      "flow at nearest: [-199.96179, -65.51542]\n",
      "flow_heading[3]: 174.3609886832795\n",
      "heading_1[3]: [79.21366046]\n",
      "heading_2[3]: [164.82447372]\n",
      "plane_flow_angle: [95.14732822]\n",
      "delta_twtt[3]: 9.150055025088309e-08\n",
      "--------------------\n",
      "\n",
      "lat-lon 4: (array([-73.2416312]), array([-76.14684543]))\n",
      "x: -438980, y: 1780076\n",
      "x_index: 5248, y_index: 2268\n",
      "nearest_lat: -73.24880977235692, nearest_lon: 283.84060691096744\n",
      "flow at nearest: [-164.61241, -80.00894]\n",
      "flow_heading[4]: -177.4504833075413\n",
      "heading_1[4]: [-100.66391443]\n",
      "heading_2[4]: [164.99064959]\n",
      "plane_flow_angle: [342.4411329]\n",
      "delta_twtt[4]: 3.6535854516388796e-07\n",
      "--------------------\n",
      "\n",
      "lat-lon 5: (array([-73.06752706]), array([-76.30745037]))\n",
      "x: -438560, y: 1800066\n",
      "x_index: 5249, y_index: 2223\n",
      "nearest_lat: -73.07247800613175, nearest_lon: 283.6772368896381\n",
      "flow at nearest: [-131.58669, -14.066328]\n",
      "flow_heading[5]: 163.1485155716524\n",
      "heading_1[5]: [79.40645297]\n",
      "heading_2[5]: [165.09808427]\n",
      "plane_flow_angle: [83.7420626]\n",
      "delta_twtt[5]: nan\n",
      "--------------------\n",
      "\n",
      "lat-lon 6: (array([-72.89324202]), array([-76.46415738]))\n",
      "x: -438163, y: 1820065\n",
      "x_index: 5250, y_index: 2179\n",
      "nearest_lat: -72.9000323796686, nearest_lon: 283.5205034465404\n",
      "flow at nearest: [-133.82417, 71.37384]\n",
      "flow_heading[6]: 129.3864192809316\n",
      "heading_1[6]: [-100.27857431]\n",
      "heading_2[6]: [165.38713961]\n",
      "plane_flow_angle: [229.66499359]\n",
      "delta_twtt[6]: 6.060000000000032e-08\n",
      "--------------------\n"
     ]
    }
   ],
   "source": [
    "# repeat the above for every crossover point\n",
    "flow_xy = [] # the flow vector in xy \n",
    "flow_heading_full = [] # the flow vector heading in angle1, angle2, distance (in meters)\n",
    "flow_heading = []\n",
    "plane_heading_1 = []\n",
    "plane_heading_2 = []\n",
    "angle = [] # the angle between the flow vector and the plane heading\n",
    "twtt = twtt_at_point(layers[1], layers[0], intersection_indices, quiet=True)\n",
    "delta_twtt = []\n",
    "\n",
    "for i in range(len(intersection_indices)):\n",
    "    # convert the lat-lon point to xy and then to indices\n",
    "    lat, lon = intersection_points[i] \n",
    "    print(f\"lat-lon {i}: {lat, lon}\")\n",
    "    \n",
    "    x, y = latlon_to_xy(lat, lon)\n",
    "    print(f\"x: {x}, y: {y}\")\n",
    "    \n",
    "    x_index, y_index = x_to_index(x), y_to_index(y)\n",
    "    print(f\"x_index: {x_index}, y_index: {y_index}\")\n",
    "    \n",
    "    nearest_x_index, nearest_y_index = xy_to_nearest_unmasked_index(x, y, iceflow_data, max_radius=10)\n",
    "    \n",
    "    # find the nearest good iceflow_data to the crossover point\n",
    "    nearest_lat = iceflow_data[4][nearest_x_index][nearest_y_index]\n",
    "    nearest_lon = iceflow_data[5][nearest_x_index][nearest_y_index]\n",
    "    print(f\"nearest_lat: {nearest_lat}, nearest_lon: {nearest_lon}\")\n",
    "\n",
    "    flow_xy.append([iceflow_data[2][nearest_x_index][nearest_y_index], iceflow_data[3][nearest_x_index][nearest_y_index]])\n",
    "    print(f\"flow at nearest: {flow_xy[i]}\")\n",
    "    \n",
    "    # find the heading of the flow vector   \n",
    "    flow_heading_full.append(xyindex_vector_to_heading(nearest_x_index, nearest_y_index, flow_xy[i][0], flow_xy[i][1]))\n",
    "    flow_heading.append(flow_heading_full[i][0])\n",
    "    print(f\"flow_heading[{i}]: {flow_heading[i]}\")\n",
    "    \n",
    "\n",
    "    # find the heading of the first segment\n",
    "    plane_heading_1.append(find_heading(layers[0], intersection_indices[i][0]))\n",
    "    print(f\"heading_1[{i}]: {plane_heading_1[i]}\")\n",
    "\n",
    "    # find the heading of the second segment\n",
    "    plane_heading_2.append(find_heading(layers[0], intersection_indices[i][1]))\n",
    "    print(f\"heading_2[{i}]: {plane_heading_2[i]}\")\n",
    "    \n",
    "    # plane_flow_angle = min(abs(plane_heading_1[i] - flow_heading[i]), abs(plane_heading_2[i] - flow_heading[i]))\n",
    "    plane_flow_angle = max(abs(plane_heading_1[i] - flow_heading[i]), abs(plane_heading_2[i] - flow_heading[i]))\n",
    "\n",
    "    print(f\"plane_flow_angle: {plane_flow_angle}\")\n",
    "    angle.append(plane_flow_angle)\n",
    "    \n",
    "    # find the twtt at the crossover point on both segments\n",
    "    # print(f\"twtt{i}: {twtt[i]}\")\n",
    "    # delta_twtt.append(twtt[i][1] - twtt[i][0])\n",
    "    # append the absolute value of the twtt\n",
    "    delta_twtt.append(abs(twtt[i][1] - twtt[i][0]))\n",
    "    print(f\"delta_twtt[{i}]: {delta_twtt[i]}\")\n",
    "    \n",
    "    print(section_break)\n",
    "\n",
    "\n",
    "length = len(delta_twtt)\n",
    "while i < length: # remove any nan valued points from the lists\n",
    "    if math.isnan(delta_twtt[i]):\n",
    "        delta_twtt.pop(i)\n",
    "        flow_xy.pop(i)\n",
    "        angle.pop(i)\n",
    "        magnitude.pop(i)\n",
    "        plane_heading_1.pop(i)\n",
    "        plane_heading_2.pop(i)\n",
    "        intersection_indices.pop(i)\n",
    "        intersection_points.pop(i)\n",
    "        print(f\"intersection {i} removed\")\n",
    "        print(section_break)\n",
    "        length -= 1\n",
    "    else:\n",
    "        i += 1\n",
    "        \n",
    "# TODO: why is delta_twtt for index 9 negative?\n",
    "    # it is not, the twtt at the crossover point on the second segment is greater than the twtt at the crossover point on the first segment so that makes sense"
   ],
   "metadata": {
    "collapsed": false,
    "ExecuteTime": {
     "end_time": "2024-04-16T17:29:33.848250Z",
     "start_time": "2024-04-16T17:29:33.710765Z"
    }
   },
   "id": "b71a3f6174b764a",
   "execution_count": 10
  },
  {
   "cell_type": "code",
   "outputs": [
    {
     "ename": "IndentationError",
     "evalue": "unindent does not match any outer indentation level (<tokenize>, line 41)",
     "output_type": "error",
     "traceback": [
      "\u001B[1;36m  File \u001B[1;32m<tokenize>:41\u001B[1;36m\u001B[0m\n\u001B[1;33m    layers[0].lat[intersection_indices[0][0] - offset:intersection_indices[0][0] + offset], latlon=True,\u001B[0m\n\u001B[1;37m    ^\u001B[0m\n\u001B[1;31mIndentationError\u001B[0m\u001B[1;31m:\u001B[0m unindent does not match any outer indentation level\n"
     ]
    }
   ],
   "source": [],
   "metadata": {
    "collapsed": false,
    "ExecuteTime": {
     "end_time": "2024-04-16T17:29:33.864232Z",
     "start_time": "2024-04-16T17:29:33.850251Z"
    }
   },
   "id": "39c746953a7ae1b0",
   "execution_count": 12
  },
  {
   "cell_type": "code",
   "outputs": [
    {
     "name": "stdout",
     "output_type": "stream",
     "text": [
      "flow_heading[0]: 163.17913422958244\n",
      "plane_heading_1[0]: [79.05416118]\n",
      "plane_heading_2[0]: [164.72182913]\n",
      "plane_heading_1 - flow_heading[0]: [84.12497305]\n",
      "\n",
      "flow_heading[1]: 144.01387124475096\n",
      "plane_heading_1[1]: [78.11678093]\n",
      "plane_heading_2[1]: [9.41419284]\n",
      "plane_heading_1 - flow_heading[1]: [65.89709032]\n",
      "\n",
      "flow_heading[2]: 153.0262391430311\n",
      "plane_heading_1[2]: [-101.15164821]\n",
      "plane_heading_2[2]: [164.87234544]\n",
      "plane_heading_1 - flow_heading[2]: [254.17788735]\n",
      "\n",
      "flow_heading[3]: 174.3609886832795\n",
      "plane_heading_1[3]: [79.21366046]\n",
      "plane_heading_2[3]: [164.82447372]\n",
      "plane_heading_1 - flow_heading[3]: [95.14732822]\n",
      "\n",
      "flow_heading[4]: -177.4504833075413\n",
      "plane_heading_1[4]: [-100.66391443]\n",
      "plane_heading_2[4]: [164.99064959]\n",
      "plane_heading_1 - flow_heading[4]: [76.78656887]\n",
      "\n",
      "flow_heading[5]: 163.1485155716524\n",
      "plane_heading_1[5]: [79.40645297]\n",
      "plane_heading_2[5]: [165.09808427]\n",
      "plane_heading_1 - flow_heading[5]: [83.7420626]\n",
      "\n",
      "flow_heading[6]: 129.3864192809316\n",
      "plane_heading_1[6]: [-100.27857431]\n",
      "plane_heading_2[6]: [165.38713961]\n",
      "plane_heading_1 - flow_heading[6]: [229.66499359]\n"
     ]
    }
   ],
   "source": [
    "for i in range(len(flow_heading)):\n",
    "    print(f\"flow_heading[{i}]: {flow_heading[i]}\")\n",
    "    print(f\"plane_heading_1[{i}]: {plane_heading_1[i]}\")\n",
    "    print(f\"plane_heading_2[{i}]: {plane_heading_2[i]}\")\n",
    "    print(f\"plane_heading_1 - flow_heading[{i}]: {abs(plane_heading_1[i] - flow_heading[i])}\\n\")\n"
   ],
   "metadata": {
    "collapsed": false,
    "ExecuteTime": {
     "end_time": "2024-04-16T16:34:27.384899Z",
     "start_time": "2024-04-16T16:34:27.364195Z"
    }
   },
   "id": "d8d71f7aeb83cd5d",
   "execution_count": 37
  },
  {
   "cell_type": "markdown",
   "source": [
    "# TODO: functionize this plot once it works"
   ],
   "metadata": {
    "collapsed": false
   },
   "id": "7bfa0195995f0c97"
  },
  {
   "cell_type": "code",
   "outputs": [
    {
     "name": "stdout",
     "output_type": "stream",
     "text": [
      "theta: [84.12497305], phi: [85.66766795] for i: 0\n",
      " cos(theta): [0.10235897], sin(phi): [0.99714266]\n",
      "theta: [134.59967841], phi: [68.70258809] for i: 1\n",
      " cos(theta): [-0.70214906], sin(phi): [0.93170763]\n",
      "theta: [254.17788735], phi: [266.02399365] for i: 2\n",
      " cos(theta): [-0.27265158], sin(phi): [-0.99759317]\n",
      "theta: [95.14732822], phi: [85.61081326] for i: 3\n",
      " cos(theta): [-0.08971703], sin(phi): [0.99706721]\n",
      "theta: [342.4411329], phi: [265.65456403] for i: 4\n",
      " cos(theta): [0.95340749], sin(phi): [-0.99712536]\n",
      "theta: [83.7420626], phi: [85.6916313] for i: 5\n",
      " cos(theta): [0.10900458], sin(phi): [0.99717417]\n",
      "theta: [229.66499359], phi: [265.66571392] for i: 6\n",
      " cos(theta): [-0.64725563], sin(phi): [-0.99714009]\n"
     ]
    },
    {
     "data": {
      "text/plain": "<Figure size 2400x1200 with 1 Axes>",
      "image/png": "[encoded data removed]"
     },
     "metadata": {},
     "output_type": "display_data"
    },
    {
     "name": "stdout",
     "output_type": "stream",
     "text": [
      "saved plot as 2016_Antarctica_DC8_20161111_05_cos_angle_heading_vs_delta_twtt.png\n"
     ]
    }
   ],
   "source": [
    "# TODO: verify this plot is correct\n",
    "# TODO: verify the Y scale and label it\n",
    "    # Dave expects the delta_twtt to be ~0.1 sec\n",
    "# plot delta_twtt vs |cos(angle - heading) - sin(angle - heading)| * |magnitude|  for each crossover point\n",
    "plt.figure(figsize=(24, 12), layout='constrained')\n",
    "# plt.scatter(np.abs(np.cos(np.radians(np.array(angle) - np.array(heading_1)))) * np.abs(np.array(magnitude)), delta_twtt, label='segment 1')\n",
    "# plt.scatter(np.abs(np.cos(np.radians(np.array(angle) - np.array(heading_2)))) * np.abs(np.array(magnitude)), delta_twtt, label='segment 2')\n",
    "\n",
    "# plt.scatter(np.abs(np.cos(np.radians(np.array(angle) - np.array(plane_heading_1)))), delta_twtt, label='segment 1')  # angle - heading\n",
    "# plt.scatter(np.abs(np.cos(np.radians(np.array(angle) - np.array(plane_heading_2)))), delta_twtt, label='segment 2')\n",
    "\n",
    "# cos(angle - heading) vs delta_twtt\n",
    "# plt.scatter(np.abs(np.cos(np.radians(np.array(flow_heading) - np.array(plane_heading_1)))), delta_twtt, label='segment 1')  # flow angle - heading\n",
    "# plt.scatter(np.abs(np.cos(np.radians(np.array(flow_heading) - np.array(plane_heading_2)))), delta_twtt, label='segment 2')\n",
    "\n",
    "# |cos(angle - heading) - sin(angle - heading) |vs delta_twtt\n",
    "# plt.scatter(np.abs(np.cos(np.radians(np.array(angle) - np.array(plane_heading_1))) - np.sin(np.radians(np.array(angle) - np.array(plane_heading_1)))), delta_twtt, label='segment 1')  # angle - heading\n",
    "# plt.scatter(np.abs(np.cos(np.radians(np.array(angle) - np.array(plane_heading_2))) - np.sin(np.radians(np.array(angle) - np.array(plane_heading_2)))), delta_twtt, label='segment 2')\n",
    "\n",
    "# |cos(θ) – sin(φ)| vs delta_twtt. theta is the angle between the flow vector and the plane heading on segment 1, phi is the angle between the plane headings on segments 1 and 2\n",
    "for i in range(len(delta_twtt)):\n",
    "    theta = angle[i]\n",
    "    phi = abs(plane_heading_1[i] - plane_heading_2[i])\n",
    "    print(f\"theta: {theta}, phi: {phi} for i: {i}\\n cos(theta): {np.cos(np.radians(theta))}, sin(phi): {np.sin(np.radians(phi))}\")\n",
    "    plt.scatter(np.abs(np.cos(np.radians(theta)) - np.sin(np.radians(phi))), delta_twtt[i], label='segment 1')  # angle - heading   \n",
    "\n",
    "# for each point, print the index and the delta_twtt\n",
    "# for i in range(len(delta_twtt)):\n",
    "#     plt.text(np.abs(np.cos(np.radians(np.array(flow_heading[i]) - np.array(plane_heading_1[i])))), delta_twtt[i], f\"{i}: {delta_twtt[i]}\")\n",
    "\n",
    "# plt.xlabel(\" |cos(angle - heading)| * |velocity|\")\n",
    "# plt.xlabel(\" |cos(angle - heading)|\")\n",
    "plt.xlabel(\"|cos(θ) – sin(φ)|\")\n",
    "\n",
    "plt.ylabel(\"delta_twtt (s)\")\n",
    "# plt.title(\" |cos(angle - heading)| vs delta_twtt\")\n",
    "# plt.title(f\"{season} {flight} \\n|cos(angle - heading)| vs delta_twtt\", fontsize=20)\n",
    "plt.title(f\"{season} {flight} \\n|cos(θ) – sin(φ)| vs delta_twtt\", fontsize=20)\n",
    "\n",
    "\n",
    "plt.legend([\"legend\"], fontsize='smaller', loc='upper right', bbox_to_anchor=(1.1, 1.1))\n",
    "# scale axes to be logarithmic\n",
    "# plt.xscale('log')\n",
    "plt.yscale('log')\n",
    "\n",
    "\n",
    "# save the plot as a png file with a high dpi named after the season and flight\n",
    "plt.savefig(f\"C:\\\\Users\\\\rj\\Documents\\\\cresis_project\\\\screens\\\\{season}_{flight}_cos_angle_heading_vs_delta_twtt_logy.png\", dpi=300)\n",
    "\n",
    "# plt.show()\n",
    "\n",
    "plt.yscale('linear')\n",
    "# save the plot as a png file with a high dpi named after the season and flight\n",
    "plt.savefig(f\"{season}_{flight}_cos_angle_heading_vs_delta_twtt_lineary.png\", dpi=300)\n",
    "plt.show()\n",
    "\n",
    "print(f\"saved plot as {season}_{flight}_cos_angle_heading_vs_delta_twtt.png\")\n",
    "# |cos(90) - sin(90)| = 0 - 1 = 1\n",
    "# plot should peak either at 1 or 0 depending on which flight is closer to the flow vector\n",
    "    # in theory it should be around 1 but it could be 0 if coded wrong"
   ],
   "metadata": {
    "collapsed": false,
    "ExecuteTime": {
     "end_time": "2024-04-16T16:44:01.215633Z",
     "start_time": "2024-04-16T16:43:58.526558Z"
    }
   },
   "id": "f25a2814fd42c652",
   "execution_count": 39
  },
  {
   "cell_type": "markdown",
   "source": [
    "# END OF RELEVANT CODE FOR ARA TALK"
   ],
   "metadata": {
    "collapsed": false
   },
   "id": "411b9e180549373e"
  },
  {
   "cell_type": "code",
   "outputs": [],
   "source": [
    "# x_data = np.abs(np.cos(np.radians(np.array(angle) - np.array(heading_1))))\n",
    "# y_data = delta_twtt\n",
    "# \n",
    "# # Define the Gaussian function\n",
    "# def gaussian(x, amplitude, mean, stddev):\n",
    "#     return amplitude * np.exp(-((x - mean) ** 2) / (2 * stddev ** 2))\n",
    "# \n",
    "# # Initial parameter guesses: amplitude close to your data's scale, mean around the center, and a reasonable stddev\n",
    "# initial_guesses = [1e-8, 0.5, 0.1]\n",
    "# \n",
    "# # Use curve_fit to fit the Gaussian function to your data\n",
    "# popt, pcov = opt.curve_fit(gaussian, x_data, y_data, p0=initial_guesses, maxfev=5000)\n",
    "# \n",
    "# # Plot the original data\n",
    "# plt.scatter(x_data, y_data, label='Data')\n",
    "# \n",
    "# # Plot the fitted curve\n",
    "# x_fit = np.linspace(min(x_data), max(x_data), 1000)\n",
    "# y_fit = gaussian(x_fit, *popt)\n",
    "# plt.plot(x_fit, y_fit, color='red', label='Fitted curve')\n",
    "# \n",
    "# plt.xlabel('X axis')\n",
    "# plt.ylabel('Y axis')\n",
    "# plt.title('Gaussian Fit to Data')\n",
    "# plt.legend()\n",
    "# plt.show()"
   ],
   "metadata": {
    "collapsed": false
   },
   "id": "1434b909fad18984",
   "execution_count": null
  },
  {
   "cell_type": "markdown",
   "source": [
    "ntuple-ize\n",
    "    cos(heading-flow)\n",
    "    difference in theta paralell and perpindicular\n",
    "    delta_twtt\n",
    "    v_flow\n",
    "- stop selecting for angle in upper cells, we can cut the data once we have it\n",
    "\n",
    "ARA meeting in March Columbus\n",
    "- talk to Kiet about how he is setting up travel"
   ],
   "metadata": {
    "collapsed": false
   },
   "id": "cddd897600559d8"
  },
  {
   "cell_type": "code",
   "outputs": [],
   "source": [
    "heading = []\n",
    "# for each plane heaading, add [plane_heading_1, plane_heading_2] to the heading list\n",
    "for i in range(len(plane_heading_1)):\n",
    "    heading.append([plane_heading_1[i], plane_heading_2[i]])"
   ],
   "metadata": {
    "collapsed": false
   },
   "id": "bfccbc2e960c4707",
   "execution_count": null
  },
  {
   "cell_type": "code",
   "outputs": [],
   "source": [
    "print(flow_xy)"
   ],
   "metadata": {
    "collapsed": false,
    "ExecuteTime": {
     "start_time": "2024-04-02T02:28:43.006204Z"
    }
   },
   "id": "a2cb9349df296196",
   "execution_count": null
  },
  {
   "cell_type": "code",
   "outputs": [],
   "source": [
    "# # save the posit to a json file\n",
    "# import json\n",
    "# \n",
    "# filename = f\"{season}_crossover_data.json\"\n",
    "# \n",
    "# # check to see if the file exists and if it does, load the data from it, otherwise append the data to a new file\n",
    "# try:\n",
    "#     with open(filename, 'r') as file:\n",
    "#         data = json.load(file)\n",
    "#         print(f\"File {filename} exists. Loading data from file...\")\n",
    "# except FileNotFoundError:\n",
    "#     print(f\"File {filename} does not exist. Creating a new file...\")\n",
    "#     data = []\n",
    "#     \n",
    "# # if the data is not already in the file, append the data to the file\n",
    "# if data:\n",
    "#     print(f\"Data already in file {filename}.\")\n",
    "# else:\n",
    "#     print(f\"Appending data to file {filename}...\")\n",
    "#     data.append({\n",
    "#         \"season\": season,\n",
    "#         \"flight\": flight,\n",
    "#         \"intersection_points\": intersection_points,\n",
    "#         \"twtt\": twtt,\n",
    "#         \"delta_twtt\": delta_twtt,\n",
    "#         \"ice flow vectors (m/yr, in xy)\": flow,\n",
    "#         \"ice flow angle\": angle,\n",
    "#         \"ice flow magnitude\": magnitude,\n",
    "#         \"plane heading\": heading\n",
    "#     })\n",
    "#     with open(filename, 'w') as file:\n",
    "#         json.dump(data, file)\n",
    "#     print(f\"Data successfully appended to file {filename}.\")\n",
    "# \n",
    "# \n",
    "# # TODO: convert flow vector and angle to EPSG:4326"
   ],
   "metadata": {
    "collapsed": false,
    "ExecuteTime": {
     "start_time": "2024-04-02T02:28:43.007290Z"
    }
   },
   "id": "16c17e5af72e0018",
   "execution_count": null
  },
  {
   "cell_type": "code",
   "outputs": [],
   "source": [],
   "metadata": {
    "collapsed": false,
    "ExecuteTime": {
     "start_time": "2024-04-02T02:28:43.008373Z"
    }
   },
   "id": "8453b6849b6f9570",
   "execution_count": null
  },
  {
   "cell_type": "markdown",
   "source": [
    "### vector to heading dev below, DELETE WHEN FUNCTIONAL"
   ],
   "metadata": {
    "collapsed": false
   },
   "id": "38b6fdc8587be53b"
  },
  {
   "cell_type": "code",
   "outputs": [],
   "source": [
    "def nearest_flow_to_latlon(lat, lon, iceflow_data, print_point=False):\n",
    "    \"\"\"\n",
    "    :param lat: the latitude of the point\n",
    "    :param lon: the longitude of the point\n",
    "    :param iceflow_data: the iceflow data\n",
    "    :return: the nearest flow vector to the lat-lon point available in the iceflow data \n",
    "    \"\"\"\n",
    "    # find the nearest x and y values in the iceflow data\n",
    "    x, y = latlon_to_xy(lat, lon)\n",
    "    x, y = find_nearest_unmasked_x_and_y(x, y, iceflow_data, max_radius=1000)\n",
    "    if print_point:\n",
    "        print(f\"Nearest point to lat-lon: {xyindex_to_latlon(x, y)} or {x, y} in EPSG:3031\")\n",
    "    flow = flow_at_x_y(x, y, iceflow_data)\n",
    "    return flow"
   ],
   "metadata": {
    "collapsed": false
   },
   "id": "d267475978d06ac0",
   "execution_count": null
  },
  {
   "cell_type": "code",
   "outputs": [],
   "source": [
    "intersect_x = intersection_points[0][0]\n",
    "intersect_y = intersection_points[0][1]\n",
    "print(f\"Intersection lat-lon:\\n{intersect_x, intersect_y}\")\n",
    "print(\"----------------------\\n\")\n",
    "\n",
    "x, y = latlon_to_xy(intersect_x, intersect_y)\n",
    "print(f\"x, y of intersection before index conversion \\nx: {x}, y: {y}\\n\")\n",
    "\n",
    "x_index = x_to_index(x)\n",
    "y_index = y_to_index(y)\n",
    "print(f\"converted to indices:\\nx_index: {x_index}, y_index: {y_index}\\n\")\n",
    "x_lat, y_lat = xyindex_to_latlon(x_index, y_index)\n",
    "print(f\"lat-lon of indices: \\n{x_lat, y_lat}\\n\")\n",
    "\n",
    "difference_lat = intersect_x - x_lat\n",
    "difference_lon = intersect_y - y_lat\n",
    "print(f\"difference in lat-lon: \\n{difference_lat, difference_lon}\\n\")\n",
    "# So the conversion functions work"
   ],
   "metadata": {
    "collapsed": false,
    "ExecuteTime": {
     "start_time": "2024-04-02T02:28:43.011720Z"
    }
   },
   "id": "2aa7a96c57b56167",
   "execution_count": null
  },
  {
   "cell_type": "markdown",
   "source": [
    "### TODO: fix the find nearest functions"
   ],
   "metadata": {
    "collapsed": false
   },
   "id": "98e596adf396a33f"
  },
  {
   "cell_type": "code",
   "outputs": [],
   "source": [
    "def xy_to_nearest_unmasked_index(x, y, iceflow_data, max_radius=10, printout=False):\n",
    "    \"\"\"\n",
    "    Find the nearest x and y value in the iceflow data to an input x and y value.\n",
    "    \"\"\"\n",
    "    # iterate through every data point within the max_radius of the input x and y and save the xy pairs of any unmasked data\n",
    "    x = x_to_index(x)\n",
    "    y = y_to_index(y)\n",
    "    unmasked = []\n",
    "    for x_iterator in range(x - max_radius, x + max_radius):\n",
    "        for y_iterator in range(y - max_radius, y + max_radius):\n",
    "            if (\n",
    "                    0 <= x_iterator < iceflow_data[2].shape[0]  # if the x index is within the bounds of the iceflow data\n",
    "                    and 0 <= y_iterator < iceflow_data[2].shape[1]\n",
    "                    and not np.ma.is_masked(iceflow_data[2][x_iterator][y_iterator])\n",
    "                    and not np.ma.is_masked(iceflow_data[3][x_iterator][y_iterator])\n",
    "            ):\n",
    "                unmasked.append((x_iterator, y_iterator))\n",
    "            if printout and not np.ma.is_masked(iceflow_data[2][x_iterator][y_iterator]):\n",
    "                print(f\"unmasked x: {x_iterator}, unmasked y: {y_iterator}\")\n",
    "                print(f\"unmasked lat: {iceflow_data[4][x_iterator][y_iterator]}, unmasked lon: {iceflow_data[5][x_iterator][y_iterator]}\")\n",
    "                print(f\"unmasked flow: {iceflow_data[2][x_iterator][y_iterator]}, {iceflow_data[3][x_iterator][y_iterator]}\")\n",
    "    # find the xy pair with the minimum distance from the input x and y\n",
    "    min_distance = 100\n",
    "    min_x = None\n",
    "    min_y = None\n",
    "    for x_iterator, y_iterator in unmasked:\n",
    "        distance = math.sqrt((x - x_iterator) ** 2 + (y - y_iterator) ** 2)\n",
    "        if distance < min_distance:\n",
    "            min_distance = distance\n",
    "            min_x = x_iterator\n",
    "            min_y = y_iterator\n",
    "    # TODO: figure out why these are indices and not x and y\n",
    "        # it works fine, they just are.\n",
    "    return min_x, min_y"
   ],
   "metadata": {
    "collapsed": false
   },
   "id": "d9147ecb0aadca7f",
   "execution_count": null
  },
  {
   "cell_type": "code",
   "outputs": [],
   "source": [
    "lat = intersection_points[0][0]\n",
    "lon = intersection_points[0][1]\n",
    "print(f\"lat: {lat}, lon: {lon}\")\n",
    "\n",
    "x, y = latlon_to_xy(lat, lon)\n",
    "print(f\"x: {x}, y: {y}\")\n",
    "\n",
    "x_index, y_index = x_to_index(x), y_to_index(y)\n",
    "print(f\"x_index: {x_index}, y_index: {y_index}\")\n",
    "\n",
    "# nearest_x_index, nearest_y_index = depracated: find_nearest_unmasked_x_and_y(x, y, iceflow_data, max_radius=1000)\n",
    "\n",
    "nearest_x_index, nearest_y_index = xy_to_nearest_unmasked_index(x, y, iceflow_data, max_radius=10)\n",
    "\n",
    "print(f\"nearest_x_index: {nearest_x_index}, nearest_y_index: {nearest_y_index}\")\n",
    "nearest_lat = iceflow_data[4][nearest_x_index][nearest_y_index]\n",
    "nearest_lon = iceflow_data[5][nearest_x_index][nearest_y_index]\n",
    "print(f\"nearest_lat: {nearest_lat}, nearest_lon: {nearest_lon}\")\n",
    "print(f\"flow at nearest: {iceflow_data[2][nearest_x_index][nearest_y_index]}, {iceflow_data[3][nearest_x_index][nearest_y_index]}\")"
   ],
   "metadata": {
    "collapsed": false
   },
   "id": "42429eb453add524",
   "execution_count": null
  },
  {
   "cell_type": "code",
   "outputs": [],
   "source": [
    "# plot the spiral around the point\n",
    "plot_spiral(x,y, 10)"
   ],
   "metadata": {
    "collapsed": false,
    "ExecuteTime": {
     "start_time": "2024-04-02T02:28:43.015342Z"
    }
   },
   "id": "204630ae0dab9961",
   "execution_count": null
  },
  {
   "cell_type": "markdown",
   "source": [],
   "metadata": {
    "collapsed": false
   },
   "id": "7983edb0476ca763"
  },
  {
   "cell_type": "markdown",
   "source": [
    "### Move to an example notebook when done. Shows how the xy to index conversion works"
   ],
   "metadata": {
    "collapsed": false
   },
   "id": "a979c551ff21c297"
  },
  {
   "cell_type": "code",
   "outputs": [],
   "source": [
    "#print x min and max\n",
    "min = np.min(iceflow_data[0])\n",
    "max = np.max(iceflow_data[0])\n",
    "\n",
    "print(f\"min: {min}, max: {max}\")\n",
    "\n",
    "print(f\"min/450: {min/450}, max/450: {max/450}\")\n",
    "\n",
    "one, two, three = (iceflow_data[1][0], iceflow_data[1][1], iceflow_data[1][2])\n",
    "print(f\"one: {one}, two: {two}, three: {three}\")\n",
    "print(f\"one - two: {one - two}, two - three: {two - three}\")"
   ],
   "metadata": {
    "collapsed": false,
    "ExecuteTime": {
     "start_time": "2024-04-02T02:28:43.016441Z"
    }
   },
   "id": "fd23763d158886e7",
   "execution_count": null
  },
  {
   "cell_type": "code",
   "outputs": [],
   "source": [
    "def x_to_index(x):\n",
    "    return 6223 + int(x/450)\n",
    "def y_to_index(y):\n",
    "    return 6223 - int(y/450)\n",
    "def index_to_x(x):\n",
    "    return (x - 6223) * 450\n",
    "def index_to_y(y):\n",
    "    return (6223 - y) * 450"
   ],
   "metadata": {
    "collapsed": false,
    "ExecuteTime": {
     "start_time": "2024-04-02T02:28:43.017689Z"
    }
   },
   "id": "78dbd0be10e207a6",
   "execution_count": null
  },
  {
   "cell_type": "markdown",
   "source": [
    "# ~~TODO: see if these are even legal lat-lon values~~\n",
    "- **they are not but neither are the iceflow data values**\n",
    "- some of these longitudes don't work in Google Earth, I think they are supposed to be between -180 and 180\n",
    "- more importantly, are the icflow data and CReSIS lat-lon values in this format (i.e. if they are wrong, stay wrong)\n",
    "\n",
    "Iceflow data: \n",
    "    - max lat: -89.9 - 0 degrees\n",
    "    - min lat: 0 - 359.79 degrees\n",
    "    "
   ],
   "metadata": {
    "collapsed": false
   },
   "id": "3a882283fea4177b"
  },
  {
   "cell_type": "code",
   "outputs": [],
   "source": [
    "x = 6000\n",
    "y = 1000\n",
    "print(f\"starting values\\nx: {x}, y: {y}\")\n",
    "x_index = x_to_index(x)\n",
    "y_index = y_to_index(y)\n",
    "print(f\"x_index: {x_index}, y_index: {y_index}\")\n",
    "print(f\"x: {iceflow_data[0][x_index]}, y: {iceflow_data[1][y_index]}\\n\")\n",
    "\n",
    "x = 9000\n",
    "y = 5000\n",
    "print(f\"starting values\\nx: {x}, y: {y}\")\n",
    "x_index = x_to_index(x)\n",
    "y_index = y_to_index(y)\n",
    "print(f\"x_index: {x_index}, y_index: {y_index}\")\n",
    "print(f\"x: {iceflow_data[0][x_index]}, y: {iceflow_data[1][y_index]}\\n\")\n",
    "\n"
   ],
   "metadata": {
    "collapsed": false,
    "ExecuteTime": {
     "start_time": "2024-04-02T02:28:43.018955Z"
    }
   },
   "id": "82ebdf51d4cb5ecf",
   "execution_count": null
  },
  {
   "cell_type": "code",
   "outputs": [],
   "source": [
    "def xyindex_vector_to_heading(x_index, y_index, x_vector, y_vector):\n",
    "    \"\"\"\n",
    "    This function is used to convert an x and y vector in EPSG:3031 to a heading in EPSG:4326.\n",
    "    :param x_index: the x coordinate\n",
    "    :param y_index: the y coordinate\n",
    "    :param x_vector: the x vector\n",
    "    :param y_vector: the y vector\n",
    "    :return: the heading in EPSG:4326\n",
    "    \"\"\"\n",
    "    # convert the x and y coordinates to lat and lon\n",
    "    lat, lon = xyindex_to_latlon(x_index, y_index)\n",
    "    # convert the x and y vector to lat and lon\n",
    "    lat_vector, lon_vector = xyindex_to_latlon(x_index + x_vector, y_index + y_vector)\n",
    "    # calculate the heading\n",
    "    geodesic = pyproj.Geod(ellps='WGS84')\n",
    "    angle1, angle2, distance = geodesic.inv(lon, lat, lon_vector, lat_vector)\n",
    "    return angle1, angle2, distance\n",
    "\n"
   ],
   "metadata": {
    "collapsed": false,
    "ExecuteTime": {
     "start_time": "2024-04-02T02:28:43.020051Z"
    }
   },
   "id": "ed0ab8dbf1f3ecb9",
   "execution_count": null
  },
  {
   "cell_type": "markdown",
   "source": [
    "# TODO: ~~take some plane vectors, convert the relevant points to xy, then run them through the heading function to see if it works compared to the plane heading~~\n",
    "- I think this works now"
   ],
   "metadata": {
    "collapsed": false
   },
   "id": "239dddf9f98383f6"
  },
  {
   "cell_type": "code",
   "outputs": [],
   "source": [
    "# for testing purposes only, delete when done\n",
    "def find_heading_test(lat1, lon1, lat2, lon2):\n",
    "    # print the lat-lon points\n",
    "    # print(f\"lat-lon input to find_heading:\"\n",
    "    #       f\"\\n({layer.lat[index]}, {layer.lon[index]})\")\n",
    "    geodesic = pyproj.Geod(ellps='WGS84')\n",
    "    # lon = layer.lon[index]\n",
    "    # lat = layer.lat[index]\n",
    "    # lon1 = layer.lon[index - window_size]\n",
    "    # lat1 = layer.lat[index - window_size]\n",
    "    # lon2 = layer.lon[index + window_size]\n",
    "    # lat2 = layer.lat[index + window_size]\n",
    "\n",
    "    print(f\"lat-lons determined by find_heading:\"\n",
    "          f\"\\n({lat1}, {lon1}), ({lat2}, {lon2})\")\n",
    "    # delta_lon1 = lon - lon1\n",
    "    # delta_lat1 = lat - lat1\n",
    "    # delta_lon2 = lon2 - lon\n",
    "    # delta_lat2 = lat2 - lat\n",
    "    # print(f\"delta_lon1: {delta_lon1}, delta_lat1: {delta_lat1}, delta_lon2: {delta_lon2}, delta_lat2: {delta_lat2}\")\n",
    "    fwd_azimuth, back_azimuth, distance = geodesic.inv(lon1, lat1, lon2, lat2)\n",
    "    return fwd_azimuth"
   ],
   "metadata": {
    "collapsed": false,
    "ExecuteTime": {
     "start_time": "2024-04-02T02:28:43.021286Z"
    }
   },
   "id": "e83297e68d6ca29c",
   "execution_count": null
  },
  {
   "cell_type": "code",
   "outputs": [],
   "source": [
    "def find_heading_points(layer, index, window_size=100):\n",
    "    \"\"\"\n",
    "    :param layer: a Layer object\n",
    "    :param index: the index of the point in the layer\n",
    "    :param window_size: the number of points to use in the slope calculation\n",
    "    :return: the bearing of the current that flew through the points.\n",
    "    This has nothing to do with the slope of the layer. only the lat-lon points.\n",
    "    \"\"\"\n",
    "    # print the lat-lon points\n",
    "    print(f\"lat-lon input to find_heading:\"\n",
    "          f\"\\n\\t({layer.lat[index]}, {layer.lon[index]})\")\n",
    "    geodesic = pyproj.Geod(ellps='WGS84')\n",
    "    lon = layer.lon[index]\n",
    "    lat = layer.lat[index]\n",
    "    lon1 = layer.lon[index - window_size]\n",
    "    lat1 = layer.lat[index - window_size]\n",
    "    lon2 = layer.lon[index + window_size]\n",
    "    lat2 = layer.lat[index + window_size]\n",
    "    \n",
    "    return lon1, lat1, lon2, lat2"
   ],
   "metadata": {
    "collapsed": false
   },
   "id": "4471aebe53f7ac7f",
   "execution_count": null
  },
  {
   "cell_type": "code",
   "outputs": [],
   "source": [
    "# TODO: when this works, udpate the original code cell to use the non test versions of the iceflow heading function\n",
    "# TODO, the iceflow heading finder doesn't work on too close of data because they show up as the same index in the iceflow data.\n",
    "    # put in some larger fake lat-lons to test both\n",
    "    # how was it working before then?\n",
    "        # the flow vector comes from the data so it works\n",
    "magnitude = []\n",
    "plane_heading_1 = []\n",
    "plane_heading_2 = []\n",
    "# for i in range(len(intersection_indices)):\n",
    "for i in range(1):\n",
    "    # find the heading of the first segment\n",
    "    test_lat1 = -81.1 \n",
    "    test_lon1 = -29.7\n",
    "    test_lat2 = -81.2\n",
    "    test_lon2 = -29.8\n",
    "    plane_heading_1.append(find_heading_test(test_lat1, test_lon1, test_lat2, test_lon2))\n",
    "    print(f\"heading_1[{i}]: {plane_heading_1[i]}\")\n",
    "    \n",
    "    print(\"**************\")\n",
    "\n",
    "    # convert the test lat-lon points to xy\n",
    "    x1, y1 = latlon_to_xy(test_lat1, test_lon1) \n",
    "    x2, y2 = latlon_to_xy(test_lat2, test_lon2)\n",
    "    print(f\"x1: {x1}, y1: {y1}, x2: {x2}, y2: {y2}\")\n",
    "    \n",
    "    # convert the xy points to indices\n",
    "    x1_index = x_to_index(x1)\n",
    "    y1_index = y_to_index(y1)\n",
    "    x2_index = x_to_index(x2)\n",
    "    y2_index = y_to_index(y2)\n",
    "    print(f\"x1_index: {x1_index}, y1_index: {y1_index}, x2_index: {x2_index}, y2_index: {y2_index}\")\n",
    "    \n",
    "    # TODO: should this be a vector of indices or x and y? x and y sounds right but it errors out on index overflow. Have to go to class so can't look right now. Does the xy_vector function use indices or x and y? \n",
    "        # the vector_to_heading() function uses indices for some reason but it works so I'mma let it ride\n",
    "    vector = [x2_index - x1_index, y2_index - y1_index]\n",
    "    # vector = [x2 - x1, y2 - y1]\n",
    "\n",
    "    # convert the vector to a heading\n",
    "    heading = xyindex_vector_to_heading(x1_index, y1_index, vector[0], vector[1])\n",
    "    \n",
    "    print(f\"heading by way of iceflow functions: \\n{heading}\")\n",
    "    \n",
    "    \n",
    "    \n",
    "    print(section_break)\n",
    "    \n",
    "    \n"
   ],
   "metadata": {
    "collapsed": false,
    "ExecuteTime": {
     "start_time": "2024-04-02T02:28:43.025733Z"
    }
   },
   "id": "5cbf56cace731068",
   "execution_count": null
  },
  {
   "cell_type": "code",
   "outputs": [],
   "source": [],
   "metadata": {
    "collapsed": false,
    "ExecuteTime": {
     "start_time": "2024-04-02T02:28:43.026842Z"
    }
   },
   "id": "b7d9a2192726bafa",
   "execution_count": null
  },
  {
   "cell_type": "code",
   "outputs": [],
   "source": [],
   "metadata": {
    "collapsed": false
   },
   "id": "f769483a211b315",
   "execution_count": null
  },
  {
   "cell_type": "code",
   "outputs": [],
   "source": [
    "# calculate the twtt to depth conversion for 10, 20, ..., 100 microseconds\n",
    "\n",
    "twtt = np.arange(10, 110, 10) * 1e-6\n",
    "depth = twtt_to_depth(twtt, refractive_index=1.77)\n",
    "\n",
    "# for each twtt, print the twtt in microseconds and the depth in meters. both should be rounded to 0 decimal places\n",
    "print(f\"twtt to depth conversion for refractive index 1.77:\")\n",
    "for i in range(len(twtt)):\n",
    "    print(f\"{twtt[i] * 1e6:.0f} {chr(956)}s:\\t{depth[i]:.0f} meters\")"
   ],
   "metadata": {
    "collapsed": false
   },
   "id": "ad29aada283b301b",
   "execution_count": null
  }
 ],
 "metadata": {
  "kernelspec": {
   "display_name": "Python 3",
   "language": "python",
   "name": "python3"
  },
  "language_info": {
   "codemirror_mode": {
    "name": "ipython",
    "version": 2
   },
   "file_extension": ".py",
   "mimetype": "text/x-python",
   "name": "python",
   "nbconvert_exporter": "python",
   "pygments_lexer": "ipython2",
   "version": "2.7.6"
  }
 },
 "nbformat": 4,
 "nbformat_minor": 5
}

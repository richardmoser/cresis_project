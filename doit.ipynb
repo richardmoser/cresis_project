{
 "cells": [
  {
   "cell_type": "markdown",
   "source": [
    "# TODO:\n",
    "- schedule time with John to review the python code and see what changed in OPR\n",
    "- test to_index and index_to functions against lat-lon values to verify all of the conversions against each other\n",
    "- rewrite any implementations of xy conversion to include the to_index and index_to functions\n",
    "    - see if this stays consistent\n",
    "- finally get around to fixing the flow vectors & headings\n",
    "    - accuracy depends on accurate xy to lat-lon conversion\n",
    "    - verify against online heading calculators\n",
    "    - \n",
    "- verify neareast_unmasked_x_and_y function works\n",
    "    - might have broken the search function in process of debugging conversions\n",
    "        - may need rolling back from old code\n",
    "- once all that works, probably ought to draw it all to a map and see if it all checks out. \n",
    "- Add something to add a minimap to the delta_twtt plot to show one point in the general area of the crossover points for quick reference\n",
    "- **Implement multi flight crossover point finding**\n",
    "- Multi flight plotting\n",
    "    - how many flights could I put in a file together? i.e. can I save a full season to one file in the pickle format?\n",
    "- scaling for overall depth in twtt? i.e. less effect in shallower ice so you can't really compare to deeper ice CX points\n",
    "- tell john about \"bob\" layer save bug/workaround\n",
    "\n"
   ],
   "metadata": {
    "collapsed": false
   },
   "id": "914384a0570a905a"
  },
  {
   "cell_type": "code",
   "execution_count": 28,
   "outputs": [],
   "source": [
    "import matplotlib.pyplot as plt\n",
    "\n",
    "from project_classes import *\n",
    "from functions import *\n",
    "from iceflow_library import *"
   ],
   "metadata": {
    "collapsed": false,
    "ExecuteTime": {
     "end_time": "2024-03-06T04:09:29.177465Z",
     "start_time": "2024-03-06T04:09:29.160866Z"
    }
   },
   "id": "82c297c4d7d856f2"
  },
  {
   "cell_type": "code",
   "execution_count": 29,
   "outputs": [],
   "source": [
    "zoom = True\n",
    "seg_length = 100\n",
    "season = \"2018_Antarctica_DC8\" # a layerData season\n",
    "# season = \"2016_Antarctica_DC8\" # a season with both layer and layerData\n",
    "# season = \"2014_Antarctica_DC8\" # a layerData season\n",
    "flight = \"20181030_01\"  # the flight date and frame numbe\n",
    "flight = \"20181018_01\"\n",
    "# flight = \"20181103_01\"\n",
    "# flight = \"20181109_01\"\n",
    "# flight = \"20181112_02\"  # the problem flight\n",
    "# flight = \"20161024_05\"\n",
    "# flight = \"20161111_05\"\n",
    "# flight = '20141026_06'\n",
    "file_name = \"layer_export_\" + flight + \".pickle\"\n",
    "testing = False"
   ],
   "metadata": {
    "collapsed": false,
    "ExecuteTime": {
     "end_time": "2024-03-06T04:09:29.487838Z",
     "start_time": "2024-03-06T04:09:29.476866Z"
    }
   },
   "id": "80fa46579d551152"
  },
  {
   "cell_type": "markdown",
   "source": [
    "### read in the layers from the layer files and save them to a pickle file"
   ],
   "metadata": {
    "collapsed": false
   },
   "id": "82960565fc3413a4"
  },
  {
   "cell_type": "code",
   "execution_count": 30,
   "outputs": [
    {
     "name": "stdout",
     "output_type": "stream",
     "text": [
      "Reading data files...\n",
      "--------------------\n",
      "layer_attributes_file: layer_20181018_01.mat\n",
      "DATA MAT FILE KEYS:\n",
      "header, version, globals, elev, file_type, file_version, gps_time, id, lat, lon, param, quality, twtt, type\n",
      "LAYER ATTRIBUTES MAT FILE KEYS:\n",
      "header, version, globals, file_type, file_version, lyr_age, lyr_age_source, lyr_desc, lyr_group_name, lyr_id, lyr_name, lyr_order, param\n",
      "--------------------\n",
      "\n",
      "data_mat type: <class 'dict'>\n",
      "data_mat[0] keys:\n",
      "header, version, globals, elev, file_type, file_version, gps_time, id, lat, lon, param, quality, twtt, typeLayerizing data files...\n",
      "--------------------\n",
      "number of data files: 31, number of layers: 2\n",
      "Surface Layer found and created\n",
      "Bottom Layer found and created\n",
      "--------------------\n",
      "\n",
      "--------------------\n",
      "layer_export_20181018_01.pickle  saved in local directory of this python file.\n",
      "--------------------\n",
      "\n",
      "Reading pickle file...\n",
      "--------------------\n",
      "Surface\n",
      "Bottom\n",
      "--------------------\n"
     ]
    }
   ],
   "source": [
    "# TODO: add some kind of layer vs layerData check?\n",
    "#     - do we still need to do this/ is the layer.mat file still used?\n",
    "#     - update doitfile.py to reflect this\n",
    "\n",
    "# if the file at filename exists, read in the layers from the pickle file\n",
    "# otherwise, read in the layers from the layer files and save them to a pickle file\n",
    "# if not os.path.isfile(file_name):  # if the file does not exist\n",
    "#     print(f\"File {file_name} does not exist. Making it...\")\n",
    "#     # mat_pickler_layerData(season, flight, testing_mode=testing, layer=True)  # make it\n",
    "#     mat_pickler_layerData(season, flight, testing_mode=testing, layer=False)  # make it\n",
    "# mat_pickler_layerData(season, flight, testing_mode=testing)  # make it\n",
    "mat_pickler_layer(season, flight, testing_mode=testing)  # make it\n",
    "layers = read_layers(file_name)  # read in the layers from the pickle file"
   ],
   "metadata": {
    "collapsed": false,
    "ExecuteTime": {
     "end_time": "2024-03-06T04:09:30.808239Z",
     "start_time": "2024-03-06T04:09:30.646407Z"
    }
   },
   "id": "5e4326b0a8fa5712"
  },
  {
   "cell_type": "markdown",
   "source": [
    "### read in the iceflow data from the iceflow data files and save them to a pickle file"
   ],
   "metadata": {
    "collapsed": false
   },
   "id": "fc35cca7687abf68"
  },
  {
   "cell_type": "code",
   "execution_count": 31,
   "outputs": [
    {
     "name": "stdout",
     "output_type": "stream",
     "text": [
      "The iceflow data pickle file was found and loaded.\n"
     ]
    }
   ],
   "source": [
    "if not os.path.isfile(\"iceflow_data.pickle\"):  # if the file does not exist\n",
    "    print(\"The iceflow data pickle file was not found. Creating a new one...\")\n",
    "    filename = iceflow_saver()\n",
    "    iceflow_data = iceflow_loader(filename)\n",
    "    print(\"The iceflow data pickle file was successfully created.\")\n",
    "# try:\n",
    "iceflow_data = iceflow_loader(\"iceflow_data.pickle\")\n",
    "print(\"The iceflow data pickle file was found and loaded.\")\n",
    "\n",
    "x = iceflow_data[0]\n",
    "y = iceflow_data[1]\n",
    "velocity_x = iceflow_data[2]\n",
    "velocity_y = iceflow_data[3]\n",
    "latitude = iceflow_data[4]\n",
    "longitude = iceflow_data[5]"
   ],
   "metadata": {
    "collapsed": false,
    "ExecuteTime": {
     "end_time": "2024-03-06T04:09:38.940751Z",
     "start_time": "2024-03-06T04:09:32.375448Z"
    }
   },
   "id": "dbaab48f077de2bd"
  },
  {
   "cell_type": "code",
   "execution_count": 32,
   "outputs": [
    {
     "name": "stdout",
     "output_type": "stream",
     "text": [
      "File 2018_Antarctica_DC8_20181018_01_crossover_points.pickle does not exist. Making it...\n",
      "Finding crossover point...\n",
      "--------------------\n",
      "Checking for intersections...\n",
      "Number of intersections: 6\n",
      "Index 0: \n",
      "indices: \t[23804, 97911]\n",
      "lat-lon: \t(-81.14629600683192, -29.11211625028574)\n",
      "segment ends: \t[[(-81.14624555490998, -29.112194499397546), (-81.1463762104101, -29.11199185742786)], [(-81.14630097537514, -29.11195908659677), (-81.1462739526353, -29.112813862995388)]]\n",
      "lat-lon by layer: \t(-81.14624555490998, -29.112194499397546)\n",
      "Index 1: \n",
      "indices: \t[33557, 95937]\n",
      "lat-lon: \t(-81.1976319814443, -27.417245413512443)\n",
      "segment ends: \t[[(-81.19773495209756, -27.41708354964048), (-81.19760435132038, -27.417288846458618)], [(-81.1976366540944, -27.41707808500236), (-81.19761254336083, -27.417941495067844)]]\n",
      "lat-lon by layer: \t(-81.19773495209756, -27.41708354964048)\n",
      "Index 2: \n",
      "indices: \t[47946, 92875]\n",
      "lat-lon: \t(-81.24782187948027, -24.743184551445513)\n",
      "segment ends: \t[[(-81.24772077152528, -24.743341676783064), (-81.24785149240965, -24.743138531906048)], [(-81.24782429167881, -24.742929179182777), (-81.24781597027808, -24.743810141051178)]]\n",
      "lat-lon by layer: \t(-81.24772077152528, -24.743341676783064)\n",
      "Index 3: \n",
      "indices: \t[63943, 91744]\n",
      "lat-lon: \t(-81.25562156479572, -23.74614933540875)\n",
      "segment ends: \t[[(-81.25569565582599, -23.746028890623887), (-81.25556525345448, -23.74624087695373)], [(-81.25562545201001, -23.745513323941143), (-81.25562005691259, -23.746396049607053)]]\n",
      "lat-lon by layer: \t(-81.25569565582599, -23.746028890623887)\n",
      "Index 4: \n",
      "indices: \t[76308, 90029]\n",
      "lat-lon: \t(-81.26252646913397, -22.23073365358472)\n",
      "segment ends: \t[[(-81.26250692099106, -22.230765629578546), (-81.26263728241716, -22.23055239008191)], [(-81.26252726919076, -22.23046466225994), (-81.26252464003736, -22.23134862384024)]]\n",
      "lat-lon by layer: \t(-81.26250692099106, -22.230765629578546)\n",
      "Index 5: \n",
      "indices: \t[85230, 89085]\n",
      "lat-lon: \t(-81.26286285758367, -21.396404596511783)\n",
      "segment ends: \t[[(-81.26286596990914, -21.39639963431102), (-81.26273541845487, -21.39660778173334)], [(-81.26286015307672, -21.39587986848738), (-81.26286470753996, -21.396763524749765)]]\n",
      "lat-lon by layer: \t(-81.26286596990914, -21.39639963431102)\n",
      "--------------------\n",
      "\n",
      "intersection_indices and intersection_points saved to 2018_Antarctica_DC8_20181018_01_crossover_points.pickle\n"
     ]
    }
   ],
   "source": [
    "# if the file at filename exists, read in the intersection_indices and intersection_points from the pickle file\n",
    "# otherwise, find the intersection_indices and intersection_points and save them to a pickle file\n",
    "filename = f\"{season}_{flight}_crossover_points.pickle\"\n",
    "if not os.path.isfile(filename):  # if the file does not exist\n",
    "    print(f\"File {filename} does not exist. Making it...\")\n",
    "    intersection_points, intersection_indices, segment_ends = cross_point(layers[0], seg_length, quiet=True)\n",
    "    with open(filename, 'wb') as file:\n",
    "        pickle.dump(intersection_indices, file)\n",
    "        pickle.dump(intersection_points, file)\n",
    "        pickle.dump(segment_ends, file)\n",
    "    print(f\"intersection_indices and intersection_points saved to {filename}\")\n",
    "else:\n",
    "    with open(filename, 'rb') as file:\n",
    "        intersection_indices = pickle.load(file)\n",
    "        intersection_points = pickle.load(file)\n",
    "        segment_ends = pickle.load(file)\n",
    "    print(f\"intersection_indices and intersection_points loaded from {filename}\")"
   ],
   "metadata": {
    "collapsed": false,
    "ExecuteTime": {
     "end_time": "2024-03-06T04:09:50.699153Z",
     "start_time": "2024-03-06T04:09:38.991944Z"
    }
   },
   "id": "3eedf3cf8aa71b62"
  },
  {
   "cell_type": "code",
   "outputs": [
    {
     "name": "stdout",
     "output_type": "stream",
     "text": [
      "intersection_indices: [[23804, 97911], [33557, 95937], [47946, 92875], [63943, 91744], [76308, 90029], [85230, 89085]]\n",
      "intersection_points: [[-81.14624555490998, -29.112194499397546], [-81.19773495209756, -27.41708354964048], [-81.24772077152528, -24.743341676783064], [-81.25569565582599, -23.746028890623887], [-81.26250692099106, -22.230765629578546], [-81.26286596990914, -21.39639963431102]]\n"
     ]
    }
   ],
   "source": [
    "\"\"\" Current Project 30Jan24 \"\"\"\n",
    "# TODO: deconstruct the nested lists and make them make more sense\n",
    "    # put them in class objects\n",
    "\n",
    "print(f\"intersection_indices: {intersection_indices}\")\n",
    "print(f\"intersection_points: {intersection_points}\")"
   ],
   "metadata": {
    "collapsed": false,
    "ExecuteTime": {
     "end_time": "2024-03-06T04:09:50.715129Z",
     "start_time": "2024-03-06T04:09:50.701153Z"
    }
   },
   "id": "e8af2c86e4b0f114",
   "execution_count": 33
  },
  {
   "cell_type": "code",
   "outputs": [],
   "source": [
    "def plot_layers_at_cross(layers, intersection_indices, intersection_points, zoom=False, refractive_index=1.77, cross_index=0, filename=None):\n",
    "    \"\"\"\n",
    "    :param layers: a list of Layer objects\n",
    "    :param intersection_indices: a list of indices in the lat-lon arrays where the flight path\n",
    "    crosses over itself\n",
    "    :param intersection_points: a list of lat-lon points where the flight path crosses over itself\n",
    "    :return: nothing (plots the layers and the map)\n",
    "    \"\"\"\n",
    "    plt.figure(figsize=(16, 8), layout='constrained')\n",
    "    print(\"Plotting layers and map...\")\n",
    "    print(\"--------------------\")\n",
    "    print(\"Adjusting for surface twtt...\")\n",
    "    for layer in layers:\n",
    "        corrected_layer = layer.twtt - layers[0].twtt\n",
    "        layer.twtt_corrected = corrected_layer\n",
    "\n",
    "\n",
    "    # ax2 will be the layer plot\n",
    "    plt.subplot(1, 2, 1)\n",
    "\n",
    "    # plot the layer depths vs index for 500 points before and after the first\n",
    "    # crossover point for each layer.\n",
    "    # also plot the layer depths vs index for 500 points before and after the\n",
    "    # second crossover point for each layer.\n",
    "    offset = 500\n",
    "    # plot the corrected twtt for each layer\n",
    "    plt.plot(\n",
    "        layers[0].twtt_corrected[intersection_indices[0][0] - offset:intersection_indices[cross_index][0] + offset],\n",
    "        label=layers[0].layer_name)\n",
    "    plt.plot(\n",
    "        layers[1].twtt_corrected[intersection_indices[0][0] - offset:intersection_indices[cross_index][0] + offset],\n",
    "        label=layers[1].layer_name + ' segment 1')\n",
    "    plt.plot(\n",
    "        layers[1].twtt_corrected[intersection_indices[0][1] - offset:intersection_indices[cross_index][1] + offset],\n",
    "        label=layers[1].layer_name + ' segment 2')\n",
    "\n",
    "    # plot uncorrected twtt for each layer\n",
    "    # plt.plot(layers[0].twtt[intersection_indices[0][0] - offset:intersection_indices[0][0] + offset],\n",
    "    #             label=layers[0].layer_name)\n",
    "    # plt.plot(layers[1].twtt[intersection_indices[0][0] - offset:intersection_indices[0][0] + offset],\n",
    "    #             label=layers[1].layer_name + ' segment 1')\n",
    "    # plt.plot(layers[1].twtt[intersection_indices[0][1] - offset:intersection_indices[0][1] + offset],\n",
    "    # label=layers[1].layer_name + ' segment 2')\n",
    "\n",
    "    # invert the y-axis because the twtt increases with depth\n",
    "    plt.gca().invert_yaxis()\n",
    "    # plot the crossover point on the plot\n",
    "    plt.scatter(offset, twtt_at_point(layers[1], layers[0],\n",
    "                                      intersection_indices, quiet=True)[0][0], color='red',\n",
    "                label='X Point 1')\n",
    "    plt.scatter(offset, twtt_at_point(layers[1], layers[0],\n",
    "                                      intersection_indices, quiet=True)[0][1], color='green',\n",
    "                label='X Point 2')\n",
    "    \n",
    "    # print the twtt at the crossover point on both segments\n",
    "    twtt = twtt_at_point(layers[1], layers[0], intersection_indices, quiet=True)[0]\n",
    "    print(f\"twtt: {twtt}\")\n",
    "    \n",
    "    \n",
    "    # plot a line at the crossover point\n",
    "    plt.axvline(x=offset, color='black', label='X Point', linestyle='--', linewidth=0.3)\n",
    "\n",
    "    # set the y axis to be in microseconds instead of seconds\n",
    "    plt.ylabel(f\"Adjusted Two Way Travel Time ({chr(956)}s)\")\n",
    "    plt.xlabel(\"Index\")\n",
    "\n",
    "    # force the y values to be displayed in 1e-6 ticks (microseconds) instead of 1e-5 ticks (tens of microseconds)\n",
    "    plt.ticklabel_format(style='sci', axis='y', scilimits=(0, 0), useMathText=True)\n",
    "\n",
    "    def s_to_ms(x, pos):\n",
    "        \"\"\"\n",
    "        :param x: the x value\n",
    "        :param pos: the position\n",
    "        :return: the x value in milliseconds\n",
    "        \"\"\"\n",
    "        return '%1.1f' % (x * 1e6)\n",
    "\n",
    "    # set the y axis to be in microseconds instead of seconds\n",
    "    plt.gca().yaxis.set_major_formatter(plt.FuncFormatter(s_to_ms))\n",
    "    plt.legend( fontsize='smaller', loc='upper right', bbox_to_anchor=(1, 0.9))\n",
    "\n",
    "    # make the right side y axis show the depth in meters by converting the twtt to depth using the refractive index\n",
    "    min_y, max_y = plt.ylim()\n",
    "    n = refractive_index\n",
    "    c = 299792458  # m/s\n",
    "    v = c / n\n",
    "    # depth = twtt * v / 2\n",
    "    scale_factor = v / 2\n",
    "    print(f\"scale factor: {scale_factor}\")\n",
    "    plt.twinx()\n",
    "    plt.ylim(min_y * scale_factor, max_y * scale_factor)\n",
    "    plt.ylabel(\"Depth (m)\")\n",
    "\n",
    "    # make the top of the x axis be the distance in meters by converting the lat-lon to distance using the haversine formula\n",
    "    min_x, max_x = plt.xlim()\n",
    "    scale_factor = latlon_dist((layers[0].lat[0], layers[0].lon[0]), (layers[0].lat[1], layers[0].lon[1]))\n",
    "    print(f\"scale factor: {scale_factor}\")\n",
    "    plt.twiny()\n",
    "    plt.xlim(min_x * scale_factor, max_x * scale_factor)\n",
    "    plt.xlabel(\"Distance (m)\")\n",
    "\n",
    "    plt.title(\"Adjusted Two Way Travel Time vs Index\")\n",
    "\n",
    "    \"\"\"\n",
    "    plot the map\n",
    "    \"\"\"\n",
    "    plt.subplot(1, 2, 2)\n",
    "\n",
    "    # TODO: add an offset to the zoom settings so that the crossover point is in the center of the zoomed in map\n",
    "\n",
    "    # # this code sets up a polar stereographic map of antarctica with the South Pole in the center\n",
    "    zoom_out_to_continent = not zoom\n",
    "    if zoom_out_to_continent:\n",
    "        llcrnrx = -400000\n",
    "        llcrnry = -400000\n",
    "        urcrnrx = 250000\n",
    "        urcrnry = 250000\n",
    "    else:\n",
    "        llcrnrx = -100000\n",
    "        llcrnry = -100000\n",
    "        urcrnrx = 100000\n",
    "        urcrnry = 100000\n",
    "    lat_0 = intersection_points[cross_index][0]\n",
    "    lon_0 = intersection_points[cross_index][1]\n",
    "    # print(f\"debug: lat_0: {lat_0}, lon_0: {lon_0}\")\n",
    "    m = Basemap(projection='ortho', lat_0=lat_0, lon_0=lon_0, llcrnrx=llcrnrx,\n",
    "                llcrnry=llcrnry, urcrnrx=urcrnrx, urcrnry=urcrnry, resolution='c')\n",
    "\n",
    "    m.drawcoastlines()\n",
    "    m.fillcontinents(color='grey', lake_color='aqua')\n",
    "    m.drawparallels(np.arange(-80., 81., 20.))\n",
    "    m.drawmeridians(np.arange(-180., 181., 20.))\n",
    "    m.drawmapboundary(fill_color='aqua')\n",
    "\n",
    "    # plot the flight path\n",
    "    m.plot(layers[0].lon, layers[0].lat, latlon=True, color='lightgreen', linewidth=1)\n",
    "    # plot the section of the flight path in the plot above\n",
    "    m.plot(layers[0].lon[intersection_indices[0][0] - offset:intersection_indices[0][0] + offset],\n",
    "           layers[0].lat[intersection_indices[0][0] - offset:intersection_indices[0][0] + offset], latlon=True,\n",
    "           color='red', linewidth=1)\n",
    "    m.plot(layers[0].lon[intersection_indices[0][1] - offset:intersection_indices[0][1] + offset],\n",
    "           layers[0].lat[intersection_indices[0][1] - offset:intersection_indices[0][1] + offset], latlon=True,\n",
    "           color='green', linewidth=1)\n",
    "    # plot labels for the flight paths at their start points\n",
    "    plt.text(\n",
    "        m(layers[0].lon[intersection_indices[0][0] - offset], layers[0].lat[intersection_indices[0][0] - offset])[\n",
    "            0],\n",
    "        m(layers[0].lon[intersection_indices[0][0] - offset], layers[0].lat[intersection_indices[0][0] - offset])[\n",
    "            1], '\\nsegment 1', fontsize='smaller', fontweight='bold', ha='right', va='top', color='red')\n",
    "    plt.text(\n",
    "        m(layers[0].lon[intersection_indices[0][1] - offset], layers[0].lat[intersection_indices[0][1] - offset])[\n",
    "            0],\n",
    "        m(layers[0].lon[intersection_indices[0][1] - offset], layers[0].lat[intersection_indices[0][1] - offset])[\n",
    "            1], '\\nsegment 2', fontsize='smaller', fontweight='bold', ha='left', va='top', color='green')\n",
    "    # plot the South Pole\n",
    "    # m.scatter(0, -90, latlon=True, color='black', linewidth=1, label='South Pole')\n",
    "    # plot the crossover points\n",
    "    for point in intersection_points:\n",
    "        m.scatter(point[1], point[0], latlon=True, color='darkred', linewidth=1, label='Crossover Point')\n",
    "        plt.text(m(point[1], point[0])[0], m(point[1], point[0])[1] - 10000, f'Crossover Point {intersection_points.index(point) + 1}\\n\\n',\n",
    "                 fontsize='smaller', fontweight='bold', ha='center', va='top', color='darkred')\n",
    "\n",
    "    # m.scatter(intersection_points[cross_index][1], intersection_points[cross_index][0], latlon=True, color='darkred',\n",
    "    #           linewidth=1, label='Crossover Point')\n",
    "    # plt.text(m(intersection_points[cross_index][1], intersection_points[cross_index][0])[0],\n",
    "    #          m(intersection_points[cross_index][1], intersection_points[cross_index][0])[1] - 10000,\n",
    "    #          'Crossover Point\\n\\n',\n",
    "    #          fontsize='smaller', fontweight='bold', ha='center', va='top', color='darkred')\n",
    "\n",
    "    # plot the the ice flow direction at the crossover point\n",
    "    for i in range(len(intersection_indices)):\n",
    "        nearest_x_index, nearest_y_index = xy_to_nearest_unmasked_index(intersection_points[i][0], intersection_points[i][1], iceflow_data, max_radius=10)\n",
    "    flow = flow_at_x_y(nearest_x_index, nearest_y_index, iceflow_data)\n",
    "    flow_heading = xyindex_vector_to_heading(nearest_x_index, nearest_y_index, flow[0], flow[1])[0]\n",
    "    # m.quiver(intersection_points[0][1], intersection_points[0][0], 1000 * np.cos(np.radians(flow_heading)),\n",
    "    #          1000 * np.sin(np.radians(flow_heading)), latlon=True, color='blue', label='Ice Flow Vector')\n",
    "    # plot the ice flow vector in the upper right corner as a quiver\n",
    "    m.quiver(intersection_points[0][1]+5, intersection_points[0][0]+0.7, 10000 * np.cos(np.radians(flow_heading)),\n",
    "             10000 * np.sin(np.radians(flow_heading)), latlon=True, color='blue', label='Ice Flow Vector')\n",
    "    plt.text(m(intersection_points[0][1]+5, intersection_points[0][0]+0.6)[0], m(intersection_points[0][1]+5, intersection_points[0][0]+0.7)[1], 'Ice Flow Vector\\n\\n', fontsize='smaller', fontweight='bold', ha='center', va='top', color='blue')\n",
    "    \n",
    "    x, y = m(0, -90)\n",
    "    # plt.text(x, y, '\\nSouth Pole', fontsize='smaller', fontweight='bold', ha='center', va='top', color='black')\n",
    "    plt.title(\"Lat-Lon Map\")\n",
    "    # set tight layout\n",
    "    # plt.tight_layout()\n",
    "\n",
    "    # save the plot\n",
    "    if filename:\n",
    "        plt.savefig(f\"{filename}.png\", dpi=250)\n",
    "\n",
    "    plt.show()\n",
    "\n",
    "    print(\"plotted map\")\n",
    "    print(\"--------------------\\n\")\n"
   ],
   "metadata": {
    "collapsed": false,
    "ExecuteTime": {
     "end_time": "2024-03-06T04:09:50.761248Z",
     "start_time": "2024-03-06T04:09:50.718227Z"
    }
   },
   "id": "427f7537c751514b",
   "execution_count": 34
  },
  {
   "cell_type": "code",
   "outputs": [
    {
     "name": "stdout",
     "output_type": "stream",
     "text": [
      "Plotting layers and map...\n",
      "--------------------\n",
      "Adjusting for surface twtt...\n",
      "twtt: [3.256136536558738e-05, 3.290292708279344e-05]\n",
      "scale factor: 84687135.0282486\n",
      "scale factor: 14.936955531516293\n"
     ]
    },
    {
     "data": {
      "text/plain": "<Figure size 1600x800 with 4 Axes>",
      "image/png": "[encoded data removed]"
     },
     "metadata": {},
     "output_type": "display_data"
    },
    {
     "name": "stdout",
     "output_type": "stream",
     "text": [
      "plotted map\n",
      "--------------------\n"
     ]
    }
   ],
   "source": [
    "# print(segment_ends[0][0][0][0])\n",
    "# for point in intersection_points:\n",
    "    # print(point[0])\n",
    "# plot_layers_at_cross(layers, intersection_indices, segment_ends)\n",
    "plot_layers_at_cross(layers, intersection_indices, intersection_points, zoom=zoom, cross_index=0, filename=(season + flight + \"crossover\"))"
   ],
   "metadata": {
    "collapsed": false,
    "ExecuteTime": {
     "end_time": "2024-03-06T04:09:53.490984Z",
     "start_time": "2024-03-06T04:09:50.762304Z"
    }
   },
   "id": "4066b4cf9d2e9d0b",
   "execution_count": 35
  },
  {
   "cell_type": "code",
   "outputs": [
    {
     "name": "stdout",
     "output_type": "stream",
     "text": [
      "twtt: [3.256136536558738e-05, 3.290292708279344e-05]\n",
      "depth1: 2757.528745419636\n",
      "depth2: 2786.4546286851455\n",
      "depth2 - depth1: 28.925883265509583\n",
      "deltatwtt: 3.415617172060562e-07\n"
     ]
    }
   ],
   "source": [
    "# twtt 1 = 1.4212416976291829e-05\n",
    "twtt = twtt_at_point(layers[1], layers[0], intersection_indices, quiet=True)[0]\n",
    "print(f\"twtt: {twtt}\")\n",
    "\n",
    "# twtt 2 = 1.395535327834069e-05\n",
    "\n",
    "# find the depth of both twtt 1 and 2\n",
    "\n",
    "depth1 = twtt_to_depth(twtt[0], refractive_index=1.77)\n",
    "print(f\"depth1: {depth1}\")\n",
    "depth2 = twtt_to_depth(twtt[1], refractive_index=1.77)\n",
    "print(f\"depth2: {depth2}\")\n",
    "\n",
    "# find the difference in depth\n",
    "print(f\"depth2 - depth1: {depth2 - depth1}\")\n",
    "\n",
    "deltatwtt = twtt[1] - twtt[0]\n",
    "print(f\"deltatwtt: {deltatwtt}\")"
   ],
   "metadata": {
    "collapsed": false,
    "ExecuteTime": {
     "end_time": "2024-03-06T04:10:04.998900Z",
     "start_time": "2024-03-06T04:10:04.989286Z"
    }
   },
   "id": "c75cd6b3d578e7fe",
   "execution_count": 36
  },
  {
   "cell_type": "code",
   "outputs": [
    {
     "name": "stdout",
     "output_type": "stream",
     "text": [
      "lat-lon 0: (-81.14624555490998, -29.112194499397546)\n",
      "x: -842062, y: 468920\n",
      "x_index: 4352, y_index: 5181\n",
      "nearest_lat: -81.15159324901194, nearest_lon: 330.89368756501733\n",
      "flow at nearest: [-188.86208, -150.69292]\n",
      "flow_heading[0]: 168.61634158231746\n",
      "heading_1[0]: 166.49182352278683\n",
      "heading_2[0]: -78.21132451072116\n",
      "plane_flow_angle: 246.8276660930386\n",
      "delta_twtt[0]: 3.415617172060562e-07\n",
      "--------------------\n",
      "\n",
      "lat-lon 1: (-81.19773495209756, -27.41708354964048)\n",
      "x: -850570, y: 441215\n",
      "x_index: 4333, y_index: 5243\n",
      "nearest_lat: -81.20353532362326, nearest_lon: 332.6013758471069\n",
      "flow at nearest: [-186.77173, -181.27513]\n",
      "flow_heading[1]: 173.71590666532492\n",
      "heading_1[1]: -13.53606712826065\n",
      "heading_2[1]: -79.78131758015303\n",
      "plane_flow_angle: 253.49722424547795\n",
      "delta_twtt[1]: 3.086266676368817e-07\n",
      "--------------------\n",
      "\n",
      "lat-lon 2: (-81.24772077152528, -24.743341676783064)\n",
      "x: -865266, y: 398771\n",
      "x_index: 4301, y_index: 5337\n",
      "nearest_lat: -81.2552897019373, nearest_lon: 335.2616432153129\n",
      "flow at nearest: [-178.80806, -66.07551]\n",
      "flow_heading[2]: 149.14570920265817\n",
      "heading_1[2]: 166.69051508920208\n",
      "heading_2[2]: -86.59404750619052\n",
      "plane_flow_angle: 235.7397567088487\n",
      "delta_twtt[2]: 2.207854388071686e-08\n",
      "--------------------\n",
      "\n",
      "lat-lon 3: (-81.25569565582599, -23.746028890623887)\n",
      "x: -871278, y: 383299\n",
      "x_index: 4287, y_index: 5372\n",
      "nearest_lat: -81.26186357694242, nearest_lon: 336.2821527098382\n",
      "flow at nearest: [-190.53966, 21.58935]\n",
      "flow_heading[3]: 122.12640038588293\n",
      "heading_1[3]: -13.78864380312437\n",
      "heading_2[3]: -87.76702783768192\n",
      "plane_flow_angle: 209.89342822356485\n",
      "delta_twtt[3]: nan\n",
      "--------------------\n",
      "\n",
      "lat-lon 4: (-81.26250692099106, -22.230765629578546)\n",
      "x: -880420, y: 359844\n",
      "x_index: 4267, y_index: 5424\n",
      "nearest_lat: -81.26957341350628, nearest_lon: 337.79219249942764\n",
      "flow at nearest: [-169.3446, 26.544165]\n",
      "flow_heading[4]: 119.28330912644574\n",
      "heading_1[4]: 166.05916430857235\n",
      "heading_2[4]: -88.8744465098925\n",
      "plane_flow_angle: 208.15775563633824\n",
      "delta_twtt[4]: nan\n",
      "--------------------\n",
      "\n",
      "lat-lon 5: (-81.26286596990914, -21.39639963431102)\n",
      "x: -885530, y: 346971\n",
      "x_index: 4256, y_index: 5452\n",
      "nearest_lat: -81.27033457024754, nearest_lon: 338.60838276815707\n",
      "flow at nearest: [-181.4477, -55.8655]\n",
      "flow_heading[5]: 145.08965238621883\n",
      "heading_1[5]: -13.659336330570488\n",
      "heading_2[5]: -91.37964515167566\n",
      "plane_flow_angle: 236.46929753789448\n",
      "delta_twtt[5]: 9.424900315489949e-07\n",
      "--------------------\n"
     ]
    }
   ],
   "source": [
    "# repeat the above for every crossover point\n",
    "flow_xy = [] # the flow vector in xy \n",
    "flow_heading_full = [] # the flow vector heading in angle1, angle2, distance (in meters)\n",
    "flow_heading = []\n",
    "plane_heading_1 = []\n",
    "plane_heading_2 = []\n",
    "angle = [] # the angle between the flow vector and the plane heading\n",
    "twtt = twtt_at_point(layers[1], layers[0], intersection_indices, quiet=True)\n",
    "delta_twtt = []\n",
    "\n",
    "for i in range(len(intersection_indices)):\n",
    "    # convert the lat-lon point to xy and then to indices\n",
    "    lat, lon = intersection_points[i] \n",
    "    print(f\"lat-lon {i}: {lat, lon}\")\n",
    "    \n",
    "    x, y = latlon_to_xy(lat, lon)\n",
    "    print(f\"x: {x}, y: {y}\")\n",
    "    \n",
    "    x_index, y_index = x_to_index(x), y_to_index(y)\n",
    "    print(f\"x_index: {x_index}, y_index: {y_index}\")\n",
    "    \n",
    "    nearest_x_index, nearest_y_index = xy_to_nearest_unmasked_index(x, y, iceflow_data, max_radius=10)\n",
    "    \n",
    "    # find the nearest good iceflow_data to the crossover point\n",
    "    nearest_lat = iceflow_data[4][nearest_x_index][nearest_y_index]\n",
    "    nearest_lon = iceflow_data[5][nearest_x_index][nearest_y_index]\n",
    "    print(f\"nearest_lat: {nearest_lat}, nearest_lon: {nearest_lon}\")\n",
    "\n",
    "    flow_xy.append([iceflow_data[2][nearest_x_index][nearest_y_index], iceflow_data[3][nearest_x_index][nearest_y_index]])\n",
    "    print(f\"flow at nearest: {flow_xy[i]}\")\n",
    "    \n",
    "    # find the heading of the flow vector   \n",
    "    flow_heading_full.append(xyindex_vector_to_heading(nearest_x_index, nearest_y_index, flow_xy[i][0], flow_xy[i][1]))\n",
    "    flow_heading.append(flow_heading_full[i][0])\n",
    "    print(f\"flow_heading[{i}]: {flow_heading[i]}\")\n",
    "    \n",
    "\n",
    "    # find the heading of the first segment\n",
    "    plane_heading_1.append(find_heading(layers[0], intersection_indices[i][0]))\n",
    "    print(f\"heading_1[{i}]: {plane_heading_1[i]}\")\n",
    "\n",
    "    # find the heading of the second segment\n",
    "    plane_heading_2.append(find_heading(layers[0], intersection_indices[i][1]))\n",
    "    print(f\"heading_2[{i}]: {plane_heading_2[i]}\")\n",
    "    \n",
    "    # plane_flow_angle = min(abs(plane_heading_1[i] - flow_heading[i]), abs(plane_heading_2[i] - flow_heading[i]))\n",
    "    plane_flow_angle = max(abs(plane_heading_1[i] - flow_heading[i]), abs(plane_heading_2[i] - flow_heading[i]))\n",
    "\n",
    "    print(f\"plane_flow_angle: {plane_flow_angle}\")\n",
    "    angle.append(plane_flow_angle)\n",
    "    \n",
    "    # find the twtt at the crossover point on both segments\n",
    "    # print(f\"twtt{i}: {twtt[i]}\")\n",
    "    # delta_twtt.append(twtt[i][1] - twtt[i][0])\n",
    "    # append the absolute value of the twtt\n",
    "    delta_twtt.append(abs(twtt[i][1] - twtt[i][0]))\n",
    "    print(f\"delta_twtt[{i}]: {delta_twtt[i]}\")\n",
    "    \n",
    "    print(section_break)\n",
    "\n",
    "\n",
    "length = len(delta_twtt)\n",
    "while i < length: # remove any nan valued points from the lists\n",
    "    if math.isnan(delta_twtt[i]):\n",
    "        delta_twtt.pop(i)\n",
    "        flow_xy.pop(i)\n",
    "        angle.pop(i)\n",
    "        magnitude.pop(i)\n",
    "        plane_heading_1.pop(i)\n",
    "        plane_heading_2.pop(i)\n",
    "        intersection_indices.pop(i)\n",
    "        intersection_points.pop(i)\n",
    "        print(f\"intersection {i} removed\")\n",
    "        print(section_break)\n",
    "        length -= 1\n",
    "    else:\n",
    "        i += 1\n",
    "        \n",
    "# TODO: why is delta_twtt for index 9 negative?\n",
    "    # it is not, the twtt at the crossover point on the second segment is greater than the twtt at the crossover point on the first segment so that makes sense"
   ],
   "metadata": {
    "collapsed": false,
    "ExecuteTime": {
     "end_time": "2024-03-06T04:10:05.606543Z",
     "start_time": "2024-03-06T04:10:05.485390Z"
    }
   },
   "id": "b71a3f6174b764a",
   "execution_count": 37
  },
  {
   "cell_type": "code",
   "outputs": [
    {
     "name": "stdout",
     "output_type": "stream",
     "text": [
      "flow_heading[0]: 168.61634158231746\n",
      "plane_heading_1[0]: 166.49182352278683\n",
      "plane_heading_2[0]: -78.21132451072116\n",
      "plane_heading_1 - flow_heading[0]: 2.1245180595306294\n",
      "\n",
      "flow_heading[1]: 173.71590666532492\n",
      "plane_heading_1[1]: -13.53606712826065\n",
      "plane_heading_2[1]: -79.78131758015303\n",
      "plane_heading_1 - flow_heading[1]: 187.25197379358556\n",
      "\n",
      "flow_heading[2]: 149.14570920265817\n",
      "plane_heading_1[2]: 166.69051508920208\n",
      "plane_heading_2[2]: -86.59404750619052\n",
      "plane_heading_1 - flow_heading[2]: 17.544805886543912\n",
      "\n",
      "flow_heading[3]: 122.12640038588293\n",
      "plane_heading_1[3]: -13.78864380312437\n",
      "plane_heading_2[3]: -87.76702783768192\n",
      "plane_heading_1 - flow_heading[3]: 135.9150441890073\n",
      "\n",
      "flow_heading[4]: 119.28330912644574\n",
      "plane_heading_1[4]: 166.05916430857235\n",
      "plane_heading_2[4]: -88.8744465098925\n",
      "plane_heading_1 - flow_heading[4]: 46.775855182126605\n",
      "\n",
      "flow_heading[5]: 145.08965238621883\n",
      "plane_heading_1[5]: -13.659336330570488\n",
      "plane_heading_2[5]: -91.37964515167566\n",
      "plane_heading_1 - flow_heading[5]: 158.7489887167893\n"
     ]
    }
   ],
   "source": [
    "for i in range(len(flow_heading)):\n",
    "    print(f\"flow_heading[{i}]: {flow_heading[i]}\")\n",
    "    print(f\"plane_heading_1[{i}]: {plane_heading_1[i]}\")\n",
    "    print(f\"plane_heading_2[{i}]: {plane_heading_2[i]}\")\n",
    "    print(f\"plane_heading_1 - flow_heading[{i}]: {abs(plane_heading_1[i] - flow_heading[i])}\\n\")\n"
   ],
   "metadata": {
    "collapsed": false,
    "ExecuteTime": {
     "end_time": "2024-03-06T04:10:06.927748Z",
     "start_time": "2024-03-06T04:10:06.914371Z"
    }
   },
   "id": "d8d71f7aeb83cd5d",
   "execution_count": 38
  },
  {
   "cell_type": "markdown",
   "source": [
    "# TODO: functionize this plot once it works"
   ],
   "metadata": {
    "collapsed": false
   },
   "id": "7bfa0195995f0c97"
  },
  {
   "cell_type": "code",
   "outputs": [
    {
     "name": "stdout",
     "output_type": "stream",
     "text": [
      "theta: 246.8276660930386, phi: 244.703148033508 for i: 0\n",
      " cos(theta): -0.39349804593522913, sin(phi): -0.9041060288541444\n",
      "theta: 253.49722424547795, phi: 66.24525045189237 for i: 1\n",
      " cos(theta): -0.28406179540483034, sin(phi): 0.9152780901861145\n",
      "theta: 235.7397567088487, phi: 253.2845625953926 for i: 2\n",
      " cos(theta): -0.5629526957184935, sin(phi): -0.9577450355183135\n",
      "theta: 209.89342822356485, phi: 73.97838403455755 for i: 3\n",
      " cos(theta): -0.8669539193463821, sin(phi): 0.9611576378901346\n",
      "theta: 208.15775563633824, phi: 254.93361081846484 for i: 4\n",
      " cos(theta): -0.8816516256963374, sin(phi): -0.965625281760769\n",
      "theta: 236.46929753789448, phi: 77.72030882110518 for i: 5\n",
      " cos(theta): -0.5523837513139878, sin(phi): 0.9771210229112415\n"
     ]
    },
    {
     "data": {
      "text/plain": "<Figure size 2400x1200 with 1 Axes>",
      "image/png": "[encoded data removed]"
     },
     "metadata": {},
     "output_type": "display_data"
    },
    {
     "name": "stdout",
     "output_type": "stream",
     "text": [
      "saved plot as 2018_Antarctica_DC8_20181018_01_cos_angle_heading_vs_delta_twtt.png\n"
     ]
    }
   ],
   "source": [
    "# TODO: verify this plot is correct\n",
    "# TODO: verify the Y scale and label it\n",
    "    # Dave expects the delta_twtt to be ~0.1 sec\n",
    "# plot delta_twtt vs |cos(angle - heading) - sin(angle - heading)| * |magnitude|  for each crossover point\n",
    "plt.figure(figsize=(24, 12), layout='constrained')\n",
    "# plt.scatter(np.abs(np.cos(np.radians(np.array(angle) - np.array(heading_1)))) * np.abs(np.array(magnitude)), delta_twtt, label='segment 1')\n",
    "# plt.scatter(np.abs(np.cos(np.radians(np.array(angle) - np.array(heading_2)))) * np.abs(np.array(magnitude)), delta_twtt, label='segment 2')\n",
    "\n",
    "# plt.scatter(np.abs(np.cos(np.radians(np.array(angle) - np.array(plane_heading_1)))), delta_twtt, label='segment 1')  # angle - heading\n",
    "# plt.scatter(np.abs(np.cos(np.radians(np.array(angle) - np.array(plane_heading_2)))), delta_twtt, label='segment 2')\n",
    "\n",
    "# cos(angle - heading) vs delta_twtt\n",
    "# plt.scatter(np.abs(np.cos(np.radians(np.array(flow_heading) - np.array(plane_heading_1)))), delta_twtt, label='segment 1')  # flow angle - heading\n",
    "# plt.scatter(np.abs(np.cos(np.radians(np.array(flow_heading) - np.array(plane_heading_2)))), delta_twtt, label='segment 2')\n",
    "\n",
    "# |cos(angle - heading) - sin(angle - heading) |vs delta_twtt\n",
    "# plt.scatter(np.abs(np.cos(np.radians(np.array(angle) - np.array(plane_heading_1))) - np.sin(np.radians(np.array(angle) - np.array(plane_heading_1)))), delta_twtt, label='segment 1')  # angle - heading\n",
    "# plt.scatter(np.abs(np.cos(np.radians(np.array(angle) - np.array(plane_heading_2))) - np.sin(np.radians(np.array(angle) - np.array(plane_heading_2)))), delta_twtt, label='segment 2')\n",
    "\n",
    "# |cos(θ) – sin(φ)| vs delta_twtt. theta is the angle between the flow vector and the plane heading on segment 1, phi is the angle between the plane headings on segments 1 and 2\n",
    "for i in range(len(delta_twtt)):\n",
    "    theta = angle[i]\n",
    "    phi = abs(plane_heading_1[i] - plane_heading_2[i])\n",
    "    print(f\"theta: {theta}, phi: {phi} for i: {i}\\n cos(theta): {np.cos(np.radians(theta))}, sin(phi): {np.sin(np.radians(phi))}\")\n",
    "    plt.scatter(np.abs(np.cos(np.radians(theta)) - np.sin(np.radians(phi))), delta_twtt[i], label='segment 1')  # angle - heading   \n",
    "\n",
    "# for each point, print the index and the delta_twtt\n",
    "# for i in range(len(delta_twtt)):\n",
    "#     plt.text(np.abs(np.cos(np.radians(np.array(flow_heading[i]) - np.array(plane_heading_1[i])))), delta_twtt[i], f\"{i}: {delta_twtt[i]}\")\n",
    "\n",
    "# plt.xlabel(\" |cos(angle - heading)| * |velocity|\")\n",
    "# plt.xlabel(\" |cos(angle - heading)|\")\n",
    "plt.xlabel(\"|cos(θ) – sin(φ)|\")\n",
    "\n",
    "plt.ylabel(\"delta_twtt (s)\")\n",
    "# plt.title(\" |cos(angle - heading)| vs delta_twtt\")\n",
    "# plt.title(f\"{season} {flight} \\n|cos(angle - heading)| vs delta_twtt\", fontsize=20)\n",
    "plt.title(f\"{season} {flight} \\n|cos(θ) – sin(φ)| vs delta_twtt\", fontsize=20)\n",
    "\n",
    "\n",
    "plt.legend([\"legend\"], fontsize='smaller', loc='upper right', bbox_to_anchor=(1.1, 1.1))\n",
    "# scale axes to be logarithmic\n",
    "# plt.xscale('log')\n",
    "plt.yscale('log')\n",
    "\n",
    "\n",
    "# save the plot as a png file with a high dpi named after the season and flight\n",
    "plt.savefig(f\"{season}_{flight}_cos_angle_heading_vs_delta_twtt_logy.png\", dpi=300)\n",
    "\n",
    "# plt.show()\n",
    "\n",
    "plt.yscale('linear')\n",
    "# save the plot as a png file with a high dpi named after the season and flight\n",
    "plt.savefig(f\"{season}_{flight}_cos_angle_heading_vs_delta_twtt_lineary.png\", dpi=300)\n",
    "plt.show()\n",
    "\n",
    "print(f\"saved plot as {season}_{flight}_cos_angle_heading_vs_delta_twtt.png\")\n"
   ],
   "metadata": {
    "collapsed": false,
    "ExecuteTime": {
     "end_time": "2024-03-06T04:10:10.191399Z",
     "start_time": "2024-03-06T04:10:07.957128Z"
    }
   },
   "id": "c4355237adf006e1",
   "execution_count": 39
  },
  {
   "cell_type": "markdown",
   "source": [
    "# END OF RELEVANT CODE FOR ARA TALK"
   ],
   "metadata": {
    "collapsed": false
   },
   "id": "411b9e180549373e"
  },
  {
   "cell_type": "code",
   "outputs": [],
   "source": [
    "# x_data = np.abs(np.cos(np.radians(np.array(angle) - np.array(heading_1))))\n",
    "# y_data = delta_twtt\n",
    "# \n",
    "# # Define the Gaussian function\n",
    "# def gaussian(x, amplitude, mean, stddev):\n",
    "#     return amplitude * np.exp(-((x - mean) ** 2) / (2 * stddev ** 2))\n",
    "# \n",
    "# # Initial parameter guesses: amplitude close to your data's scale, mean around the center, and a reasonable stddev\n",
    "# initial_guesses = [1e-8, 0.5, 0.1]\n",
    "# \n",
    "# # Use curve_fit to fit the Gaussian function to your data\n",
    "# popt, pcov = opt.curve_fit(gaussian, x_data, y_data, p0=initial_guesses, maxfev=5000)\n",
    "# \n",
    "# # Plot the original data\n",
    "# plt.scatter(x_data, y_data, label='Data')\n",
    "# \n",
    "# # Plot the fitted curve\n",
    "# x_fit = np.linspace(min(x_data), max(x_data), 1000)\n",
    "# y_fit = gaussian(x_fit, *popt)\n",
    "# plt.plot(x_fit, y_fit, color='red', label='Fitted curve')\n",
    "# \n",
    "# plt.xlabel('X axis')\n",
    "# plt.ylabel('Y axis')\n",
    "# plt.title('Gaussian Fit to Data')\n",
    "# plt.legend()\n",
    "# plt.show()"
   ],
   "metadata": {
    "collapsed": false,
    "ExecuteTime": {
     "end_time": "2024-03-06T03:54:21.592644Z",
     "start_time": "2024-03-06T03:54:21.578640Z"
    }
   },
   "id": "1434b909fad18984",
   "execution_count": 18
  },
  {
   "cell_type": "markdown",
   "source": [
    "ntuple-ize\n",
    "    cos(heading-flow)\n",
    "    difference in theta paralell and perpindicular\n",
    "    delta_twtt\n",
    "    v_flow\n",
    "- stop selecting for angle in upper cells, we can cut the data once we have it\n",
    "\n",
    "ARA meeting in March Columbus\n",
    "- talk to Kiet about how he is setting up travel"
   ],
   "metadata": {
    "collapsed": false
   },
   "id": "cddd897600559d8"
  },
  {
   "cell_type": "code",
   "outputs": [],
   "source": [
    "heading = []\n",
    "# for each plane heaading, add [plane_heading_1, plane_heading_2] to the heading list\n",
    "for i in range(len(plane_heading_1)):\n",
    "    heading.append([plane_heading_1[i], plane_heading_2[i]])"
   ],
   "metadata": {
    "collapsed": false,
    "ExecuteTime": {
     "end_time": "2024-03-06T03:54:21.608184Z",
     "start_time": "2024-03-06T03:54:21.594642Z"
    }
   },
   "id": "bfccbc2e960c4707",
   "execution_count": 19
  },
  {
   "cell_type": "code",
   "outputs": [],
   "source": [
    "print(flow_xy)"
   ],
   "metadata": {
    "collapsed": false,
    "ExecuteTime": {
     "start_time": "2024-03-06T03:53:25.867189Z"
    }
   },
   "id": "a2cb9349df296196",
   "execution_count": null
  },
  {
   "cell_type": "code",
   "outputs": [],
   "source": [
    "# # save the posit to a json file\n",
    "# import json\n",
    "# \n",
    "# filename = f\"{season}_crossover_data.json\"\n",
    "# \n",
    "# # check to see if the file exists and if it does, load the data from it, otherwise append the data to a new file\n",
    "# try:\n",
    "#     with open(filename, 'r') as file:\n",
    "#         data = json.load(file)\n",
    "#         print(f\"File {filename} exists. Loading data from file...\")\n",
    "# except FileNotFoundError:\n",
    "#     print(f\"File {filename} does not exist. Creating a new file...\")\n",
    "#     data = []\n",
    "#     \n",
    "# # if the data is not already in the file, append the data to the file\n",
    "# if data:\n",
    "#     print(f\"Data already in file {filename}.\")\n",
    "# else:\n",
    "#     print(f\"Appending data to file {filename}...\")\n",
    "#     data.append({\n",
    "#         \"season\": season,\n",
    "#         \"flight\": flight,\n",
    "#         \"intersection_points\": intersection_points,\n",
    "#         \"twtt\": twtt,\n",
    "#         \"delta_twtt\": delta_twtt,\n",
    "#         \"ice flow vectors (m/yr, in xy)\": flow,\n",
    "#         \"ice flow angle\": angle,\n",
    "#         \"ice flow magnitude\": magnitude,\n",
    "#         \"plane heading\": heading\n",
    "#     })\n",
    "#     with open(filename, 'w') as file:\n",
    "#         json.dump(data, file)\n",
    "#     print(f\"Data successfully appended to file {filename}.\")\n",
    "# \n",
    "# \n",
    "# # TODO: convert flow vector and angle to EPSG:4326"
   ],
   "metadata": {
    "collapsed": false,
    "ExecuteTime": {
     "start_time": "2024-03-06T03:53:25.868214Z"
    }
   },
   "id": "16c17e5af72e0018",
   "execution_count": null
  },
  {
   "cell_type": "code",
   "outputs": [],
   "source": [],
   "metadata": {
    "collapsed": false,
    "ExecuteTime": {
     "start_time": "2024-03-06T03:53:25.869306Z"
    }
   },
   "id": "8453b6849b6f9570",
   "execution_count": null
  },
  {
   "cell_type": "markdown",
   "source": [
    "### vector to heading dev below, DELETE WHEN FUNCTIONAL"
   ],
   "metadata": {
    "collapsed": false
   },
   "id": "38b6fdc8587be53b"
  },
  {
   "cell_type": "code",
   "outputs": [],
   "source": [
    "def nearest_flow_to_latlon(lat, lon, iceflow_data, print_point=False):\n",
    "    \"\"\"\n",
    "    :param lat: the latitude of the point\n",
    "    :param lon: the longitude of the point\n",
    "    :param iceflow_data: the iceflow data\n",
    "    :return: the nearest flow vector to the lat-lon point available in the iceflow data \n",
    "    \"\"\"\n",
    "    # find the nearest x and y values in the iceflow data\n",
    "    x, y = latlon_to_xy(lat, lon)\n",
    "    x, y = find_nearest_unmasked_x_and_y(x, y, iceflow_data, max_radius=1000)\n",
    "    if print_point:\n",
    "        print(f\"Nearest point to lat-lon: {xyindex_to_latlon(x, y)} or {x, y} in EPSG:3031\")\n",
    "    flow = flow_at_x_y(x, y, iceflow_data)\n",
    "    return flow"
   ],
   "metadata": {
    "collapsed": false,
    "ExecuteTime": {
     "start_time": "2024-03-06T03:53:25.869306Z"
    }
   },
   "id": "d267475978d06ac0",
   "execution_count": null
  },
  {
   "cell_type": "code",
   "outputs": [],
   "source": [
    "intersect_x = intersection_points[0][0]\n",
    "intersect_y = intersection_points[0][1]\n",
    "print(f\"Intersection lat-lon:\\n{intersect_x, intersect_y}\")\n",
    "print(\"----------------------\\n\")\n",
    "\n",
    "x, y = latlon_to_xy(intersect_x, intersect_y)\n",
    "print(f\"x, y of intersection before index conversion \\nx: {x}, y: {y}\\n\")\n",
    "\n",
    "x_index = x_to_index(x)\n",
    "y_index = y_to_index(y)\n",
    "print(f\"converted to indices:\\nx_index: {x_index}, y_index: {y_index}\\n\")\n",
    "x_lat, y_lat = xyindex_to_latlon(x_index, y_index)\n",
    "print(f\"lat-lon of indices: \\n{x_lat, y_lat}\\n\")\n",
    "\n",
    "difference_lat = intersect_x - x_lat\n",
    "difference_lon = intersect_y - y_lat\n",
    "print(f\"difference in lat-lon: \\n{difference_lat, difference_lon}\\n\")\n",
    "# So the conversion functions work"
   ],
   "metadata": {
    "collapsed": false,
    "ExecuteTime": {
     "start_time": "2024-03-06T03:53:25.870643Z"
    }
   },
   "id": "2aa7a96c57b56167",
   "execution_count": null
  },
  {
   "cell_type": "markdown",
   "source": [
    "### TODO: fix the find nearest functions"
   ],
   "metadata": {
    "collapsed": false
   },
   "id": "98e596adf396a33f"
  },
  {
   "cell_type": "code",
   "outputs": [],
   "source": [
    "def xy_to_nearest_unmasked_index(x, y, iceflow_data, max_radius=10, printout=False):\n",
    "    \"\"\"\n",
    "    Find the nearest x and y value in the iceflow data to an input x and y value.\n",
    "    \"\"\"\n",
    "    # iterate through every data point within the max_radius of the input x and y and save the xy pairs of any unmasked data\n",
    "    x = x_to_index(x)\n",
    "    y = y_to_index(y)\n",
    "    unmasked = []\n",
    "    for x_iterator in range(x - max_radius, x + max_radius):\n",
    "        for y_iterator in range(y - max_radius, y + max_radius):\n",
    "            if (\n",
    "                    0 <= x_iterator < iceflow_data[2].shape[0]  # if the x index is within the bounds of the iceflow data\n",
    "                    and 0 <= y_iterator < iceflow_data[2].shape[1]\n",
    "                    and not np.ma.is_masked(iceflow_data[2][x_iterator][y_iterator])\n",
    "                    and not np.ma.is_masked(iceflow_data[3][x_iterator][y_iterator])\n",
    "            ):\n",
    "                unmasked.append((x_iterator, y_iterator))\n",
    "            if printout and not np.ma.is_masked(iceflow_data[2][x_iterator][y_iterator]):\n",
    "                print(f\"unmasked x: {x_iterator}, unmasked y: {y_iterator}\")\n",
    "                print(f\"unmasked lat: {iceflow_data[4][x_iterator][y_iterator]}, unmasked lon: {iceflow_data[5][x_iterator][y_iterator]}\")\n",
    "                print(f\"unmasked flow: {iceflow_data[2][x_iterator][y_iterator]}, {iceflow_data[3][x_iterator][y_iterator]}\")\n",
    "    # find the xy pair with the minimum distance from the input x and y\n",
    "    min_distance = 100\n",
    "    min_x = None\n",
    "    min_y = None\n",
    "    for x_iterator, y_iterator in unmasked:\n",
    "        distance = math.sqrt((x - x_iterator) ** 2 + (y - y_iterator) ** 2)\n",
    "        if distance < min_distance:\n",
    "            min_distance = distance\n",
    "            min_x = x_iterator\n",
    "            min_y = y_iterator\n",
    "    # TODO: figure out why these are indices and not x and y\n",
    "        # it works fine, they just are.\n",
    "    return min_x, min_y"
   ],
   "metadata": {
    "collapsed": false,
    "ExecuteTime": {
     "start_time": "2024-03-06T03:53:25.871646Z"
    }
   },
   "id": "d9147ecb0aadca7f",
   "execution_count": null
  },
  {
   "cell_type": "code",
   "outputs": [],
   "source": [
    "lat = intersection_points[0][0]\n",
    "lon = intersection_points[0][1]\n",
    "print(f\"lat: {lat}, lon: {lon}\")\n",
    "\n",
    "x, y = latlon_to_xy(lat, lon)\n",
    "print(f\"x: {x}, y: {y}\")\n",
    "\n",
    "x_index, y_index = x_to_index(x), y_to_index(y)\n",
    "print(f\"x_index: {x_index}, y_index: {y_index}\")\n",
    "\n",
    "# nearest_x_index, nearest_y_index = depracated: find_nearest_unmasked_x_and_y(x, y, iceflow_data, max_radius=1000)\n",
    "\n",
    "nearest_x_index, nearest_y_index = xy_to_nearest_unmasked_index(x, y, iceflow_data, max_radius=10)\n",
    "\n",
    "print(f\"nearest_x_index: {nearest_x_index}, nearest_y_index: {nearest_y_index}\")\n",
    "nearest_lat = iceflow_data[4][nearest_x_index][nearest_y_index]\n",
    "nearest_lon = iceflow_data[5][nearest_x_index][nearest_y_index]\n",
    "print(f\"nearest_lat: {nearest_lat}, nearest_lon: {nearest_lon}\")\n",
    "print(f\"flow at nearest: {iceflow_data[2][nearest_x_index][nearest_y_index]}, {iceflow_data[3][nearest_x_index][nearest_y_index]}\")"
   ],
   "metadata": {
    "collapsed": false,
    "ExecuteTime": {
     "start_time": "2024-03-06T03:53:25.872705Z"
    }
   },
   "id": "42429eb453add524",
   "execution_count": null
  },
  {
   "cell_type": "code",
   "outputs": [],
   "source": [
    "# plot the spiral around the point\n",
    "plot_spiral(x,y, 10)"
   ],
   "metadata": {
    "collapsed": false,
    "ExecuteTime": {
     "start_time": "2024-03-06T03:53:25.873820Z"
    }
   },
   "id": "204630ae0dab9961",
   "execution_count": null
  },
  {
   "cell_type": "markdown",
   "source": [],
   "metadata": {
    "collapsed": false
   },
   "id": "7983edb0476ca763"
  },
  {
   "cell_type": "markdown",
   "source": [
    "### Move to an example notebook when done. Shows how the xy to index conversion works"
   ],
   "metadata": {
    "collapsed": false
   },
   "id": "a979c551ff21c297"
  },
  {
   "cell_type": "code",
   "outputs": [],
   "source": [
    "#print x min and max\n",
    "min = np.min(iceflow_data[0])\n",
    "max = np.max(iceflow_data[0])\n",
    "\n",
    "print(f\"min: {min}, max: {max}\")\n",
    "\n",
    "print(f\"min/450: {min/450}, max/450: {max/450}\")\n",
    "\n",
    "one, two, three = (iceflow_data[1][0], iceflow_data[1][1], iceflow_data[1][2])\n",
    "print(f\"one: {one}, two: {two}, three: {three}\")\n",
    "print(f\"one - two: {one - two}, two - three: {two - three}\")"
   ],
   "metadata": {
    "collapsed": false,
    "ExecuteTime": {
     "start_time": "2024-03-06T03:53:25.873820Z"
    }
   },
   "id": "fd23763d158886e7",
   "execution_count": null
  },
  {
   "cell_type": "code",
   "outputs": [],
   "source": [
    "def x_to_index(x):\n",
    "    return 6223 + int(x/450)\n",
    "def y_to_index(y):\n",
    "    return 6223 - int(y/450)\n",
    "def index_to_x(x):\n",
    "    return (x - 6223) * 450\n",
    "def index_to_y(y):\n",
    "    return (6223 - y) * 450"
   ],
   "metadata": {
    "collapsed": false
   },
   "id": "78dbd0be10e207a6",
   "execution_count": null
  },
  {
   "cell_type": "markdown",
   "source": [
    "# ~~TODO: see if these are even legal lat-lon values~~\n",
    "- **they are not but neither are the iceflow data values**\n",
    "- some of these longitudes don't work in Google Earth, I think they are supposed to be between -180 and 180\n",
    "- more importantly, are the icflow data and CReSIS lat-lon values in this format (i.e. if they are wrong, stay wrong)\n",
    "\n",
    "Iceflow data: \n",
    "    - max lat: -89.9 - 0 degrees\n",
    "    - min lat: 0 - 359.79 degrees\n",
    "    "
   ],
   "metadata": {
    "collapsed": false
   },
   "id": "3a882283fea4177b"
  },
  {
   "cell_type": "code",
   "outputs": [],
   "source": [
    "x = 6000\n",
    "y = 1000\n",
    "print(f\"starting values\\nx: {x}, y: {y}\")\n",
    "x_index = x_to_index(x)\n",
    "y_index = y_to_index(y)\n",
    "print(f\"x_index: {x_index}, y_index: {y_index}\")\n",
    "print(f\"x: {iceflow_data[0][x_index]}, y: {iceflow_data[1][y_index]}\\n\")\n",
    "\n",
    "x = 9000\n",
    "y = 5000\n",
    "print(f\"starting values\\nx: {x}, y: {y}\")\n",
    "x_index = x_to_index(x)\n",
    "y_index = y_to_index(y)\n",
    "print(f\"x_index: {x_index}, y_index: {y_index}\")\n",
    "print(f\"x: {iceflow_data[0][x_index]}, y: {iceflow_data[1][y_index]}\\n\")\n",
    "\n"
   ],
   "metadata": {
    "collapsed": false,
    "ExecuteTime": {
     "start_time": "2024-03-06T03:53:25.875908Z"
    }
   },
   "id": "82ebdf51d4cb5ecf",
   "execution_count": null
  },
  {
   "cell_type": "code",
   "outputs": [],
   "source": [
    "def xyindex_vector_to_heading(x_index, y_index, x_vector, y_vector):\n",
    "    \"\"\"\n",
    "    This function is used to convert an x and y vector in EPSG:3031 to a heading in EPSG:4326.\n",
    "    :param x_index: the x coordinate\n",
    "    :param y_index: the y coordinate\n",
    "    :param x_vector: the x vector\n",
    "    :param y_vector: the y vector\n",
    "    :return: the heading in EPSG:4326\n",
    "    \"\"\"\n",
    "    # convert the x and y coordinates to lat and lon\n",
    "    lat, lon = xyindex_to_latlon(x_index, y_index)\n",
    "    # convert the x and y vector to lat and lon\n",
    "    lat_vector, lon_vector = xyindex_to_latlon(x_index + x_vector, y_index + y_vector)\n",
    "    # calculate the heading\n",
    "    geodesic = pyproj.Geod(ellps='WGS84')\n",
    "    angle1, angle2, distance = geodesic.inv(lon, lat, lon_vector, lat_vector)\n",
    "    return angle1, angle2, distance\n",
    "\n"
   ],
   "metadata": {
    "collapsed": false,
    "ExecuteTime": {
     "start_time": "2024-03-06T03:53:25.876969Z"
    }
   },
   "id": "ed0ab8dbf1f3ecb9",
   "execution_count": null
  },
  {
   "cell_type": "markdown",
   "source": [
    "# TODO: ~~take some plane vectors, convert the relevant points to xy, then run them through the heading function to see if it works compared to the plane heading~~\n",
    "- I think this works now"
   ],
   "metadata": {
    "collapsed": false
   },
   "id": "239dddf9f98383f6"
  },
  {
   "cell_type": "code",
   "outputs": [],
   "source": [
    "# for testing purposes only, delete when done\n",
    "def find_heading_test(lat1, lon1, lat2, lon2):\n",
    "    # print the lat-lon points\n",
    "    # print(f\"lat-lon input to find_heading:\"\n",
    "    #       f\"\\n({layer.lat[index]}, {layer.lon[index]})\")\n",
    "    geodesic = pyproj.Geod(ellps='WGS84')\n",
    "    # lon = layer.lon[index]\n",
    "    # lat = layer.lat[index]\n",
    "    # lon1 = layer.lon[index - window_size]\n",
    "    # lat1 = layer.lat[index - window_size]\n",
    "    # lon2 = layer.lon[index + window_size]\n",
    "    # lat2 = layer.lat[index + window_size]\n",
    "\n",
    "    print(f\"lat-lons determined by find_heading:\"\n",
    "          f\"\\n({lat1}, {lon1}), ({lat2}, {lon2})\")\n",
    "    # delta_lon1 = lon - lon1\n",
    "    # delta_lat1 = lat - lat1\n",
    "    # delta_lon2 = lon2 - lon\n",
    "    # delta_lat2 = lat2 - lat\n",
    "    # print(f\"delta_lon1: {delta_lon1}, delta_lat1: {delta_lat1}, delta_lon2: {delta_lon2}, delta_lat2: {delta_lat2}\")\n",
    "    fwd_azimuth, back_azimuth, distance = geodesic.inv(lon1, lat1, lon2, lat2)\n",
    "    return fwd_azimuth"
   ],
   "metadata": {
    "collapsed": false,
    "ExecuteTime": {
     "start_time": "2024-03-06T03:53:25.878110Z"
    }
   },
   "id": "e83297e68d6ca29c",
   "execution_count": null
  },
  {
   "cell_type": "code",
   "outputs": [],
   "source": [
    "def find_heading_points(layer, index, window_size=100):\n",
    "    \"\"\"\n",
    "    :param layer: a Layer object\n",
    "    :param index: the index of the point in the layer\n",
    "    :param window_size: the number of points to use in the slope calculation\n",
    "    :return: the bearing of the current that flew through the points.\n",
    "    This has nothing to do with the slope of the layer. only the lat-lon points.\n",
    "    \"\"\"\n",
    "    # print the lat-lon points\n",
    "    print(f\"lat-lon input to find_heading:\"\n",
    "          f\"\\n\\t({layer.lat[index]}, {layer.lon[index]})\")\n",
    "    geodesic = pyproj.Geod(ellps='WGS84')\n",
    "    lon = layer.lon[index]\n",
    "    lat = layer.lat[index]\n",
    "    lon1 = layer.lon[index - window_size]\n",
    "    lat1 = layer.lat[index - window_size]\n",
    "    lon2 = layer.lon[index + window_size]\n",
    "    lat2 = layer.lat[index + window_size]\n",
    "    \n",
    "    return lon1, lat1, lon2, lat2"
   ],
   "metadata": {
    "collapsed": false
   },
   "id": "4471aebe53f7ac7f",
   "execution_count": null
  },
  {
   "cell_type": "code",
   "outputs": [],
   "source": [
    "# TODO: when this works, udpate the original code cell to use the non test versions of the iceflow heading function\n",
    "# TODO, the iceflow heading finder doesn't work on too close of data because they show up as the same index in the iceflow data.\n",
    "    # put in some larger fake lat-lons to test both\n",
    "    # how was it working before then?\n",
    "        # the flow vector comes from the data so it works\n",
    "magnitude = []\n",
    "plane_heading_1 = []\n",
    "plane_heading_2 = []\n",
    "# for i in range(len(intersection_indices)):\n",
    "for i in range(1):\n",
    "    # find the heading of the first segment\n",
    "    test_lat1 = -81.1 \n",
    "    test_lon1 = -29.7\n",
    "    test_lat2 = -81.2\n",
    "    test_lon2 = -29.8\n",
    "    plane_heading_1.append(find_heading_test(test_lat1, test_lon1, test_lat2, test_lon2))\n",
    "    print(f\"heading_1[{i}]: {plane_heading_1[i]}\")\n",
    "    \n",
    "    print(\"**************\")\n",
    "\n",
    "    # convert the test lat-lon points to xy\n",
    "    x1, y1 = latlon_to_xy(test_lat1, test_lon1) \n",
    "    x2, y2 = latlon_to_xy(test_lat2, test_lon2)\n",
    "    print(f\"x1: {x1}, y1: {y1}, x2: {x2}, y2: {y2}\")\n",
    "    \n",
    "    # convert the xy points to indices\n",
    "    x1_index = x_to_index(x1)\n",
    "    y1_index = y_to_index(y1)\n",
    "    x2_index = x_to_index(x2)\n",
    "    y2_index = y_to_index(y2)\n",
    "    print(f\"x1_index: {x1_index}, y1_index: {y1_index}, x2_index: {x2_index}, y2_index: {y2_index}\")\n",
    "    \n",
    "    # TODO: should this be a vector of indices or x and y? x and y sounds right but it errors out on index overflow. Have to go to class so can't look right now. Does the xy_vector function use indices or x and y? \n",
    "        # the vector_to_heading() function uses indices for some reason but it works so I'mma let it ride\n",
    "    vector = [x2_index - x1_index, y2_index - y1_index]\n",
    "    # vector = [x2 - x1, y2 - y1]\n",
    "\n",
    "    # convert the vector to a heading\n",
    "    heading = xyindex_vector_to_heading(x1_index, y1_index, vector[0], vector[1])\n",
    "    \n",
    "    print(f\"heading by way of iceflow functions: \\n{heading}\")\n",
    "    \n",
    "    \n",
    "    \n",
    "    print(section_break)\n",
    "    \n",
    "    \n"
   ],
   "metadata": {
    "collapsed": false,
    "ExecuteTime": {
     "start_time": "2024-03-06T03:53:25.879320Z"
    }
   },
   "id": "5cbf56cace731068",
   "execution_count": null
  },
  {
   "cell_type": "code",
   "outputs": [],
   "source": [],
   "metadata": {
    "collapsed": false,
    "ExecuteTime": {
     "start_time": "2024-03-06T03:53:25.880438Z"
    }
   },
   "id": "b7d9a2192726bafa",
   "execution_count": null
  },
  {
   "cell_type": "code",
   "outputs": [],
   "source": [],
   "metadata": {
    "collapsed": false,
    "ExecuteTime": {
     "start_time": "2024-03-06T03:53:25.881499Z"
    }
   },
   "id": "f769483a211b315",
   "execution_count": null
  },
  {
   "cell_type": "code",
   "outputs": [],
   "source": [
    "# calculate the twtt to depth conversion for 10, 20, ..., 100 microseconds\n",
    "\n",
    "twtt = np.arange(10, 110, 10) * 1e-6\n",
    "depth = twtt_to_depth(twtt, refractive_index=1.77)\n",
    "\n",
    "# for each twtt, print the twtt in microseconds and the depth in meters. both should be rounded to 0 decimal places\n",
    "print(f\"twtt to depth conversion for refractive index 1.77:\")\n",
    "for i in range(len(twtt)):\n",
    "    print(f\"{twtt[i] * 1e6:.0f} {chr(956)}s:\\t{depth[i]:.0f} meters\")"
   ],
   "metadata": {
    "collapsed": false
   },
   "id": "ad29aada283b301b",
   "execution_count": null
  }
 ],
 "metadata": {
  "kernelspec": {
   "display_name": "Python 3",
   "language": "python",
   "name": "python3"
  },
  "language_info": {
   "codemirror_mode": {
    "name": "ipython",
    "version": 2
   },
   "file_extension": ".py",
   "mimetype": "text/x-python",
   "name": "python",
   "nbconvert_exporter": "python",
   "pygments_lexer": "ipython2",
   "version": "2.7.6"
  }
 },
 "nbformat": 4,
 "nbformat_minor": 5
}

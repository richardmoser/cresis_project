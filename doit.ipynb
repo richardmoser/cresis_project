{
 "cells": [
  {
   "cell_type": "markdown",
   "source": [
    "# TODO:\n",
    "- schedule time with John to review the python code and see what changed in OPR\n",
    "- test to_index and index_to functions against lat-lon values to verify all of the conversions against each other\n",
    "- rewrite any implementations of xy conversion to include the to_index and index_to functions\n",
    "    - see if this stays consistent\n",
    "- finally get around to fixing the flow vectors & headings\n",
    "    - accuracy depends on accurate xy to lat-lon conversion\n",
    "    - verify against online heading calculators\n",
    "    - \n",
    "- verify neareast_unmasked_x_and_y function works\n",
    "    - might have broken the search function in process of debugging conversions\n",
    "        - may need rolling back from old code\n",
    "- once all that works, probably ought to draw it all to a map and see if it all checks out. "
   ],
   "metadata": {
    "collapsed": false
   },
   "id": "914384a0570a905a"
  },
  {
   "cell_type": "code",
   "execution_count": 1,
   "outputs": [],
   "source": [
    "from project_classes import *\n",
    "from functions import *\n",
    "from iceflow_library import *"
   ],
   "metadata": {
    "collapsed": false,
    "ExecuteTime": {
     "end_time": "2024-02-20T22:16:26.035483600Z",
     "start_time": "2024-02-20T22:16:18.353613600Z"
    }
   },
   "id": "82c297c4d7d856f2"
  },
  {
   "cell_type": "code",
   "execution_count": 2,
   "outputs": [],
   "source": [
    "zoom = True\n",
    "seg_length = 100\n",
    "season = \"2018_Antarctica_DC8\" # a layerData season\n",
    "season = \"2016_Antarctica_DC8\" # a season with both layer and layerData\n",
    "# season = \"2014_Antarctica_DC8\" # a layerData season\n",
    "flight = \"20181030_01\"  # the flight date and frame number\n",
    "flight = \"20181103_01\"\n",
    "# flight = \"20181112_02\"  # the problem flight\n",
    "flight = \"20161024_05\"\n",
    "# flight = '20141026_06'\n",
    "file_name = \"layer_export_\" + flight + \".pickle\"\n",
    "testing = False"
   ],
   "metadata": {
    "collapsed": false,
    "ExecuteTime": {
     "end_time": "2024-02-20T22:16:26.071838200Z",
     "start_time": "2024-02-20T22:16:26.039784600Z"
    }
   },
   "id": "80fa46579d551152"
  },
  {
   "cell_type": "markdown",
   "source": [
    "### read in the layers from the layer files and save them to a pickle file"
   ],
   "metadata": {
    "collapsed": false
   },
   "id": "82960565fc3413a4"
  },
  {
   "cell_type": "markdown",
   "source": [
    "# TODO: set up a time with John to discuss the differences between the layer and layerData files"
   ],
   "metadata": {
    "collapsed": false
   },
   "id": "79e3c89328e84b11"
  },
  {
   "cell_type": "code",
   "execution_count": 3,
   "outputs": [
    {
     "name": "stdout",
     "output_type": "stream",
     "text": [
      "Reading data files...\n",
      "--------------------\n",
      "layer_attributes_file: layer_20161024_05.mat\n",
      "DATA MAT FILE KEYS:\n",
      "header, version, globals, elev, file_type, file_version, gps_time, id, lat, lon, param, quality, twtt, type\n",
      "LAYER ATTRIBUTES MAT FILE KEYS:\n",
      "header, version, globals, file_type, file_version, lyr_age, lyr_age_source, lyr_desc, lyr_group_name, lyr_id, lyr_name, lyr_order, param\n",
      "--------------------\n",
      "\n",
      "data_mat type: <class 'dict'>\n",
      "data_mat[0] keys:\n",
      "header, version, globals, elev, file_type, file_version, gps_time, id, lat, lon, param, quality, twtt, typeLayerizing data files...\n",
      "--------------------\n",
      "number of data files: 44, number of layers: 2\n",
      "Surface Layer found and created\n",
      "Bottom Layer found and created\n",
      "--------------------\n",
      "\n",
      "--------------------\n",
      "layer_export_20161024_05.pickle  saved in local directory of this python file.\n",
      "--------------------\n",
      "\n",
      "Reading pickle file...\n",
      "--------------------\n",
      "Surface\n",
      "Bottom\n",
      "--------------------\n"
     ]
    }
   ],
   "source": [
    "# TODO: add some kind of layer vs layerData check?\n",
    "#     - do we still need to do this/ is the layer.mat file still used?\n",
    "#     - update doitfile.py to reflect this\n",
    "\n",
    "# if the file at filename exists, read in the layers from the pickle file\n",
    "# otherwise, read in the layers from the layer files and save them to a pickle file\n",
    "# if not os.path.isfile(file_name):  # if the file does not exist\n",
    "#     print(f\"File {file_name} does not exist. Making it...\")\n",
    "#     # mat_pickler_layerData(season, flight, testing_mode=testing, layer=True)  # make it\n",
    "#     mat_pickler_layerData(season, flight, testing_mode=testing, layer=False)  # make it\n",
    "# mat_pickler_layerData(season, flight, testing_mode=testing)  # make it\n",
    "mat_pickler_layer(season, flight, testing_mode=testing)  # make it\n",
    "layers = read_layers(file_name)  # read in the layers from the pickle file"
   ],
   "metadata": {
    "collapsed": false,
    "ExecuteTime": {
     "end_time": "2024-02-20T22:16:26.493602600Z",
     "start_time": "2024-02-20T22:16:26.054145Z"
    }
   },
   "id": "5e4326b0a8fa5712"
  },
  {
   "cell_type": "markdown",
   "source": [
    "### read in the iceflow data from the iceflow data files and save them to a pickle file"
   ],
   "metadata": {
    "collapsed": false
   },
   "id": "fc35cca7687abf68"
  },
  {
   "cell_type": "code",
   "execution_count": 4,
   "outputs": [
    {
     "name": "stdout",
     "output_type": "stream",
     "text": [
      "The iceflow data pickle file was found and loaded.\n"
     ]
    }
   ],
   "source": [
    "if not os.path.isfile(\"iceflow_data.pickle\"):  # if the file does not exist\n",
    "    print(\"The iceflow data pickle file was not found. Creating a new one...\")\n",
    "    filename = iceflow_saver()\n",
    "    iceflow_data = iceflow_loader(filename)\n",
    "    print(\"The iceflow data pickle file was successfully created.\")\n",
    "# try:\n",
    "iceflow_data = iceflow_loader(\"iceflow_data.pickle\")\n",
    "print(\"The iceflow data pickle file was found and loaded.\")\n",
    "\n",
    "x = iceflow_data[0]\n",
    "y = iceflow_data[1]\n",
    "velocity_x = iceflow_data[2]\n",
    "velocity_y = iceflow_data[3]\n",
    "latitude = iceflow_data[4]\n",
    "longitude = iceflow_data[5]"
   ],
   "metadata": {
    "collapsed": false,
    "ExecuteTime": {
     "end_time": "2024-02-20T22:03:27.124974600Z",
     "start_time": "2024-02-20T22:03:09.211603800Z"
    }
   },
   "id": "dbaab48f077de2bd"
  },
  {
   "cell_type": "markdown",
   "source": [
    "# next step: continue working through crossover.py to rebuild the code"
   ],
   "metadata": {
    "collapsed": false
   },
   "id": "ba5e58645026c00e"
  },
  {
   "cell_type": "code",
   "execution_count": 5,
   "outputs": [
    {
     "name": "stdout",
     "output_type": "stream",
     "text": [
      "intersection_indices and intersection_points loaded from 2016_Antarctica_DC8_20161024_05_crossover_points.pickle\n"
     ]
    }
   ],
   "source": [
    "# if the file at filename exists, read in the intersection_indices and intersection_points from the pickle file\n",
    "# otherwise, find the intersection_indices and intersection_points and save them to a pickle file\n",
    "filename = f\"{season}_{flight}_crossover_points.pickle\"\n",
    "if not os.path.isfile(filename):  # if the file does not exist\n",
    "    print(f\"File {filename} does not exist. Making it...\")\n",
    "    intersection_points, intersection_indices, segment_ends = cross_point(layers[0], seg_length, quiet=True)\n",
    "    with open(filename, 'wb') as file:\n",
    "        pickle.dump(intersection_indices, file)\n",
    "        pickle.dump(intersection_points, file)\n",
    "        pickle.dump(segment_ends, file)\n",
    "    print(f\"intersection_indices and intersection_points saved to {filename}\")\n",
    "else:\n",
    "    with open(filename, 'rb') as file:\n",
    "        intersection_indices = pickle.load(file)\n",
    "        intersection_points = pickle.load(file)\n",
    "        segment_ends = pickle.load(file)\n",
    "    print(f\"intersection_indices and intersection_points loaded from {filename}\")"
   ],
   "metadata": {
    "collapsed": false,
    "ExecuteTime": {
     "end_time": "2024-02-20T22:03:27.163975900Z",
     "start_time": "2024-02-20T22:03:27.135975700Z"
    }
   },
   "id": "3eedf3cf8aa71b62"
  },
  {
   "cell_type": "code",
   "outputs": [
    {
     "name": "stdout",
     "output_type": "stream",
     "text": [
      "intersection_indices: [[27259, 110002], [33472, 108322], [43768, 105222], [54074, 103777], [58012, 64382], [59793, 81395], [60851, 82569], [66559, 101434], [78721, 99407], [91029, 94355]]\n",
      "intersection_points: [[-81.11816244525122, -29.73509516444382], [-81.16768709742837, -28.30579867911967], [-81.23895935598836, -25.623889163118154], [-81.25529478543223, -24.353037639856126], [-81.54211694082927, -23.254932137952057], [-81.53829900294835, -21.64525117572498], [-81.66313025161077, -21.46914621408348], [-81.27279325012884, -22.284694479304264], [-81.23341834846097, -20.55596548970905], [-80.93188421539811, -16.63378474506194]]\n"
     ]
    }
   ],
   "source": [
    "\"\"\" Current Project 30Jan24 \"\"\"\n",
    "# TODO: deconstruct the nested lists and make them make more sense\n",
    "    # put them in class objects\n",
    "\n",
    "print(f\"intersection_indices: {intersection_indices}\")\n",
    "print(f\"intersection_points: {intersection_points}\")"
   ],
   "metadata": {
    "collapsed": false,
    "ExecuteTime": {
     "end_time": "2024-02-20T22:03:27.244972900Z",
     "start_time": "2024-02-20T22:03:27.144973Z"
    }
   },
   "id": "e8af2c86e4b0f114",
   "execution_count": 6
  },
  {
   "cell_type": "code",
   "outputs": [],
   "source": [
    "def plot_layers_at_cross(layers, intersection_indices, intersection_points, zoom=False, refractive_index=1.77, cross_index=0):\n",
    "    \"\"\"\n",
    "    :param layers: a list of Layer objects\n",
    "    :param intersection_indices: a list of indices in the lat-lon arrays where the flight path\n",
    "    crosses over itself\n",
    "    :param intersection_points: a list of lat-lon points where the flight path crosses over itself\n",
    "    :return: nothing (plots the layers and the map)\n",
    "    \"\"\"\n",
    "    plt.figure(figsize=(24, 12), layout='constrained')\n",
    "    print(\"Plotting layers and map...\")\n",
    "    print(\"--------------------\")\n",
    "    print(\"Adjusting for surface twtt...\")\n",
    "    for layer in layers:\n",
    "        corrected_layer = layer.twtt - layers[0].twtt\n",
    "        layer.twtt_corrected = corrected_layer\n",
    "\n",
    "    # ax2 will be the layer plot\n",
    "    plt.subplot(1, 2, 1)\n",
    "\n",
    "    # plot the layer depths vs index for 500 points before and after the first\n",
    "    # crossover point for each layer.\n",
    "    # also plot the layer depths vs index for 500 points before and after the\n",
    "    # second crossover point for each layer.\n",
    "    offset = 500\n",
    "    # plot the corrected twtt for each layer\n",
    "    plt.plot(\n",
    "        layers[0].twtt_corrected[intersection_indices[0][0] - offset:intersection_indices[cross_index][0] + offset],\n",
    "        label=layers[0].layer_name)\n",
    "    plt.plot(\n",
    "        layers[1].twtt_corrected[intersection_indices[0][0] - offset:intersection_indices[cross_index][0] + offset],\n",
    "        label=layers[1].layer_name + ' segment 1')\n",
    "    plt.plot(\n",
    "        layers[1].twtt_corrected[intersection_indices[0][1] - offset:intersection_indices[cross_index][1] + offset],\n",
    "        label=layers[1].layer_name + ' segment 2')\n",
    "\n",
    "    # plot uncorrected twtt for each layer\n",
    "    # plt.plot(layers[0].twtt[intersection_indices[0][0] - offset:intersection_indices[0][0] + offset],\n",
    "    #             label=layers[0].layer_name)\n",
    "    # plt.plot(layers[1].twtt[intersection_indices[0][0] - offset:intersection_indices[0][0] + offset],\n",
    "    #             label=layers[1].layer_name + ' segment 1')\n",
    "    # plt.plot(layers[1].twtt[intersection_indices[0][1] - offset:intersection_indices[0][1] + offset],\n",
    "    # label=layers[1].layer_name + ' segment 2')\n",
    "\n",
    "    # invert the y-axis because the twtt increases with depth\n",
    "    plt.gca().invert_yaxis()\n",
    "    # plot the crossover point on the plot\n",
    "    plt.scatter(offset, twtt_at_point(layers[1], layers[0],\n",
    "                                      intersection_indices, quiet=True)[0][0], color='red',\n",
    "                label='X Point 1')\n",
    "    plt.scatter(offset, twtt_at_point(layers[1], layers[0],\n",
    "                                      intersection_indices, quiet=True)[0][1], color='green',\n",
    "                label='X Point 2')\n",
    "    # plot a line at the crossover point\n",
    "    plt.axvline(x=offset, color='black', label='X Point', linestyle='--', linewidth=0.3)\n",
    "\n",
    "    # set the y axis to be in nanoseconds instead of seconds\n",
    "    plt.ylabel(\"Adjusted Two Way Travel Time (ns)\")\n",
    "    plt.xlabel(\"Index\")\n",
    "\n",
    "    # force the y values to be displayed in 1e-6 ticks (microseconds) instead of 1e-5 ticks (tens of microseconds)\n",
    "    plt.ticklabel_format(style='sci', axis='y', scilimits=(0, 0), useMathText=True)\n",
    "\n",
    "    def s_to_ms(x, pos):\n",
    "        \"\"\"\n",
    "        :param x: the x value\n",
    "        :param pos: the position\n",
    "        :return: the x value in milliseconds\n",
    "        \"\"\"\n",
    "        return '%1.1f' % (x * 1e6)\n",
    "\n",
    "    # set the y axis to be in microseconds instead of seconds\n",
    "    plt.gca().yaxis.set_major_formatter(plt.FuncFormatter(s_to_ms))\n",
    "\n",
    "    # make the right side y axis show the depth in meters by converting the twtt to depth using the refractive index\n",
    "    min_y, max_y = plt.ylim()\n",
    "    n = refractive_index\n",
    "    c = 299792458  # m/s\n",
    "    v = c / n\n",
    "    # depth = twtt * v / 2\n",
    "    scale_factor = v / 2\n",
    "    print(f\"scale factor: {scale_factor}\")\n",
    "    plt.twinx()\n",
    "    plt.ylim(min_y * scale_factor, max_y * scale_factor)\n",
    "    plt.ylabel(\"Depth (m)\")\n",
    "\n",
    "    # make the top of the x axis be the distance in meters by converting the lat-lon to distance using the haversine formula\n",
    "    min_x, max_x = plt.xlim()\n",
    "    scale_factor = latlon_dist((layers[0].lat[0], layers[0].lon[0]), (layers[0].lat[1], layers[0].lon[1]))\n",
    "    print(f\"scale factor: {scale_factor}\")\n",
    "    plt.twiny()\n",
    "    plt.xlim(min_x * scale_factor, max_x * scale_factor)\n",
    "    plt.xlabel(\"Distance (m)\")\n",
    "\n",
    "    plt.title(\"Adjusted Two Way Travel Time vs Index\")\n",
    "    plt.legend([\"legend\"], fontsize='smaller', loc='upper right', bbox_to_anchor=(1.1, 1.1))\n",
    "\n",
    "    \"\"\"\n",
    "    plot the map\n",
    "    \"\"\"\n",
    "    plt.subplot(1, 2, 2)\n",
    "\n",
    "    # TODO: add an offset to the zoom settings so that the crossover point is in the center of the zoomed in map\n",
    "\n",
    "    # # this code sets up a polar stereographic map of antarctica with the South Pole in the center\n",
    "    zoom_out_to_continent = not zoom\n",
    "    if zoom_out_to_continent:\n",
    "        llcrnrx = -400000\n",
    "        llcrnry = -400000\n",
    "        urcrnrx = 250000\n",
    "        urcrnry = 250000\n",
    "    else:\n",
    "        llcrnrx = -100000\n",
    "        llcrnry = -100000\n",
    "        urcrnrx = 100000\n",
    "        urcrnry = 100000\n",
    "    lat_0 = intersection_points[cross_index][0]\n",
    "    lon_0 = intersection_points[cross_index][1]\n",
    "    print(f\"debug: lat_0: {lat_0}, lon_0: {lon_0}\")\n",
    "    m = Basemap(projection='ortho', lat_0=lat_0, lon_0=lon_0, llcrnrx=llcrnrx,\n",
    "                llcrnry=llcrnry, urcrnrx=urcrnrx, urcrnry=urcrnry, resolution='c')\n",
    "\n",
    "    m.drawcoastlines()\n",
    "    m.fillcontinents(color='grey', lake_color='aqua')\n",
    "    m.drawparallels(np.arange(-80., 81., 20.))\n",
    "    m.drawmeridians(np.arange(-180., 181., 20.))\n",
    "    m.drawmapboundary(fill_color='aqua')\n",
    "\n",
    "    # plot the flight path\n",
    "    m.plot(layers[0].lon, layers[0].lat, latlon=True, color='lightgreen', linewidth=1)\n",
    "    # plot the section of the flight path in the plot above\n",
    "    m.plot(layers[0].lon[intersection_indices[0][0] - offset:intersection_indices[0][0] + offset],\n",
    "           layers[0].lat[intersection_indices[0][0] - offset:intersection_indices[0][0] + offset], latlon=True,\n",
    "           color='red', linewidth=1)\n",
    "    m.plot(layers[0].lon[intersection_indices[0][1] - offset:intersection_indices[0][1] + offset],\n",
    "           layers[0].lat[intersection_indices[0][1] - offset:intersection_indices[0][1] + offset], latlon=True,\n",
    "           color='green', linewidth=1)\n",
    "    # plot labels for the flight paths at their start points\n",
    "    plt.text(\n",
    "        m(layers[0].lon[intersection_indices[0][0] - offset], layers[0].lat[intersection_indices[0][0] - offset])[\n",
    "            0],\n",
    "        m(layers[0].lon[intersection_indices[0][0] - offset], layers[0].lat[intersection_indices[0][0] - offset])[\n",
    "            1], '\\nsegment 1', fontsize='smaller', fontweight='bold', ha='right', va='top', color='red')\n",
    "    plt.text(\n",
    "        m(layers[0].lon[intersection_indices[0][1] - offset], layers[0].lat[intersection_indices[0][1] - offset])[\n",
    "            0],\n",
    "        m(layers[0].lon[intersection_indices[0][1] - offset], layers[0].lat[intersection_indices[0][1] - offset])[\n",
    "            1], '\\nsegment 2', fontsize='smaller', fontweight='bold', ha='left', va='top', color='green')\n",
    "    # plot the South Pole\n",
    "    # m.scatter(0, -90, latlon=True, color='black', linewidth=1, label='South Pole')\n",
    "    # plot the crossover points\n",
    "    for point in intersection_points:\n",
    "        m.scatter(point[1], point[0], latlon=True, color='darkred', linewidth=1, label='Crossover Point')\n",
    "        plt.text(m(point[1], point[0])[0], m(point[1], point[0])[1] - 10000, 'Crossover Point\\n\\n',\n",
    "                 fontsize='smaller', fontweight='bold', ha='center', va='top', color='darkred')\n",
    "\n",
    "    # m.scatter(intersection_points[cross_index][1], intersection_points[cross_index][0], latlon=True, color='darkred',\n",
    "    #           linewidth=1, label='Crossover Point')\n",
    "    # plt.text(m(intersection_points[cross_index][1], intersection_points[cross_index][0])[0],\n",
    "    #          m(intersection_points[cross_index][1], intersection_points[cross_index][0])[1] - 10000,\n",
    "    #          'Crossover Point\\n\\n',\n",
    "    #          fontsize='smaller', fontweight='bold', ha='center', va='top', color='darkred')\n",
    "\n",
    "    # plot the crossover line\n",
    "\n",
    "    x, y = m(0, -90)\n",
    "    # plt.text(x, y, '\\nSouth Pole', fontsize='smaller', fontweight='bold', ha='center', va='top', color='black')\n",
    "    plt.title(\"Lat-Lon Map\")\n",
    "    # set tight layout\n",
    "    # plt.tight_layout()\n",
    "\n",
    "    # save the plot\n",
    "    # plt.savefig(\"layer_plot.png\", dpi=250)\n",
    "\n",
    "    plt.show()\n",
    "\n",
    "    print(\"plotted map\")\n",
    "    print(\"--------------------\\n\")"
   ],
   "metadata": {
    "collapsed": false,
    "ExecuteTime": {
     "end_time": "2024-02-20T22:03:27.354976200Z",
     "start_time": "2024-02-20T22:03:27.231977900Z"
    }
   },
   "id": "427f7537c751514b",
   "execution_count": 7
  },
  {
   "cell_type": "code",
   "outputs": [
    {
     "name": "stdout",
     "output_type": "stream",
     "text": [
      "-81.11816244525122\n",
      "-81.16768709742837\n",
      "-81.23895935598836\n",
      "-81.25529478543223\n",
      "-81.54211694082927\n",
      "-81.53829900294835\n",
      "-81.66313025161077\n",
      "-81.27279325012884\n",
      "-81.23341834846097\n",
      "-80.93188421539811\n",
      "Plotting layers and map...\n",
      "--------------------\n",
      "Adjusting for surface twtt...\n",
      "scale factor: 84687135.0282486\n",
      "scale factor: 14.936579591230279\n",
      "debug: lat_0: -81.11816244525122, lon_0: -29.73509516444382\n"
     ]
    },
    {
     "data": {
      "text/plain": "<Figure size 2400x1200 with 4 Axes>",
      "image/png": "[encoded data removed]"
     },
     "metadata": {},
     "output_type": "display_data"
    },
    {
     "name": "stdout",
     "output_type": "stream",
     "text": [
      "plotted map\n",
      "--------------------\n"
     ]
    }
   ],
   "source": [
    "# print(segment_ends[0][0][0][0])\n",
    "for point in intersection_points:\n",
    "    print(point[0])\n",
    "# plot_layers_at_cross(layers, intersection_indices, segment_ends)\n",
    "plot_layers_at_cross(layers, intersection_indices, intersection_points, zoom=zoom, cross_index=0)"
   ],
   "metadata": {
    "collapsed": false,
    "ExecuteTime": {
     "end_time": "2024-02-20T22:03:31.026634200Z",
     "start_time": "2024-02-20T22:03:27.255974300Z"
    }
   },
   "id": "4066b4cf9d2e9d0b",
   "execution_count": 8
  },
  {
   "cell_type": "code",
   "outputs": [
    {
     "name": "stdout",
     "output_type": "stream",
     "text": [
      "twtt: [[3.189429995299016e-05, 3.204561655810654e-05], [3.45252e-05, 3.4615102766759925e-05], [nan, nan], [3.3373799999999995e-05, 3.2849779514319274e-05], [1.8413960828014443e-05, 1.857512450601765e-05], [3.3324268156376655e-06, 3.200836695807508e-06], [1.0508794373187518e-05, 5.4386216869077805e-06], [3.7474799999999996e-05, nan], [3.241379866212265e-05, 3.2358803905191436e-05], [3.331579781304637e-05, 3.488323693027917e-05]]\n"
     ]
    }
   ],
   "source": [
    "# calculate the twtt at the crossover point on both segments\n",
    "twtt = twtt_at_point(layers[1], layers[0], intersection_indices, quiet=True)\n",
    "print(f\"twtt: {twtt}\")"
   ],
   "metadata": {
    "collapsed": false,
    "ExecuteTime": {
     "end_time": "2024-02-20T22:03:31.051631100Z",
     "start_time": "2024-02-20T22:03:31.023635600Z"
    }
   },
   "id": "e03670370408be53",
   "execution_count": 9
  },
  {
   "cell_type": "code",
   "outputs": [
    {
     "name": "stdout",
     "output_type": "stream",
     "text": [
      "lat-lon 0: (-81.11816244525122, -29.73509516444382)\n",
      "x: -839579, y: 479569\n",
      "x_index: 4358, y_index: 5158\n",
      "nearest_lat: -81.12660163166306, nearest_lon: 330.27939665579146\n",
      "flow at nearest: [-181.3224, -125.46853]\n",
      "flow_heading[0]: 164.87633401514603\n",
      "lat-lon input to find_heading:\n",
      "(-81.11816244525122, -29.73509516444382)\n",
      "lat-lons determined by find_heading:\n",
      "(-81.1301079229526, -29.774906893337896), (-81.10622556184101, -29.695228382885404)\n",
      "delta_lon1: 0.039811728894076026, delta_lat1: 0.01194547770138854, delta_lon2: 0.039866781558416164, delta_lat2: 0.011936883410200494\n",
      "heading_1[0]: 27.296731944188767\n",
      "lat-lon input to find_heading:\n",
      "(-81.11491888011733, -29.819253423989757)\n",
      "lat-lons determined by find_heading:\n",
      "(-81.11805932746817, -29.734692394860527), (-81.11174872270742, -29.903738209261874)\n",
      "delta_lon1: -0.08456102912922958, delta_lat1: 0.0031404473508445108, delta_lon2: -0.08448478527211734, delta_lat2: 0.003170157409911667\n",
      "heading_2[0]: -76.49805266184431\n",
      "plane_flow_angle: 137.57960207095726\n",
      "delta_twtt[0]: 1.5131660511637695e-07\n",
      "--------------------\n",
      "\n",
      "lat-lon 1: (-81.16768709742837, -28.30579867911967)\n",
      "x: -846515, y: 455912\n",
      "x_index: 4342, y_index: 5210\n",
      "nearest_lat: -81.17282479560107, nearest_lon: 331.7040900751685\n",
      "flow at nearest: [-190.92593, -166.31105]\n",
      "flow_heading[1]: 170.8660838339763\n",
      "lat-lon input to find_heading:\n",
      "(-81.16768709742837, -28.30579867911967)\n",
      "lat-lons determined by find_heading:\n",
      "(-81.15575810335619, -28.265611395640185), (-81.17961929992056, -28.345999335029383)\n",
      "delta_lon1: -0.04018728347948297, delta_lat1: -0.011928994072178511, delta_lon2: -0.040200655909714555, delta_lat2: -0.011932202492189958\n",
      "heading_1[1]: -152.68419768944278\n",
      "lat-lon input to find_heading:\n",
      "(-81.16493699922223, -28.390698159286632)\n",
      "lat-lons determined by find_heading:\n",
      "(-81.16772410189748, -28.305143441473003), (-81.16212837437492, -28.476196178432854)\n",
      "delta_lon1: -0.08555471781362911, delta_lat1: 0.0027871026752421812, delta_lon2: -0.0854980191462218, delta_lat2: 0.002808624847318697\n",
      "heading_2[1]: -78.06255701603276\n",
      "plane_flow_angle: 248.92864085000906\n",
      "delta_twtt[1]: 8.990276675992562e-08\n",
      "--------------------\n",
      "\n",
      "lat-lon 2: (-81.23895935598836, -25.623889163118154)\n",
      "x: -859899, y: 412435\n",
      "x_index: 4313, y_index: 5307\n",
      "nearest_lat: -81.24745863100414, nearest_lon: 334.38837814949204\n",
      "flow at nearest: [-164.83539, -165.65935]\n",
      "flow_heading[2]: 174.24361207872198\n",
      "lat-lon input to find_heading:\n",
      "(-81.23895935598836, -25.623889163118154)\n",
      "lat-lons determined by find_heading:\n",
      "(-81.25086852300304, -25.664705097743838), (-81.22705933909437, -25.583013389145535)\n",
      "delta_lon1: 0.04081593462568378, delta_lat1: 0.011909167014678701, delta_lon2: 0.0408757739726191, delta_lat2: 0.011900016893989118\n",
      "heading_1[2]: 27.635792037663514\n",
      "lat-lon input to find_heading:\n",
      "(-81.23758282100295, -25.71129103443269)\n",
      "lat-lons determined by find_heading:\n",
      "(-81.2388842805298, -25.623535932578278), (-81.23628003105888, -25.799032319718478)\n",
      "delta_lon1: -0.08775510185441249, delta_lat1: 0.0013014595268572293, delta_lon2: -0.08774128528578728, delta_lat2: 0.0013027899440629653\n",
      "heading_2[2]: -84.52391593382967\n",
      "plane_flow_angle: 146.60782004105846\n",
      "delta_twtt[2]: nan\n",
      "--------------------\n",
      "\n",
      "lat-lon 3: (-81.25529478543223, -24.353037639856126)\n",
      "x: -867208, y: 392526\n",
      "x_index: 4296, y_index: 5351\n",
      "nearest_lat: -81.26050235894125, nearest_lon: 335.66296001134197\n",
      "flow at nearest: [-187.05386, -23.987923]\n",
      "flow_heading[3]: 136.06667662094597\n",
      "lat-lon input to find_heading:\n",
      "(-81.25529478543223, -24.353037639856126)\n",
      "lat-lons determined by find_heading:\n",
      "(-81.24343725446082, -24.31155724251879), (-81.26717610988894, -24.39427805015974)\n",
      "delta_lon1: -0.04148039733733455, delta_lat1: -0.011857530971411734, delta_lon2: -0.04124041030361525, delta_lat2: -0.011881324456709308\n",
      "heading_1[3]: -152.12376300511113\n",
      "lat-lon input to find_heading:\n",
      "(-81.25434625082744, -24.44086109264829)\n",
      "lat-lons determined by find_heading:\n",
      "(-81.2553398941358, -24.352767123547235), (-81.25330346928702, -24.528920333550957)\n",
      "delta_lon1: -0.08809396910105605, delta_lat1: 0.0009936433083623797, delta_lon2: -0.08805924090266615, delta_lat2: 0.0010427815404199237\n",
      "heading_2[3]: -85.73980024915426\n",
      "plane_flow_angle: 221.80647687010023\n",
      "delta_twtt[3]: -5.240204856807215e-07\n",
      "--------------------\n",
      "\n",
      "lat-lon 4: (-81.54211694082927, -23.254932137952057)\n",
      "x: -845784, y: 363463\n",
      "x_index: 4344, y_index: 5416\n",
      "nearest_lat: -81.54943427580481, nearest_lon: 336.7686912997208\n",
      "flow at nearest: [-62.425335, 162.0324]\n",
      "flow_heading[4]: 59.80188626647326\n",
      "lat-lon input to find_heading:\n",
      "(-81.54211694082927, -23.254932137952057)\n",
      "lat-lons determined by find_heading:\n",
      "(-81.54294312720057, -23.346069539193948), (-81.54134294746702, -23.16377570189502)\n",
      "delta_lon1: 0.09113740124189107, delta_lat1: 0.0008261863712988315, delta_lon2: 0.09115643605703738, delta_lat2: 0.0007739933622588069\n",
      "heading_1[4]: 86.67522593074801\n",
      "lat-lon input to find_heading:\n",
      "(-81.53037607432712, -23.21060548284929)\n",
      "lat-lons determined by find_heading:\n",
      "(-81.54217026304389, -23.25427770132729), (-81.51858840306186, -23.16691244916345)\n",
      "delta_lon1: 0.04367221847800096, delta_lat1: 0.011794188716763188, delta_lon2: 0.043693033685837435, delta_lat2: 0.011787671265267363\n",
      "heading_2[4]: 28.666101472419147\n",
      "plane_flow_angle: 26.873339664274752\n",
      "delta_twtt[4]: 1.6116367800320602e-07\n",
      "--------------------\n",
      "\n",
      "lat-lon 5: (-81.53829900294835, -21.64525117572498)\n",
      "x: -856048, y: 339715\n",
      "x_index: 4321, y_index: 5469\n",
      "nearest_lat: -81.54512506375535, nearest_lon: 338.38762359031455\n",
      "flow at nearest: [0.85200655, 1.5066025]\n",
      "flow_heading[5]: 8.823079179941724\n",
      "lat-lon input to find_heading:\n",
      "(-81.53829900294835, -21.64525117572498)\n",
      "lat-lons determined by find_heading:\n",
      "(-81.5326141819465, -21.727786125774323), (-81.54609340949781, -21.57103883773778)\n",
      "delta_lon1: 0.08253495004934308, delta_lat1: -0.005684821001850082, delta_lon2: 0.0742123379871984, delta_lat2: -0.0077944065494648385\n",
      "heading_1[5]: 120.3789439325446\n",
      "lat-lon input to find_heading:\n",
      "(-81.55010115471276, -21.688383309977706)\n",
      "lat-lons determined by find_heading:\n",
      "(-81.53831741384107, -21.64454038346243), (-81.56188004386155, -21.732347178645995)\n",
      "delta_lon1: -0.04384292651527488, delta_lat1: -0.011783740871692316, delta_lon2: -0.04396386866828905, delta_lat2: -0.01177888914878622\n",
      "heading_2[5]: -151.33510394660308\n",
      "plane_flow_angle: 111.55586475260287\n",
      "delta_twtt[5]: -1.315901198301575e-07\n",
      "--------------------\n",
      "\n",
      "lat-lon 6: (-81.66313025161077, -21.46914621408348)\n",
      "x: -844400, y: 332093\n",
      "x_index: 4347, y_index: 5486\n",
      "nearest_lat: -81.67048302106481, nearest_lon: 338.56476382338883\n",
      "flow at nearest: [-0.17534395, 0.7305623]\n",
      "flow_heading[6]: 51.88902214114038\n",
      "lat-lon input to find_heading:\n",
      "(-81.66313025161077, -21.46914621408348)\n",
      "lat-lons determined by find_heading:\n",
      "(-81.65132877166148, -21.425090359355707), (-81.67389954864151, -21.524406800163554)\n",
      "delta_lon1: -0.04405585472777318, delta_lat1: -0.011801479949284044, delta_lon2: -0.05526058608007389, delta_lat2: -0.010769297030748248\n",
      "heading_1[6]: -147.5059260962794\n",
      "lat-lon input to find_heading:\n",
      "(-81.66649206229111, -21.3800298746264)\n",
      "lat-lons determined by find_heading:\n",
      "(-81.6631426156082, -21.469746398407075), (-81.66998670972293, -21.2905387714347)\n",
      "delta_lon1: 0.08971652378067674, delta_lat1: -0.0033494466829182556, delta_lon2: 0.08949110319169762, delta_lat2: -0.003494647431821818\n",
      "heading_2[6]: 104.84885688902423\n",
      "plane_flow_angle: 52.95983474788385\n",
      "delta_twtt[6]: -5.070172686279737e-06\n",
      "--------------------\n",
      "\n",
      "lat-lon 7: (-81.27279325012884, -22.284694479304264)\n",
      "x: -879041, y: 360246\n",
      "x_index: 4270, y_index: 5423\n",
      "nearest_lat: -81.27945190794412, nearest_lon: 337.7362483861096\n",
      "flow at nearest: [-164.7372, 30.835722]\n",
      "flow_heading[7]: 117.61442328242988\n",
      "lat-lon input to find_heading:\n",
      "(-81.27279325012884, -22.284694479304264)\n",
      "lat-lons determined by find_heading:\n",
      "(-81.2846597197257, -22.326202032803256), (-81.26090324738242, -22.243536414375843)\n",
      "delta_lon1: 0.04150755349899171, delta_lat1: 0.011866469596853335, delta_lon2: 0.04115806492842111, delta_lat2: 0.011890002746426376\n",
      "heading_1[7]: 27.877581548416796\n",
      "lat-lon input to find_heading:\n",
      "(-81.27224599488152, -22.37240665881521)\n",
      "lat-lons determined by find_heading:\n",
      "(-81.27272574442966, -22.28395032647707), (-81.27169604281617, -22.460840251629527)\n",
      "delta_lon1: -0.08845633233813999, delta_lat1: 0.0004797495481483338, delta_lon2: -0.08843359281431873, delta_lat2: 0.0005499520653415857\n",
      "heading_2[7]: -87.8908277762243\n",
      "plane_flow_angle: 89.73684173401308\n",
      "delta_twtt[7]: nan\n",
      "--------------------\n",
      "\n",
      "lat-lon 8: (-81.23341834846097, -20.55596548970905)\n",
      "x: -893537, y: 335075\n",
      "x_index: 4238, y_index: 5479\n",
      "nearest_lat: -81.24089032941131, nearest_lon: 339.46575733635495\n",
      "flow at nearest: [-174.72359, -89.31156]\n",
      "flow_heading[8]: 154.79617160862898\n",
      "lat-lon input to find_heading:\n",
      "(-81.23341834846097, -20.55596548970905)\n",
      "lat-lons determined by find_heading:\n",
      "(-81.2215001788343, -20.51534340225585), (-81.24530873781148, -20.59699126606786)\n",
      "delta_lon1: -0.04062208745319751, delta_lat1: -0.011918169626667918, delta_lon2: -0.04102577635881133, delta_lat2: -0.01189038935051201\n",
      "heading_1[8]: -152.44212503210832\n",
      "lat-lon input to find_heading:\n",
      "(-81.23892688410984, -20.63610666472428)\n",
      "lat-lons determined by find_heading:\n",
      "(-81.23341935496495, -20.555707390920645), (-81.24448662874761, -20.716401165832316)\n",
      "delta_lon1: -0.08039927380363565, delta_lat1: -0.005507529144892942, delta_lon2: -0.08029450110803538, delta_lat2: -0.005559744637764652\n",
      "heading_2[8]: -114.40709760863584\n",
      "plane_flow_angle: 269.20326921726485\n",
      "delta_twtt[8]: -5.499475693121567e-08\n",
      "--------------------\n",
      "\n",
      "lat-lon 9: (-80.93188421539811, -16.63378474506194)\n",
      "x: -945939, y: 282604\n",
      "x_index: 4121, y_index: 5595\n",
      "nearest_lat: -80.93622201335623, nearest_lon: 343.3794505602406\n",
      "flow at nearest: [-186.59067, -46.171654]\n",
      "flow_heading[9]: 140.27211255099886\n",
      "lat-lon input to find_heading:\n",
      "(-80.93188421539811, -16.63378474506194)\n",
      "lat-lons determined by find_heading:\n",
      "(-80.94388751853462, -16.672064462449306), (-80.91988245342824, -16.59553570113715)\n",
      "delta_lon1: 0.0382797173873648, delta_lat1: 0.012003303136509658, delta_lon2: 0.038249043924793114, delta_lat2: 0.012001761969870017\n",
      "heading_1[9]: 26.71933979822492\n",
      "lat-lon input to find_heading:\n",
      "(-80.93820594617438, -16.7082215233763)\n",
      "lat-lons determined by find_heading:\n",
      "(-80.93177226315245, -16.633391725630943), (-80.94469869009981, -16.78289965796381)\n",
      "delta_lon1: -0.07482979774535536, delta_lat1: -0.006433683021924708, delta_lon2: -0.07467813458751138, delta_lat2: -0.006492743925434752\n",
      "heading_2[9]: -118.83454133773549\n",
      "plane_flow_angle: 113.55277275277393\n",
      "delta_twtt[9]: 1.5674391172328035e-06\n",
      "--------------------\n"
     ]
    }
   ],
   "source": [
    "# repeat the above for every crossover point\n",
    "flow_xy = [] # the flow vector in xy \n",
    "flow_heading_full = [] # the flow vector heading in angle1, angle2, distance (in meters)\n",
    "flow_heading = []\n",
    "plane_heading_1 = []\n",
    "plane_heading_2 = []\n",
    "angle = [] # the angle between the flow vector and the plane heading\n",
    "twtt = twtt_at_point(layers[1], layers[0], intersection_indices, quiet=True)\n",
    "delta_twtt = []\n",
    "\n",
    "for i in range(len(intersection_indices)):\n",
    "    # convert the lat-lon point to xy and then to indices\n",
    "    lat, lon = intersection_points[i] \n",
    "    print(f\"lat-lon {i}: {lat, lon}\")\n",
    "    \n",
    "    x, y = latlon_to_xy(lat, lon)\n",
    "    print(f\"x: {x}, y: {y}\")\n",
    "    \n",
    "    x_index, y_index = x_to_index(x), y_to_index(y)\n",
    "    print(f\"x_index: {x_index}, y_index: {y_index}\")\n",
    "    \n",
    "    nearest_x_index, nearest_y_index = xy_to_nearest_unmasked_index(x, y, iceflow_data, max_radius=10)\n",
    "    \n",
    "    # find the nearest good iceflow_data to the crossover point\n",
    "    nearest_lat = iceflow_data[4][nearest_x_index][nearest_y_index]\n",
    "    nearest_lon = iceflow_data[5][nearest_x_index][nearest_y_index]\n",
    "    print(f\"nearest_lat: {nearest_lat}, nearest_lon: {nearest_lon}\")\n",
    "\n",
    "    flow_xy.append([iceflow_data[2][nearest_x_index][nearest_y_index], iceflow_data[3][nearest_x_index][nearest_y_index]])\n",
    "    print(f\"flow at nearest: {flow_xy[i]}\")\n",
    "    \n",
    "    # find the heading of the flow vector   \n",
    "    flow_heading_full.append(xyindex_vector_to_heading(nearest_x_index, nearest_y_index, flow_xy[i][0], flow_xy[i][1]))\n",
    "    flow_heading.append(flow_heading_full[i][0])\n",
    "    print(f\"flow_heading[{i}]: {flow_heading[i]}\")\n",
    "\n",
    "    \n",
    "\n",
    "    # find the heading of the first segment\n",
    "    plane_heading_1.append(find_heading(layers[0], intersection_indices[i][0]))\n",
    "    print(f\"heading_1[{i}]: {plane_heading_1[i]}\")\n",
    "\n",
    "    # find the heading of the second segment\n",
    "    plane_heading_2.append(find_heading(layers[0], intersection_indices[i][1]))\n",
    "    print(f\"heading_2[{i}]: {plane_heading_2[i]}\")\n",
    "    \n",
    "    plane_flow_angle = min(abs(plane_heading_1[i] - flow_heading[i]), abs(plane_heading_2[i] - flow_heading[i]))\n",
    "    print(f\"plane_flow_angle: {plane_flow_angle}\")\n",
    "    angle.append(plane_flow_angle)\n",
    "    \n",
    "    # find the twtt at the crossover point on both segments\n",
    "    # print(f\"twtt{i}: {twtt[i]}\")\n",
    "    delta_twtt.append(twtt[i][1] - twtt[i][0])\n",
    "    print(f\"delta_twtt[{i}]: {delta_twtt[i]}\")\n",
    "    \n",
    "    print(section_break)\n",
    "\n",
    "\n",
    "length = len(delta_twtt)\n",
    "while i < length: # remove any nan valued points from the lists\n",
    "    if math.isnan(delta_twtt[i]):\n",
    "        delta_twtt.pop(i)\n",
    "        flow_xy.pop(i)\n",
    "        angle.pop(i)\n",
    "        magnitude.pop(i)\n",
    "        plane_heading_1.pop(i)\n",
    "        plane_heading_2.pop(i)\n",
    "        intersection_indices.pop(i)\n",
    "        intersection_points.pop(i)\n",
    "        print(f\"intersection {i} removed\")\n",
    "        print(section_break)\n",
    "        length -= 1\n",
    "    else:\n",
    "        i += 1\n",
    "        \n",
    "# TODO: why is delta_twtt for index 9 negative?"
   ],
   "metadata": {
    "collapsed": false,
    "ExecuteTime": {
     "end_time": "2024-02-20T22:03:31.929636Z",
     "start_time": "2024-02-20T22:03:31.045635200Z"
    }
   },
   "id": "b71a3f6174b764a",
   "execution_count": 10
  },
  {
   "cell_type": "code",
   "outputs": [
    {
     "name": "stdout",
     "output_type": "stream",
     "text": [
      "flow_heading[0]: 164.87633401514603\n",
      "plane_heading_1[0]: 27.296731944188767\n",
      "plane_heading_2[0]: -76.49805266184431\n",
      "plane_heading_1 - flow_heading[0]: 137.57960207095726\n",
      "\n",
      "flow_heading[1]: 170.8660838339763\n",
      "plane_heading_1[1]: -152.68419768944278\n",
      "plane_heading_2[1]: -78.06255701603276\n",
      "plane_heading_1 - flow_heading[1]: 323.5502815234191\n",
      "\n",
      "flow_heading[2]: 174.24361207872198\n",
      "plane_heading_1[2]: 27.635792037663514\n",
      "plane_heading_2[2]: -84.52391593382967\n",
      "plane_heading_1 - flow_heading[2]: 146.60782004105846\n",
      "\n",
      "flow_heading[3]: 136.06667662094597\n",
      "plane_heading_1[3]: -152.12376300511113\n",
      "plane_heading_2[3]: -85.73980024915426\n",
      "plane_heading_1 - flow_heading[3]: 288.1904396260571\n",
      "\n",
      "flow_heading[4]: 59.80188626647326\n",
      "plane_heading_1[4]: 86.67522593074801\n",
      "plane_heading_2[4]: 28.666101472419147\n",
      "plane_heading_1 - flow_heading[4]: 26.873339664274752\n",
      "\n",
      "flow_heading[5]: 8.823079179941724\n",
      "plane_heading_1[5]: 120.3789439325446\n",
      "plane_heading_2[5]: -151.33510394660308\n",
      "plane_heading_1 - flow_heading[5]: 111.55586475260287\n",
      "\n",
      "flow_heading[6]: 51.88902214114038\n",
      "plane_heading_1[6]: -147.5059260962794\n",
      "plane_heading_2[6]: 104.84885688902423\n",
      "plane_heading_1 - flow_heading[6]: 199.39494823741978\n",
      "\n",
      "flow_heading[7]: 117.61442328242988\n",
      "plane_heading_1[7]: 27.877581548416796\n",
      "plane_heading_2[7]: -87.8908277762243\n",
      "plane_heading_1 - flow_heading[7]: 89.73684173401308\n",
      "\n",
      "flow_heading[8]: 154.79617160862898\n",
      "plane_heading_1[8]: -152.44212503210832\n",
      "plane_heading_2[8]: -114.40709760863584\n",
      "plane_heading_1 - flow_heading[8]: 307.2382966407373\n",
      "\n",
      "flow_heading[9]: 140.27211255099886\n",
      "plane_heading_1[9]: 26.71933979822492\n",
      "plane_heading_2[9]: -118.83454133773549\n",
      "plane_heading_1 - flow_heading[9]: 113.55277275277393\n"
     ]
    }
   ],
   "source": [
    "for i in range(len(flow_heading)):\n",
    "    print(f\"flow_heading[{i}]: {flow_heading[i]}\")\n",
    "    print(f\"plane_heading_1[{i}]: {plane_heading_1[i]}\")\n",
    "    print(f\"plane_heading_2[{i}]: {plane_heading_2[i]}\")\n",
    "    print(f\"plane_heading_1 - flow_heading[{i}]: {abs(plane_heading_1[i] - flow_heading[i])}\\n\")\n"
   ],
   "metadata": {
    "collapsed": false,
    "ExecuteTime": {
     "end_time": "2024-02-20T22:03:31.955634300Z",
     "start_time": "2024-02-20T22:03:31.487633200Z"
    }
   },
   "id": "d8d71f7aeb83cd5d",
   "execution_count": 11
  },
  {
   "cell_type": "markdown",
   "source": [
    "# TODO: functionize this plot once it works"
   ],
   "metadata": {
    "collapsed": false
   },
   "id": "7bfa0195995f0c97"
  },
  {
   "cell_type": "code",
   "outputs": [
    {
     "data": {
      "text/plain": "<Figure size 2400x1200 with 1 Axes>",
      "image/png": "[encoded data removed]"
     },
     "metadata": {},
     "output_type": "display_data"
    }
   ],
   "source": [
    "# TODO: verify this plot is correct\n",
    "# TODO: verify the Y scale and label it\n",
    "    # Dave expects the delta_twtt to be ~0.1 sec\n",
    "# plot delta_twtt vs |cos(angle - heading) - sin(angle - heading)| * |magnitude|  for each crossover point\n",
    "plt.figure(figsize=(24, 12), layout='constrained')\n",
    "# plt.scatter(np.abs(np.cos(np.radians(np.array(angle) - np.array(heading_1)))) * np.abs(np.array(magnitude)), delta_twtt, label='segment 1')\n",
    "# plt.scatter(np.abs(np.cos(np.radians(np.array(angle) - np.array(heading_2)))) * np.abs(np.array(magnitude)), delta_twtt, label='segment 2')\n",
    "\n",
    "# plt.scatter(np.abs(np.cos(np.radians(np.array(angle) - np.array(plane_heading_1)))), delta_twtt, label='segment 1')  # angle - heading\n",
    "# plt.scatter(np.abs(np.cos(np.radians(np.array(angle) - np.array(plane_heading_2)))), delta_twtt, label='segment 2')\n",
    "\n",
    "plt.scatter(np.abs(np.cos(np.radians(np.array(flow_heading) - np.array(plane_heading_1)))), delta_twtt, label='segment 1')  # flow angle - heading\n",
    "plt.scatter(np.abs(np.cos(np.radians(np.array(flow_heading) - np.array(plane_heading_2)))), delta_twtt, label='segment 2')\n",
    "\n",
    "# plt.xlabel(\" |cos(angle - heading)| * |velocity|\")\n",
    "plt.xlabel(\" |cos(angle - heading)|\")\n",
    "plt.ylabel(\"delta_twtt\")\n",
    "# plt.title(\" |cos(angle - heading)| vs delta_twtt\")\n",
    "plt.title(f\"{season} {flight} \\n|cos(angle - heading)| vs delta_twtt\", fontsize=20)\n",
    "\n",
    "plt.legend([\"legend\"], fontsize='smaller', loc='upper right', bbox_to_anchor=(1.1, 1.1))\n",
    "# scale axes to be logarithmic\n",
    "# plt.xscale('log')\n",
    "# plt.yscale('log')\n",
    "\n",
    "\n",
    "# save the plot as a png file with a high dpi named after the season and flight\n",
    "plt.savefig(f\"{season}_{flight}_cos_angle_heading_vs_delta_twtt_linear.png\", dpi=300)\n",
    "\n",
    "# plt.show()\n",
    "\n",
    "# plt.yscale('log')\n",
    "# save the plot as a png file with a high dpi named after the season and flight\n",
    "# plt.savefig(f\"{season}_{flight}_cos_angle_heading_vs_delta_twtt_logy.png\", dpi=300)\n",
    "plt.show()\n"
   ],
   "metadata": {
    "collapsed": false,
    "ExecuteTime": {
     "end_time": "2024-02-20T22:03:34.542635Z",
     "start_time": "2024-02-20T22:03:31.510636500Z"
    }
   },
   "id": "c4355237adf006e1",
   "execution_count": 12
  },
  {
   "cell_type": "code",
   "outputs": [],
   "source": [
    "# x_data = np.abs(np.cos(np.radians(np.array(angle) - np.array(heading_1))))\n",
    "# y_data = delta_twtt\n",
    "# \n",
    "# # Define the Gaussian function\n",
    "# def gaussian(x, amplitude, mean, stddev):\n",
    "#     return amplitude * np.exp(-((x - mean) ** 2) / (2 * stddev ** 2))\n",
    "# \n",
    "# # Initial parameter guesses: amplitude close to your data's scale, mean around the center, and a reasonable stddev\n",
    "# initial_guesses = [1e-8, 0.5, 0.1]\n",
    "# \n",
    "# # Use curve_fit to fit the Gaussian function to your data\n",
    "# popt, pcov = opt.curve_fit(gaussian, x_data, y_data, p0=initial_guesses, maxfev=5000)\n",
    "# \n",
    "# # Plot the original data\n",
    "# plt.scatter(x_data, y_data, label='Data')\n",
    "# \n",
    "# # Plot the fitted curve\n",
    "# x_fit = np.linspace(min(x_data), max(x_data), 1000)\n",
    "# y_fit = gaussian(x_fit, *popt)\n",
    "# plt.plot(x_fit, y_fit, color='red', label='Fitted curve')\n",
    "# \n",
    "# plt.xlabel('X axis')\n",
    "# plt.ylabel('Y axis')\n",
    "# plt.title('Gaussian Fit to Data')\n",
    "# plt.legend()\n",
    "# plt.show()"
   ],
   "metadata": {
    "collapsed": false,
    "ExecuteTime": {
     "end_time": "2024-02-20T16:41:10.794575100Z",
     "start_time": "2024-02-20T16:41:10.731560600Z"
    }
   },
   "id": "1434b909fad18984",
   "execution_count": 44
  },
  {
   "cell_type": "markdown",
   "source": [
    "ntuple-ize\n",
    "    cos(heading-flow)\n",
    "    difference in theta paralell and perpindicular\n",
    "    delta_twtt\n",
    "    v_flow\n",
    "- stop selecting for angle in upper cells, we can cut the data once we have it\n",
    "\n",
    "ARA meeting in March Columbus\n",
    "- talk to Kiet about how he is setting up travel"
   ],
   "metadata": {
    "collapsed": false
   },
   "id": "cddd897600559d8"
  },
  {
   "cell_type": "code",
   "outputs": [],
   "source": [
    "heading = []\n",
    "# for each plane heaading, add [plane_heading_1, plane_heading_2] to the heading list\n",
    "for i in range(len(plane_heading_1)):\n",
    "    heading.append([plane_heading_1[i], plane_heading_2[i]])"
   ],
   "metadata": {
    "collapsed": false,
    "ExecuteTime": {
     "start_time": "2024-02-20T16:31:51.028364100Z"
    }
   },
   "id": "bfccbc2e960c4707",
   "execution_count": null
  },
  {
   "cell_type": "code",
   "outputs": [],
   "source": [
    "print(flow_xy)"
   ],
   "metadata": {
    "collapsed": false,
    "ExecuteTime": {
     "end_time": "2024-02-20T16:31:51.054595900Z",
     "start_time": "2024-02-20T16:31:51.030585200Z"
    }
   },
   "id": "a2cb9349df296196",
   "execution_count": null
  },
  {
   "cell_type": "code",
   "outputs": [],
   "source": [
    "# # save the posit to a json file\n",
    "# import json\n",
    "# \n",
    "# filename = f\"{season}_crossover_data.json\"\n",
    "# \n",
    "# # check to see if the file exists and if it does, load the data from it, otherwise append the data to a new file\n",
    "# try:\n",
    "#     with open(filename, 'r') as file:\n",
    "#         data = json.load(file)\n",
    "#         print(f\"File {filename} exists. Loading data from file...\")\n",
    "# except FileNotFoundError:\n",
    "#     print(f\"File {filename} does not exist. Creating a new file...\")\n",
    "#     data = []\n",
    "#     \n",
    "# # if the data is not already in the file, append the data to the file\n",
    "# if data:\n",
    "#     print(f\"Data already in file {filename}.\")\n",
    "# else:\n",
    "#     print(f\"Appending data to file {filename}...\")\n",
    "#     data.append({\n",
    "#         \"season\": season,\n",
    "#         \"flight\": flight,\n",
    "#         \"intersection_points\": intersection_points,\n",
    "#         \"twtt\": twtt,\n",
    "#         \"delta_twtt\": delta_twtt,\n",
    "#         \"ice flow vectors (m/yr, in xy)\": flow,\n",
    "#         \"ice flow angle\": angle,\n",
    "#         \"ice flow magnitude\": magnitude,\n",
    "#         \"plane heading\": heading\n",
    "#     })\n",
    "#     with open(filename, 'w') as file:\n",
    "#         json.dump(data, file)\n",
    "#     print(f\"Data successfully appended to file {filename}.\")\n",
    "# \n",
    "# \n",
    "# # TODO: convert flow vector and angle to EPSG:4326"
   ],
   "metadata": {
    "collapsed": false,
    "ExecuteTime": {
     "start_time": "2024-02-20T16:31:51.034070800Z"
    }
   },
   "id": "16c17e5af72e0018",
   "execution_count": null
  },
  {
   "cell_type": "code",
   "outputs": [],
   "source": [],
   "metadata": {
    "collapsed": false,
    "ExecuteTime": {
     "start_time": "2024-02-20T16:31:51.035352800Z"
    }
   },
   "id": "8453b6849b6f9570",
   "execution_count": null
  },
  {
   "cell_type": "markdown",
   "source": [
    "### vector to heading dev below, DELETE WHEN FUNCTIONAL"
   ],
   "metadata": {
    "collapsed": false
   },
   "id": "38b6fdc8587be53b"
  },
  {
   "cell_type": "code",
   "outputs": [],
   "source": [
    "def nearest_flow_to_latlon(lat, lon, iceflow_data, print_point=False):\n",
    "    \"\"\"\n",
    "    :param lat: the latitude of the point\n",
    "    :param lon: the longitude of the point\n",
    "    :param iceflow_data: the iceflow data\n",
    "    :return: the nearest flow vector to the lat-lon point available in the iceflow data \n",
    "    \"\"\"\n",
    "    # find the nearest x and y values in the iceflow data\n",
    "    x, y = latlon_to_xy(lat, lon)\n",
    "    x, y = find_nearest_unmasked_x_and_y(x, y, iceflow_data, max_radius=1000)\n",
    "    if print_point:\n",
    "        print(f\"Nearest point to lat-lon: {xyindex_to_latlon(x, y)} or {x, y} in EPSG:3031\")\n",
    "    flow = flow_at_x_y(x, y, iceflow_data)\n",
    "    return flow"
   ],
   "metadata": {
    "collapsed": false,
    "ExecuteTime": {
     "start_time": "2024-02-20T16:31:51.037802Z"
    }
   },
   "id": "d267475978d06ac0",
   "execution_count": null
  },
  {
   "cell_type": "code",
   "outputs": [],
   "source": [
    "intersect_x = intersection_points[0][0]\n",
    "intersect_y = intersection_points[0][1]\n",
    "print(f\"Intersection lat-lon:\\n{intersect_x, intersect_y}\")\n",
    "print(\"----------------------\\n\")\n",
    "\n",
    "x, y = latlon_to_xy(intersect_x, intersect_y)\n",
    "print(f\"x, y of intersection before index conversion \\nx: {x}, y: {y}\\n\")\n",
    "\n",
    "x_index = x_to_index(x)\n",
    "y_index = y_to_index(y)\n",
    "print(f\"converted to indices:\\nx_index: {x_index}, y_index: {y_index}\\n\")\n",
    "x_lat, y_lat = xyindex_to_latlon(x_index, y_index)\n",
    "print(f\"lat-lon of indices: \\n{x_lat, y_lat}\\n\")\n",
    "\n",
    "difference_lat = intersect_x - x_lat\n",
    "difference_lon = intersect_y - y_lat\n",
    "print(f\"difference in lat-lon: \\n{difference_lat, difference_lon}\\n\")\n",
    "# So the conversion functions work"
   ],
   "metadata": {
    "collapsed": false,
    "ExecuteTime": {
     "start_time": "2024-02-20T16:31:51.041179Z"
    }
   },
   "id": "2aa7a96c57b56167",
   "execution_count": null
  },
  {
   "cell_type": "markdown",
   "source": [
    "### TODO: fix the find nearest functions"
   ],
   "metadata": {
    "collapsed": false
   },
   "id": "98e596adf396a33f"
  },
  {
   "cell_type": "code",
   "outputs": [],
   "source": [
    "def xy_to_nearest_unmasked_index(x, y, iceflow_data, max_radius=10, printout=False):\n",
    "    \"\"\"\n",
    "    Find the nearest x and y value in the iceflow data to an input x and y value.\n",
    "    \"\"\"\n",
    "    # iterate through every data point within the max_radius of the input x and y and save the xy pairs of any unmasked data\n",
    "    x = x_to_index(x)\n",
    "    y = y_to_index(y)\n",
    "    unmasked = []\n",
    "    for x_iterator in range(x - max_radius, x + max_radius):\n",
    "        for y_iterator in range(y - max_radius, y + max_radius):\n",
    "            if (\n",
    "                    0 <= x_iterator < iceflow_data[2].shape[0]  # if the x index is within the bounds of the iceflow data\n",
    "                    and 0 <= y_iterator < iceflow_data[2].shape[1]\n",
    "                    and not np.ma.is_masked(iceflow_data[2][x_iterator][y_iterator])\n",
    "                    and not np.ma.is_masked(iceflow_data[3][x_iterator][y_iterator])\n",
    "            ):\n",
    "                unmasked.append((x_iterator, y_iterator))\n",
    "            if printout and not np.ma.is_masked(iceflow_data[2][x_iterator][y_iterator]):\n",
    "                print(f\"unmasked x: {x_iterator}, unmasked y: {y_iterator}\")\n",
    "                print(f\"unmasked lat: {iceflow_data[4][x_iterator][y_iterator]}, unmasked lon: {iceflow_data[5][x_iterator][y_iterator]}\")\n",
    "                print(f\"unmasked flow: {iceflow_data[2][x_iterator][y_iterator]}, {iceflow_data[3][x_iterator][y_iterator]}\")\n",
    "    # find the xy pair with the minimum distance from the input x and y\n",
    "    min_distance = 100\n",
    "    min_x = None\n",
    "    min_y = None\n",
    "    for x_iterator, y_iterator in unmasked:\n",
    "        distance = math.sqrt((x - x_iterator) ** 2 + (y - y_iterator) ** 2)\n",
    "        if distance < min_distance:\n",
    "            min_distance = distance\n",
    "            min_x = x_iterator\n",
    "            min_y = y_iterator\n",
    "    # TODO: figure out why these are indices and not x and y\n",
    "        # it works fine, they just are.\n",
    "    return min_x, min_y"
   ],
   "metadata": {
    "collapsed": false,
    "ExecuteTime": {
     "start_time": "2024-02-20T16:31:51.043546700Z"
    }
   },
   "id": "d9147ecb0aadca7f",
   "execution_count": null
  },
  {
   "cell_type": "code",
   "outputs": [],
   "source": [
    "lat = intersection_points[0][0]\n",
    "lon = intersection_points[0][1]\n",
    "print(f\"lat: {lat}, lon: {lon}\")\n",
    "\n",
    "x, y = latlon_to_xy(lat, lon)\n",
    "print(f\"x: {x}, y: {y}\")\n",
    "\n",
    "x_index, y_index = x_to_index(x), y_to_index(y)\n",
    "print(f\"x_index: {x_index}, y_index: {y_index}\")\n",
    "\n",
    "# nearest_x_index, nearest_y_index = depracated: find_nearest_unmasked_x_and_y(x, y, iceflow_data, max_radius=1000)\n",
    "\n",
    "nearest_x_index, nearest_y_index = xy_to_nearest_unmasked_index(x, y, iceflow_data, max_radius=10)\n",
    "\n",
    "print(f\"nearest_x_index: {nearest_x_index}, nearest_y_index: {nearest_y_index}\")\n",
    "nearest_lat = iceflow_data[4][nearest_x_index][nearest_y_index]\n",
    "nearest_lon = iceflow_data[5][nearest_x_index][nearest_y_index]\n",
    "print(f\"nearest_lat: {nearest_lat}, nearest_lon: {nearest_lon}\")\n",
    "print(f\"flow at nearest: {iceflow_data[2][nearest_x_index][nearest_y_index]}, {iceflow_data[3][nearest_x_index][nearest_y_index]}\")"
   ],
   "metadata": {
    "collapsed": false,
    "ExecuteTime": {
     "start_time": "2024-02-20T16:31:51.046035200Z"
    }
   },
   "id": "42429eb453add524",
   "execution_count": null
  },
  {
   "cell_type": "code",
   "outputs": [],
   "source": [
    "# plot the spiral around the point\n",
    "plot_spiral(x,y, 10)"
   ],
   "metadata": {
    "collapsed": false,
    "ExecuteTime": {
     "start_time": "2024-02-20T16:31:51.047036Z"
    }
   },
   "id": "204630ae0dab9961",
   "execution_count": null
  },
  {
   "cell_type": "markdown",
   "source": [],
   "metadata": {
    "collapsed": false
   },
   "id": "7983edb0476ca763"
  },
  {
   "cell_type": "markdown",
   "source": [
    "### Move to an example notebook when done. Shows how the xy to index conversion works"
   ],
   "metadata": {
    "collapsed": false
   },
   "id": "a979c551ff21c297"
  },
  {
   "cell_type": "code",
   "outputs": [],
   "source": [
    "#print x min and max\n",
    "min = np.min(iceflow_data[0])\n",
    "max = np.max(iceflow_data[0])\n",
    "\n",
    "print(f\"min: {min}, max: {max}\")\n",
    "\n",
    "print(f\"min/450: {min/450}, max/450: {max/450}\")\n",
    "\n",
    "one, two, three = (iceflow_data[1][0], iceflow_data[1][1], iceflow_data[1][2])\n",
    "print(f\"one: {one}, two: {two}, three: {three}\")\n",
    "print(f\"one - two: {one - two}, two - three: {two - three}\")"
   ],
   "metadata": {
    "collapsed": false,
    "ExecuteTime": {
     "start_time": "2024-02-20T16:31:51.048067700Z"
    }
   },
   "id": "fd23763d158886e7",
   "execution_count": null
  },
  {
   "cell_type": "code",
   "outputs": [],
   "source": [
    "def x_to_index(x):\n",
    "    return 6223 + int(x/450)\n",
    "def y_to_index(y):\n",
    "    return 6223 - int(y/450)\n",
    "def index_to_x(x):\n",
    "    return (x - 6223) * 450\n",
    "def index_to_y(y):\n",
    "    return (6223 - y) * 450"
   ],
   "metadata": {
    "collapsed": false,
    "ExecuteTime": {
     "start_time": "2024-02-20T16:31:51.049103200Z"
    }
   },
   "id": "78dbd0be10e207a6",
   "execution_count": null
  },
  {
   "cell_type": "markdown",
   "source": [
    "# ~~TODO: see if these are even legal lat-lon values~~\n",
    "- **they are not but neither are the iceflow data values**\n",
    "- some of these longitudes don't work in Google Earth, I think they are supposed to be between -180 and 180\n",
    "- more importantly, are the icflow data and CReSIS lat-lon values in this format (i.e. if they are wrong, stay wrong)\n",
    "\n",
    "Iceflow data: \n",
    "    - max lat: -89.9 - 0 degrees\n",
    "    - min lat: 0 - 359.79 degrees\n",
    "    "
   ],
   "metadata": {
    "collapsed": false
   },
   "id": "3a882283fea4177b"
  },
  {
   "cell_type": "code",
   "outputs": [],
   "source": [
    "x = 6000\n",
    "y = 1000\n",
    "print(f\"starting values\\nx: {x}, y: {y}\")\n",
    "x_index = x_to_index(x)\n",
    "y_index = y_to_index(y)\n",
    "print(f\"x_index: {x_index}, y_index: {y_index}\")\n",
    "print(f\"x: {iceflow_data[0][x_index]}, y: {iceflow_data[1][y_index]}\\n\")\n",
    "\n",
    "x = 9000\n",
    "y = 5000\n",
    "print(f\"starting values\\nx: {x}, y: {y}\")\n",
    "x_index = x_to_index(x)\n",
    "y_index = y_to_index(y)\n",
    "print(f\"x_index: {x_index}, y_index: {y_index}\")\n",
    "print(f\"x: {iceflow_data[0][x_index]}, y: {iceflow_data[1][y_index]}\\n\")\n",
    "\n"
   ],
   "metadata": {
    "collapsed": false,
    "ExecuteTime": {
     "start_time": "2024-02-20T16:31:51.051596400Z"
    }
   },
   "id": "82ebdf51d4cb5ecf",
   "execution_count": null
  },
  {
   "cell_type": "code",
   "outputs": [],
   "source": [
    "def xyindex_vector_to_heading(x_index, y_index, x_vector, y_vector):\n",
    "    \"\"\"\n",
    "    This function is used to convert an x and y vector in EPSG:3031 to a heading in EPSG:4326.\n",
    "    :param x_index: the x coordinate\n",
    "    :param y_index: the y coordinate\n",
    "    :param x_vector: the x vector\n",
    "    :param y_vector: the y vector\n",
    "    :return: the heading in EPSG:4326\n",
    "    \"\"\"\n",
    "    # convert the x and y coordinates to lat and lon\n",
    "    lat, lon = xyindex_to_latlon(x_index, y_index)\n",
    "    # convert the x and y vector to lat and lon\n",
    "    lat_vector, lon_vector = xyindex_to_latlon(x_index + x_vector, y_index + y_vector)\n",
    "    # calculate the heading\n",
    "    geodesic = pyproj.Geod(ellps='WGS84')\n",
    "    angle1, angle2, distance = geodesic.inv(lon, lat, lon_vector, lat_vector)\n",
    "    return angle1, angle2, distance\n",
    "\n"
   ],
   "metadata": {
    "collapsed": false,
    "ExecuteTime": {
     "start_time": "2024-02-20T16:31:51.052596100Z"
    }
   },
   "id": "ed0ab8dbf1f3ecb9",
   "execution_count": null
  },
  {
   "cell_type": "markdown",
   "source": [
    "# TODO: ~~take some plane vectors, convert the relevant points to xy, then run them through the heading function to see if it works compared to the plane heading~~\n",
    "- I think this works now"
   ],
   "metadata": {
    "collapsed": false
   },
   "id": "239dddf9f98383f6"
  },
  {
   "cell_type": "code",
   "outputs": [],
   "source": [
    "# for testing purposes only, delete when done\n",
    "def find_heading_test(lat1, lon1, lat2, lon2):\n",
    "    # print the lat-lon points\n",
    "    # print(f\"lat-lon input to find_heading:\"\n",
    "    #       f\"\\n({layer.lat[index]}, {layer.lon[index]})\")\n",
    "    geodesic = pyproj.Geod(ellps='WGS84')\n",
    "    # lon = layer.lon[index]\n",
    "    # lat = layer.lat[index]\n",
    "    # lon1 = layer.lon[index - window_size]\n",
    "    # lat1 = layer.lat[index - window_size]\n",
    "    # lon2 = layer.lon[index + window_size]\n",
    "    # lat2 = layer.lat[index + window_size]\n",
    "\n",
    "    print(f\"lat-lons determined by find_heading:\"\n",
    "          f\"\\n({lat1}, {lon1}), ({lat2}, {lon2})\")\n",
    "    # delta_lon1 = lon - lon1\n",
    "    # delta_lat1 = lat - lat1\n",
    "    # delta_lon2 = lon2 - lon\n",
    "    # delta_lat2 = lat2 - lat\n",
    "    # print(f\"delta_lon1: {delta_lon1}, delta_lat1: {delta_lat1}, delta_lon2: {delta_lon2}, delta_lat2: {delta_lat2}\")\n",
    "    fwd_azimuth, back_azimuth, distance = geodesic.inv(lon1, lat1, lon2, lat2)\n",
    "    return fwd_azimuth"
   ],
   "metadata": {
    "collapsed": false,
    "ExecuteTime": {
     "start_time": "2024-02-20T16:31:51.053597Z"
    }
   },
   "id": "e83297e68d6ca29c",
   "execution_count": null
  },
  {
   "cell_type": "code",
   "outputs": [],
   "source": [
    "def find_heading_points(layer, index, window_size=100):\n",
    "    \"\"\"\n",
    "    :param layer: a Layer object\n",
    "    :param index: the index of the point in the layer\n",
    "    :param window_size: the number of points to use in the slope calculation\n",
    "    :return: the bearing of the current that flew through the points.\n",
    "    This has nothing to do with the slope of the layer. only the lat-lon points.\n",
    "    \"\"\"\n",
    "    # print the lat-lon points\n",
    "    print(f\"lat-lon input to find_heading:\"\n",
    "          f\"\\n\\t({layer.lat[index]}, {layer.lon[index]})\")\n",
    "    geodesic = pyproj.Geod(ellps='WGS84')\n",
    "    lon = layer.lon[index]\n",
    "    lat = layer.lat[index]\n",
    "    lon1 = layer.lon[index - window_size]\n",
    "    lat1 = layer.lat[index - window_size]\n",
    "    lon2 = layer.lon[index + window_size]\n",
    "    lat2 = layer.lat[index + window_size]\n",
    "    \n",
    "    return lon1, lat1, lon2, lat2"
   ],
   "metadata": {
    "collapsed": false,
    "ExecuteTime": {
     "end_time": "2024-02-20T16:31:52.000642500Z",
     "start_time": "2024-02-20T16:31:51.055596400Z"
    }
   },
   "id": "4471aebe53f7ac7f",
   "execution_count": null
  },
  {
   "cell_type": "code",
   "outputs": [],
   "source": [
    "# TODO: when this works, udpate the original code cell to use the non test versions of the iceflow heading function\n",
    "# TODO, the iceflow heading finder doesn't work on too close of data because they show up as the same index in the iceflow data.\n",
    "    # put in some larger fake lat-lons to test both\n",
    "    # how was it working before then?\n",
    "        # the flow vector comes from the data so it works\n",
    "magnitude = []\n",
    "plane_heading_1 = []\n",
    "plane_heading_2 = []\n",
    "# for i in range(len(intersection_indices)):\n",
    "for i in range(1):\n",
    "    # find the heading of the first segment\n",
    "    test_lat1 = -81.1 \n",
    "    test_lon1 = -29.7\n",
    "    test_lat2 = -81.2\n",
    "    test_lon2 = -29.8\n",
    "    plane_heading_1.append(find_heading_test(test_lat1, test_lon1, test_lat2, test_lon2))\n",
    "    print(f\"heading_1[{i}]: {plane_heading_1[i]}\")\n",
    "    \n",
    "    print(\"**************\")\n",
    "\n",
    "    # convert the test lat-lon points to xy\n",
    "    x1, y1 = latlon_to_xy(test_lat1, test_lon1) \n",
    "    x2, y2 = latlon_to_xy(test_lat2, test_lon2)\n",
    "    print(f\"x1: {x1}, y1: {y1}, x2: {x2}, y2: {y2}\")\n",
    "    \n",
    "    # convert the xy points to indices\n",
    "    x1_index = x_to_index(x1)\n",
    "    y1_index = y_to_index(y1)\n",
    "    x2_index = x_to_index(x2)\n",
    "    y2_index = y_to_index(y2)\n",
    "    print(f\"x1_index: {x1_index}, y1_index: {y1_index}, x2_index: {x2_index}, y2_index: {y2_index}\")\n",
    "    \n",
    "    # TODO: should this be a vector of indices or x and y? x and y sounds right but it errors out on index overflow. Have to go to class so can't look right now. Does the xy_vector function use indices or x and y? \n",
    "        # the vector_to_heading() function uses indices for some reason but it works so I'mma let it ride\n",
    "    vector = [x2_index - x1_index, y2_index - y1_index]\n",
    "    # vector = [x2 - x1, y2 - y1]\n",
    "\n",
    "    # convert the vector to a heading\n",
    "    heading = xyindex_vector_to_heading(x1_index, y1_index, vector[0], vector[1])\n",
    "    \n",
    "    print(f\"heading by way of iceflow functions: \\n{heading}\")\n",
    "    \n",
    "    \n",
    "    \n",
    "    print(section_break)\n",
    "    \n",
    "    \n"
   ],
   "metadata": {
    "collapsed": false,
    "ExecuteTime": {
     "start_time": "2024-02-20T16:31:51.056596600Z"
    }
   },
   "id": "5cbf56cace731068",
   "execution_count": null
  },
  {
   "cell_type": "code",
   "outputs": [],
   "source": [],
   "metadata": {
    "collapsed": false,
    "ExecuteTime": {
     "start_time": "2024-02-20T16:31:51.058597700Z"
    }
   },
   "id": "b7d9a2192726bafa",
   "execution_count": null
  },
  {
   "cell_type": "code",
   "outputs": [],
   "source": [],
   "metadata": {
    "collapsed": false,
    "ExecuteTime": {
     "start_time": "2024-02-20T16:31:51.059597400Z"
    }
   },
   "id": "f769483a211b315"
  }
 ],
 "metadata": {
  "kernelspec": {
   "display_name": "Python 3",
   "language": "python",
   "name": "python3"
  },
  "language_info": {
   "codemirror_mode": {
    "name": "ipython",
    "version": 2
   },
   "file_extension": ".py",
   "mimetype": "text/x-python",
   "name": "python",
   "nbconvert_exporter": "python",
   "pygments_lexer": "ipython2",
   "version": "2.7.6"
  }
 },
 "nbformat": 4,
 "nbformat_minor": 5
}

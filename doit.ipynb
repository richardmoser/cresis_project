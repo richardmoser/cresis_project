{
 "cells": [
  {
   "cell_type": "markdown",
   "source": [
    "# TODO:\n",
    "- schedule time with John to review the python code and see what changed in OPR\n",
    "- test to_index and index_to functions against lat-lon values to verify all of the conversions against each other\n",
    "- rewrite any implementations of xy conversion to include the to_index and index_to functions\n",
    "    - see if this stays consistent\n",
    "- finally get around to fixing the flow vectors & headings\n",
    "    - accuracy depends on accurate xy to lat-lon conversion\n",
    "    - verify against online heading calculators\n",
    "    - \n",
    "- verify neareast_unmasked_x_and_y function works\n",
    "    - might have broken the search function in process of debugging conversions\n",
    "        - may need rolling back from old code\n",
    "- once all that works, probably ought to draw it all to a map and see if it all checks out. \n",
    "- Add something to add a minimap to the delta_twtt plot to show one point in the general area of the crossover points for quick reference\n",
    "- **Implement multi flight crossover point finding**\n",
    "- Multi flight plotting\n",
    "    - how many flights could I put in a file together? i.e. can I save a full season to one file in the pickle format?\n",
    "- scaling for overall depth in twtt? i.e. less effect in shallower ice so you can't really compare to deeper ice CX points\n",
    "\n"
   ],
   "metadata": {
    "collapsed": false
   },
   "id": "914384a0570a905a"
  },
  {
   "cell_type": "code",
   "source": [
    "import matplotlib.pyplot as plt\n",
    "\n",
    "from project_classes import *\n",
    "from functions import *\n",
    "from iceflow_library import *"
   ],
   "metadata": {
    "collapsed": false,
    "ExecuteTime": {
     "end_time": "2024-04-30T16:27:33.390410Z",
     "start_time": "2024-04-30T16:27:33.374721Z"
    }
   },
   "id": "82c297c4d7d856f2",
   "outputs": [],
   "execution_count": 44
  },
  {
   "cell_type": "code",
   "source": [
    "zoom = True\n",
    "seg_length = 100\n",
    "# season = \"2009_Antarctica_DC8\"\n",
    "season = \"2018_Antarctica_DC8\" # a layerData season\n",
    "# season = \"2016_Antarctica_DC8\" # a season with both layer and layerData\n",
    "# season = \"2014_Antarctica_DC8\" # a layerData season\n",
    "# flight = \"20181030_01\"  # the flight date and frame numbe\n",
    "# flight = \"20181018_01\"\n",
    "# flight = \"20181103_01\"\n",
    "flight = \"20181109_01\"\n",
    "# flight = \"20181112_02\"  # the problem flight\n",
    "# flight = \"20161024_05\"\n",
    "# flight = \"20161111_05\"\n",
    "# flight = \"20161024_05\"\n",
    "# flight = '20141026_06'\n",
    "# file_name = \"layer_export_\" + flight + \".pickle\"\n",
    "file_name = \"C:\\\\Users\\\\rj\\\\Documents\\\\cresis_project\\\\pickle_jar\\\\layer_export_\" + flight + \".pickle\"\n",
    "testing = False"
   ],
   "metadata": {
    "collapsed": false,
    "ExecuteTime": {
     "end_time": "2024-04-30T16:27:33.702846Z",
     "start_time": "2024-04-30T16:27:33.689821Z"
    }
   },
   "id": "80fa46579d551152",
   "outputs": [],
   "execution_count": 45
  },
  {
   "metadata": {
    "ExecuteTime": {
     "end_time": "2024-04-30T16:27:33.782404Z",
     "start_time": "2024-04-30T16:27:33.764737Z"
    }
   },
   "cell_type": "code",
   "source": "import os",
   "id": "afdb1ebce209adf1",
   "outputs": [],
   "execution_count": 46
  },
  {
   "cell_type": "code",
   "source": [
    "\"\"\"\n",
    "read in the layers from the layer files and save them to a pickle file\n",
    "\"\"\"\n",
    "# mat_pickler_layer(season, flight, testing_mode=testing)  # make it\n",
    "mat_pickler_h5py(season, flight, testing_mode=testing)  # make it\n",
    "layers = read_layers(file_name)  # read in the layers from the pickle file"
   ],
   "metadata": {
    "collapsed": false,
    "ExecuteTime": {
     "end_time": "2024-04-30T16:27:34.249047Z",
     "start_time": "2024-04-30T16:27:33.863261Z"
    }
   },
   "id": "5e4326b0a8fa5712",
   "outputs": [
    {
     "name": "stdout",
     "output_type": "stream",
     "text": [
      "Reading data files...\n",
      "--------------------\n",
      "f['param']: <HDF5 group \"/param\" (6 members)>\n",
      "f['param'].keys(): ['day_seg', 'radar', 'radar_name', 'records', 'season_name', 'sw_version']\n",
      "layer1: Surface number of points: 103432\n",
      "layer2: Bottom number of points: 103432\n",
      "--------------------\n",
      "C:\\Users\\rj\\Documents\\cresis_project\\pickle_jar\\layer_export_20181109_01.pickle  saved in local directory of this python file.\n",
      "--------------------\n",
      "\n",
      "Reading pickle file...\n",
      "--------------------\n",
      "Surface\n",
      "Bottom\n",
      "--------------------\n",
      "\n"
     ]
    }
   ],
   "execution_count": 47
  },
  {
   "cell_type": "markdown",
   "source": [
    "### read in the iceflow data from the iceflow data files and save them to a pickle file"
   ],
   "metadata": {
    "collapsed": false
   },
   "id": "fc35cca7687abf68"
  },
  {
   "cell_type": "code",
   "source": [
    "if not os.path.isfile(\"C:\\\\Users\\\\rj\\\\Documents\\\\cresis_project\\\\pickle_jar\\\\iceflow_data.pickle\"):  # if the file does not exist\n",
    "    print(\"The iceflow data pickle file was not found. Creating a new one...\")\n",
    "    filename = iceflow_saver()\n",
    "    iceflow_data = iceflow_loader(filename)\n",
    "    print(\"The iceflow data pickle file was successfully created.\")\n",
    "# try:\n",
    "iceflow_data = iceflow_loader(\"C:\\\\Users\\\\rj\\\\Documents\\\\cresis_project\\\\pickle_jar\\\\iceflow_data.pickle\")\n",
    "print(\"The iceflow data pickle file was found and loaded.\")\n",
    "\n",
    "x = iceflow_data[0]\n",
    "y = iceflow_data[1]\n",
    "velocity_x = iceflow_data[2]\n",
    "velocity_y = iceflow_data[3]\n",
    "latitude = iceflow_data[4]\n",
    "longitude = iceflow_data[5]\n",
    "print(\"iceflow data loaded\")"
   ],
   "metadata": {
    "collapsed": false,
    "ExecuteTime": {
     "end_time": "2024-04-30T16:27:39.039018Z",
     "start_time": "2024-04-30T16:27:34.251049Z"
    }
   },
   "id": "dbaab48f077de2bd",
   "outputs": [
    {
     "name": "stdout",
     "output_type": "stream",
     "text": [
      "The iceflow data pickle file was found and loaded.\n",
      "iceflow data loaded\n"
     ]
    }
   ],
   "execution_count": 48
  },
  {
   "cell_type": "code",
   "source": [
    "# if the file at filename exists, read in the intersection_indices and intersection_points from the pickle file\n",
    "# otherwise, find the intersection_indices and intersection_points and save them to a pickle file\n",
    "filename = f\"C:\\\\Users\\\\rj\\\\Documents\\\\cresis_project\\\\pickle_jar\\\\{season}_{flight}_crossover_points.pickle\"\n",
    "if not os.path.isfile(filename):  # if the file does not exist\n",
    "    print(f\"File {filename} does not exist. Making it...\")\n",
    "    intersection_points, intersection_indices, segment_ends = cross_point(layers[0], seg_length, quiet=True)\n",
    "    with open(filename, 'wb') as file:\n",
    "        pickle.dump(intersection_indices, file)\n",
    "        pickle.dump(intersection_points, file)\n",
    "        pickle.dump(segment_ends, file)\n",
    "    print(f\"intersection_indices and intersection_points saved to {filename}\")\n",
    "else:\n",
    "    with open(filename, 'rb') as file:\n",
    "        intersection_indices = pickle.load(file)\n",
    "        intersection_points = pickle.load(file)\n",
    "        segment_ends = pickle.load(file)\n",
    "    print(f\"intersection_indices and intersection_points loaded from {filename}\")"
   ],
   "metadata": {
    "collapsed": false,
    "ExecuteTime": {
     "end_time": "2024-04-30T16:27:39.069870Z",
     "start_time": "2024-04-30T16:27:39.040224Z"
    }
   },
   "id": "3eedf3cf8aa71b62",
   "outputs": [
    {
     "name": "stdout",
     "output_type": "stream",
     "text": [
      "intersection_indices and intersection_points loaded from C:\\Users\\rj\\Documents\\cresis_project\\pickle_jar\\2018_Antarctica_DC8_20181109_01_crossover_points.pickle\n"
     ]
    }
   ],
   "execution_count": 49
  },
  {
   "cell_type": "code",
   "source": [
    "\"\"\" Current Project 30Jan24 \"\"\"\n",
    "# TODO: deconstruct the nested lists and make them make more sense\n",
    "    # put them in class objects\n",
    "\n",
    "print(f\"intersection_indices: {intersection_indices}\")\n",
    "print(f\"intersection_points: {intersection_points}\")"
   ],
   "metadata": {
    "collapsed": false,
    "ExecuteTime": {
     "end_time": "2024-04-30T16:27:39.085160Z",
     "start_time": "2024-04-30T16:27:39.072823Z"
    }
   },
   "id": "e8af2c86e4b0f114",
   "outputs": [
    {
     "name": "stdout",
     "output_type": "stream",
     "text": [
      "intersection_indices: [[9344, 58933], [11761, 98195], [17115, 41749], [23648, 99131], [26131, 57937], [33624, 58438], [36073, 98661], [49126, 99604], [51650, 57430], [70113, 74778], [77290, 81644]]\n",
      "intersection_points: [[array([-82.73538824]), array([-45.54267423])], [array([-83.04623785]), array([-46.29924857])], [array([-83.72498315]), array([-48.26895103])], [array([-82.97795491]), array([-47.16563074])], [array([-82.6583544]), array([-46.40323858])], [array([-82.69736384]), array([-45.9733097])], [array([-83.01243481]), array([-46.73321212])], [array([-82.94274517]), array([-47.59732296])], [array([-82.61776209]), array([-46.82915281])], [array([-82.87744445]), array([-36.53523745])], [array([-82.88865848]), array([-33.70524209])]]\n"
     ]
    }
   ],
   "execution_count": 50
  },
  {
   "cell_type": "code",
   "source": [
    "plot_map(layers, intersection_indices, intersection_points, iceflow_data, season, flight,  zoom=False, cross_index=0, filename=(season + \"_\" + flight + \"crossover\"))\n",
    "plot_layers_at_cross(layers, intersection_indices, intersection_points, season, flight, filename=(season + \"_\" + flight + \"crossover\"))"
   ],
   "metadata": {
    "collapsed": false,
    "ExecuteTime": {
     "end_time": "2024-04-30T16:27:42.186867Z",
     "start_time": "2024-04-30T16:27:39.086168Z"
    }
   },
   "id": "4066b4cf9d2e9d0b",
   "outputs": [
    {
     "name": "stdout",
     "output_type": "stream",
     "text": [
      "Plotting map...\n"
     ]
    },
    {
     "data": {
      "text/plain": [
       "<Figure size 1600x1600 with 1 Axes>"
      ],
      "image/png": "[encoded data removed]"
     },
     "metadata": {},
     "output_type": "display_data"
    },
    {
     "name": "stdout",
     "output_type": "stream",
     "text": [
      "plotted map\n",
      "--------------------\n",
      "\n",
      "Plotting layers...\n",
      "--------------------\n",
      "Adjusting for surface twtt...\n",
      "twtt: [1.4212416976291829e-05, 1.395535327834069e-05]\n",
      "scale factor: 0.07427551623933278\n",
      "scale factor: 14.935682307998928\n"
     ]
    },
    {
     "data": {
      "text/plain": [
       "<Figure size 1600x800 with 3 Axes>"
      ],
      "image/png": "[encoded data removed]"
     },
     "metadata": {},
     "output_type": "display_data"
    }
   ],
   "execution_count": 51
  },
  {
   "metadata": {},
   "cell_type": "markdown",
   "source": "",
   "id": "e284e8f3375563f2"
  },
  {
   "cell_type": "code",
   "source": [
    "# twtt 1 = 1.4212416976291829e-05\n",
    "twtt = twtt_at_point(layers[1], layers[0], intersection_indices, quiet=True)[0]\n",
    "print(f\"twtt: {twtt}\")\n",
    "\n",
    "# twtt 2 = 1.395535327834069e-05\n",
    "\n",
    "# find the depth of both twtt 1 and 2\n",
    "\n",
    "depth1 = twtt_to_depth(twtt[0], refractive_index=1.77)\n",
    "print(f\"depth1: {depth1}\")\n",
    "depth2 = twtt_to_depth(twtt[1], refractive_index=1.77)\n",
    "print(f\"depth2: {depth2}\")\n",
    "\n",
    "# find the difference in depth\n",
    "print(f\"depth2 - depth1: {depth2 - depth1}\")\n",
    "\n",
    "deltatwtt = twtt[1] - twtt[0]\n",
    "print(f\"delta twtt: {deltatwtt}\")"
   ],
   "metadata": {
    "collapsed": false,
    "ExecuteTime": {
     "end_time": "2024-04-30T16:27:42.202108Z",
     "start_time": "2024-04-30T16:27:42.187876Z"
    }
   },
   "id": "c75cd6b3d578e7fe",
   "outputs": [
    {
     "name": "stdout",
     "output_type": "stream",
     "text": [
      "twtt: [1.4212416976291829e-05, 1.395535327834069e-05]\n",
      "depth1: 1203.6088755489986\n",
      "depth2: 1181.8388874497496\n",
      "depth2 - depth1: -21.769988099249076\n",
      "delta twtt: -2.5706369795113877e-07\n"
     ]
    }
   ],
   "execution_count": 52
  },
  {
   "metadata": {},
   "cell_type": "markdown",
   "source": [
    "### Pressing TODO Items:\n",
    "- why are the flow headings fluctuating so much?\n",
    "    - **latlon_to_xy** is not working correctly\n",
    "        ```\n",
    "        input lat-lon: (array([-82.6583544]), array([-46.40323858]))\n",
    "        output x: -550791, y: 578453\n",
    "      \n",
    "        IndexError: index -550791 is out of bounds for axis 0 with size 12445\n",
    "        ```\n",
    "        - the array is only 12445 long, so the x and y values are way off\n",
    "    - investigate xyindex_vector_to_heading()\n",
    "    - or what we are feeding it, i.e. why would it be drawing from different points?\n",
    "    - rework xyindex_vector_to_heading() to use points instead of indices\n",
    "        - possibly go back to spiral search\n",
    "        - plot the actual point on the map then plot the spiral points and the point that is selected"
   ],
   "id": "215dc4926ef0a57a"
  },
  {
   "metadata": {
    "ExecuteTime": {
     "end_time": "2024-04-30T16:27:42.217785Z",
     "start_time": "2024-04-30T16:27:42.203188Z"
    }
   },
   "cell_type": "code",
   "source": [
    "# lat = intersection_points[4][0]\n",
    "# lon = intersection_points[4][1]\n",
    "# lat = lat + 10\n",
    "# lon = lon + 10\n",
    "# print(f\"lat-lon: ({str(lat[0])}, {str(lon[0])})\")\n",
    "# \n",
    "# x, y = latlon_to_xy(lat, lon)\n",
    "# print(f\"x: {x}, y: {y}\")\n",
    "# \n",
    "# x_index = x_to_index(x)\n",
    "# y_index = y_to_index(y)\n",
    "# print(f\"x_index: {x_index}, y_index: {y_index}\")\n",
    "# \n",
    "# print(f\"xy_to_latlon: {xyindex_to_latlon(x, y)}\")"
   ],
   "id": "435d22ab963ebbad",
   "outputs": [],
   "execution_count": 53
  },
  {
   "metadata": {
    "ExecuteTime": {
     "end_time": "2024-04-30T16:27:42.233862Z",
     "start_time": "2024-04-30T16:27:42.219784Z"
    }
   },
   "cell_type": "code",
   "source": [
    "# def generate_spiral_indices(center_x, center_y, max_radius):\n",
    "#     \"\"\"\n",
    "#     Generate indices in a spiral pattern around a center point.\n",
    "#     \"\"\"\n",
    "#     x, y = center_x, center_y\n",
    "#     yield x, y\n",
    "# \n",
    "#     x -= 1\n",
    "#     y -= 1\n",
    "# \n",
    "#     for radius in range(1, max_radius + 1):\n",
    "#         for _ in range(radius * 2):\n",
    "#             x += 1\n",
    "#             yield x, y\n",
    "#         for _ in range(radius * 2):\n",
    "#             y += 1\n",
    "#             yield x, y\n",
    "#         for _ in range(radius * 2):\n",
    "#             x -= 1\n",
    "#             yield x, y\n",
    "#         for _ in range(radius * 2):\n",
    "#             y -= 1\n",
    "#             yield x, y\n",
    "# \n",
    "#         # Move back to the starting point of the next quadrant\n",
    "#         x -= 1\n",
    "#         y -= 1\n",
    "#         yield x, y\n",
    "# \n",
    "# \n",
    "# def xy_to_nearest_unmasked_index(x, y, iceflow_data, max_radius=10, printout=False):\n",
    "#     \"\"\"\n",
    "#     Find the nearest x and y value in the iceflow data to an input x and y value.\n",
    "#     :param x: the x value to find the nearest x value to\n",
    "#     :param y: the y value to find the nearest y value to\n",
    "#     :param iceflow_data: the iceflow data\n",
    "#     :param max_radius: the maximum radius to search for an unmasked point\n",
    "#     :param printout: whether or not to print the nearest unmasked point\n",
    "#     :return: the nearest unmasked x and y value in the iceflow data to an input x and y value\n",
    "#     \"\"\"\n",
    "#     x = x_to_index(x)  # convert the x value to an index\n",
    "#     y = y_to_index(y)  # convert the y value to an index\n",
    "#     unmasked = []  # a list to store the unmasked x and y values\n",
    "#     for x_iterator in range(x - max_radius, x + max_radius):  # iterate through the x values within the max_radius\n",
    "#         for y_iterator in range(y - max_radius, y + max_radius):  # iterate through the y values within the max_radius\n",
    "#             if (\n",
    "#                     0 <= x_iterator < iceflow_data[2].shape[\n",
    "#                 0]  # if the x index is within the bounds of the iceflow data\n",
    "#                     and 0 <= y_iterator < iceflow_data[2].shape[1]\n",
    "#                     and not np.ma.is_masked(iceflow_data[2][x_iterator][y_iterator])\n",
    "#                     and not np.ma.is_masked(iceflow_data[3][x_iterator][y_iterator])\n",
    "#             ):  # if the x and y values are unmasked\n",
    "#                 unmasked.append((x_iterator, y_iterator))  # append the x and y values to the unmasked list\n",
    "#             if printout and not np.ma.is_masked(iceflow_data[2][x_iterator][y_iterator]):\n",
    "#                 print(f\"unmasked x: {x_iterator}, unmasked y: {y_iterator}\")\n",
    "#                 print(\n",
    "#                     f\"unmasked lat: {iceflow_data[4][x_iterator][y_iterator]}, unmasked lon: {iceflow_data[5][x_iterator][y_iterator]}\")\n",
    "#                 print(\n",
    "#                     f\"unmasked flow: {iceflow_data[2][x_iterator][y_iterator]}, {iceflow_data[3][x_iterator][y_iterator]}\")\n",
    "#     # find the xy pair with the minimum distance from the input x and y\n",
    "#     min_distance = 100\n",
    "#     min_x = None\n",
    "#     min_y = None\n",
    "#     for x_iterator, y_iterator in unmasked:\n",
    "#         distance = math.sqrt((x - x_iterator) ** 2 + (y - y_iterator) ** 2)\n",
    "#         if distance < min_distance:\n",
    "#             min_distance = distance\n",
    "#             min_x = x_iterator\n",
    "#             min_y = y_iterator\n",
    "# \n",
    "#     # print(f\"latlon of nearest unmasked: {iceflow_data[4][min_x][min_y], iceflow_data[5][min_x][min_y]}\")\n",
    "#     return min_x, min_y"
   ],
   "id": "2616b9599a3537f6",
   "outputs": [],
   "execution_count": 54
  },
  {
   "metadata": {
    "ExecuteTime": {
     "end_time": "2024-04-30T16:27:42.249646Z",
     "start_time": "2024-04-30T16:27:42.234863Z"
    }
   },
   "cell_type": "code",
   "source": "from pyproj import Geod\n",
   "id": "9bda7b1ada6780b6",
   "outputs": [],
   "execution_count": 55
  },
  {
   "metadata": {
    "ExecuteTime": {
     "end_time": "2024-04-30T16:27:42.264647Z",
     "start_time": "2024-04-30T16:27:42.252649Z"
    }
   },
   "cell_type": "code",
   "source": [
    "# # use cartopy to plot the spiral around the point to see if it is working\n",
    "# \n",
    "# \n",
    "# dimension = 100\n",
    "# crs_epsg = ccrs.SouthPolarStereo(central_longitude=0.0, true_scale_latitude=-71)\n",
    "# fig = plt.figure(figsize=(16, 16))\n",
    "# ax = plt.axes(projection=crs_epsg)\n",
    "# \n",
    "# # set the centerpoint to the first crossover point\n",
    "# ax.set_extent([intersection_points[4][1] - dimension, intersection_points[4][1] + dimension,\n",
    "#                intersection_points[4][0] - dimension, intersection_points[4][0] + dimension], crs_epsg)\n",
    "# \n",
    "# ax.coastlines()\n",
    "# ax.gridlines()\n",
    "# ax.add_feature(cfeature.LAND, zorder=0, facecolor='lightgrey')\n",
    "# ax.add_feature(cfeature.OCEAN, zorder=0, edgecolor='black')\n",
    "# \n",
    "# # plot a single crossover point\n",
    "# ax.scatter(intersection_points[4][1], intersection_points[4][0], color='red', linewidth=5, label='Crossover Point', transform=ccrs.PlateCarree())\n",
    "# \n",
    "# \n",
    "# # scatter -82.65836528532502, -46.40323876361197\n",
    "# lat2 = -82.65836528532502\n",
    "# lon2 = -46.40323876361197\n",
    "# # ax.scatter(lon2, lat2, color='blue', linewidth=5, label='Spiral Point')\n",
    "# x2, y2 = latlon_to_xy(lat2, lon2)\n",
    "# # print(f\"x2: {x2}, y2: {y2}\")\n",
    "# \n",
    "# geodesic = Geod(ellps='WGS84')\n",
    "# distance = geodesic.inv(lon, lat, lon2, lat2)[2]\n",
    "# # print(f\"\\ndistance: {distance} meters\\n\")\n",
    "# distance = latlon_dist([lat, lon], [lat2, lon2])\n",
    "# # print(f\"distance: {distance} meters\\n\")\n",
    "# \n",
    "# \n",
    "# # plot the spiral around the point\n",
    "# # for x, y in generate_spiral_indices(x, y, 3):\n",
    "# #     print(f\"x: {x}, y: {y}\")\n",
    "# #     lat2, lon2 = xyindex_to_latlon(x, y)\n",
    "# #     lat_actual = iceflow_data[4][x][y]\n",
    "# #     lon_actual = iceflow_data[5][x][y]\n",
    "# #     \n",
    "# #     ax.scatter(lon2, lat2, color='blue', linewidth=0.1, label='Spiral Point')\n",
    "# #     plt.text(lon2, lat2, f\"{x}, {y}\", fontsize=8)\n",
    "# #     print(f\"lat-lon by my code: {lat2, lon2}\")\n",
    "# #     \n",
    "# #     # distance = geodesic.inv(lon, lat, lon2, lat2)[2]\n",
    "# #     print(f\"\\ndistance: {distance} meters\\n\")\n",
    "# \n",
    "#     \n",
    "# # print(f\"x: {x}, y: {y}\")\n",
    "# \n",
    "# nearest_x_index = 5000\n",
    "# nearest_y_index = 4938\n",
    "# nearest_lat = iceflow_data[4][nearest_x_index][nearest_y_index]\n",
    "# nearest_lon = iceflow_data[5][nearest_x_index][nearest_y_index]\n",
    "# print(f\"nearest_lat: {nearest_lat}, nearest_lon: {nearest_lon}\")\n",
    "# \n",
    "# ax.scatter(nearest_lon, nearest_lat, color='blue', linewidth=5, label='Nearest Point', transform=ccrs.PlateCarree())\n",
    "# ax.text(nearest_lon, nearest_lat, f\"{nearest_x_index}, {nearest_y_index}\", fontsize=8)\n",
    "# \n",
    "# \n",
    "# # repeat the above for every crossover point\n",
    "# flow_xy = [] # the flow vector in xy \n",
    "# flow_heading_full = [] # the flow vector heading in angle1, angle2, distance (in meters)\n",
    "# flow_heading = []\n",
    "# plane_heading_1 = []\n",
    "# plane_heading_2 = []\n",
    "# angle = [] # the angle between the flow vector and the plane heading\n",
    "# twtt = twtt_at_point(layers[1], layers[0], intersection_indices, quiet=True)\n",
    "# delta_twtt = []\n",
    "# \n",
    "# # for i in range(len(intersection_indices)):\n",
    "# #     # convert the lat-lon point to xy and then to indices\n",
    "# #     lat, lon = intersection_points[i] \n",
    "# #     print(f\"lat-lon {i}: {lat, lon}\")\n",
    "# #     \n",
    "# #     x, y = latlon_to_xy(lat, lon)\n",
    "# #     print(f\"x: {x}, y: {y}\")\n",
    "# #     \n",
    "# #     x_index, y_index = x_to_index(x), y_to_index(y)\n",
    "# #     print(f\"x_index: {x_index}, y_index: {y_index}\")\n",
    "# #     \n",
    "# #     nearest_x_index, nearest_y_index = xy_to_nearest_unmasked_index(x, y, iceflow_data, max_radius=10)\n",
    "# #     \n",
    "# #     # find the nearest good iceflow_data to the crossover point\n",
    "# #     nearest_lat = iceflow_data[4][nearest_x_index][nearest_y_index]\n",
    "# #     nearest_lon = iceflow_data[5][nearest_x_index][nearest_y_index]\n",
    "# #     print(f\"nearest_lat: {nearest_lat}, nearest_lon: {nearest_lon}\")\n",
    "# #     ax.scatter(nearest_lon, nearest_lat, color='blue', linewidth=5, label='Nearest Point')\n",
    "# # \n",
    "# #     flow_xy.append([iceflow_data[2][nearest_x_index][nearest_y_index], iceflow_data[3][nearest_x_index][nearest_y_index]])\n",
    "# #     print(f\"flow at nearest: {flow_xy[i]}\")\n",
    "# #     \n",
    "# #     # find the heading of the flow vector   \n",
    "# #     flow_heading_full.append(xyindex_vector_to_heading(nearest_x_index, nearest_y_index, flow_xy[i][0], flow_xy[i][1]))\n",
    "# #     flow_heading.append(flow_heading_full[i][0])\n",
    "# #     print(f\"flow_heading[{i}]: {flow_heading[i]}\")\n",
    "# # \n",
    "# #     # find the heading of the first segment\n",
    "# #     plane_heading_1.append(find_heading(layers[0], intersection_indices[i][0]))\n",
    "# #     # print(f\"heading_1[{i}]: {plane_heading_1[i]}\")\n",
    "# # \n",
    "# #     # find the heading of the second segment\n",
    "# #     plane_heading_2.append(find_heading(layers[0], intersection_indices[i][1]))\n",
    "# #     # print(f\"heading_2[{i}]: {plane_heading_2[i]}\")\n",
    "# #     \n",
    "# #     # plane_flow_angle = min(abs(plane_heading_1[i] - flow_heading[i]), abs(plane_heading_2[i] - flow_heading[i]))\n",
    "# #     plane_flow_angle = max(abs(plane_heading_1[i] - flow_heading[i]), abs(plane_heading_2[i] - flow_heading[i]))\n",
    "# # \n",
    "# #     # print(f\"plane_flow_angle: {plane_flow_angle}\")\n",
    "# #     angle.append(plane_flow_angle)\n",
    "# #     \n",
    "# #     # find the twtt at the crossover point on both segments\n",
    "# #     # print(f\"twtt{i}: {twtt[i]}\")\n",
    "# #     # delta_twtt.append(twtt[i][1] - twtt[i][0])\n",
    "# #     # append the absolute value of the twtt\n",
    "# #     delta_twtt.append(abs(twtt[i][1] - twtt[i][0]))\n",
    "# #     # print(f\"delta_twtt[{i}]: {delta_twtt[i]}\")\n",
    "# #     \n",
    "# #     print(section_break)\n",
    "# \n",
    "# \n",
    "# # length = len(delta_twtt)\n",
    "# # while i < length: # remove any nan valued points from the lists\n",
    "# #     if math.isnan(delta_twtt[i]):\n",
    "# #         delta_twtt.pop(i)\n",
    "# #         flow_xy.pop(i)\n",
    "# #         angle.pop(i)\n",
    "# #         magnitude.pop(i)\n",
    "# #         plane_heading_1.pop(i)\n",
    "# #         plane_heading_2.pop(i)\n",
    "# #         intersection_indices.pop(i)\n",
    "# #         intersection_points.pop(i)\n",
    "# #         print(f\"intersection {i} removed\")\n",
    "# #         print(section_break)\n",
    "# #         length -= 1\n",
    "# #     else:\n",
    "# #         i += 1\n",
    "#         \n",
    "# \n",
    "# \n",
    "# plt.show()\n"
   ],
   "id": "3403e1e7fa5c2e7f",
   "outputs": [],
   "execution_count": 56
  },
  {
   "metadata": {
    "ExecuteTime": {
     "end_time": "2024-04-30T16:27:42.295321Z",
     "start_time": "2024-04-30T16:27:42.266331Z"
    }
   },
   "cell_type": "code",
   "source": [
    "# x,y are the first intersection point\n",
    "lat = intersection_points[4][0]\n",
    "lon = intersection_points[4][1]\n",
    "# lat = -82.1\n",
    "# lon = -46\n",
    "\n",
    "print(f\"lat-lon: {lat, lon}\")\n",
    "x, y = latlon_to_xy(lat, lon)\n",
    "print(f\"x: {x}, y: {y}\")\n",
    "nearest_x_index, nearest_y_index = xy_to_nearest_unmasked_index(x,y, iceflow_data, max_radius=10)\n",
    "print(f\"nearest_x_index: {nearest_x_index}, nearest_y_index: {nearest_y_index}\")\n",
    "nearest_lat = iceflow_data[4][nearest_x_index][nearest_y_index]\n",
    "nearest_lon = iceflow_data[5][nearest_x_index][nearest_y_index]\n",
    "print(f\"nearest_lat: {nearest_lat}, nearest_lon: {nearest_lon}\")"
   ],
   "id": "e7ca550ac524853e",
   "outputs": [
    {
     "name": "stdout",
     "output_type": "stream",
     "text": [
      "lat-lon: (array([-82.6583544]), array([-46.40323858]))\n",
      "x: -550791, y: 578453\n",
      "nearest_x_index: 5000, nearest_y_index: 4938\n",
      "nearest_lat: -82.66703764719111, nearest_lon: 313.58300670965565\n"
     ]
    }
   ],
   "execution_count": 57
  },
  {
   "metadata": {
    "ExecuteTime": {
     "end_time": "2024-04-30T16:27:42.310914Z",
     "start_time": "2024-04-30T16:27:42.297325Z"
    }
   },
   "cell_type": "code",
   "source": [
    "\"\"\"\n",
    "remove and update the iceflow library once this works\n",
    "\"\"\"\n",
    "def xyindex_vector_to_heading(x_index, y_index, x_vector, y_vector):\n",
    "    \"\"\"\n",
    "    This function is used to convert an x and y vector in EPSG:3031 to a heading in EPSG:4326.\n",
    "    :param x_index: the x coordinate\n",
    "    :param y_index: the y coordinate\n",
    "    :param x_vector: the x vector\n",
    "    :param y_vector: the y vector\n",
    "    :return: the heading in EPSG:4326\n",
    "    \"\"\"\n",
    "    # convert the x and y indices to x and y coordinates\n",
    "    x, y = index_to_x(x_index), index_to_y(y_index)\n",
    "    \n",
    "    base_plus_x_vector = x + x_vector\n",
    "    base_plus_y_vector = y + y_vector\n",
    "    \n",
    "    # convert the x and y vector to lat and lon\n",
    "    lat_vector, lon_vector = xyindex_to_latlon(base_plus_x_vector, base_plus_y_vector)\n",
    "\n",
    "    # calculate the heading of the vector    \n",
    "    # convert the x and y indices to lat and lon\n",
    "    lat, lon = xyindex_to_latlon(x_index, y_index)\n",
    "    geodesic = pyproj.Geod(ellps='WGS84')\n",
    "    angle1, angle2, distance = geodesic.inv(lon, lat, lon_vector, lat_vector)\n",
    "    return angle1, angle2, distance"
   ],
   "id": "63744cebf5064f13",
   "outputs": [],
   "execution_count": 58
  },
  {
   "cell_type": "code",
   "source": [
    "# repeat the above for every crossover point\n",
    "flow_xy = [] # the flow vector in xy \n",
    "flow_heading_full = [] # the flow vector heading in angle1, angle2, distance (in meters)\n",
    "flow_heading = []\n",
    "plane_heading_1 = []\n",
    "plane_heading_2 = []\n",
    "angle = [] # the angle between the flow vector and the plane heading\n",
    "twtt = twtt_at_point(layers[1], layers[0], intersection_indices, quiet=True)\n",
    "delta_twtt = []\n",
    "\n",
    "for i in range(len(intersection_indices)):\n",
    "    # convert the lat-lon point to xy and then to indices\n",
    "    lat, lon = intersection_points[i] \n",
    "    # print(f\"lat-lon {i}: \\t\\t{lat[0], lon[0]}\")\n",
    "    \n",
    "    x, y = latlon_to_xy(lat, lon)\n",
    "    # print(f\"x: {x}, y: {y}\")\n",
    "    \n",
    "    x_index, y_index = x_to_index(x), y_to_index(y)\n",
    "    # print(f\"x_index: {x_index}, y_index: {y_index}\")\n",
    "    \n",
    "    nearest_x_index, nearest_y_index = xy_to_nearest_unmasked_index(x, y, iceflow_data, max_radius=10)\n",
    "    \n",
    "    # find the nearest good iceflow_data to the crossover point\n",
    "    nearest_lat = iceflow_data[4][nearest_x_index][nearest_y_index]\n",
    "    nearest_lon = iceflow_data[5][nearest_x_index][nearest_y_index]\n",
    "    # print(f\"nearest_lat-lon: \\t{nearest_lat, nearest_lon}\")\n",
    "\n",
    "    flow_xy.append([iceflow_data[2][nearest_x_index][nearest_y_index], iceflow_data[3][nearest_x_index][nearest_y_index]])\n",
    "    print(f\"flow at nearest: {flow_xy[i]}\")\n",
    "    \n",
    "    # find the heading of the flow vector   \n",
    "    flow_heading_full.append(xyindex_vector_to_heading(nearest_x_index, nearest_y_index, flow_xy[i][0], flow_xy[i][1]))\n",
    "    flow_heading.append(flow_heading_full[i][0])\n",
    "    print(f\"flow_heading[{i}]: {flow_heading[i]}\")\n",
    "\n",
    "    # find the heading of the first segment\n",
    "    plane_heading_1.append(find_heading(layers[0], intersection_indices[i][0]))\n",
    "    # print(f\"heading_1[{i}]: {plane_heading_1[i]}\")\n",
    "\n",
    "    # find the heading of the second segment\n",
    "    plane_heading_2.append(find_heading(layers[0], intersection_indices[i][1]))\n",
    "    # print(f\"heading_2[{i}]: {plane_heading_2[i]}\")\n",
    "    \n",
    "    # plane_flow_angle = min(abs(plane_heading_1[i] - flow_heading[i]), abs(plane_heading_2[i] - flow_heading[i]))\n",
    "    plane_flow_angle = max(abs(plane_heading_1[i] - flow_heading[i]), abs(plane_heading_2[i] - flow_heading[i]))\n",
    "\n",
    "    # print(f\"plane_flow_angle: {plane_flow_angle}\")\n",
    "    angle.append(plane_flow_angle)\n",
    "    \n",
    "    # find the twtt at the crossover point on both segments\n",
    "    # print(f\"twtt{i}: {twtt[i]}\")\n",
    "    # delta_twtt.append(twtt[i][1] - twtt[i][0])\n",
    "    # append the absolute value of the twtt\n",
    "    delta_twtt.append(abs(twtt[i][1] - twtt[i][0]))\n",
    "    # print(f\"delta_twtt[{i}]: {delta_twtt[i]}\")\n",
    "    \n",
    "    print(section_break)\n",
    "\n",
    "\n",
    "length = len(delta_twtt)\n",
    "while i < length: # remove any nan valued points from the lists\n",
    "    if math.isnan(delta_twtt[i]):\n",
    "        delta_twtt.pop(i)\n",
    "        flow_xy.pop(i)\n",
    "        angle.pop(i)\n",
    "        magnitude.pop(i)\n",
    "        plane_heading_1.pop(i)\n",
    "        plane_heading_2.pop(i)\n",
    "        intersection_indices.pop(i)\n",
    "        intersection_points.pop(i)\n",
    "        print(f\"intersection {i} removed\")\n",
    "        print(section_break)\n",
    "        length -= 1\n",
    "    else:\n",
    "        i += 1\n",
    "        "
   ],
   "metadata": {
    "collapsed": false,
    "ExecuteTime": {
     "end_time": "2024-04-30T16:27:42.498461Z",
     "start_time": "2024-04-30T16:27:42.312918Z"
    }
   },
   "id": "b71a3f6174b764a",
   "outputs": [
    {
     "name": "stdout",
     "output_type": "stream",
     "text": [
      "flow at nearest: [-64.12601, 119.014175]\n",
      "flow_heading[0]: 90.10755670266077\n",
      "--------------------\n",
      "\n",
      "flow at nearest: [-25.121527, 32.477905]\n",
      "flow_heading[1]: 89.54302757359679\n",
      "--------------------\n",
      "\n",
      "flow at nearest: [-62.225166, 97.969536]\n",
      "flow_heading[2]: 88.02371770942838\n",
      "--------------------\n",
      "\n",
      "flow at nearest: [-127.177086, 212.76761]\n",
      "flow_heading[3]: 88.89083701645419\n",
      "--------------------\n",
      "\n",
      "flow at nearest: [-31.562683, 225.21318]\n",
      "flow_heading[4]: 89.43400128399126\n",
      "--------------------\n",
      "\n",
      "flow at nearest: [-63.651077, 235.79974]\n",
      "flow_heading[5]: 89.77460392496953\n",
      "--------------------\n",
      "\n",
      "flow at nearest: [-82.56817, 179.21219]\n",
      "flow_heading[6]: 89.21132616245086\n",
      "--------------------\n",
      "\n",
      "flow at nearest: [-107.67145, 192.70667]\n",
      "flow_heading[7]: 88.55539341934647\n",
      "--------------------\n",
      "\n",
      "flow at nearest: [-5.1808186, 45.26827]\n",
      "flow_heading[8]: 89.141689754687\n",
      "--------------------\n",
      "\n",
      "flow at nearest: [-3.5694234, 4.3972797]\n",
      "flow_heading[9]: 96.93308961039797\n",
      "--------------------\n",
      "\n",
      "flow at nearest: [-1.080744, -1.223384]\n",
      "flow_heading[10]: 99.12454547952885\n",
      "--------------------\n",
      "\n"
     ]
    }
   ],
   "execution_count": 59
  },
  {
   "metadata": {},
   "cell_type": "markdown",
   "source": [
    "# Pressing TODO\n",
    "- point conversion seems to be working so far\n",
    "    - it does convert negative longitudes to positive longitudes, not sure if that makes a difference\n",
    "- need to investigate wht flow headings are varying over small distances"
   ],
   "id": "b6399b677fc7842c"
  },
  {
   "cell_type": "code",
   "source": [
    "for i in range(len(flow_heading)):\n",
    "    print(f\"flow_heading[{i}]: {flow_heading[i]}\")\n",
    "    print(f\"plane_heading_1[{i}]: {plane_heading_1[i]}\")\n",
    "    print(f\"plane_heading_2[{i}]: {plane_heading_2[i]}\")\n",
    "    print(f\"plane_heading_1 - flow_heading[{i}]: {abs(plane_heading_1[i] - flow_heading[i])}\\n\")\n"
   ],
   "metadata": {
    "collapsed": false,
    "ExecuteTime": {
     "end_time": "2024-04-30T16:27:42.514458Z",
     "start_time": "2024-04-30T16:27:42.500465Z"
    }
   },
   "id": "d8d71f7aeb83cd5d",
   "outputs": [
    {
     "name": "stdout",
     "output_type": "stream",
     "text": [
      "flow_heading[0]: 90.10755670266077\n",
      "plane_heading_1[0]: [-163.5029208]\n",
      "plane_heading_2[0]: [124.80375102]\n",
      "plane_heading_1 - flow_heading[0]: [253.6104775]\n",
      "\n",
      "flow_heading[1]: 89.54302757359679\n",
      "plane_heading_1[1]: [-162.83461942]\n",
      "plane_heading_2[1]: [-57.42489712]\n",
      "plane_heading_1 - flow_heading[1]: [252.377647]\n",
      "\n",
      "flow_heading[2]: 88.02371770942838\n",
      "plane_heading_1[2]: [-125.12872914]\n",
      "plane_heading_2[2]: [-154.52650814]\n",
      "plane_heading_1 - flow_heading[2]: [213.15244685]\n",
      "\n",
      "flow_heading[3]: 88.89083701645419\n",
      "plane_heading_1[3]: [16.8647554]\n",
      "plane_heading_2[3]: [-56.57779442]\n",
      "plane_heading_1 - flow_heading[3]: [72.02608161]\n",
      "\n",
      "flow_heading[4]: 89.43400128399126\n",
      "plane_heading_1[4]: [16.30707973]\n",
      "plane_heading_2[4]: [125.8150743]\n",
      "plane_heading_1 - flow_heading[4]: [73.12692155]\n",
      "\n",
      "flow_heading[5]: 89.77460392496953\n",
      "plane_heading_1[5]: [-163.57648201]\n",
      "plane_heading_2[5]: [125.11365666]\n",
      "plane_heading_1 - flow_heading[5]: [253.35108593]\n",
      "\n",
      "flow_heading[6]: 89.21132616245086\n",
      "plane_heading_1[6]: [-163.0100219]\n",
      "plane_heading_2[6]: [-57.05203044]\n",
      "plane_heading_1 - flow_heading[6]: [252.22134806]\n",
      "\n",
      "flow_heading[7]: 88.55539341934647\n",
      "plane_heading_1[7]: [16.93223369]\n",
      "plane_heading_2[7]: [-56.10463221]\n",
      "plane_heading_1 - flow_heading[7]: [71.62315972]\n",
      "\n",
      "flow_heading[8]: 89.141689754687\n",
      "plane_heading_1[8]: [16.13714374]\n",
      "plane_heading_2[8]: [127.1945412]\n",
      "plane_heading_1 - flow_heading[8]: [73.00454602]\n",
      "\n",
      "flow_heading[9]: 96.93308961039797\n",
      "plane_heading_1[9]: [16.75648709]\n",
      "plane_heading_2[9]: [94.43989408]\n",
      "plane_heading_1 - flow_heading[9]: [80.17660252]\n",
      "\n",
      "flow_heading[10]: 99.12454547952885\n",
      "plane_heading_1[10]: [90.45569257]\n",
      "plane_heading_2[10]: [-162.52673509]\n",
      "plane_heading_1 - flow_heading[10]: [8.66885291]\n",
      "\n"
     ]
    }
   ],
   "execution_count": 60
  },
  {
   "cell_type": "markdown",
   "source": [
    "# TODO: functionize this plot once it works"
   ],
   "metadata": {
    "collapsed": false
   },
   "id": "7bfa0195995f0c97"
  },
  {
   "cell_type": "code",
   "source": [
    "# TODO: verify this plot is correct\n",
    "# TODO: verify the Y scale and label it\n",
    "    # Dave expects the delta_twtt to be ~0.1 sec\n",
    "# plot delta_twtt vs |cos(angle - heading) - sin(angle - heading)| * |magnitude|  for each crossover point\n",
    "plt.figure(figsize=(24, 12), layout='constrained')\n",
    "# plt.scatter(np.abs(np.cos(np.radians(np.array(angle) - np.array(heading_1)))) * np.abs(np.array(magnitude)), delta_twtt, label='segment 1')\n",
    "# plt.scatter(np.abs(np.cos(np.radians(np.array(angle) - np.array(heading_2)))) * np.abs(np.array(magnitude)), delta_twtt, label='segment 2')\n",
    "\n",
    "# plt.scatter(np.abs(np.cos(np.radians(np.array(angle) - np.array(plane_heading_1)))), delta_twtt, label='segment 1')  # angle - heading\n",
    "# plt.scatter(np.abs(np.cos(np.radians(np.array(angle) - np.array(plane_heading_2)))), delta_twtt, label='segment 2')\n",
    "\n",
    "# cos(angle - heading) vs delta_twtt\n",
    "# plt.scatter(np.abs(np.cos(np.radians(np.array(flow_heading) - np.array(plane_heading_1)))), delta_twtt, label='segment 1')  # flow angle - heading\n",
    "# plt.scatter(np.abs(np.cos(np.radians(np.array(flow_heading) - np.array(plane_heading_2)))), delta_twtt, label='segment 2')\n",
    "\n",
    "# |cos(angle - heading) - sin(angle - heading) |vs delta_twtt\n",
    "# plt.scatter(np.abs(np.cos(np.radians(np.array(angle) - np.array(plane_heading_1))) - np.sin(np.radians(np.array(angle) - np.array(plane_heading_1)))), delta_twtt, label='segment 1')  # angle - heading\n",
    "# plt.scatter(np.abs(np.cos(np.radians(np.array(angle) - np.array(plane_heading_2))) - np.sin(np.radians(np.array(angle) - np.array(plane_heading_2)))), delta_twtt, label='segment 2')\n",
    "\n",
    "# |cos(θ) – sin(φ)| vs delta_twtt. theta is the angle between the flow vector and the plane heading on segment 1, phi is the angle between the plane headings on segments 1 and 2\n",
    "for i in range(len(delta_twtt)):\n",
    "    theta = angle[i]\n",
    "    phi = abs(plane_heading_1[i] - plane_heading_2[i])\n",
    "    print(f\"theta: {theta}, phi: {phi} for i: {i}\\n cos(theta): {np.cos(np.radians(theta))}, sin(phi): {np.sin(np.radians(phi))}\")\n",
    "    plt.scatter(np.abs(np.cos(np.radians(theta)) - np.sin(np.radians(phi))), delta_twtt[i], label='segment 1')  # angle - heading   \n",
    "\n",
    "# for each point, print the index and the delta_twtt\n",
    "# for i in range(len(delta_twtt)):\n",
    "#     plt.text(np.abs(np.cos(np.radians(np.array(flow_heading[i]) - np.array(plane_heading_1[i])))), delta_twtt[i], f\"{i}: {delta_twtt[i]}\")\n",
    "\n",
    "# plt.xlabel(\" |cos(angle - heading)| * |velocity|\")\n",
    "# plt.xlabel(\" |cos(angle - heading)|\")\n",
    "plt.xlabel(\"|cos(θ) – sin(φ)|\")\n",
    "\n",
    "plt.ylabel(\"delta_twtt (s)\")\n",
    "# plt.title(\" |cos(angle - heading)| vs delta_twtt\")\n",
    "# plt.title(f\"{season} {flight} \\n|cos(angle - heading)| vs delta_twtt\", fontsize=20)\n",
    "plt.title(f\"{season} {flight} \\n|cos(θ) – sin(φ)| vs delta_twtt\", fontsize=20)\n",
    "\n",
    "\n",
    "plt.legend([\"legend\"], fontsize='smaller', loc='upper right', bbox_to_anchor=(1.1, 1.1))\n",
    "# scale axes to be logarithmic\n",
    "# plt.xscale('log')\n",
    "plt.yscale('log')\n",
    "\n",
    "# get the current directory\n",
    "dir = os.getcwd()\n",
    "\n",
    "# save the plot as a png file with a high dpi named after the season and flight\n",
    "# plt.savefig(f\"C:\\\\Users\\\\rj\\Documents\\\\cresis_project\\\\screens\\\\{season}_{flight}_cos_angle_heading_vs_delta_twtt_logy.png\", dpi=300)\n",
    "plt.savefig(f\"{dir}\\\\screens\\\\{season}_{flight}_cos_angle_heading_vs_delta_twtt_logy.png\", dpi=300)\n",
    "\n",
    "\n",
    "# plt.show()\n",
    "\n",
    "plt.yscale('linear')\n",
    "# save the plot as a png file with a high dpi named after the season and flight\n",
    "plt.savefig(f\"{dir}\\\\screens\\\\{season}_{flight}_cos_angle_heading_vs_delta_twtt_lineary.png\", dpi=300)\n",
    "plt.show()\n",
    "\n",
    "print(f\"saved plot as {dir}\\\\screens\\\\{season}_{flight}_cos_angle_heading_vs_delta_twtt.png\")\n",
    "# |cos(90) - sin(90)| = 0 - 1 = 1\n",
    "# plot should peak either at 1 or 0 depending on which flight is closer to the flow vector\n",
    "    # in theory it should be around 1 but it could be 0 if coded wrong"
   ],
   "metadata": {
    "collapsed": false,
    "ExecuteTime": {
     "end_time": "2024-04-30T16:27:45.150765Z",
     "start_time": "2024-04-30T16:27:42.516460Z"
    }
   },
   "id": "f25a2814fd42c652",
   "outputs": [
    {
     "name": "stdout",
     "output_type": "stream",
     "text": [
      "theta: [253.6104775], phi: [288.30667182] for i: 0\n",
      " cos(theta): [-0.28216603], sin(phi): [-0.94938891]\n",
      "theta: [252.377647], phi: [105.40972231] for i: 1\n",
      " cos(theta): [-0.30274174], sin(phi): [0.96405033]\n",
      "theta: [242.55022585], phi: [29.397779] for i: 2\n",
      " cos(theta): [-0.46097088], sin(phi): [0.49086998]\n",
      "theta: [145.46863143], phi: [73.44254982] for i: 3\n",
      " cos(theta): [-0.82381597], sin(phi): [0.95853447]\n",
      "theta: [73.12692155], phi: [109.50799457] for i: 4\n",
      " cos(theta): [0.29025258], sin(phi): [0.94259491]\n",
      "theta: [253.35108593], phi: [288.69013866] for i: 5\n",
      " cos(theta): [-0.28650639], sin(phi): [-0.94726545]\n",
      "theta: [252.22134806], phi: [105.95799146] for i: 6\n",
      " cos(theta): [-0.30534053], sin(phi): [0.96146353]\n",
      "theta: [144.66002563], phi: [73.0368659] for i: 7\n",
      " cos(theta): [-0.81573423], sin(phi): [0.95649268]\n",
      "theta: [73.00454602], phi: [111.05739746] for i: 8\n",
      " cos(theta): [0.29229583], sin(phi): [0.93322095]\n",
      "theta: [80.17660252], phi: [77.68340698] for i: 9\n",
      " cos(theta): [0.17061189], sin(phi): [0.97698384]\n",
      "theta: [261.65128057], phi: [252.98242766] for i: 10\n",
      " cos(theta): [-0.14519756], sin(phi): [-0.95621504]\n"
     ]
    },
    {
     "data": {
      "text/plain": [
       "<Figure size 2400x1200 with 1 Axes>"
      ],
      "image/png": "[encoded data removed]"
     },
     "metadata": {},
     "output_type": "display_data"
    },
    {
     "name": "stdout",
     "output_type": "stream",
     "text": [
      "saved plot as C:\\Users\\rj\\Documents\\cresis_project\\screens\\2018_Antarctica_DC8_20181109_01_cos_angle_heading_vs_delta_twtt.png\n"
     ]
    }
   ],
   "execution_count": 61
  },
  {
   "cell_type": "markdown",
   "source": [
    "# END OF RELEVANT CODE FOR ARA TALK"
   ],
   "metadata": {
    "collapsed": false
   },
   "id": "411b9e180549373e"
  },
  {
   "metadata": {
    "ExecuteTime": {
     "end_time": "2024-04-30T16:15:58.426281Z",
     "start_time": "2024-04-30T16:15:58.412774Z"
    }
   },
   "cell_type": "code",
   "source": "",
   "id": "ac489c22b6e61af4",
   "outputs": [],
   "execution_count": 21
  },
  {
   "metadata": {
    "ExecuteTime": {
     "end_time": "2024-04-30T16:15:58.442382Z",
     "start_time": "2024-04-30T16:15:58.428293Z"
    }
   },
   "cell_type": "code",
   "source": "",
   "id": "badf090b00f56021",
   "outputs": [],
   "execution_count": 21
  },
  {
   "metadata": {
    "ExecuteTime": {
     "end_time": "2024-04-30T16:15:58.457605Z",
     "start_time": "2024-04-30T16:15:58.443381Z"
    }
   },
   "cell_type": "code",
   "source": "",
   "id": "b12eba24a1a45650",
   "outputs": [],
   "execution_count": 21
  },
  {
   "cell_type": "code",
   "source": [
    "# x_data = np.abs(np.cos(np.radians(np.array(angle) - np.array(heading_1))))\n",
    "# y_data = delta_twtt\n",
    "# \n",
    "# # Define the Gaussian function\n",
    "# def gaussian(x, amplitude, mean, stddev):\n",
    "#     return amplitude * np.exp(-((x - mean) ** 2) / (2 * stddev ** 2))\n",
    "# \n",
    "# # Initial parameter guesses: amplitude close to your data's scale, mean around the center, and a reasonable stddev\n",
    "# initial_guesses = [1e-8, 0.5, 0.1]\n",
    "# \n",
    "# # Use curve_fit to fit the Gaussian function to your data\n",
    "# popt, pcov = opt.curve_fit(gaussian, x_data, y_data, p0=initial_guesses, maxfev=5000)\n",
    "# \n",
    "# # Plot the original data\n",
    "# plt.scatter(x_data, y_data, label='Data')\n",
    "# \n",
    "# # Plot the fitted curve\n",
    "# x_fit = np.linspace(min(x_data), max(x_data), 1000)\n",
    "# y_fit = gaussian(x_fit, *popt)\n",
    "# plt.plot(x_fit, y_fit, color='red', label='Fitted curve')\n",
    "# \n",
    "# plt.xlabel('X axis')\n",
    "# plt.ylabel('Y axis')\n",
    "# plt.title('Gaussian Fit to Data')\n",
    "# plt.legend()\n",
    "# plt.show()"
   ],
   "metadata": {
    "collapsed": false,
    "ExecuteTime": {
     "end_time": "2024-04-30T16:15:58.473135Z",
     "start_time": "2024-04-30T16:15:58.459609Z"
    }
   },
   "id": "1434b909fad18984",
   "outputs": [],
   "execution_count": 22
  },
  {
   "cell_type": "markdown",
   "source": [
    "ntuple-ize\n",
    "    cos(heading-flow)\n",
    "    difference in theta paralell and perpindicular\n",
    "    delta_twtt\n",
    "    v_flow\n",
    "- stop selecting for angle in upper cells, we can cut the data once we have it\n",
    "\n",
    "ARA meeting in March Columbus\n",
    "- talk to Kiet about how he is setting up travel"
   ],
   "metadata": {
    "collapsed": false
   },
   "id": "cddd897600559d8"
  },
  {
   "cell_type": "code",
   "source": [
    "heading = []\n",
    "# for each plane heaading, add [plane_heading_1, plane_heading_2] to the heading list\n",
    "for i in range(len(plane_heading_1)):\n",
    "    heading.append([plane_heading_1[i], plane_heading_2[i]])"
   ],
   "metadata": {
    "collapsed": false,
    "ExecuteTime": {
     "end_time": "2024-04-30T16:15:58.488397Z",
     "start_time": "2024-04-30T16:15:58.474128Z"
    }
   },
   "id": "bfccbc2e960c4707",
   "outputs": [],
   "execution_count": 23
  },
  {
   "cell_type": "code",
   "source": [
    "print(flow_xy)"
   ],
   "metadata": {
    "collapsed": false,
    "ExecuteTime": {
     "end_time": "2024-04-30T16:15:58.519247Z",
     "start_time": "2024-04-30T16:15:58.491393Z"
    }
   },
   "id": "a2cb9349df296196",
   "outputs": [
    {
     "name": "stdout",
     "output_type": "stream",
     "text": [
      "[[-181.3224, -125.46853], [-190.92593, -166.31105], [-164.83539, -165.65935], [-187.05386, -23.987923], [-62.425335, 162.0324], [0.85200655, 1.5066025], [-0.17534395, 0.7305623], [-164.7372, 30.835722], [-174.72359, -89.31156], [-186.59067, -46.171654]]\n"
     ]
    }
   ],
   "execution_count": 24
  },
  {
   "cell_type": "code",
   "source": [
    "# # save the posit to a json file\n",
    "# import json\n",
    "# \n",
    "# filename = f\"{season}_crossover_data.json\"\n",
    "# \n",
    "# # check to see if the file exists and if it does, load the data from it, otherwise append the data to a new file\n",
    "# try:\n",
    "#     with open(filename, 'r') as file:\n",
    "#         data = json.load(file)\n",
    "#         print(f\"File {filename} exists. Loading data from file...\")\n",
    "# except FileNotFoundError:\n",
    "#     print(f\"File {filename} does not exist. Creating a new file...\")\n",
    "#     data = []\n",
    "#     \n",
    "# # if the data is not already in the file, append the data to the file\n",
    "# if data:\n",
    "#     print(f\"Data already in file {filename}.\")\n",
    "# else:\n",
    "#     print(f\"Appending data to file {filename}...\")\n",
    "#     data.append({\n",
    "#         \"season\": season,\n",
    "#         \"flight\": flight,\n",
    "#         \"intersection_points\": intersection_points,\n",
    "#         \"twtt\": twtt,\n",
    "#         \"delta_twtt\": delta_twtt,\n",
    "#         \"ice flow vectors (m/yr, in xy)\": flow,\n",
    "#         \"ice flow angle\": angle,\n",
    "#         \"ice flow magnitude\": magnitude,\n",
    "#         \"plane heading\": heading\n",
    "#     })\n",
    "#     with open(filename, 'w') as file:\n",
    "#         json.dump(data, file)\n",
    "#     print(f\"Data successfully appended to file {filename}.\")\n",
    "# \n",
    "# \n",
    "# # TODO: convert flow vector and angle to EPSG:4326"
   ],
   "metadata": {
    "collapsed": false,
    "ExecuteTime": {
     "end_time": "2024-04-30T16:15:58.534462Z",
     "start_time": "2024-04-30T16:15:58.521679Z"
    }
   },
   "id": "16c17e5af72e0018",
   "outputs": [],
   "execution_count": 25
  },
  {
   "cell_type": "code",
   "source": [],
   "metadata": {
    "collapsed": false,
    "ExecuteTime": {
     "end_time": "2024-04-30T16:15:58.549897Z",
     "start_time": "2024-04-30T16:15:58.535544Z"
    }
   },
   "id": "8453b6849b6f9570",
   "outputs": [],
   "execution_count": 25
  },
  {
   "cell_type": "markdown",
   "source": [
    "### vector to heading dev below, DELETE WHEN FUNCTIONAL"
   ],
   "metadata": {
    "collapsed": false
   },
   "id": "38b6fdc8587be53b"
  },
  {
   "cell_type": "code",
   "outputs": [],
   "source": [
    "def nearest_flow_to_latlon(lat, lon, iceflow_data, print_point=False):\n",
    "    \"\"\"\n",
    "    :param lat: the latitude of the point\n",
    "    :param lon: the longitude of the point\n",
    "    :param iceflow_data: the iceflow data\n",
    "    :return: the nearest flow vector to the lat-lon point available in the iceflow data \n",
    "    \"\"\"\n",
    "    # find the nearest x and y values in the iceflow data\n",
    "    x, y = latlon_to_xy(lat, lon)\n",
    "    x, y = find_nearest_unmasked_x_and_y(x, y, iceflow_data, max_radius=1000)\n",
    "    if print_point:\n",
    "        print(f\"Nearest point to lat-lon: {xyindex_to_latlon(x, y)} or {x, y} in EPSG:3031\")\n",
    "    flow = flow_at_x_y(x, y, iceflow_data)\n",
    "    return flow"
   ],
   "metadata": {
    "collapsed": false
   },
   "id": "d267475978d06ac0",
   "execution_count": null
  },
  {
   "cell_type": "code",
   "outputs": [],
   "source": [
    "intersect_x = intersection_points[0][0]\n",
    "intersect_y = intersection_points[0][1]\n",
    "print(f\"Intersection lat-lon:\\n{intersect_x, intersect_y}\")\n",
    "print(\"----------------------\\n\")\n",
    "\n",
    "x, y = latlon_to_xy(intersect_x, intersect_y)\n",
    "print(f\"x, y of intersection before index conversion \\nx: {x}, y: {y}\\n\")\n",
    "\n",
    "x_index = x_to_index(x)\n",
    "y_index = y_to_index(y)\n",
    "print(f\"converted to indices:\\nx_index: {x_index}, y_index: {y_index}\\n\")\n",
    "x_lat, y_lat = xyindex_to_latlon(x_index, y_index)\n",
    "print(f\"lat-lon of indices: \\n{x_lat, y_lat}\\n\")\n",
    "\n",
    "difference_lat = intersect_x - x_lat\n",
    "difference_lon = intersect_y - y_lat\n",
    "print(f\"difference in lat-lon: \\n{difference_lat, difference_lon}\\n\")\n",
    "# So the conversion functions work"
   ],
   "metadata": {
    "collapsed": false,
    "ExecuteTime": {
     "start_time": "2024-04-02T02:28:43.011720Z"
    }
   },
   "id": "2aa7a96c57b56167",
   "execution_count": null
  },
  {
   "cell_type": "markdown",
   "source": [
    "### TODO: fix the find nearest functions"
   ],
   "metadata": {
    "collapsed": false
   },
   "id": "98e596adf396a33f"
  },
  {
   "cell_type": "code",
   "outputs": [],
   "source": [
    "def xy_to_nearest_unmasked_index(x, y, iceflow_data, max_radius=10, printout=False):\n",
    "    \"\"\"\n",
    "    Find the nearest x and y value in the iceflow data to an input x and y value.\n",
    "    \"\"\"\n",
    "    # iterate through every data point within the max_radius of the input x and y and save the xy pairs of any unmasked data\n",
    "    x = x_to_index(x)\n",
    "    y = y_to_index(y)\n",
    "    unmasked = []\n",
    "    for x_iterator in range(x - max_radius, x + max_radius):\n",
    "        for y_iterator in range(y - max_radius, y + max_radius):\n",
    "            if (\n",
    "                    0 <= x_iterator < iceflow_data[2].shape[0]  # if the x index is within the bounds of the iceflow data\n",
    "                    and 0 <= y_iterator < iceflow_data[2].shape[1]\n",
    "                    and not np.ma.is_masked(iceflow_data[2][x_iterator][y_iterator])\n",
    "                    and not np.ma.is_masked(iceflow_data[3][x_iterator][y_iterator])\n",
    "            ):\n",
    "                unmasked.append((x_iterator, y_iterator))\n",
    "            if printout and not np.ma.is_masked(iceflow_data[2][x_iterator][y_iterator]):\n",
    "                print(f\"unmasked x: {x_iterator}, unmasked y: {y_iterator}\")\n",
    "                print(f\"unmasked lat: {iceflow_data[4][x_iterator][y_iterator]}, unmasked lon: {iceflow_data[5][x_iterator][y_iterator]}\")\n",
    "                print(f\"unmasked flow: {iceflow_data[2][x_iterator][y_iterator]}, {iceflow_data[3][x_iterator][y_iterator]}\")\n",
    "    # find the xy pair with the minimum distance from the input x and y\n",
    "    min_distance = 100\n",
    "    min_x = None\n",
    "    min_y = None\n",
    "    for x_iterator, y_iterator in unmasked:\n",
    "        distance = math.sqrt((x - x_iterator) ** 2 + (y - y_iterator) ** 2)\n",
    "        if distance < min_distance:\n",
    "            min_distance = distance\n",
    "            min_x = x_iterator\n",
    "            min_y = y_iterator\n",
    "    # TODO: figure out why these are indices and not x and y\n",
    "        # it works fine, they just are.\n",
    "    return min_x, min_y"
   ],
   "metadata": {
    "collapsed": false
   },
   "id": "d9147ecb0aadca7f",
   "execution_count": null
  },
  {
   "cell_type": "code",
   "outputs": [],
   "source": [
    "lat = intersection_points[0][0]\n",
    "lon = intersection_points[0][1]\n",
    "print(f\"lat: {lat}, lon: {lon}\")\n",
    "\n",
    "x, y = latlon_to_xy(lat, lon)\n",
    "print(f\"x: {x}, y: {y}\")\n",
    "\n",
    "x_index, y_index = x_to_index(x), y_to_index(y)\n",
    "print(f\"x_index: {x_index}, y_index: {y_index}\")\n",
    "\n",
    "# nearest_x_index, nearest_y_index = depracated: find_nearest_unmasked_x_and_y(x, y, iceflow_data, max_radius=1000)\n",
    "\n",
    "nearest_x_index, nearest_y_index = xy_to_nearest_unmasked_index(x, y, iceflow_data, max_radius=10)\n",
    "\n",
    "print(f\"nearest_x_index: {nearest_x_index}, nearest_y_index: {nearest_y_index}\")\n",
    "nearest_lat = iceflow_data[4][nearest_x_index][nearest_y_index]\n",
    "nearest_lon = iceflow_data[5][nearest_x_index][nearest_y_index]\n",
    "print(f\"nearest_lat: {nearest_lat}, nearest_lon: {nearest_lon}\")\n",
    "print(f\"flow at nearest: {iceflow_data[2][nearest_x_index][nearest_y_index]}, {iceflow_data[3][nearest_x_index][nearest_y_index]}\")"
   ],
   "metadata": {
    "collapsed": false
   },
   "id": "42429eb453add524",
   "execution_count": null
  },
  {
   "cell_type": "code",
   "outputs": [],
   "source": [
    "# plot the spiral around the point\n",
    "plot_spiral(x,y, 10)"
   ],
   "metadata": {
    "collapsed": false,
    "ExecuteTime": {
     "start_time": "2024-04-02T02:28:43.015342Z"
    }
   },
   "id": "204630ae0dab9961",
   "execution_count": null
  },
  {
   "cell_type": "markdown",
   "source": [],
   "metadata": {
    "collapsed": false
   },
   "id": "7983edb0476ca763"
  },
  {
   "cell_type": "markdown",
   "source": [
    "### Move to an example notebook when done. Shows how the xy to index conversion works"
   ],
   "metadata": {
    "collapsed": false
   },
   "id": "a979c551ff21c297"
  },
  {
   "cell_type": "code",
   "outputs": [],
   "source": [
    "#print x min and max\n",
    "min = np.min(iceflow_data[0])\n",
    "max = np.max(iceflow_data[0])\n",
    "\n",
    "print(f\"min: {min}, max: {max}\")\n",
    "\n",
    "print(f\"min/450: {min/450}, max/450: {max/450}\")\n",
    "\n",
    "one, two, three = (iceflow_data[1][0], iceflow_data[1][1], iceflow_data[1][2])\n",
    "print(f\"one: {one}, two: {two}, three: {three}\")\n",
    "print(f\"one - two: {one - two}, two - three: {two - three}\")"
   ],
   "metadata": {
    "collapsed": false,
    "ExecuteTime": {
     "start_time": "2024-04-02T02:28:43.016441Z"
    }
   },
   "id": "fd23763d158886e7",
   "execution_count": null
  },
  {
   "cell_type": "code",
   "outputs": [],
   "source": [
    "def x_to_index(x):\n",
    "    return 6223 + int(x/450)\n",
    "def y_to_index(y):\n",
    "    return 6223 - int(y/450)\n",
    "def index_to_x(x):\n",
    "    return (x - 6223) * 450\n",
    "def index_to_y(y):\n",
    "    return (6223 - y) * 450"
   ],
   "metadata": {
    "collapsed": false,
    "ExecuteTime": {
     "start_time": "2024-04-02T02:28:43.017689Z"
    }
   },
   "id": "78dbd0be10e207a6",
   "execution_count": null
  },
  {
   "cell_type": "markdown",
   "source": [
    "# ~~TODO: see if these are even legal lat-lon values~~\n",
    "- **they are not but neither are the iceflow data values**\n",
    "- some of these longitudes don't work in Google Earth, I think they are supposed to be between -180 and 180\n",
    "- more importantly, are the icflow data and CReSIS lat-lon values in this format (i.e. if they are wrong, stay wrong)\n",
    "\n",
    "Iceflow data: \n",
    "    - max lat: -89.9 - 0 degrees\n",
    "    - min lat: 0 - 359.79 degrees\n",
    "    "
   ],
   "metadata": {
    "collapsed": false
   },
   "id": "3a882283fea4177b"
  },
  {
   "cell_type": "code",
   "outputs": [],
   "source": [
    "x = 6000\n",
    "y = 1000\n",
    "print(f\"starting values\\nx: {x}, y: {y}\")\n",
    "x_index = x_to_index(x)\n",
    "y_index = y_to_index(y)\n",
    "print(f\"x_index: {x_index}, y_index: {y_index}\")\n",
    "print(f\"x: {iceflow_data[0][x_index]}, y: {iceflow_data[1][y_index]}\\n\")\n",
    "\n",
    "x = 9000\n",
    "y = 5000\n",
    "print(f\"starting values\\nx: {x}, y: {y}\")\n",
    "x_index = x_to_index(x)\n",
    "y_index = y_to_index(y)\n",
    "print(f\"x_index: {x_index}, y_index: {y_index}\")\n",
    "print(f\"x: {iceflow_data[0][x_index]}, y: {iceflow_data[1][y_index]}\\n\")\n",
    "\n"
   ],
   "metadata": {
    "collapsed": false,
    "ExecuteTime": {
     "start_time": "2024-04-02T02:28:43.018955Z"
    }
   },
   "id": "82ebdf51d4cb5ecf",
   "execution_count": null
  },
  {
   "cell_type": "code",
   "outputs": [],
   "source": [
    "def xyindex_vector_to_heading(x_index, y_index, x_vector, y_vector):\n",
    "    \"\"\"\n",
    "    This function is used to convert an x and y vector in EPSG:3031 to a heading in EPSG:4326.\n",
    "    :param x_index: the x coordinate\n",
    "    :param y_index: the y coordinate\n",
    "    :param x_vector: the x vector\n",
    "    :param y_vector: the y vector\n",
    "    :return: the heading in EPSG:4326\n",
    "    \"\"\"\n",
    "    # convert the x and y coordinates to lat and lon\n",
    "    lat, lon = xyindex_to_latlon(x_index, y_index)\n",
    "    # convert the x and y vector to lat and lon\n",
    "    lat_vector, lon_vector = xyindex_to_latlon(x_index + x_vector, y_index + y_vector)\n",
    "    # calculate the heading\n",
    "    geodesic = pyproj.Geod(ellps='WGS84')\n",
    "    angle1, angle2, distance = geodesic.inv(lon, lat, lon_vector, lat_vector)\n",
    "    return angle1, angle2, distance\n",
    "\n"
   ],
   "metadata": {
    "collapsed": false,
    "ExecuteTime": {
     "start_time": "2024-04-02T02:28:43.020051Z"
    }
   },
   "id": "ed0ab8dbf1f3ecb9",
   "execution_count": null
  },
  {
   "cell_type": "markdown",
   "source": [
    "# TODO: ~~take some plane vectors, convert the relevant points to xy, then run them through the heading function to see if it works compared to the plane heading~~\n",
    "- I think this works now"
   ],
   "metadata": {
    "collapsed": false
   },
   "id": "239dddf9f98383f6"
  },
  {
   "cell_type": "code",
   "outputs": [],
   "source": [
    "# for testing purposes only, delete when done\n",
    "def find_heading_test(lat1, lon1, lat2, lon2):\n",
    "    # print the lat-lon points\n",
    "    # print(f\"lat-lon input to find_heading:\"\n",
    "    #       f\"\\n({layer.lat[index]}, {layer.lon[index]})\")\n",
    "    geodesic = pyproj.Geod(ellps='WGS84')\n",
    "    # lon = layer.lon[index]\n",
    "    # lat = layer.lat[index]\n",
    "    # lon1 = layer.lon[index - window_size]\n",
    "    # lat1 = layer.lat[index - window_size]\n",
    "    # lon2 = layer.lon[index + window_size]\n",
    "    # lat2 = layer.lat[index + window_size]\n",
    "\n",
    "    print(f\"lat-lons determined by find_heading:\"\n",
    "          f\"\\n({lat1}, {lon1}), ({lat2}, {lon2})\")\n",
    "    # delta_lon1 = lon - lon1\n",
    "    # delta_lat1 = lat - lat1\n",
    "    # delta_lon2 = lon2 - lon\n",
    "    # delta_lat2 = lat2 - lat\n",
    "    # print(f\"delta_lon1: {delta_lon1}, delta_lat1: {delta_lat1}, delta_lon2: {delta_lon2}, delta_lat2: {delta_lat2}\")\n",
    "    fwd_azimuth, back_azimuth, distance = geodesic.inv(lon1, lat1, lon2, lat2)\n",
    "    return fwd_azimuth"
   ],
   "metadata": {
    "collapsed": false,
    "ExecuteTime": {
     "start_time": "2024-04-02T02:28:43.021286Z"
    }
   },
   "id": "e83297e68d6ca29c",
   "execution_count": null
  },
  {
   "cell_type": "code",
   "outputs": [],
   "source": [
    "def find_heading_points(layer, index, window_size=100):\n",
    "    \"\"\"\n",
    "    :param layer: a Layer object\n",
    "    :param index: the index of the point in the layer\n",
    "    :param window_size: the number of points to use in the slope calculation\n",
    "    :return: the bearing of the current that flew through the points.\n",
    "    This has nothing to do with the slope of the layer. only the lat-lon points.\n",
    "    \"\"\"\n",
    "    # print the lat-lon points\n",
    "    print(f\"lat-lon input to find_heading:\"\n",
    "          f\"\\n\\t({layer.lat[index]}, {layer.lon[index]})\")\n",
    "    geodesic = pyproj.Geod(ellps='WGS84')\n",
    "    lon = layer.lon[index]\n",
    "    lat = layer.lat[index]\n",
    "    lon1 = layer.lon[index - window_size]\n",
    "    lat1 = layer.lat[index - window_size]\n",
    "    lon2 = layer.lon[index + window_size]\n",
    "    lat2 = layer.lat[index + window_size]\n",
    "    \n",
    "    return lon1, lat1, lon2, lat2"
   ],
   "metadata": {
    "collapsed": false
   },
   "id": "4471aebe53f7ac7f",
   "execution_count": null
  },
  {
   "cell_type": "code",
   "outputs": [],
   "source": [
    "# TODO: when this works, udpate the original code cell to use the non test versions of the iceflow heading function\n",
    "# TODO, the iceflow heading finder doesn't work on too close of data because they show up as the same index in the iceflow data.\n",
    "    # put in some larger fake lat-lons to test both\n",
    "    # how was it working before then?\n",
    "        # the flow vector comes from the data so it works\n",
    "magnitude = []\n",
    "plane_heading_1 = []\n",
    "plane_heading_2 = []\n",
    "# for i in range(len(intersection_indices)):\n",
    "for i in range(1):\n",
    "    # find the heading of the first segment\n",
    "    test_lat1 = -81.1 \n",
    "    test_lon1 = -29.7\n",
    "    test_lat2 = -81.2\n",
    "    test_lon2 = -29.8\n",
    "    plane_heading_1.append(find_heading_test(test_lat1, test_lon1, test_lat2, test_lon2))\n",
    "    print(f\"heading_1[{i}]: {plane_heading_1[i]}\")\n",
    "    \n",
    "    print(\"**************\")\n",
    "\n",
    "    # convert the test lat-lon points to xy\n",
    "    x1, y1 = latlon_to_xy(test_lat1, test_lon1) \n",
    "    x2, y2 = latlon_to_xy(test_lat2, test_lon2)\n",
    "    print(f\"x1: {x1}, y1: {y1}, x2: {x2}, y2: {y2}\")\n",
    "    \n",
    "    # convert the xy points to indices\n",
    "    x1_index = x_to_index(x1)\n",
    "    y1_index = y_to_index(y1)\n",
    "    x2_index = x_to_index(x2)\n",
    "    y2_index = y_to_index(y2)\n",
    "    print(f\"x1_index: {x1_index}, y1_index: {y1_index}, x2_index: {x2_index}, y2_index: {y2_index}\")\n",
    "    \n",
    "    # TODO: should this be a vector of indices or x and y? x and y sounds right but it errors out on index overflow. Have to go to class so can't look right now. Does the xy_vector function use indices or x and y? \n",
    "        # the vector_to_heading() function uses indices for some reason but it works so I'mma let it ride\n",
    "    vector = [x2_index - x1_index, y2_index - y1_index]\n",
    "    # vector = [x2 - x1, y2 - y1]\n",
    "\n",
    "    # convert the vector to a heading\n",
    "    heading = xyindex_vector_to_heading(x1_index, y1_index, vector[0], vector[1])\n",
    "    \n",
    "    print(f\"heading by way of iceflow functions: \\n{heading}\")\n",
    "    \n",
    "    \n",
    "    \n",
    "    print(section_break)\n",
    "    \n",
    "    \n"
   ],
   "metadata": {
    "collapsed": false,
    "ExecuteTime": {
     "start_time": "2024-04-02T02:28:43.025733Z"
    }
   },
   "id": "5cbf56cace731068",
   "execution_count": null
  },
  {
   "cell_type": "code",
   "outputs": [],
   "source": [],
   "metadata": {
    "collapsed": false,
    "ExecuteTime": {
     "start_time": "2024-04-02T02:28:43.026842Z"
    }
   },
   "id": "b7d9a2192726bafa",
   "execution_count": null
  },
  {
   "cell_type": "code",
   "outputs": [],
   "source": [],
   "metadata": {
    "collapsed": false
   },
   "id": "f769483a211b315",
   "execution_count": null
  },
  {
   "cell_type": "code",
   "outputs": [],
   "source": [
    "# calculate the twtt to depth conversion for 10, 20, ..., 100 microseconds\n",
    "\n",
    "twtt = np.arange(10, 110, 10) * 1e-6\n",
    "depth = twtt_to_depth(twtt, refractive_index=1.77)\n",
    "\n",
    "# for each twtt, print the twtt in microseconds and the depth in meters. both should be rounded to 0 decimal places\n",
    "print(f\"twtt to depth conversion for refractive index 1.77:\")\n",
    "for i in range(len(twtt)):\n",
    "    print(f\"{twtt[i] * 1e6:.0f} {chr(956)}s:\\t{depth[i]:.0f} meters\")"
   ],
   "metadata": {
    "collapsed": false
   },
   "id": "ad29aada283b301b",
   "execution_count": null
  }
 ],
 "metadata": {
  "kernelspec": {
   "display_name": "Python 3",
   "language": "python",
   "name": "python3"
  },
  "language_info": {
   "codemirror_mode": {
    "name": "ipython",
    "version": 2
   },
   "file_extension": ".py",
   "mimetype": "text/x-python",
   "name": "python",
   "nbconvert_exporter": "python",
   "pygments_lexer": "ipython2",
   "version": "2.7.6"
  }
 },
 "nbformat": 4,
 "nbformat_minor": 5
}

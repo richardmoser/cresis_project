{
 "cells": [
  {
   "cell_type": "code",
   "execution_count": 1,
   "id": "initial_id",
   "metadata": {
    "collapsed": true,
    "ExecuteTime": {
     "end_time": "2024-04-16T14:56:02.701971Z",
     "start_time": "2024-04-16T14:55:57.998601Z"
    }
   },
   "outputs": [],
   "source": [
    "import matplotlib.pyplot as plt\n",
    "import numpy as np\n",
    "\n",
    "from project_classes import *\n",
    "from functions import *\n",
    "from iceflow_library import *"
   ]
  },
  {
   "cell_type": "code",
   "outputs": [
    {
     "name": "stdout",
     "output_type": "stream",
     "text": [
      "C:\\Users\\rj\\Desktop\\cresis_data_II\\rds\\2016_Antarctica_DC8\\CSARP_layer\\20161024_05\\\n"
     ]
    },
    {
     "data": {
      "text/plain": "['Data_20161024_05_001.mat',\n 'Data_20161024_05_002.mat',\n 'Data_20161024_05_003.mat',\n 'Data_20161024_05_004.mat',\n 'Data_20161024_05_005.mat',\n 'Data_20161024_05_006.mat',\n 'Data_20161024_05_007.mat',\n 'Data_20161024_05_008.mat',\n 'Data_20161024_05_009.mat',\n 'Data_20161024_05_010.mat',\n 'Data_20161024_05_011.mat',\n 'Data_20161024_05_012.mat',\n 'Data_20161024_05_013.mat',\n 'Data_20161024_05_014.mat',\n 'Data_20161024_05_015.mat',\n 'Data_20161024_05_016.mat',\n 'Data_20161024_05_017.mat',\n 'Data_20161024_05_018.mat',\n 'Data_20161024_05_019.mat',\n 'Data_20161024_05_020.mat',\n 'Data_20161024_05_021.mat',\n 'Data_20161024_05_022.mat',\n 'Data_20161024_05_023.mat',\n 'Data_20161024_05_024.mat',\n 'Data_20161024_05_025.mat',\n 'Data_20161024_05_026.mat',\n 'Data_20161024_05_027.mat',\n 'Data_20161024_05_028.mat',\n 'Data_20161024_05_029.mat',\n 'Data_20161024_05_030.mat',\n 'Data_20161024_05_031.mat',\n 'Data_20161024_05_032.mat',\n 'Data_20161024_05_033.mat',\n 'Data_20161024_05_034.mat',\n 'Data_20161024_05_035.mat',\n 'Data_20161024_05_036.mat',\n 'Data_20161024_05_037.mat',\n 'Data_20161024_05_038.mat',\n 'Data_20161024_05_039.mat',\n 'Data_20161024_05_040.mat',\n 'Data_20161024_05_041.mat',\n 'Data_20161024_05_042.mat',\n 'Data_20161024_05_043.mat',\n 'Data_20161024_05_044.mat',\n 'layer_20161024_05.mat']"
     },
     "execution_count": 2,
     "metadata": {},
     "output_type": "execute_result"
    }
   ],
   "source": [
    "# dir = 'C:\\\\Users\\\\rj\\\\Documents\\\\cresis\\\\rds\\\\2016_Antarctica_DC8\\\\CSARP_layer\\\\20161024_05\\\\'\n",
    "dir = 'C:\\\\Users\\\\rj\\\\Desktop\\\\cresis_data_II\\\\rds\\\\2016_Antarctica_DC8\\\\CSARP_layer\\\\20161024_05\\\\'\n",
    "\n",
    "print(dir)\n",
    "os.listdir(dir)"
   ],
   "metadata": {
    "collapsed": false,
    "ExecuteTime": {
     "end_time": "2024-04-16T14:56:02.717224Z",
     "start_time": "2024-04-16T14:56:02.703978Z"
    }
   },
   "id": "43c100fb838da459",
   "execution_count": 2
  },
  {
   "cell_type": "code",
   "outputs": [],
   "source": [
    "segment_data_file = 'Data_20161024_05_'\n",
    "\n",
    "startframe = '001'\n",
    "# endframe = '015'\n",
    "# endframe = the number of files in the directory\n",
    "files = os.listdir(dir)\n",
    "endframe = str(len(files) - 1).zfill(3)\n",
    "\n",
    "# data_mat = np.array([sio.loadmat(dir + segment_data_file + str(i).zfill(3) + '.mat')\n",
    "#                      for i in range(int(startframe), int(endframe)+1)])"
   ],
   "metadata": {
    "collapsed": false,
    "ExecuteTime": {
     "end_time": "2024-04-16T14:56:02.732238Z",
     "start_time": "2024-04-16T14:56:02.718226Z"
    }
   },
   "id": "18bc8607afa5cd7",
   "execution_count": 3
  },
  {
   "cell_type": "code",
   "outputs": [],
   "source": [
    "import h5py"
   ],
   "metadata": {
    "collapsed": false,
    "ExecuteTime": {
     "end_time": "2024-04-16T14:56:02.747043Z",
     "start_time": "2024-04-16T14:56:02.734240Z"
    }
   },
   "id": "53054f2a988fd180",
   "execution_count": 4
  },
  {
   "cell_type": "code",
   "outputs": [],
   "source": [
    "# use the h5py library to read the data\n",
    "# f = h5py.File(dir + segment_data_file + '001.mat', 'r')"
   ],
   "metadata": {
    "collapsed": false,
    "ExecuteTime": {
     "end_time": "2024-04-16T14:56:02.762690Z",
     "start_time": "2024-04-16T14:56:02.749059Z"
    }
   },
   "id": "49b9da04e544cc91",
   "execution_count": 5
  },
  {
   "cell_type": "code",
   "outputs": [
    {
     "name": "stdout",
     "output_type": "stream",
     "text": [
      "endframe: 044\n",
      "<HDF5 dataset \"elev\": shape (3442, 1), type \"<f8\">\n"
     ]
    }
   ],
   "source": [
    "# get the keys of the file\n",
    "# list(f.keys())\n",
    "flight = '20161024_05'\n",
    "\n",
    "segment_data_file = 'Data_' + flight + '_'\n",
    "layer_attributes_file = 'layer_' + flight + '.mat'\n",
    "\n",
    "startframe = '001'\n",
    "# endframe = the number of files in the directory\n",
    "files = os.listdir(dir)\n",
    "endframe = str(len(files) - 1).zfill(3)\n",
    "print(f\"endframe: {endframe}\")\n",
    "\n",
    "# load an array of mat files\n",
    "# data_mat = []\n",
    "# for i in range(int(startframe), int(endframe)+1):\n",
    "#     f = h5py.File(dir + segment_data_file + str(0).zfill(3) + '.mat', 'r')\n",
    "# f = h5py.File(dir + segment_data_file + '001.mat', 'r')\n",
    "\n",
    "\n",
    "data_mat = []\n",
    "for i in range(int(startframe), int(endframe)+1):\n",
    "    f = h5py.File(dir + segment_data_file + str(i).zfill(3) + '.mat', 'r')\n",
    "    data_mat.append(f)\n",
    "elevation = np.array([])\n",
    "# elevation = np.append(elevation, data_mat['elev'])\n",
    "print((data_mat[43]['elev']))"
   ],
   "metadata": {
    "collapsed": false,
    "ExecuteTime": {
     "end_time": "2024-04-16T14:56:02.810076Z",
     "start_time": "2024-04-16T14:56:02.764690Z"
    }
   },
   "id": "da7d77c1cdb99d75",
   "execution_count": 6
  },
  {
   "cell_type": "markdown",
   "source": [
    "### **TODO: 16Apr24**\n",
    "- look at what ChatGPT said, I'm too tired to implement it\n",
    "- **move the list definitions up above the h5py reading call**\n",
    "    - define empty lists\n",
    "    - in the loop, read the file f\n",
    "    - in the loop append each list in f to the relevant list\n",
    "    - in the end you have continuous lists\n",
    "    - then you pickle them or whatever **"
   ],
   "metadata": {
    "collapsed": false
   },
   "id": "136a8e116fe77886"
  },
  {
   "cell_type": "code",
   "outputs": [],
   "source": [
    "# def mat_pickler_h5py(season, flight, testing_mode=False, readout=False, save=True, plot_layer=False):\n",
    "#     print(\"Reading data files...\")\n",
    "#     print(\"--------------------\")\n",
    "#     # set the directory, segment data file, layer attributes file, and start and end frames\n",
    "#     if testing_mode:\n",
    "#         # the dir is the current directory + the test_data folder\n",
    "#         dir = os.getcwd() + '\\\\test_data\\\\' + flight + '\\\\'\n",
    "#     else:\n",
    "#         # TODO: refactor this into a try except block, maybe upstream of this function where it is called\n",
    "#         dir = ('C:\\\\Users\\\\rj\\\\Documents\\\\cresis\\\\rds\\\\' + season + '\\\\CSARP_layer\\\\' + flight + '\\\\')\n",
    "# \n",
    "#     data_file = dir + 'Data_' + flight + '_'\n",
    "#     attributes_file = dir + 'layer_' + flight    \n",
    "#     layers = layerize_h5py(data_file, attributes_file)\n",
    "# \n",
    "#     if readout:\n",
    "#         print(\"--------------------\", end=\"\")\n",
    "#         for layer in layers:\n",
    "#             print(f\"\\n{layer.layer_name} number of points: {layer.twtt.shape[0]}\")\n",
    "#             print(f\"{layer.layer_name} twtt first three: {layer.twtt[:3].tolist()} \")\n",
    "#             print(f\"{layer.layer_name} twtt last three: {layer.twtt[-3:].tolist()} \")\n",
    "#         print(\"--------------------\\n\")\n",
    "#     \n",
    "#     if save:\n",
    "#         # save layers to a pickle file\n",
    "#         # print(\"Saving layers to a pickle file...\")\n",
    "#         print(\"--------------------\")\n",
    "#         # list current directory\n",
    "#         # print(f\"Current directory: {}\")\n",
    "#         directory = os.getcwd() + \"\\\\pickle_jar\\\\\"\n",
    "#         # file_name = directory + \"layer_export\" + attributes_file[5:-4] + \".pickle\"\n",
    "#         file_name = directory + \"layer_export_\" + flight + \".pickle\"\n",
    "#         pickle.dump(layers, open(file_name, \"wb\"))\n",
    "#         print(file_name, \" saved in local directory of this python file.\")\n",
    "#         print(\"--------------------\\n\")\n",
    "# \n",
    "#     if plot_layer:\n",
    "#         # plot the layers\n",
    "#         print(\"Plotting layers...\")\n",
    "#         print(\"--------------------\")\n",
    "#         # plot the layer depths vs gps time for each layer on the same plot\n",
    "#         for layer in layers:\n",
    "#             plt.plot(layer.gps_time, layer.twtt, label=layer.layer_name)\n",
    "#         plt.xlabel(\"GPS Time\")\n",
    "#         plt.ylabel(\"Two Way Travel Time (ns)\")\n",
    "#         # invert the y axis so that the plot is right side up\n",
    "#         plt.gca().invert_yaxis()\n",
    "#         plt.title(\"Elevation vs GPS Time\")\n",
    "#         plt.legend()\n",
    "# \n",
    "#         plt.show()\n",
    "#         print(\"--------------------\\n\")\n",
    "#         \n",
    "# \n",
    "# def layerize_h5py(data_file, attribute_file):\n",
    "#     # TODO: add a docstring\n",
    "#     # TODO: add a portion to pull the layer name out of the attribute file\n",
    "#         # afai can tell, that is all the attribute file is used for in the original code\n",
    "#     # create an empty list to store the layers\n",
    "#     layers = []\n",
    "#     files = os.listdir(dir)  # list of files in the directory\n",
    "#     startframe = '001'  # the first file number in the directory\n",
    "#     endframe = str(len(files) - 1).zfill(3)  # the number of files in the directory\n",
    "#     attribute_mat = h5py.File(attribute_file + '.mat', 'r')\n",
    "# \n",
    "#     decimal1 = attribute_mat[np.array([attribute_mat['lyr_name'][0][0]])[0]]\n",
    "#     decimal1_name = [decimal1[i][0] for i in range(len(decimal1))]  # a list of unicode values of the characters\n",
    "#     decimal2 = attribute_mat[np.array([attribute_mat['lyr_name'][1][0]])[0]]\n",
    "#     decimal2_name = [decimal2[i][0] for i in range(len(decimal2))]  # a list of unicode values of the characters\n",
    "#     name1 = ''.join(chr(i) for i in decimal1_name)  # convert the unicode values to a string\n",
    "#     name2 = ''.join(chr(i) for i in decimal2_name)  # convert the unicode values to a string\n",
    "#     \n",
    "#     layer1_name = name1\n",
    "#     layer2_name = name2\n",
    "#         \n",
    "# \n",
    "#     f = h5py.File(data_file + str(3).zfill(3) + '.mat', 'r')\n",
    "#     # print the contents of the 'param' key\n",
    "#     print(f\"f['param']: {f['param']}\")\n",
    "#     print(f\"f['param'].keys(): {list(f['param'].keys())}\")\n",
    "# \n",
    "#     filename = data_file + '001.mat' # fill the data which doesn't change per point\n",
    "#     # param = []  # will need some debugging and we probably don't care about it\n",
    "#     layer1_quality = []\n",
    "#     layer2_quality = []\n",
    "#     layer1_type = []\n",
    "#     layer2_type = []\n",
    "#     \n",
    "#     layer1_quality.append(f['quality'][0])\n",
    "#     layer2_quality.append(f['quality'][1])\n",
    "#     layer1_type.append(f['type'][0])\n",
    "#     layer2_type.append(f['type'][1])\n",
    "#     \n",
    "#     # initialize the data that will be loaded from the files\n",
    "#     gps_time = []\n",
    "#     layer1_id = []\n",
    "#     layer2_id = []\n",
    "#     lat = []\n",
    "#     lon = []\n",
    "#     layer1_twtt = []\n",
    "#     layer2_twtt = []\n",
    "#     \n",
    "#     # Load data from each file\n",
    "#     for i in range(int(startframe), int(endframe)+1):\n",
    "#         filename = data_file + str(i).zfill(3) + '.mat'\n",
    "#         with h5py.File(filename, 'r') as f:\n",
    "#             gps_time.append(f['gps_time'][:])\n",
    "#             layer1_id.append(f['id'][0])\n",
    "#             layer2_id.append(f['id'][1])\n",
    "#             lat.append(f['lat'][:])\n",
    "#             lon.append(f['lon'][:])\n",
    "#             # param.append(f['param'])\n",
    "#             # layer1_quality.append(f['quality'][0])\n",
    "#             # layer2_quality.append(f['quality'][1])\n",
    "#     \n",
    "#             # Extract twtt columns directly into layer1_twtt and layer2_twtt\n",
    "#             twtt_data = f['twtt'][:]\n",
    "#             layer1_twtt.extend(twtt_data[:, 0])\n",
    "#             layer2_twtt.extend(twtt_data[:, 1])\n",
    "# \n",
    "#  \n",
    "#     # Convert lists to numpy arrays\n",
    "#     gps_time = np.concatenate(gps_time)\n",
    "#     lat = np.concatenate(lat)\n",
    "#     lon = np.concatenate(lon)\n",
    "#     # param = np.concatenate(param)\n",
    "#     layer1_twtt = np.array(layer1_twtt)\n",
    "#     layer2_twtt = np.array(layer2_twtt)\n",
    "#     \n",
    "#     # Convert lists to numpy arrays\n",
    "#     layer1_id = np.array(layer1_id)\n",
    "#     layer2_id = np.array(layer2_id)\n",
    "#     layer1_quality = np.array(layer1_quality)\n",
    "#     layer2_quality = np.array(layer2_quality)\n",
    "#     layer1_type = np.array(layer1_type)\n",
    "#     layer2_type = np.array(layer2_type)\n",
    "#     \n",
    "#     # create a layer object\n",
    "#     layer1 = Layer(layer1_name, gps_time, layer1_id, lat, lon, layer1_quality, layer1_twtt, layer1_type)\n",
    "#     layer2 = Layer(layer2_name, gps_time, layer2_id, lat, lon, layer2_quality, layer2_twtt, layer2_type)\n",
    "#     \n",
    "#     # append the layer to the layers list\n",
    "#     layers.append(layer1)\n",
    "#     layers.append(layer2)\n",
    "#     print(f\"layer1: {layer1.layer_name} number of points: {layer1.twtt.shape[0]}\")\n",
    "#     print(f\"layer2: {layer2.layer_name} number of points: {layer2.twtt.shape[0]}\")\n",
    "#     \n",
    "#     return layers"
   ],
   "metadata": {
    "collapsed": false,
    "ExecuteTime": {
     "end_time": "2024-04-16T14:56:02.825656Z",
     "start_time": "2024-04-16T14:56:02.811589Z"
    }
   },
   "id": "eb1f781246dadef3",
   "execution_count": 7
  },
  {
   "cell_type": "code",
   "outputs": [
    {
     "name": "stdout",
     "output_type": "stream",
     "text": [
      "Reading data files...\n",
      "--------------------\n",
      "f['param']: <HDF5 group \"/param\" (6 members)>\n",
      "f['param'].keys(): ['day_seg', 'radar', 'radar_name', 'records', 'season_name', 'sw_version']\n",
      "layer1: Surface number of points: 146779\n",
      "layer2: Bottom number of points: 146779\n",
      "--------------------\n",
      "C:\\Users\\rj\\Documents\\cresis_project\\pickle_jar\\layer_export_20161024_05.pickle  saved in local directory of this python file.\n",
      "--------------------\n",
      "\n",
      "Plotting layers...\n",
      "--------------------\n"
     ]
    },
    {
     "data": {
      "text/plain": "<Figure size 640x480 with 1 Axes>",
      "image/png": "[encoded data removed]"
     },
     "metadata": {},
     "output_type": "display_data"
    },
    {
     "name": "stdout",
     "output_type": "stream",
     "text": [
      "--------------------\n"
     ]
    }
   ],
   "source": [
    "mat_pickler_h5py('2016_Antarctica_DC8', '20161024_05', testing_mode=False, readout=False, save=True, plot_layer=True)"
   ],
   "metadata": {
    "collapsed": false,
    "ExecuteTime": {
     "end_time": "2024-04-16T14:56:04.108169Z",
     "start_time": "2024-04-16T14:56:02.826774Z"
    }
   },
   "id": "393d1716d79e50c1",
   "execution_count": 8
  },
  {
   "cell_type": "code",
   "outputs": [
    {
     "name": "stdout",
     "output_type": "stream",
     "text": [
      "f['quality']: [1 1]\n"
     ]
    }
   ],
   "source": [
    "data_file = dir + 'Data_' + flight + '_'\n",
    "f = h5py.File(data_file + str(3).zfill(3) + '.mat', 'r')\n",
    "# print the contents of the 'param' key\n",
    "print(f\"f['quality']: {f['quality'][1]}\")\n"
   ],
   "metadata": {
    "collapsed": false,
    "ExecuteTime": {
     "end_time": "2024-04-16T14:03:16.844940Z",
     "start_time": "2024-04-16T14:03:16.826998Z"
    }
   },
   "id": "123886f2a4cd6d0d",
   "execution_count": 149
  },
  {
   "cell_type": "code",
   "outputs": [
    {
     "name": "stdout",
     "output_type": "stream",
     "text": [
      "<HDF5 dataset \"elev\": shape (3334, 1), type \"<f8\">\n",
      "<HDF5 dataset \"file_type\": shape (5, 1), type \"<u2\">\n",
      "<HDF5 dataset \"file_version\": shape (1, 1), type \"<u2\">\n",
      "<HDF5 dataset \"gps_time\": shape (3334, 1), type \"<f8\">\n",
      "<HDF5 dataset \"id\": shape (2, 1), type \"<f8\">\n",
      "<HDF5 dataset \"lat\": shape (3334, 1), type \"<f8\">\n",
      "<HDF5 dataset \"lon\": shape (3334, 1), type \"<f8\">\n",
      "<HDF5 group \"/param\" (6 members)>\n",
      "<HDF5 dataset \"quality\": shape (3334, 2), type \"|u1\">\n",
      "<HDF5 dataset \"twtt\": shape (3334, 2), type \"<f8\">\n",
      "<HDF5 dataset \"type\": shape (3334, 2), type \"|u1\">\n"
     ]
    }
   ],
   "source": [
    "print(f['elev'])\n",
    "print(f['file_type'])\n",
    "print(f['file_version'])\n",
    "print(f['gps_time'])\n",
    "print(f['id'])\n",
    "print(f['lat'])\n",
    "print(f['lon'])\n",
    "print(f['param'])\n",
    "print(f['quality'])\n",
    "print(f['twtt'])\n",
    "print(f['type'])"
   ],
   "metadata": {
    "collapsed": false,
    "ExecuteTime": {
     "end_time": "2024-04-16T14:01:58.250017Z",
     "start_time": "2024-04-16T14:01:58.228800Z"
    }
   },
   "id": "f98cf00f0a45f724",
   "execution_count": 141
  },
  {
   "cell_type": "code",
   "outputs": [],
   "source": [
    "\"\"\"\n",
    "15Apr24 version of mat_pickler_h5py\n",
    "\"\"\"\n",
    "\n",
    "# def mat_pickler_h5py(season, flight, testing_mode=False, readout=False, save=True, plot_layer=False):\n",
    "#     print(\"Reading data files...\")\n",
    "#     print(\"--------------------\")\n",
    "#     segment_data_file = 'Data_' + flight + '_'\n",
    "#     layer_attributes_file = 'layer_' + flight + '.mat'\n",
    "#     \n",
    "#     # set the directory, segment data file, layer attributes file, and start and end frames\n",
    "#     if testing_mode:\n",
    "#         # the dir is the current directory + the test_data folder\n",
    "#         dir = os.getcwd() + '\\\\test_data\\\\' + flight + '\\\\'\n",
    "#         \n",
    "#             # dir = ('test_data') + '\\\\'\n",
    "#             # contains all of the actual data such as twtt, lat, lon, etc.\n",
    "#             # contains the attributes of the layer such as name, param, etc.\n",
    "#     else:\n",
    "#         # TODO: refactor this into a try except block, maybe upstream of this function where it is called\n",
    "#         dir = ('C:\\\\Users\\\\rj\\\\Documents\\\\cresis\\\\rds\\\\' + season + '\\\\CSARP_layer\\\\' + flight + '\\\\')\n",
    "#         #     # leaving because it might actually be good. the below line works for 2018_Antarctica_DC8 at least as it\n",
    "#         #     # has the CSARP_layerData folder instead of CSARP_layer.\n",
    "#     \n",
    "#         # contains all of the actual data such as twtt, lat, lon, etc.\n",
    "#         # contains the attributes of the layer such as name, param, etc.\n",
    "#         # print(f\"layer_attributes_file: {layer_attributes_file}\")\n",
    "#     # contains the attributes of the layer such as name, param, etc.\n",
    "#     \n",
    "#     startframe = '001'\n",
    "#     # endframe = '015'\n",
    "#     # endframe = the number of files in the directory\n",
    "#     files = os.listdir(dir)\n",
    "#     endframe = str(len(files) - 1).zfill(3)\n",
    "#     \n",
    "#     # load an array of mat files\n",
    "#     data_mat = []\n",
    "#     for i in range(int(startframe), int(endframe)+1):\n",
    "#         f = h5py.File(dir + segment_data_file + str(i).zfill(3) + '.mat', 'r')\n",
    "#         data_mat.append(f)\n",
    "# \n",
    "#     \n",
    "#     # print(f\"size of f: {len(f)}\")\n",
    "#     # print(f\"size of data_mat: {len(data_mat)}\")\n",
    "#     # print(f\"first 3 elev in f: {f['elev'][:3]}\")\n",
    "#     # print(f\"first 3 elev in data_mat: {data_mat[0]['elev'][:3]}\")\n",
    "#     \n",
    "#     attribute_mat = h5py.File(dir + layer_attributes_file, 'r')\n",
    "# \n",
    "#     layers = layerize_h5py(data_mat, attribute_mat)\n",
    "# \n",
    "#     if readout:\n",
    "#         print(\"--------------------\", end=\"\")\n",
    "#         for layer in layers:\n",
    "#             print(f\"\\n{layer.layer_name} number of points: {layer.twtt.shape[0]}\")\n",
    "#             print(f\"{layer.layer_name} twtt first three: {layer.twtt[:3].tolist()} \")\n",
    "#             print(f\"{layer.layer_name} twtt last three: {layer.twtt[-3:].tolist()} \")\n",
    "#         print(\"--------------------\\n\")\n",
    "#     \n",
    "#     if save:\n",
    "#         # save layers to a pickle file\n",
    "#         # print(\"Saving layers to a pickle file...\")\n",
    "#         print(\"--------------------\")\n",
    "#         # list current directory\n",
    "#         # print(f\"Current directory: {}\")\n",
    "#         directory = os.getcwd() + \"\\\\pickle_jar\\\\\"\n",
    "#         file_name = directory + \"layer_export\" + layer_attributes_file[5:-4] + \".pickle\"\n",
    "#         pickle.dump(layers, open(file_name, \"wb\"))\n",
    "#         print(file_name, \" saved in local directory of this python file.\")\n",
    "#         print(\"--------------------\\n\")\n",
    "# \n",
    "#     if plot_layer:\n",
    "#         # plot the layers\n",
    "#         print(\"Plotting layers...\")\n",
    "#         print(\"--------------------\")\n",
    "#         # plot the layer depths vs gps time for each layer on the same plot\n",
    "#         for layer in layers:\n",
    "#             plt.plot(layer.gps_time, layer.twtt, label=layer.layer_name)\n",
    "#         plt.xlabel(\"GPS Time\")\n",
    "#         plt.ylabel(\"Two Way Travel Time (ns)\")\n",
    "#         plt.title(\"Elevation vs GPS Time\")\n",
    "#         plt.legend()\n",
    "# \n",
    "#         plt.show()\n",
    "#         print(\"--------------------\\n\")\n",
    "#         \n",
    "# def layerize_h5py(data_mat, attribute_mat):\n",
    "#     # TODO: add a docstring\n",
    "#     # TODO: add a portion to pull the layer name out of the attribute file\n",
    "#         # afai can tell, that is all the attribute file is used for in the original code\n",
    "#     # create an empty list to store the layers\n",
    "#     layers = []\n",
    "#     \n",
    "#     print(f\"attribute_mat keys: {list(attribute_mat.keys())}\")\n",
    "#     # print(f\"attribute_mat['lyr_name']: {attribute_mat['lyr_name']}\")\n",
    "# \n",
    "#     # iterate through the data_mat\n",
    "#     # for i in range(2):\n",
    "#     #     layer_name = \"layer_\" + str(i)\n",
    "#     #     elevation = np.array([])\n",
    "#     #     gps_time = np.array([])\n",
    "#     #     id = np.array([])\n",
    "#     #     lat = np.array([])\n",
    "#     #     lon = np.array([])\n",
    "#     #     param = np.array([])\n",
    "#     #     quality = np.array([])\n",
    "#     #     twtt = np.array([])\n",
    "#     #     layer_type = np.array([])\n",
    "#     #     for data in data_mat:\n",
    "#     #         elevation = np.append(elevation, data['elev'])\n",
    "#     #         gps_time = np.append(gps_time, data['gps_time'])\n",
    "#     #         id = np.append(id, data['id'])\n",
    "#     #         lat = np.append(lat, data['lat'])\n",
    "#     #         lon = np.append(lon, data['lon'])\n",
    "#     #         param = np.append(param, data['param'])\n",
    "#     #         quality = np.append(quality, data['quality'])\n",
    "#     #         twtt = np.append(twtt, data['twtt'])\n",
    "#     #         layer_type = np.append(layer_type, data['type'])\n",
    "#     \n",
    "#         #     layers.append(Layer(layer_name, gps_time, id, lat, lon, param, quality, twtt, type, elevation))\n",
    "#         # print(f\"Layer {i} created.\")\n",
    "#     id = 0 # layer id number (0 or 1)\n",
    "# \n",
    "#     decimal1 = attribute_mat[np.array([attribute_mat['lyr_name'][0][0]])[0]]\n",
    "#     decimal_name1 = [decimal1[i][0] for i in range(len(decimal1))]\n",
    "#     \n",
    "#     decimal2 = attribute_mat[np.array([attribute_mat['lyr_name'][1][0]])[0]]\n",
    "#     decimal_name2 = [decimal2[i][0] for i in range(len(decimal2))]\n",
    "#     # print(''.join(chr(i) for i in decimal_name1))\n",
    "#     layer1_name = ''.join(chr(i) for i in decimal_name1)\n",
    "#     layer2_name = ''.join(chr(i) for i in decimal_name2)\n",
    "#     print(f\"layer1_name: {layer1_name}\")\n",
    "#     print(f\"layer2_name: {layer2_name}\")\n",
    "#     elevation = np.array([])\n",
    "#     gps_time = np.array([])\n",
    "#     layer1_id = np.array([])\n",
    "#     layer2_id = np.array([])\n",
    "#     lat = np.array([])\n",
    "#     lon = np.array([])\n",
    "#     param = np.array([])\n",
    "#     layer1_quality = np.array([])\n",
    "#     layer2_quality = np.array([])\n",
    "#     layer1_twtt = np.array([])\n",
    "#     layer2_twtt = np.array([])\n",
    "#     layer1_type = np.array([])\n",
    "#     layer2_type = np.array([])\n",
    "#     \n",
    "#     # for i in range(len(f['elev'])):\n",
    "#     #     # get the data from the data_mat\n",
    "#     #     elevation = np.append(elevation, f['elev'][i])\n",
    "#     #     gps_time = np.append(gps_time, f['gps_time'][i])\n",
    "#     #     layer1_id = np.append(layer1_id, f['id'][0])\n",
    "#     #     layer2_id = np.append(layer2_id, f['id'][1])\n",
    "#     #     lat = np.append(lat, f['lat'][i])\n",
    "#     #     lon = np.append(lon, f['lon'][i])\n",
    "#     #     param = np.append(param, f['param'])\n",
    "#     #     layer1_quality = np.append(layer1_quality, f['quality'][0])\n",
    "#     #     layer2_quality = np.append(layer2_quality, f['quality'][1])\n",
    "#     #     layer1_twtt = np.append(layer1_twtt, f['twtt'][0])\n",
    "#     #     layer2_twtt = np.append(layer2_twtt, f['twtt'][1])\n",
    "#     #     layer1_type = np.append(layer1_type, f['type'][0])\n",
    "#     #     layer2_type = np.append(layer2_type, f['type'][1])        \n",
    "#     \n",
    "#     print(f\"\\n\\ndata_mat['elev'][0]: {data_mat[0]['elev']}\\n\\n\")\n",
    "#     length = data_mat[0]['elev'].shape[0]\n",
    "#     for i in range(length):\n",
    "#         # get the data from the data_mat\n",
    "#         elevation = np.append(elevation, data_mat['elev'][i])\n",
    "#         gps_time = np.append(gps_time, data_mat['gps_time'][i])\n",
    "#         layer1_id = np.append(layer1_id, data_mat['id'][0])\n",
    "#         layer2_id = np.append(layer2_id, data_mat['id'][1])\n",
    "#         lat = np.append(lat, data_mat['lat'][i])\n",
    "#         lon = np.append(lon, data_mat['lon'][i])\n",
    "#         param = np.append(param, data_mat['param'])\n",
    "#         layer1_quality = np.append(layer1_quality, data_mat['quality'][0])\n",
    "#         layer2_quality = np.append(layer2_quality, data_mat['quality'][1])\n",
    "#         layer1_twtt = np.append(layer1_twtt, data_mat['twtt'][0])\n",
    "#         layer2_twtt = np.append(layer2_twtt, data_mat['twtt'][1])\n",
    "#         layer1_type = np.append(layer1_type, data_mat['type'][0])\n",
    "#         layer2_type = np.append(layer2_type, data_mat['type'][1])   \n",
    "#     \n",
    "#     # print the size of gps_time and twtt\n",
    "#     print(f\"gps_time size: {gps_time.shape}\")\n",
    "#     print(f\"twtt size: {layer1_twtt.shape}\")\n",
    "#     \n",
    "#     \n",
    "#     # create a layer object\n",
    "#     layer1 = Layer(layer1_name, gps_time, layer1_id, lat, lon, param, layer1_quality, layer1_twtt, layer1_type, elevation)\n",
    "#     \n",
    "#     layer2 = Layer(layer2_name, gps_time, layer2_id, lat, lon, param, layer2_quality, layer2_twtt, layer2_type, elevation)\n",
    "#     \n",
    "#     # append the layer to the layers list\n",
    "#     layers.append(layer1)\n",
    "#     layers.append(layer2)\n",
    "#     print(f\"layer1: {layer1.layer_name} number of points: {layer1.twtt.shape[0]}\")\n",
    "#     print(f\"layer2: {layer2.layer_name} number of points: {layer2.twtt.shape[0]}\")\n",
    "#     \n",
    "#     return layers\n",
    "# \n",
    "# def helper(mat, input1, index1, index2=None, index3=None):\n",
    "#     # decimal2 = attribute_mat[np.array([attribute_mat['lyr_name'][1][0]])[0]]\n",
    "#     # decimal_name2 = [decimal2[i][0] for i in range(len(decimal2))]\n",
    "#     if index2:\n",
    "#         mat_content = mat[np.array(mat[input][index1])[index2]]\n",
    "#     if index3:\n",
    "#         mat_content = mat[np.array(mat[input1][index1][index2])[index3]]\n",
    "#     else:\n",
    "#         mat_content = mat[np.array(mat[input1])]\n",
    "#     mat_name = [mat_content[i][0] for i in range(len(mat_content))]\n",
    "#     return mat_name"
   ],
   "metadata": {
    "collapsed": false,
    "ExecuteTime": {
     "end_time": "2024-04-16T04:59:11.004235Z",
     "start_time": "2024-04-16T04:59:10.979078Z"
    }
   },
   "id": "f795a01250a2c4ba",
   "execution_count": 29
  },
  {
   "cell_type": "code",
   "outputs": [],
   "source": [
    "flight = '20161024_05'\n",
    "layer_attributes_file = 'layer_' + flight + '.mat'\n",
    "\n",
    "attribute_mat = h5py.File(dir + layer_attributes_file, 'r')"
   ],
   "metadata": {
    "collapsed": false,
    "ExecuteTime": {
     "end_time": "2024-04-16T01:20:01.625865Z",
     "start_time": "2024-04-16T01:20:01.617042Z"
    }
   },
   "id": "4afb0fdaea293570",
   "execution_count": 50
  },
  {
   "cell_type": "code",
   "outputs": [
    {
     "name": "stdout",
     "output_type": "stream",
     "text": [
      "attribute_mat keys: ['#refs#', 'file_type', 'file_version', 'lyr_age', 'lyr_age_source', 'lyr_desc', 'lyr_group_name', 'lyr_id', 'lyr_name', 'lyr_order', 'param']\n"
     ]
    }
   ],
   "source": [
    "print(f\"attribute_mat keys: {list(attribute_mat.keys())}\")"
   ],
   "metadata": {
    "collapsed": false,
    "ExecuteTime": {
     "end_time": "2024-04-16T01:20:10.391927Z",
     "start_time": "2024-04-16T01:20:10.384062Z"
    }
   },
   "id": "b562eab538a0e47a",
   "execution_count": 51
  },
  {
   "cell_type": "code",
   "outputs": [
    {
     "name": "stdout",
     "output_type": "stream",
     "text": [
      "attribute_mat['lyr_name']: [<HDF5 object reference>]\n"
     ]
    }
   ],
   "source": [
    "print(f\"attribute_mat['lyr_name']: {attribute_mat['lyr_name'][1]}\")"
   ],
   "metadata": {
    "collapsed": false,
    "ExecuteTime": {
     "end_time": "2024-04-16T01:20:47.664170Z",
     "start_time": "2024-04-16T01:20:47.655168Z"
    }
   },
   "id": "4b85753bc04fd200",
   "execution_count": 59
  },
  {
   "cell_type": "code",
   "outputs": [],
   "source": [
    "bob = np.array([attribute_mat['lyr_name'][0][0]])"
   ],
   "metadata": {
    "collapsed": false,
    "ExecuteTime": {
     "end_time": "2024-04-16T02:20:45.352338Z",
     "start_time": "2024-04-16T02:20:45.336328Z"
    }
   },
   "id": "2a7da7e77c01ec65",
   "execution_count": 99
  },
  {
   "cell_type": "code",
   "outputs": [
    {
     "name": "stdout",
     "output_type": "stream",
     "text": [
      "[<HDF5 object reference>]\n"
     ]
    }
   ],
   "source": [
    "print(bob)"
   ],
   "metadata": {
    "collapsed": false,
    "ExecuteTime": {
     "end_time": "2024-04-16T02:20:45.557747Z",
     "start_time": "2024-04-16T02:20:45.542976Z"
    }
   },
   "id": "4f39105f6fea0626",
   "execution_count": 100
  },
  {
   "cell_type": "code",
   "outputs": [
    {
     "data": {
      "text/plain": "(1,)"
     },
     "execution_count": 101,
     "metadata": {},
     "output_type": "execute_result"
    }
   ],
   "source": [
    "bob.shape"
   ],
   "metadata": {
    "collapsed": false,
    "ExecuteTime": {
     "end_time": "2024-04-16T02:20:45.699081Z",
     "start_time": "2024-04-16T02:20:45.689221Z"
    }
   },
   "id": "58990852a21fd2e6",
   "execution_count": 101
  },
  {
   "cell_type": "code",
   "outputs": [
    {
     "name": "stdout",
     "output_type": "stream",
     "text": [
      "<HDF5 object reference>\n",
      "<HDF5 dataset \"h\": shape (7, 1), type \"<u2\">\n",
      "115\n",
      "117\n",
      "114\n",
      "102\n",
      "97\n",
      "99\n",
      "101\n",
      "surface\n"
     ]
    }
   ],
   "source": [
    "print(bob[0])\n",
    "print(attribute_mat[bob[0]])\n",
    "\n",
    "# attribute_mat[bob[0]] is of type <HDF5 dataset \"h\": shape (7, 1), type \"<u2\">\n",
    "# print the contents of the dataset\n",
    "for i in range(7):\n",
    "    print(attribute_mat[bob[0]][i][0])\n",
    "\n",
    "# name is a list of the contents of the dataset\n",
    "deci_name = [attribute_mat[bob[0]][i][0] for i in range(7)]\n",
    "# convert name to a string using chr\n",
    "name = ''.join(chr(i) for i in deci_name)\n",
    "print(name)"
   ],
   "metadata": {
    "collapsed": false,
    "ExecuteTime": {
     "end_time": "2024-04-16T02:39:27.371016Z",
     "start_time": "2024-04-16T02:39:27.357454Z"
    }
   },
   "id": "5866961707a00885",
   "execution_count": 151
  },
  {
   "cell_type": "code",
   "outputs": [
    {
     "name": "stdout",
     "output_type": "stream",
     "text": [
      "surface\n"
     ]
    }
   ],
   "source": [
    "id = 0 # layer id number (0 or 1)\n",
    "\n",
    "decimal = attribute_mat[np.array([attribute_mat['lyr_name'][id][0]])[0]]\n",
    "decimal_name = [decimal[i][0] for i in range(len(decimal))]\n",
    "name = ''.join(chr(i) for i in decimal_name)\n",
    "print(name)"
   ],
   "metadata": {
    "collapsed": false,
    "ExecuteTime": {
     "end_time": "2024-04-16T02:46:35.464479Z",
     "start_time": "2024-04-16T02:46:35.452933Z"
    }
   },
   "id": "2a883fc948bd9788",
   "execution_count": 170
  },
  {
   "cell_type": "code",
   "outputs": [],
   "source": [],
   "metadata": {
    "collapsed": false
   },
   "id": "f49194fe4eb12879",
   "execution_count": null
  }
 ],
 "metadata": {
  "kernelspec": {
   "display_name": "Python 3",
   "language": "python",
   "name": "python3"
  },
  "language_info": {
   "codemirror_mode": {
    "name": "ipython",
    "version": 2
   },
   "file_extension": ".py",
   "mimetype": "text/x-python",
   "name": "python",
   "nbconvert_exporter": "python",
   "pygments_lexer": "ipython2",
   "version": "2.7.6"
  }
 },
 "nbformat": 4,
 "nbformat_minor": 5
}
